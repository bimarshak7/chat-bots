{
  "metadata": {
    "kernelspec": {
      "display_name": "Python 3",
      "name": "python3"
    },
    "language_info": {
      "name": "python",
      "version": "3.10.12",
      "mimetype": "text/x-python",
      "codemirror_mode": {
        "name": "ipython",
        "version": 3
      },
      "pygments_lexer": "ipython3",
      "nbconvert_exporter": "python",
      "file_extension": ".py"
    },
    "kaggle": {
      "accelerator": "none",
      "dataSources": [
        {
          "sourceId": 4429121,
          "sourceType": "datasetVersion",
          "datasetId": 2594075
        },
        {
          "sourceId": 158484443,
          "sourceType": "kernelVersion"
        }
      ],
      "dockerImageVersionId": 30626,
      "isInternetEnabled": true,
      "language": "python",
      "sourceType": "notebook",
      "isGpuEnabled": false
    },
    "colab": {
      "provenance": [],
      "gpuType": "T4",
      "include_colab_link": true
    },
    "accelerator": "GPU"
  },
  "nbformat_minor": 0,
  "nbformat": 4,
  "cells": [
    {
      "cell_type": "markdown",
      "metadata": {
        "id": "view-in-github",
        "colab_type": "text"
      },
      "source": [
        "<a href=\"https://colab.research.google.com/github/bimarshak7/chat-bots/blob/main/General_Convo_chatbot.ipynb\" target=\"_parent\"><img src=\"https://colab.research.google.com/assets/colab-badge.svg\" alt=\"Open In Colab\"/></a>"
      ]
    },
    {
      "cell_type": "code",
      "source": [
        "#snippet to mount drive and copy kaggle API keys\n",
        "# palge you kaggle keys at MyDrive/Colab Notebooks/ as kaggle.json\n",
        "from google.colab import drive\n",
        "drive.mount('/content/drive')\n",
        "! mkdir ~/.kaggle\n",
        "!cp \"/content/drive/MyDrive/Colab Notebooks/kaggle.json\" ~/.kaggle/kaggle.json\n",
        "! chmod 600 ~/.kaggle/kaggle.json"
      ],
      "metadata": {
        "colab": {
          "base_uri": "https://localhost:8080/"
        },
        "id": "QjUsbE30YphY",
        "outputId": "985524d6-f55a-4237-e5cc-e62c82c0c14c"
      },
      "execution_count": 1,
      "outputs": [
        {
          "output_type": "stream",
          "name": "stdout",
          "text": [
            "Mounted at /content/drive\n"
          ]
        }
      ]
    },
    {
      "cell_type": "code",
      "source": [
        "!kaggle datasets download -d kreeshrajani/3k-conversations-dataset-for-chatbot"
      ],
      "metadata": {
        "colab": {
          "base_uri": "https://localhost:8080/"
        },
        "id": "J6tAAhIiYqOq",
        "outputId": "c28cae5f-52ac-41a3-9370-675ead7607b0"
      },
      "execution_count": 2,
      "outputs": [
        {
          "output_type": "stream",
          "name": "stdout",
          "text": [
            "Downloading 3k-conversations-dataset-for-chatbot.zip to /content\n",
            "\r  0% 0.00/67.1k [00:00<?, ?B/s]\n",
            "\r100% 67.1k/67.1k [00:00<00:00, 68.8MB/s]\n"
          ]
        }
      ]
    },
    {
      "cell_type": "code",
      "source": [
        "!unzip -q *.zip -d data/"
      ],
      "metadata": {
        "id": "5EvG5DxpZFgT"
      },
      "execution_count": 3,
      "outputs": []
    },
    {
      "cell_type": "code",
      "source": [
        "import json\n",
        "import pandas as pd\n",
        "from collections import Counter\n",
        "import torch\n",
        "import random\n",
        "from torch import nn\n",
        "import torch.nn.functional as F\n",
        "from torchtext.vocab import vocab\n",
        "from torch.utils.data import Dataset\n",
        "from torch.utils.data import DataLoader\n",
        "from torch.nn.utils.rnn import pad_sequence\n",
        "from tqdm import tqdm\n",
        "import math\n",
        "import string"
      ],
      "metadata": {
        "_uuid": "8f2839f25d086af736a60e9eeb907d3b93b6e0e5",
        "_cell_guid": "b1076dfc-b9ad-4769-8c92-a6c4dae69d19",
        "execution": {
          "iopub.status.busy": "2024-01-12T05:42:58.278359Z",
          "iopub.execute_input": "2024-01-12T05:42:58.279103Z",
          "iopub.status.idle": "2024-01-12T05:42:58.284939Z",
          "shell.execute_reply.started": "2024-01-12T05:42:58.279068Z",
          "shell.execute_reply": "2024-01-12T05:42:58.283878Z"
        },
        "trusted": true,
        "id": "8obhGtUTYbaj"
      },
      "execution_count": 4,
      "outputs": []
    },
    {
      "cell_type": "code",
      "source": [
        "DATA_PATH = \"/content/data/Conversation.csv\""
      ],
      "metadata": {
        "execution": {
          "iopub.status.busy": "2024-01-12T05:42:58.320562Z",
          "iopub.execute_input": "2024-01-12T05:42:58.321421Z",
          "iopub.status.idle": "2024-01-12T05:42:58.325637Z",
          "shell.execute_reply.started": "2024-01-12T05:42:58.321387Z",
          "shell.execute_reply": "2024-01-12T05:42:58.324552Z"
        },
        "trusted": true,
        "id": "kdf0hpnqYbap"
      },
      "execution_count": 5,
      "outputs": []
    },
    {
      "cell_type": "code",
      "source": [
        "df = pd.read_csv(DATA_PATH)\n",
        "df.sample(5)"
      ],
      "metadata": {
        "execution": {
          "iopub.status.busy": "2024-01-12T05:42:58.351840Z",
          "iopub.execute_input": "2024-01-12T05:42:58.352165Z",
          "iopub.status.idle": "2024-01-12T05:42:58.376131Z",
          "shell.execute_reply.started": "2024-01-12T05:42:58.352139Z",
          "shell.execute_reply": "2024-01-12T05:42:58.375042Z"
        },
        "trusted": true,
        "colab": {
          "base_uri": "https://localhost:8080/",
          "height": 206
        },
        "id": "7dk-TqdZYbas",
        "outputId": "26e0e68b-6b5e-46dd-e855-55f99a4ebac0"
      },
      "execution_count": 6,
      "outputs": [
        {
          "output_type": "execute_result",
          "data": {
            "text/plain": [
              "      Unnamed: 0                                           question  \\\n",
              "3314        3314           i don't even know why we need to fix it.   \n",
              "2708        2708                               did you go swimming?   \n",
              "2155        2155  if more people donate money, pbs could offer n...   \n",
              "3467        3467  no. they said there are some things you can't ...   \n",
              "3330        3330                                        it sure is.   \n",
              "\n",
              "                                              answer  \n",
              "3314                       in case we have visitors.  \n",
              "2708                  i went to the beach every day.  \n",
              "2155  who wants to donate? public tv should be free.  \n",
              "3467     so are they going to hold another election?  \n",
              "3330     in fact, it's chilly in the apartment, too.  "
            ],
            "text/html": [
              "\n",
              "  <div id=\"df-ccec4b23-c816-472a-9526-8b2ca84908ca\" class=\"colab-df-container\">\n",
              "    <div>\n",
              "<style scoped>\n",
              "    .dataframe tbody tr th:only-of-type {\n",
              "        vertical-align: middle;\n",
              "    }\n",
              "\n",
              "    .dataframe tbody tr th {\n",
              "        vertical-align: top;\n",
              "    }\n",
              "\n",
              "    .dataframe thead th {\n",
              "        text-align: right;\n",
              "    }\n",
              "</style>\n",
              "<table border=\"1\" class=\"dataframe\">\n",
              "  <thead>\n",
              "    <tr style=\"text-align: right;\">\n",
              "      <th></th>\n",
              "      <th>Unnamed: 0</th>\n",
              "      <th>question</th>\n",
              "      <th>answer</th>\n",
              "    </tr>\n",
              "  </thead>\n",
              "  <tbody>\n",
              "    <tr>\n",
              "      <th>3314</th>\n",
              "      <td>3314</td>\n",
              "      <td>i don't even know why we need to fix it.</td>\n",
              "      <td>in case we have visitors.</td>\n",
              "    </tr>\n",
              "    <tr>\n",
              "      <th>2708</th>\n",
              "      <td>2708</td>\n",
              "      <td>did you go swimming?</td>\n",
              "      <td>i went to the beach every day.</td>\n",
              "    </tr>\n",
              "    <tr>\n",
              "      <th>2155</th>\n",
              "      <td>2155</td>\n",
              "      <td>if more people donate money, pbs could offer n...</td>\n",
              "      <td>who wants to donate? public tv should be free.</td>\n",
              "    </tr>\n",
              "    <tr>\n",
              "      <th>3467</th>\n",
              "      <td>3467</td>\n",
              "      <td>no. they said there are some things you can't ...</td>\n",
              "      <td>so are they going to hold another election?</td>\n",
              "    </tr>\n",
              "    <tr>\n",
              "      <th>3330</th>\n",
              "      <td>3330</td>\n",
              "      <td>it sure is.</td>\n",
              "      <td>in fact, it's chilly in the apartment, too.</td>\n",
              "    </tr>\n",
              "  </tbody>\n",
              "</table>\n",
              "</div>\n",
              "    <div class=\"colab-df-buttons\">\n",
              "\n",
              "  <div class=\"colab-df-container\">\n",
              "    <button class=\"colab-df-convert\" onclick=\"convertToInteractive('df-ccec4b23-c816-472a-9526-8b2ca84908ca')\"\n",
              "            title=\"Convert this dataframe to an interactive table.\"\n",
              "            style=\"display:none;\">\n",
              "\n",
              "  <svg xmlns=\"http://www.w3.org/2000/svg\" height=\"24px\" viewBox=\"0 -960 960 960\">\n",
              "    <path d=\"M120-120v-720h720v720H120Zm60-500h600v-160H180v160Zm220 220h160v-160H400v160Zm0 220h160v-160H400v160ZM180-400h160v-160H180v160Zm440 0h160v-160H620v160ZM180-180h160v-160H180v160Zm440 0h160v-160H620v160Z\"/>\n",
              "  </svg>\n",
              "    </button>\n",
              "\n",
              "  <style>\n",
              "    .colab-df-container {\n",
              "      display:flex;\n",
              "      gap: 12px;\n",
              "    }\n",
              "\n",
              "    .colab-df-convert {\n",
              "      background-color: #E8F0FE;\n",
              "      border: none;\n",
              "      border-radius: 50%;\n",
              "      cursor: pointer;\n",
              "      display: none;\n",
              "      fill: #1967D2;\n",
              "      height: 32px;\n",
              "      padding: 0 0 0 0;\n",
              "      width: 32px;\n",
              "    }\n",
              "\n",
              "    .colab-df-convert:hover {\n",
              "      background-color: #E2EBFA;\n",
              "      box-shadow: 0px 1px 2px rgba(60, 64, 67, 0.3), 0px 1px 3px 1px rgba(60, 64, 67, 0.15);\n",
              "      fill: #174EA6;\n",
              "    }\n",
              "\n",
              "    .colab-df-buttons div {\n",
              "      margin-bottom: 4px;\n",
              "    }\n",
              "\n",
              "    [theme=dark] .colab-df-convert {\n",
              "      background-color: #3B4455;\n",
              "      fill: #D2E3FC;\n",
              "    }\n",
              "\n",
              "    [theme=dark] .colab-df-convert:hover {\n",
              "      background-color: #434B5C;\n",
              "      box-shadow: 0px 1px 3px 1px rgba(0, 0, 0, 0.15);\n",
              "      filter: drop-shadow(0px 1px 2px rgba(0, 0, 0, 0.3));\n",
              "      fill: #FFFFFF;\n",
              "    }\n",
              "  </style>\n",
              "\n",
              "    <script>\n",
              "      const buttonEl =\n",
              "        document.querySelector('#df-ccec4b23-c816-472a-9526-8b2ca84908ca button.colab-df-convert');\n",
              "      buttonEl.style.display =\n",
              "        google.colab.kernel.accessAllowed ? 'block' : 'none';\n",
              "\n",
              "      async function convertToInteractive(key) {\n",
              "        const element = document.querySelector('#df-ccec4b23-c816-472a-9526-8b2ca84908ca');\n",
              "        const dataTable =\n",
              "          await google.colab.kernel.invokeFunction('convertToInteractive',\n",
              "                                                    [key], {});\n",
              "        if (!dataTable) return;\n",
              "\n",
              "        const docLinkHtml = 'Like what you see? Visit the ' +\n",
              "          '<a target=\"_blank\" href=https://colab.research.google.com/notebooks/data_table.ipynb>data table notebook</a>'\n",
              "          + ' to learn more about interactive tables.';\n",
              "        element.innerHTML = '';\n",
              "        dataTable['output_type'] = 'display_data';\n",
              "        await google.colab.output.renderOutput(dataTable, element);\n",
              "        const docLink = document.createElement('div');\n",
              "        docLink.innerHTML = docLinkHtml;\n",
              "        element.appendChild(docLink);\n",
              "      }\n",
              "    </script>\n",
              "  </div>\n",
              "\n",
              "\n",
              "<div id=\"df-e3a2ed6a-187c-41ea-a968-59ed48a8ba61\">\n",
              "  <button class=\"colab-df-quickchart\" onclick=\"quickchart('df-e3a2ed6a-187c-41ea-a968-59ed48a8ba61')\"\n",
              "            title=\"Suggest charts\"\n",
              "            style=\"display:none;\">\n",
              "\n",
              "<svg xmlns=\"http://www.w3.org/2000/svg\" height=\"24px\"viewBox=\"0 0 24 24\"\n",
              "     width=\"24px\">\n",
              "    <g>\n",
              "        <path d=\"M19 3H5c-1.1 0-2 .9-2 2v14c0 1.1.9 2 2 2h14c1.1 0 2-.9 2-2V5c0-1.1-.9-2-2-2zM9 17H7v-7h2v7zm4 0h-2V7h2v10zm4 0h-2v-4h2v4z\"/>\n",
              "    </g>\n",
              "</svg>\n",
              "  </button>\n",
              "\n",
              "<style>\n",
              "  .colab-df-quickchart {\n",
              "      --bg-color: #E8F0FE;\n",
              "      --fill-color: #1967D2;\n",
              "      --hover-bg-color: #E2EBFA;\n",
              "      --hover-fill-color: #174EA6;\n",
              "      --disabled-fill-color: #AAA;\n",
              "      --disabled-bg-color: #DDD;\n",
              "  }\n",
              "\n",
              "  [theme=dark] .colab-df-quickchart {\n",
              "      --bg-color: #3B4455;\n",
              "      --fill-color: #D2E3FC;\n",
              "      --hover-bg-color: #434B5C;\n",
              "      --hover-fill-color: #FFFFFF;\n",
              "      --disabled-bg-color: #3B4455;\n",
              "      --disabled-fill-color: #666;\n",
              "  }\n",
              "\n",
              "  .colab-df-quickchart {\n",
              "    background-color: var(--bg-color);\n",
              "    border: none;\n",
              "    border-radius: 50%;\n",
              "    cursor: pointer;\n",
              "    display: none;\n",
              "    fill: var(--fill-color);\n",
              "    height: 32px;\n",
              "    padding: 0;\n",
              "    width: 32px;\n",
              "  }\n",
              "\n",
              "  .colab-df-quickchart:hover {\n",
              "    background-color: var(--hover-bg-color);\n",
              "    box-shadow: 0 1px 2px rgba(60, 64, 67, 0.3), 0 1px 3px 1px rgba(60, 64, 67, 0.15);\n",
              "    fill: var(--button-hover-fill-color);\n",
              "  }\n",
              "\n",
              "  .colab-df-quickchart-complete:disabled,\n",
              "  .colab-df-quickchart-complete:disabled:hover {\n",
              "    background-color: var(--disabled-bg-color);\n",
              "    fill: var(--disabled-fill-color);\n",
              "    box-shadow: none;\n",
              "  }\n",
              "\n",
              "  .colab-df-spinner {\n",
              "    border: 2px solid var(--fill-color);\n",
              "    border-color: transparent;\n",
              "    border-bottom-color: var(--fill-color);\n",
              "    animation:\n",
              "      spin 1s steps(1) infinite;\n",
              "  }\n",
              "\n",
              "  @keyframes spin {\n",
              "    0% {\n",
              "      border-color: transparent;\n",
              "      border-bottom-color: var(--fill-color);\n",
              "      border-left-color: var(--fill-color);\n",
              "    }\n",
              "    20% {\n",
              "      border-color: transparent;\n",
              "      border-left-color: var(--fill-color);\n",
              "      border-top-color: var(--fill-color);\n",
              "    }\n",
              "    30% {\n",
              "      border-color: transparent;\n",
              "      border-left-color: var(--fill-color);\n",
              "      border-top-color: var(--fill-color);\n",
              "      border-right-color: var(--fill-color);\n",
              "    }\n",
              "    40% {\n",
              "      border-color: transparent;\n",
              "      border-right-color: var(--fill-color);\n",
              "      border-top-color: var(--fill-color);\n",
              "    }\n",
              "    60% {\n",
              "      border-color: transparent;\n",
              "      border-right-color: var(--fill-color);\n",
              "    }\n",
              "    80% {\n",
              "      border-color: transparent;\n",
              "      border-right-color: var(--fill-color);\n",
              "      border-bottom-color: var(--fill-color);\n",
              "    }\n",
              "    90% {\n",
              "      border-color: transparent;\n",
              "      border-bottom-color: var(--fill-color);\n",
              "    }\n",
              "  }\n",
              "</style>\n",
              "\n",
              "  <script>\n",
              "    async function quickchart(key) {\n",
              "      const quickchartButtonEl =\n",
              "        document.querySelector('#' + key + ' button');\n",
              "      quickchartButtonEl.disabled = true;  // To prevent multiple clicks.\n",
              "      quickchartButtonEl.classList.add('colab-df-spinner');\n",
              "      try {\n",
              "        const charts = await google.colab.kernel.invokeFunction(\n",
              "            'suggestCharts', [key], {});\n",
              "      } catch (error) {\n",
              "        console.error('Error during call to suggestCharts:', error);\n",
              "      }\n",
              "      quickchartButtonEl.classList.remove('colab-df-spinner');\n",
              "      quickchartButtonEl.classList.add('colab-df-quickchart-complete');\n",
              "    }\n",
              "    (() => {\n",
              "      let quickchartButtonEl =\n",
              "        document.querySelector('#df-e3a2ed6a-187c-41ea-a968-59ed48a8ba61 button');\n",
              "      quickchartButtonEl.style.display =\n",
              "        google.colab.kernel.accessAllowed ? 'block' : 'none';\n",
              "    })();\n",
              "  </script>\n",
              "</div>\n",
              "\n",
              "    </div>\n",
              "  </div>\n"
            ]
          },
          "metadata": {},
          "execution_count": 6
        }
      ]
    },
    {
      "cell_type": "code",
      "source": [
        "df[\"question\"] = df[\"question\"].apply(lambda x: x.lower())\n",
        "df[\"answer\"] = df[\"answer\"].apply(lambda x: x.lower())"
      ],
      "metadata": {
        "execution": {
          "iopub.status.busy": "2024-01-12T05:42:58.378502Z",
          "iopub.execute_input": "2024-01-12T05:42:58.379239Z",
          "iopub.status.idle": "2024-01-12T05:42:58.384446Z",
          "shell.execute_reply.started": "2024-01-12T05:42:58.379197Z",
          "shell.execute_reply": "2024-01-12T05:42:58.383406Z"
        },
        "trusted": true,
        "id": "lmcXqlc1Ybav"
      },
      "execution_count": 7,
      "outputs": []
    },
    {
      "cell_type": "code",
      "source": [
        "df[\"question\"] = df[\"question\"].apply(lambda x: x.translate(str.maketrans('', '', string.punctuation)))\n",
        "df[\"answer\"] = df[\"answer\"].apply(lambda x: x.translate(str.maketrans('', '', string.punctuation)))"
      ],
      "metadata": {
        "execution": {
          "iopub.status.busy": "2024-01-12T05:42:58.386024Z",
          "iopub.execute_input": "2024-01-12T05:42:58.386788Z",
          "iopub.status.idle": "2024-01-12T05:42:58.403369Z",
          "shell.execute_reply.started": "2024-01-12T05:42:58.386747Z",
          "shell.execute_reply": "2024-01-12T05:42:58.402255Z"
        },
        "trusted": true,
        "id": "-fcv_XPuYbay"
      },
      "execution_count": 8,
      "outputs": []
    },
    {
      "cell_type": "code",
      "source": [
        "counter = Counter()\n",
        "for i in range(len(df)):\n",
        "    row = df.iloc[i]\n",
        "    counter.update(row[\"question\"].split())\n",
        "    counter.update(row[\"answer\"].split())"
      ],
      "metadata": {
        "execution": {
          "iopub.status.busy": "2024-01-12T05:42:58.456829Z",
          "iopub.execute_input": "2024-01-12T05:42:58.457214Z",
          "iopub.status.idle": "2024-01-12T05:42:58.503910Z",
          "shell.execute_reply.started": "2024-01-12T05:42:58.457181Z",
          "shell.execute_reply": "2024-01-12T05:42:58.502843Z"
        },
        "trusted": true,
        "id": "LWr5SBa0Yba6"
      },
      "execution_count": 9,
      "outputs": []
    },
    {
      "cell_type": "code",
      "source": [
        "vocab_en = vocab(counter, min_freq=5, specials=('<UNK>', '<BOS>', '<EOS>', '<PAD>'))"
      ],
      "metadata": {
        "execution": {
          "iopub.status.busy": "2024-01-12T05:42:58.505220Z",
          "iopub.execute_input": "2024-01-12T05:42:58.505640Z",
          "iopub.status.idle": "2024-01-12T05:42:58.602354Z",
          "shell.execute_reply.started": "2024-01-12T05:42:58.505605Z",
          "shell.execute_reply": "2024-01-12T05:42:58.601211Z"
        },
        "trusted": true,
        "id": "5i33HFHLYba7"
      },
      "execution_count": 10,
      "outputs": []
    },
    {
      "cell_type": "code",
      "source": [
        "vocab_en.set_default_index(vocab_en['<UNK>'])"
      ],
      "metadata": {
        "execution": {
          "iopub.status.busy": "2024-01-12T05:42:58.603802Z",
          "iopub.execute_input": "2024-01-12T05:42:58.604202Z",
          "iopub.status.idle": "2024-01-12T05:42:58.612601Z",
          "shell.execute_reply.started": "2024-01-12T05:42:58.604163Z",
          "shell.execute_reply": "2024-01-12T05:42:58.611560Z"
        },
        "trusted": true,
        "id": "AMgnPmHVYba9"
      },
      "execution_count": 11,
      "outputs": []
    },
    {
      "cell_type": "code",
      "source": [
        "df[\"question\"] = df[\"question\"].apply(lambda x: \"<BOS> \"+x+\" <EOS>\")\n",
        "df[\"answer\"] = df[\"answer\"].apply(lambda x: \"<BOS> \"+x+\" <EOS>\")"
      ],
      "metadata": {
        "execution": {
          "iopub.status.busy": "2024-01-12T05:42:58.613946Z",
          "iopub.execute_input": "2024-01-12T05:42:58.614290Z",
          "iopub.status.idle": "2024-01-12T05:42:58.623749Z",
          "shell.execute_reply.started": "2024-01-12T05:42:58.614260Z",
          "shell.execute_reply": "2024-01-12T05:42:58.622877Z"
        },
        "trusted": true,
        "id": "xWjmCyAvYba_"
      },
      "execution_count": 12,
      "outputs": []
    },
    {
      "cell_type": "code",
      "source": [
        "MAX_LEN_QN = df[\"question\"].apply(lambda x: len(x.split())).max()\n",
        "MAX_LEN_ANS = df[\"answer\"].apply(lambda x: len(x.split())).max()\n",
        "MAX_LEN_QN,MAX_LEN_ANS"
      ],
      "metadata": {
        "execution": {
          "iopub.status.busy": "2024-01-12T05:42:58.626431Z",
          "iopub.execute_input": "2024-01-12T05:42:58.626723Z",
          "iopub.status.idle": "2024-01-12T05:42:58.639189Z",
          "shell.execute_reply.started": "2024-01-12T05:42:58.626699Z",
          "shell.execute_reply": "2024-01-12T05:42:58.638287Z"
        },
        "trusted": true,
        "colab": {
          "base_uri": "https://localhost:8080/"
        },
        "id": "ij0m-3dBYbbB",
        "outputId": "41687a16-edfa-4a2d-fccd-a6fb6d03d832"
      },
      "execution_count": 13,
      "outputs": [
        {
          "output_type": "execute_result",
          "data": {
            "text/plain": [
              "(21, 21)"
            ]
          },
          "metadata": {},
          "execution_count": 13
        }
      ]
    },
    {
      "cell_type": "code",
      "source": [
        "class MyDataset(Dataset):\n",
        "    def __init__(self, df):\n",
        "        self.X = df[\"question\"]\n",
        "        self.y = df[\"answer\"]\n",
        "\n",
        "    def __len__(self):\n",
        "        return len(self.X)\n",
        "\n",
        "    def __getitem__(self, idx):\n",
        "        qn = self.X.iloc[idx]\n",
        "        ans = self.y.iloc[idx]\n",
        "\n",
        "        qn_indices = [vocab_en[word] for word in qn.split()]\n",
        "\n",
        "        ans_indices = [vocab_en[word] for word in ans.split()]\n",
        "\n",
        "        return torch.tensor(qn_indices), len(qn_indices), torch.tensor(ans_indices)\n"
      ],
      "metadata": {
        "execution": {
          "iopub.status.busy": "2024-01-12T05:42:58.640363Z",
          "iopub.execute_input": "2024-01-12T05:42:58.640744Z",
          "iopub.status.idle": "2024-01-12T05:42:58.648932Z",
          "shell.execute_reply.started": "2024-01-12T05:42:58.640707Z",
          "shell.execute_reply": "2024-01-12T05:42:58.647967Z"
        },
        "trusted": true,
        "id": "YaATcdAjYbbC"
      },
      "execution_count": 14,
      "outputs": []
    },
    {
      "cell_type": "code",
      "source": [
        "ds = MyDataset(df)"
      ],
      "metadata": {
        "execution": {
          "iopub.status.busy": "2024-01-12T05:42:58.650120Z",
          "iopub.execute_input": "2024-01-12T05:42:58.650397Z",
          "iopub.status.idle": "2024-01-12T05:42:58.659204Z",
          "shell.execute_reply.started": "2024-01-12T05:42:58.650373Z",
          "shell.execute_reply": "2024-01-12T05:42:58.658378Z"
        },
        "trusted": true,
        "id": "h31Q_pl7YbbD"
      },
      "execution_count": 15,
      "outputs": []
    },
    {
      "cell_type": "code",
      "source": [
        "train_ds,test_ds = torch.utils.data.random_split(ds, [0.8, 0.2])"
      ],
      "metadata": {
        "execution": {
          "iopub.status.busy": "2024-01-12T05:42:58.660204Z",
          "iopub.execute_input": "2024-01-12T05:42:58.660500Z",
          "iopub.status.idle": "2024-01-12T05:42:58.669222Z",
          "shell.execute_reply.started": "2024-01-12T05:42:58.660476Z",
          "shell.execute_reply": "2024-01-12T05:42:58.668320Z"
        },
        "trusted": true,
        "id": "t-p0A8NmYbbD"
      },
      "execution_count": 16,
      "outputs": []
    },
    {
      "cell_type": "code",
      "source": [
        "BATCH_SIZE = 32"
      ],
      "metadata": {
        "execution": {
          "iopub.status.busy": "2024-01-12T05:42:58.670566Z",
          "iopub.execute_input": "2024-01-12T05:42:58.670970Z",
          "iopub.status.idle": "2024-01-12T05:42:58.679172Z",
          "shell.execute_reply.started": "2024-01-12T05:42:58.670921Z",
          "shell.execute_reply": "2024-01-12T05:42:58.678213Z"
        },
        "trusted": true,
        "id": "9IWw5IkmYbbD"
      },
      "execution_count": 17,
      "outputs": []
    },
    {
      "cell_type": "code",
      "source": [
        "def my_collate(batch):\n",
        "    # Extract sequences and targets\n",
        "    qns = [item[0] for item in batch]\n",
        "    src_lens = [item[1] for item in batch]\n",
        "    ans = [item[2] for item in batch]\n",
        "    # Pad sequences\n",
        "    padded_qn = pad_sequence(qns, batch_first=True, padding_value=vocab_en[\"<PAD>\"])\n",
        "    padded_ans = pad_sequence(ans, batch_first=True, padding_value=vocab_en[\"<PAD>\"])\n",
        "\n",
        "    # Return padded sequences and targets\n",
        "    return padded_qn, torch.tensor(src_lens), padded_ans"
      ],
      "metadata": {
        "execution": {
          "iopub.status.busy": "2024-01-12T05:42:58.680379Z",
          "iopub.execute_input": "2024-01-12T05:42:58.680731Z",
          "iopub.status.idle": "2024-01-12T05:42:58.689475Z",
          "shell.execute_reply.started": "2024-01-12T05:42:58.680699Z",
          "shell.execute_reply": "2024-01-12T05:42:58.688547Z"
        },
        "trusted": true,
        "id": "wB-UKkVsYbbE"
      },
      "execution_count": 18,
      "outputs": []
    },
    {
      "cell_type": "code",
      "source": [
        "train_loader = DataLoader(train_ds, batch_size=BATCH_SIZE,collate_fn=my_collate)\n",
        "test_loader = DataLoader(test_ds, batch_size=BATCH_SIZE,collate_fn=my_collate)"
      ],
      "metadata": {
        "execution": {
          "iopub.status.busy": "2024-01-12T05:42:58.690783Z",
          "iopub.execute_input": "2024-01-12T05:42:58.691567Z",
          "iopub.status.idle": "2024-01-12T05:42:58.703184Z",
          "shell.execute_reply.started": "2024-01-12T05:42:58.691533Z",
          "shell.execute_reply": "2024-01-12T05:42:58.702391Z"
        },
        "trusted": true,
        "id": "TsSKpS31YbbE"
      },
      "execution_count": 19,
      "outputs": []
    },
    {
      "cell_type": "code",
      "source": [
        "class Encoder(nn.Module):\n",
        "    def __init__(self, input_dim, emb_dim, enc_hid_dim, dec_hid_dim, dropout):\n",
        "        super().__init__()\n",
        "\n",
        "        self.embedding = nn.Embedding(input_dim, emb_dim)\n",
        "\n",
        "        self.rnn = nn.GRU(emb_dim, enc_hid_dim,2, bidirectional = True)\n",
        "\n",
        "        self.fc = nn.Linear(enc_hid_dim * 2, dec_hid_dim)\n",
        "\n",
        "        self.dropout = nn.Dropout(dropout)\n",
        "\n",
        "    def forward(self, src, src_len):\n",
        "\n",
        "        #src = [src len, batch size]\n",
        "        #src_len = [batch size]\n",
        "\n",
        "        embedded = self.dropout(self.embedding(src))\n",
        "        #embedded = [src len, batch size, emb dim]\n",
        "\n",
        "        #need to explicitly put lengths on cpu!\n",
        "        packed_embedded = nn.utils.rnn.pack_padded_sequence(embedded, src_len.to('cpu'),enforce_sorted=False)\n",
        "\n",
        "        packed_outputs, hidden = self.rnn(packed_embedded)\n",
        "\n",
        "        #packed_outputs is a packed sequence containing all hidden states\n",
        "        #hidden is now from the final non-padded element in the batch\n",
        "\n",
        "        outputs, _ = nn.utils.rnn.pad_packed_sequence(packed_outputs)\n",
        "\n",
        "        #outputs is now a non-packed sequence, all hidden states obtained\n",
        "        #  when the input is a pad token are all zeros\n",
        "\n",
        "        #outputs = [src len, batch size, hid dim * num directions]\n",
        "        #hidden = [n layers * num directions, batch size, hid dim]\n",
        "\n",
        "        #hidden is stacked [forward_1, backward_1, forward_2, backward_2, ...]\n",
        "        #outputs are always from the last layer\n",
        "\n",
        "        #hidden [-2, :, : ] is the last of the forwards RNN\n",
        "        #hidden [-1, :, : ] is the last of the backwards RNN\n",
        "\n",
        "        #initial decoder hidden is final hidden state of the forwards and backwards\n",
        "        #  encoder RNNs fed through a linear layer\n",
        "        hidden = torch.tanh(self.fc(torch.cat((hidden[-2,:,:], hidden[-1,:,:]), dim = 1)))\n",
        "\n",
        "        #outputs = [src len, batch size, enc hid dim * 2]\n",
        "        #hidden = [batch size, dec hid dim]\n",
        "\n",
        "        return outputs, hidden"
      ],
      "metadata": {
        "execution": {
          "iopub.status.busy": "2024-01-12T05:42:58.706324Z",
          "iopub.execute_input": "2024-01-12T05:42:58.707106Z",
          "iopub.status.idle": "2024-01-12T05:42:58.716723Z",
          "shell.execute_reply.started": "2024-01-12T05:42:58.707070Z",
          "shell.execute_reply": "2024-01-12T05:42:58.715836Z"
        },
        "trusted": true,
        "id": "_KlMxiDSYbbF"
      },
      "execution_count": 74,
      "outputs": []
    },
    {
      "cell_type": "code",
      "source": [
        "class Attention(nn.Module):\n",
        "    def __init__(self, enc_hid_dim, dec_hid_dim):\n",
        "        super().__init__()\n",
        "\n",
        "        self.attn = nn.Linear((enc_hid_dim * 2) + dec_hid_dim, dec_hid_dim)\n",
        "        self.v = nn.Linear(dec_hid_dim, 1, bias = False)\n",
        "\n",
        "    def forward(self, hidden, encoder_outputs, mask):\n",
        "\n",
        "        #hidden = [batch size, dec hid dim]\n",
        "        #encoder_outputs = [src len, batch size, enc hid dim * 2]\n",
        "\n",
        "        batch_size = encoder_outputs.shape[1]\n",
        "        src_len = encoder_outputs.shape[0]\n",
        "\n",
        "        #repeat decoder hidden state src_len times\n",
        "        hidden = hidden.unsqueeze(1).repeat(1, src_len, 1)\n",
        "\n",
        "        encoder_outputs = encoder_outputs.permute(1, 0, 2)\n",
        "\n",
        "        #hidden = [batch size, src len, dec hid dim]\n",
        "        #encoder_outputs = [batch size, src len, enc hid dim * 2]\n",
        "\n",
        "        energy = torch.tanh(self.attn(torch.cat((hidden, encoder_outputs), dim = 2)))\n",
        "\n",
        "        #energy = [batch size, src len, dec hid dim]\n",
        "\n",
        "        attention = self.v(energy).squeeze(2)\n",
        "\n",
        "        #attention = [batch size, src len]\n",
        "\n",
        "        attention = attention.masked_fill(mask == 0, -1e10)\n",
        "\n",
        "        return F.softmax(attention, dim = 1)"
      ],
      "metadata": {
        "execution": {
          "iopub.status.busy": "2024-01-12T05:42:58.717954Z",
          "iopub.execute_input": "2024-01-12T05:42:58.718243Z",
          "iopub.status.idle": "2024-01-12T05:42:58.732183Z",
          "shell.execute_reply.started": "2024-01-12T05:42:58.718217Z",
          "shell.execute_reply": "2024-01-12T05:42:58.731274Z"
        },
        "trusted": true,
        "id": "yHQHUuKxYbbF"
      },
      "execution_count": 21,
      "outputs": []
    },
    {
      "cell_type": "code",
      "source": [
        "class Decoder(nn.Module):\n",
        "    def __init__(self, output_dim, emb_dim, enc_hid_dim, dec_hid_dim, dropout, attention):\n",
        "        super().__init__()\n",
        "\n",
        "        self.output_dim = output_dim\n",
        "        self.attention = attention\n",
        "\n",
        "        self.embedding = nn.Embedding(output_dim, emb_dim)\n",
        "\n",
        "        self.rnn = nn.GRU((enc_hid_dim * 2) + emb_dim, dec_hid_dim)\n",
        "\n",
        "        self.fc_out = nn.Linear((enc_hid_dim * 2) + dec_hid_dim + emb_dim, output_dim)\n",
        "\n",
        "        self.dropout = nn.Dropout(dropout)\n",
        "\n",
        "    def forward(self, input, hidden, encoder_outputs, mask):\n",
        "\n",
        "        #input = [batch size]\n",
        "        #hidden = [batch size, dec hid dim]\n",
        "        #encoder_outputs = [src len, batch size, enc hid dim * 2]\n",
        "        #mask = [batch size, src len]\n",
        "\n",
        "        input = input.unsqueeze(0)\n",
        "\n",
        "        #input = [1, batch size]\n",
        "\n",
        "        embedded = self.dropout(self.embedding(input))\n",
        "\n",
        "        #embedded = [1, batch size, emb dim]\n",
        "\n",
        "        a = self.attention(hidden, encoder_outputs, mask)\n",
        "\n",
        "        #a = [batch size, src len]\n",
        "\n",
        "        a = a.unsqueeze(1)\n",
        "\n",
        "        #a = [batch size, 1, src len]\n",
        "\n",
        "        encoder_outputs = encoder_outputs.permute(1, 0, 2)\n",
        "\n",
        "        #encoder_outputs = [batch size, src len, enc hid dim * 2]\n",
        "\n",
        "        weighted = torch.bmm(a, encoder_outputs)\n",
        "\n",
        "        #weighted = [batch size, 1, enc hid dim * 2]\n",
        "\n",
        "        weighted = weighted.permute(1, 0, 2)\n",
        "\n",
        "        #weighted = [1, batch size, enc hid dim * 2]\n",
        "\n",
        "        rnn_input = torch.cat((embedded, weighted), dim = 2)\n",
        "\n",
        "        #rnn_input = [1, batch size, (enc hid dim * 2) + emb dim]\n",
        "\n",
        "        output, hidden = self.rnn(rnn_input, hidden.unsqueeze(0))\n",
        "\n",
        "        #output = [seq len, batch size, dec hid dim * n directions]\n",
        "        #hidden = [n layers * n directions, batch size, dec hid dim]\n",
        "\n",
        "        #seq len, n layers and n directions will always be 1 in this decoder, therefore:\n",
        "        #output = [1, batch size, dec hid dim]\n",
        "        #hidden = [1, batch size, dec hid dim]\n",
        "        #this also means that output == hidden\n",
        "        assert (output == hidden).all()\n",
        "\n",
        "        embedded = embedded.squeeze(0)\n",
        "        output = output.squeeze(0)\n",
        "        weighted = weighted.squeeze(0)\n",
        "\n",
        "        prediction = self.fc_out(torch.cat((output, weighted, embedded), dim = 1))\n",
        "\n",
        "        #prediction = [batch size, output dim]\n",
        "\n",
        "        return prediction, hidden.squeeze(0), a.squeeze(1)"
      ],
      "metadata": {
        "execution": {
          "iopub.status.busy": "2024-01-12T05:42:58.733395Z",
          "iopub.execute_input": "2024-01-12T05:42:58.733682Z",
          "iopub.status.idle": "2024-01-12T05:42:58.747113Z",
          "shell.execute_reply.started": "2024-01-12T05:42:58.733658Z",
          "shell.execute_reply": "2024-01-12T05:42:58.746279Z"
        },
        "trusted": true,
        "id": "prI_hqLkYbbF"
      },
      "execution_count": 75,
      "outputs": []
    },
    {
      "cell_type": "code",
      "source": [
        "class Seq2Seq(nn.Module):\n",
        "    def __init__(self, encoder, decoder, src_pad_idx, device):\n",
        "        super().__init__()\n",
        "\n",
        "        self.encoder = encoder\n",
        "        self.decoder = decoder\n",
        "        self.src_pad_idx = src_pad_idx\n",
        "        self.device = device\n",
        "\n",
        "    def create_mask(self, src):\n",
        "        mask = (src != self.src_pad_idx).permute(1, 0)\n",
        "        return mask\n",
        "\n",
        "    def forward(self, src, src_len, trg, teacher_forcing_ratio = 0.5):\n",
        "\n",
        "        #src = [src len, batch size]\n",
        "        #src_len = [batch size]\n",
        "        #trg = [trg len, batch size]\n",
        "        #teacher_forcing_ratio is probability to use teacher forcing\n",
        "        #e.g. if teacher_forcing_ratio is 0.75 we use teacher forcing 75% of the time\n",
        "        src = src.permute(1,0)\n",
        "        trg = trg.permute(1,0)\n",
        "\n",
        "        # print(\"SRC SHAPE\",src.shape)\n",
        "        # print(\"TRG SHAPE\",trg.shape)\n",
        "\n",
        "        batch_size = src.shape[1]\n",
        "        trg_len = trg.shape[0]\n",
        "        trg_vocab_size = self.decoder.output_dim\n",
        "\n",
        "        #tensor to store decoder outputs\n",
        "        outputs = torch.zeros(trg_len, batch_size, trg_vocab_size).to(self.device)\n",
        "\n",
        "        #encoder_outputs is all hidden states of the input sequence, back and forwards\n",
        "        #hidden is the final forward and backward hidden states, passed through a linear layer\n",
        "        encoder_outputs, hidden = self.encoder(src, src_len)\n",
        "        #first input to the decoder is the <sos> tokens\n",
        "        input = trg[0,:]\n",
        "\n",
        "        mask = self.create_mask(src)\n",
        "\n",
        "        #mask = [batch size, src len]\n",
        "\n",
        "        for t in range(1, trg_len):\n",
        "\n",
        "            #insert input token embedding, previous hidden state, all encoder hidden states\n",
        "            #  and mask\n",
        "            #receive output tensor (predictions) and new hidden state\n",
        "            output, hidden, _ = self.decoder(input, hidden, encoder_outputs, mask)\n",
        "\n",
        "            #place predictions in a tensor holding predictions for each token\n",
        "            outputs[t] = output\n",
        "\n",
        "            #decide if we are going to use teacher forcing or not\n",
        "            teacher_force = random.random() < teacher_forcing_ratio\n",
        "\n",
        "            #get the highest predicted token from our predictions\n",
        "            top1 = output.argmax(1)\n",
        "\n",
        "            #if teacher forcing, use actual next token as next input\n",
        "            #if not, use predicted token\n",
        "            input = trg[t] if teacher_force else top1\n",
        "\n",
        "        return outputs"
      ],
      "metadata": {
        "execution": {
          "iopub.status.busy": "2024-01-12T05:42:58.984273Z",
          "iopub.execute_input": "2024-01-12T05:42:58.985055Z",
          "iopub.status.idle": "2024-01-12T05:42:58.995849Z",
          "shell.execute_reply.started": "2024-01-12T05:42:58.985019Z",
          "shell.execute_reply": "2024-01-12T05:42:58.994850Z"
        },
        "trusted": true,
        "id": "d6rosx3GYbbK"
      },
      "execution_count": 60,
      "outputs": []
    },
    {
      "cell_type": "code",
      "source": [
        "device = torch.device('cuda' if torch.cuda.is_available() else 'cpu')"
      ],
      "metadata": {
        "execution": {
          "iopub.status.busy": "2024-01-12T05:42:58.997896Z",
          "iopub.execute_input": "2024-01-12T05:42:58.998235Z",
          "iopub.status.idle": "2024-01-12T05:42:59.009142Z",
          "shell.execute_reply.started": "2024-01-12T05:42:58.998201Z",
          "shell.execute_reply": "2024-01-12T05:42:59.008217Z"
        },
        "trusted": true,
        "id": "2DE-9gU5YbbM"
      },
      "execution_count": 61,
      "outputs": []
    },
    {
      "cell_type": "code",
      "source": [
        "INPUT_DIM = len(vocab_en)\n",
        "OUTPUT_DIM = len(vocab_en)\n",
        "ENC_EMB_DIM = 256\n",
        "DEC_EMB_DIM = 256\n",
        "ENC_HID_DIM = 512\n",
        "DEC_HID_DIM = 512\n",
        "ENC_DROPOUT = 0.4\n",
        "DEC_DROPOUT = 0.3\n",
        "SRC_PAD_IDX = vocab_en[\"<PAD>\"]\n",
        "ENCODER_N_LAYERS = 2"
      ],
      "metadata": {
        "execution": {
          "iopub.status.busy": "2024-01-12T05:42:59.010796Z",
          "iopub.execute_input": "2024-01-12T05:42:59.011086Z",
          "iopub.status.idle": "2024-01-12T05:42:59.018875Z",
          "shell.execute_reply.started": "2024-01-12T05:42:59.011061Z",
          "shell.execute_reply": "2024-01-12T05:42:59.017915Z"
        },
        "trusted": true,
        "id": "Uoa8rHbxYbbM"
      },
      "execution_count": 94,
      "outputs": []
    },
    {
      "cell_type": "code",
      "source": [
        "attn = Attention(ENC_HID_DIM, DEC_HID_DIM)\n",
        "enc = Encoder(INPUT_DIM, ENC_EMB_DIM, ENC_HID_DIM, DEC_HID_DIM, ENC_DROPOUT)\n",
        "dec = Decoder(OUTPUT_DIM, DEC_EMB_DIM, ENC_HID_DIM, DEC_HID_DIM, DEC_DROPOUT, attn)\n",
        "model = Seq2Seq(enc, dec, SRC_PAD_IDX, device).to(device)"
      ],
      "metadata": {
        "execution": {
          "iopub.status.busy": "2024-01-12T05:42:59.020162Z",
          "iopub.execute_input": "2024-01-12T05:42:59.020526Z",
          "iopub.status.idle": "2024-01-12T05:42:59.162786Z",
          "shell.execute_reply.started": "2024-01-12T05:42:59.020476Z",
          "shell.execute_reply": "2024-01-12T05:42:59.161756Z"
        },
        "trusted": true,
        "id": "Xy2Q_FutYbbN"
      },
      "execution_count": 95,
      "outputs": []
    },
    {
      "cell_type": "code",
      "source": [
        "criterion = nn.CrossEntropyLoss(ignore_index = vocab_en[\"<PAD>\"])"
      ],
      "metadata": {
        "execution": {
          "iopub.status.busy": "2024-01-12T05:42:59.165776Z",
          "iopub.execute_input": "2024-01-12T05:42:59.166467Z",
          "iopub.status.idle": "2024-01-12T05:42:59.170996Z",
          "shell.execute_reply.started": "2024-01-12T05:42:59.166429Z",
          "shell.execute_reply": "2024-01-12T05:42:59.170076Z"
        },
        "trusted": true,
        "id": "1LuTHkzQYbbO"
      },
      "execution_count": 96,
      "outputs": []
    },
    {
      "cell_type": "code",
      "source": [
        "# def init_weights(m):\n",
        "#     for name, param in m.named_parameters():\n",
        "#         if 'weight' in name:\n",
        "#             nn.init.normal_(param.data, mean=0, std=0.01)\n",
        "#         else:\n",
        "#             nn.init.constant_(param.data, 0)\n",
        "\n",
        "# model.apply(init_weights)"
      ],
      "metadata": {
        "execution": {
          "iopub.status.busy": "2024-01-12T05:42:59.172386Z",
          "iopub.execute_input": "2024-01-12T05:42:59.173114Z",
          "iopub.status.idle": "2024-01-12T05:42:59.185071Z",
          "shell.execute_reply.started": "2024-01-12T05:42:59.173086Z",
          "shell.execute_reply": "2024-01-12T05:42:59.184156Z"
        },
        "trusted": true,
        "id": "i1U1p8ZVYbbO"
      },
      "execution_count": 97,
      "outputs": []
    },
    {
      "cell_type": "code",
      "source": [
        "# model.load_state_dict(torch.load(\"/kaggle/input/seq2seqmental/seq2seq(mental).pt\"))"
      ],
      "metadata": {
        "execution": {
          "iopub.status.busy": "2024-01-12T05:42:59.186157Z",
          "iopub.execute_input": "2024-01-12T05:42:59.186443Z",
          "iopub.status.idle": "2024-01-12T05:42:59.190904Z",
          "shell.execute_reply.started": "2024-01-12T05:42:59.186420Z",
          "shell.execute_reply": "2024-01-12T05:42:59.189912Z"
        },
        "trusted": true,
        "id": "N0zuxEuQYbbO"
      },
      "execution_count": 98,
      "outputs": []
    },
    {
      "cell_type": "code",
      "source": [
        "optimizer = torch.optim.Adam(model.parameters(),lr=2e-4)"
      ],
      "metadata": {
        "execution": {
          "iopub.status.busy": "2024-01-12T05:42:59.192084Z",
          "iopub.execute_input": "2024-01-12T05:42:59.192358Z",
          "iopub.status.idle": "2024-01-12T05:42:59.201064Z",
          "shell.execute_reply.started": "2024-01-12T05:42:59.192334Z",
          "shell.execute_reply": "2024-01-12T05:42:59.200283Z"
        },
        "trusted": true,
        "id": "t7vl2HWsYbbP"
      },
      "execution_count": 99,
      "outputs": []
    },
    {
      "cell_type": "code",
      "source": [
        "criterion = nn.CrossEntropyLoss(ignore_index = vocab_en[\"<PAD>\"])"
      ],
      "metadata": {
        "execution": {
          "iopub.status.busy": "2024-01-12T05:42:59.202167Z",
          "iopub.execute_input": "2024-01-12T05:42:59.202438Z",
          "iopub.status.idle": "2024-01-12T05:42:59.212223Z",
          "shell.execute_reply.started": "2024-01-12T05:42:59.202413Z",
          "shell.execute_reply": "2024-01-12T05:42:59.211245Z"
        },
        "trusted": true,
        "id": "-sm1ljMPYbbP"
      },
      "execution_count": 100,
      "outputs": []
    },
    {
      "cell_type": "code",
      "source": [
        "def train(model, iterator, optimizer, criterion, clip):\n",
        "\n",
        "    model.train()\n",
        "\n",
        "    epoch_loss = 0\n",
        "    pbar = tqdm(iterator)\n",
        "    for i, batch in enumerate(pbar):\n",
        "\n",
        "        src = batch[0].to(device)\n",
        "        src_lens = batch[1]\n",
        "        trg = batch[2].to(device)\n",
        "        optimizer.zero_grad()\n",
        "\n",
        "        output = model(src, src_lens, trg)\n",
        "\n",
        "        #trg = [trg len, batch size]\n",
        "        #output = [trg len, batch size, output dim]\n",
        "\n",
        "        output_dim = output.shape[-1]\n",
        "\n",
        "        output = output[1:].view(-1, output_dim)\n",
        "        trg = trg[:,1:].reshape(-1)\n",
        "\n",
        "        #trg = [(trg len - 1) * batch size]\n",
        "        #output = [(trg len - 1) * batch size, output dim]\n",
        "#         print(\"OP shape \",output.shape)\n",
        "#         print(\"TRG Shape \",trg.shape)\n",
        "        loss = criterion(output, trg)\n",
        "\n",
        "        loss.backward()\n",
        "\n",
        "        torch.nn.utils.clip_grad_norm_(model.parameters(), clip)\n",
        "\n",
        "        optimizer.step()\n",
        "\n",
        "        epoch_loss += loss.item()\n",
        "#         if i%500==0:print(\"Batch:\",epoch_loss)\n",
        "\n",
        "    return epoch_loss / len(iterator)"
      ],
      "metadata": {
        "execution": {
          "iopub.status.busy": "2024-01-12T05:42:59.213587Z",
          "iopub.execute_input": "2024-01-12T05:42:59.213895Z",
          "iopub.status.idle": "2024-01-12T05:42:59.224300Z",
          "shell.execute_reply.started": "2024-01-12T05:42:59.213869Z",
          "shell.execute_reply": "2024-01-12T05:42:59.223550Z"
        },
        "trusted": true,
        "id": "Dz6T-rHVYbbQ"
      },
      "execution_count": 101,
      "outputs": []
    },
    {
      "cell_type": "code",
      "source": [
        "def evaluate(model, iterator, criterion):\n",
        "\n",
        "    model.eval()\n",
        "\n",
        "    epoch_loss = 0\n",
        "\n",
        "    with torch.no_grad():\n",
        "        pbar = tqdm(iterator)\n",
        "        for i, batch in enumerate(pbar):\n",
        "\n",
        "            src = batch[0].to(device)\n",
        "            src_lens = batch[1]\n",
        "            trg = batch[2].to(device)\n",
        "            output = model(src, src_lens, trg, 0) #turn off teacher forcing\n",
        "\n",
        "            #trg = [trg len, batch size]\n",
        "            #output = [trg len, batch size, output dim]\n",
        "\n",
        "            output_dim = output.shape[-1]\n",
        "\n",
        "            output = output[1:].view(-1, output_dim)\n",
        "            trg = trg[:,1:].reshape(-1)\n",
        "\n",
        "            #trg = [(trg len - 1) * batch size]\n",
        "            #output = [(trg len - 1) * batch size, output dim]\n",
        "\n",
        "            loss = criterion(output, trg)\n",
        "\n",
        "            epoch_loss += loss.item()\n",
        "\n",
        "    return epoch_loss / len(iterator)"
      ],
      "metadata": {
        "execution": {
          "iopub.status.busy": "2024-01-12T05:42:59.228351Z",
          "iopub.execute_input": "2024-01-12T05:42:59.228714Z",
          "iopub.status.idle": "2024-01-12T05:42:59.236967Z",
          "shell.execute_reply.started": "2024-01-12T05:42:59.228661Z",
          "shell.execute_reply": "2024-01-12T05:42:59.236028Z"
        },
        "trusted": true,
        "id": "FzaPlqsOYbbQ"
      },
      "execution_count": 102,
      "outputs": []
    },
    {
      "cell_type": "code",
      "source": [
        "model = model.to(device)"
      ],
      "metadata": {
        "execution": {
          "iopub.status.busy": "2024-01-12T05:42:59.238232Z",
          "iopub.execute_input": "2024-01-12T05:42:59.238617Z",
          "iopub.status.idle": "2024-01-12T05:42:59.253237Z",
          "shell.execute_reply.started": "2024-01-12T05:42:59.238584Z",
          "shell.execute_reply": "2024-01-12T05:42:59.252351Z"
        },
        "trusted": true,
        "id": "-WgDApJ-YbbQ"
      },
      "execution_count": 103,
      "outputs": []
    },
    {
      "cell_type": "code",
      "source": [
        "N_EPOCHS = 100\n",
        "CLIP = 20.0"
      ],
      "metadata": {
        "execution": {
          "iopub.status.busy": "2024-01-12T05:42:59.254539Z",
          "iopub.execute_input": "2024-01-12T05:42:59.255153Z",
          "iopub.status.idle": "2024-01-12T05:42:59.261168Z",
          "shell.execute_reply.started": "2024-01-12T05:42:59.255117Z",
          "shell.execute_reply": "2024-01-12T05:42:59.260386Z"
        },
        "trusted": true,
        "id": "FrYKz1b_YbbQ"
      },
      "execution_count": 104,
      "outputs": []
    },
    {
      "cell_type": "code",
      "source": [
        "best_valid_loss = float('inf')\n",
        "\n",
        "for epoch in range(N_EPOCHS):\n",
        "    train_loss = train(model, train_loader, optimizer, criterion, CLIP)\n",
        "    valid_loss = evaluate(model, test_loader, criterion)\n",
        "\n",
        "    torch.save(model.state_dict(), \"seq2seq.pt\")\n",
        "\n",
        "    if valid_loss < best_valid_loss:\n",
        "        best_valid_loss = valid_loss\n",
        "    print(f'\\tEPOCH:{epoch+1}/{N_EPOCHS}\\tTrain Loss: {train_loss:.3f} | Train PPL: {math.exp(train_loss):7.3f} \\t Val. Loss: {valid_loss:.3f} |  Val. PPL: {math.exp(valid_loss):7.3f}')"
      ],
      "metadata": {
        "execution": {
          "iopub.status.busy": "2024-01-12T05:42:59.262211Z",
          "iopub.execute_input": "2024-01-12T05:42:59.262531Z",
          "iopub.status.idle": "2024-01-12T05:52:00.743483Z",
          "shell.execute_reply.started": "2024-01-12T05:42:59.262491Z",
          "shell.execute_reply": "2024-01-12T05:52:00.742447Z"
        },
        "trusted": true,
        "colab": {
          "base_uri": "https://localhost:8080/"
        },
        "id": "FPSw0vPyYbbR",
        "outputId": "7374c495-d43a-49d1-91df-26f76673fce9"
      },
      "execution_count": 105,
      "outputs": [
        {
          "output_type": "stream",
          "name": "stderr",
          "text": [
            "100%|██████████| 94/94 [00:05<00:00, 18.51it/s]\n",
            "100%|██████████| 24/24 [00:00<00:00, 42.72it/s]\n"
          ]
        },
        {
          "output_type": "stream",
          "name": "stdout",
          "text": [
            "\tEPOCH:1/100\tTrain Loss: 5.464 | Train PPL: 236.026 \t Val. Loss: 5.330 |  Val. PPL: 206.509\n"
          ]
        },
        {
          "output_type": "stream",
          "name": "stderr",
          "text": [
            "100%|██████████| 94/94 [00:05<00:00, 18.52it/s]\n",
            "100%|██████████| 24/24 [00:00<00:00, 57.55it/s]\n"
          ]
        },
        {
          "output_type": "stream",
          "name": "stdout",
          "text": [
            "\tEPOCH:2/100\tTrain Loss: 5.188 | Train PPL: 179.125 \t Val. Loss: 5.334 |  Val. PPL: 207.174\n"
          ]
        },
        {
          "output_type": "stream",
          "name": "stderr",
          "text": [
            "100%|██████████| 94/94 [00:04<00:00, 19.81it/s]\n",
            "100%|██████████| 24/24 [00:00<00:00, 56.01it/s]\n"
          ]
        },
        {
          "output_type": "stream",
          "name": "stdout",
          "text": [
            "\tEPOCH:3/100\tTrain Loss: 5.138 | Train PPL: 170.385 \t Val. Loss: 5.339 |  Val. PPL: 208.237\n"
          ]
        },
        {
          "output_type": "stream",
          "name": "stderr",
          "text": [
            "100%|██████████| 94/94 [00:05<00:00, 17.59it/s]\n",
            "100%|██████████| 24/24 [00:00<00:00, 57.29it/s]\n"
          ]
        },
        {
          "output_type": "stream",
          "name": "stdout",
          "text": [
            "\tEPOCH:4/100\tTrain Loss: 5.059 | Train PPL: 157.449 \t Val. Loss: 5.373 |  Val. PPL: 215.492\n"
          ]
        },
        {
          "output_type": "stream",
          "name": "stderr",
          "text": [
            "100%|██████████| 94/94 [00:04<00:00, 20.62it/s]\n",
            "100%|██████████| 24/24 [00:00<00:00, 54.73it/s]\n"
          ]
        },
        {
          "output_type": "stream",
          "name": "stdout",
          "text": [
            "\tEPOCH:5/100\tTrain Loss: 4.963 | Train PPL: 143.064 \t Val. Loss: 5.424 |  Val. PPL: 226.842\n"
          ]
        },
        {
          "output_type": "stream",
          "name": "stderr",
          "text": [
            "100%|██████████| 94/94 [00:04<00:00, 19.38it/s]\n",
            "100%|██████████| 24/24 [00:00<00:00, 44.69it/s]\n"
          ]
        },
        {
          "output_type": "stream",
          "name": "stdout",
          "text": [
            "\tEPOCH:6/100\tTrain Loss: 4.831 | Train PPL: 125.350 \t Val. Loss: 5.490 |  Val. PPL: 242.330\n"
          ]
        },
        {
          "output_type": "stream",
          "name": "stderr",
          "text": [
            "100%|██████████| 94/94 [00:05<00:00, 18.62it/s]\n",
            "100%|██████████| 24/24 [00:00<00:00, 55.28it/s]\n"
          ]
        },
        {
          "output_type": "stream",
          "name": "stdout",
          "text": [
            "\tEPOCH:7/100\tTrain Loss: 4.674 | Train PPL: 107.143 \t Val. Loss: 5.567 |  Val. PPL: 261.569\n"
          ]
        },
        {
          "output_type": "stream",
          "name": "stderr",
          "text": [
            "100%|██████████| 94/94 [00:04<00:00, 20.63it/s]\n",
            "100%|██████████| 24/24 [00:00<00:00, 55.83it/s]\n"
          ]
        },
        {
          "output_type": "stream",
          "name": "stdout",
          "text": [
            "\tEPOCH:8/100\tTrain Loss: 4.502 | Train PPL:  90.203 \t Val. Loss: 5.635 |  Val. PPL: 280.128\n"
          ]
        },
        {
          "output_type": "stream",
          "name": "stderr",
          "text": [
            "100%|██████████| 94/94 [00:05<00:00, 17.98it/s]\n",
            "100%|██████████| 24/24 [00:00<00:00, 39.99it/s]\n"
          ]
        },
        {
          "output_type": "stream",
          "name": "stdout",
          "text": [
            "\tEPOCH:9/100\tTrain Loss: 4.314 | Train PPL:  74.740 \t Val. Loss: 5.704 |  Val. PPL: 299.965\n"
          ]
        },
        {
          "output_type": "stream",
          "name": "stderr",
          "text": [
            "100%|██████████| 94/94 [00:04<00:00, 20.64it/s]\n",
            "100%|██████████| 24/24 [00:00<00:00, 57.10it/s]\n"
          ]
        },
        {
          "output_type": "stream",
          "name": "stdout",
          "text": [
            "\tEPOCH:10/100\tTrain Loss: 4.162 | Train PPL:  64.172 \t Val. Loss: 5.779 |  Val. PPL: 323.516\n"
          ]
        },
        {
          "output_type": "stream",
          "name": "stderr",
          "text": [
            "100%|██████████| 94/94 [00:04<00:00, 20.73it/s]\n",
            "100%|██████████| 24/24 [00:00<00:00, 47.75it/s]\n"
          ]
        },
        {
          "output_type": "stream",
          "name": "stdout",
          "text": [
            "\tEPOCH:11/100\tTrain Loss: 3.999 | Train PPL:  54.532 \t Val. Loss: 5.837 |  Val. PPL: 342.632\n"
          ]
        },
        {
          "output_type": "stream",
          "name": "stderr",
          "text": [
            "100%|██████████| 94/94 [00:05<00:00, 17.83it/s]\n",
            "100%|██████████| 24/24 [00:00<00:00, 57.31it/s]\n"
          ]
        },
        {
          "output_type": "stream",
          "name": "stdout",
          "text": [
            "\tEPOCH:12/100\tTrain Loss: 3.813 | Train PPL:  45.300 \t Val. Loss: 5.907 |  Val. PPL: 367.550\n"
          ]
        },
        {
          "output_type": "stream",
          "name": "stderr",
          "text": [
            "100%|██████████| 94/94 [00:04<00:00, 20.65it/s]\n",
            "100%|██████████| 24/24 [00:00<00:00, 57.43it/s]\n"
          ]
        },
        {
          "output_type": "stream",
          "name": "stdout",
          "text": [
            "\tEPOCH:13/100\tTrain Loss: 3.673 | Train PPL:  39.353 \t Val. Loss: 5.978 |  Val. PPL: 394.776\n"
          ]
        },
        {
          "output_type": "stream",
          "name": "stderr",
          "text": [
            "100%|██████████| 94/94 [00:04<00:00, 19.17it/s]\n",
            "100%|██████████| 24/24 [00:00<00:00, 44.84it/s]\n"
          ]
        },
        {
          "output_type": "stream",
          "name": "stdout",
          "text": [
            "\tEPOCH:14/100\tTrain Loss: 3.523 | Train PPL:  33.890 \t Val. Loss: 6.036 |  Val. PPL: 418.262\n"
          ]
        },
        {
          "output_type": "stream",
          "name": "stderr",
          "text": [
            "100%|██████████| 94/94 [00:04<00:00, 19.36it/s]\n",
            "100%|██████████| 24/24 [00:00<00:00, 57.44it/s]\n"
          ]
        },
        {
          "output_type": "stream",
          "name": "stdout",
          "text": [
            "\tEPOCH:15/100\tTrain Loss: 3.371 | Train PPL:  29.111 \t Val. Loss: 6.101 |  Val. PPL: 446.383\n"
          ]
        },
        {
          "output_type": "stream",
          "name": "stderr",
          "text": [
            "100%|██████████| 94/94 [00:04<00:00, 20.54it/s]\n",
            "100%|██████████| 24/24 [00:00<00:00, 58.15it/s]\n"
          ]
        },
        {
          "output_type": "stream",
          "name": "stdout",
          "text": [
            "\tEPOCH:16/100\tTrain Loss: 3.230 | Train PPL:  25.270 \t Val. Loss: 6.172 |  Val. PPL: 479.166\n"
          ]
        },
        {
          "output_type": "stream",
          "name": "stderr",
          "text": [
            "100%|██████████| 94/94 [00:05<00:00, 17.07it/s]\n",
            "100%|██████████| 24/24 [00:00<00:00, 53.72it/s]\n"
          ]
        },
        {
          "output_type": "stream",
          "name": "stdout",
          "text": [
            "\tEPOCH:17/100\tTrain Loss: 3.093 | Train PPL:  22.051 \t Val. Loss: 6.229 |  Val. PPL: 507.141\n"
          ]
        },
        {
          "output_type": "stream",
          "name": "stderr",
          "text": [
            "100%|██████████| 94/94 [00:04<00:00, 20.37it/s]\n",
            "100%|██████████| 24/24 [00:00<00:00, 55.22it/s]\n"
          ]
        },
        {
          "output_type": "stream",
          "name": "stdout",
          "text": [
            "\tEPOCH:18/100\tTrain Loss: 2.944 | Train PPL:  18.989 \t Val. Loss: 6.289 |  Val. PPL: 538.586\n"
          ]
        },
        {
          "output_type": "stream",
          "name": "stderr",
          "text": [
            "100%|██████████| 94/94 [00:04<00:00, 19.86it/s]\n",
            "100%|██████████| 24/24 [00:00<00:00, 44.74it/s]\n"
          ]
        },
        {
          "output_type": "stream",
          "name": "stdout",
          "text": [
            "\tEPOCH:19/100\tTrain Loss: 2.813 | Train PPL:  16.657 \t Val. Loss: 6.366 |  Val. PPL: 581.741\n"
          ]
        },
        {
          "output_type": "stream",
          "name": "stderr",
          "text": [
            "100%|██████████| 94/94 [00:05<00:00, 17.44it/s]\n",
            "100%|██████████| 24/24 [00:00<00:00, 55.28it/s]\n"
          ]
        },
        {
          "output_type": "stream",
          "name": "stdout",
          "text": [
            "\tEPOCH:20/100\tTrain Loss: 2.697 | Train PPL:  14.840 \t Val. Loss: 6.438 |  Val. PPL: 625.075\n"
          ]
        },
        {
          "output_type": "stream",
          "name": "stderr",
          "text": [
            "100%|██████████| 94/94 [00:04<00:00, 20.41it/s]\n",
            "100%|██████████| 24/24 [00:00<00:00, 57.07it/s]\n"
          ]
        },
        {
          "output_type": "stream",
          "name": "stdout",
          "text": [
            "\tEPOCH:21/100\tTrain Loss: 2.569 | Train PPL:  13.056 \t Val. Loss: 6.511 |  Val. PPL: 672.696\n"
          ]
        },
        {
          "output_type": "stream",
          "name": "stderr",
          "text": [
            "100%|██████████| 94/94 [00:05<00:00, 18.11it/s]\n",
            "100%|██████████| 24/24 [00:00<00:00, 43.79it/s]\n"
          ]
        },
        {
          "output_type": "stream",
          "name": "stdout",
          "text": [
            "\tEPOCH:22/100\tTrain Loss: 2.454 | Train PPL:  11.636 \t Val. Loss: 6.577 |  Val. PPL: 718.526\n"
          ]
        },
        {
          "output_type": "stream",
          "name": "stderr",
          "text": [
            "100%|██████████| 94/94 [00:04<00:00, 19.99it/s]\n",
            "100%|██████████| 24/24 [00:00<00:00, 55.67it/s]\n"
          ]
        },
        {
          "output_type": "stream",
          "name": "stdout",
          "text": [
            "\tEPOCH:23/100\tTrain Loss: 2.349 | Train PPL:  10.473 \t Val. Loss: 6.634 |  Val. PPL: 760.786\n"
          ]
        },
        {
          "output_type": "stream",
          "name": "stderr",
          "text": [
            "100%|██████████| 94/94 [00:04<00:00, 20.29it/s]\n",
            "100%|██████████| 24/24 [00:00<00:00, 53.54it/s]\n"
          ]
        },
        {
          "output_type": "stream",
          "name": "stdout",
          "text": [
            "\tEPOCH:24/100\tTrain Loss: 2.252 | Train PPL:   9.505 \t Val. Loss: 6.723 |  Val. PPL: 831.320\n"
          ]
        },
        {
          "output_type": "stream",
          "name": "stderr",
          "text": [
            "100%|██████████| 94/94 [00:05<00:00, 17.16it/s]\n",
            "100%|██████████| 24/24 [00:00<00:00, 54.17it/s]\n"
          ]
        },
        {
          "output_type": "stream",
          "name": "stdout",
          "text": [
            "\tEPOCH:25/100\tTrain Loss: 2.162 | Train PPL:   8.689 \t Val. Loss: 6.761 |  Val. PPL: 863.382\n"
          ]
        },
        {
          "output_type": "stream",
          "name": "stderr",
          "text": [
            "100%|██████████| 94/94 [00:04<00:00, 20.34it/s]\n",
            "100%|██████████| 24/24 [00:00<00:00, 55.09it/s]\n"
          ]
        },
        {
          "output_type": "stream",
          "name": "stdout",
          "text": [
            "\tEPOCH:26/100\tTrain Loss: 2.084 | Train PPL:   8.033 \t Val. Loss: 6.848 |  Val. PPL: 942.293\n"
          ]
        },
        {
          "output_type": "stream",
          "name": "stderr",
          "text": [
            "100%|██████████| 94/94 [00:04<00:00, 18.97it/s]\n",
            "100%|██████████| 24/24 [00:00<00:00, 44.94it/s]\n"
          ]
        },
        {
          "output_type": "stream",
          "name": "stdout",
          "text": [
            "\tEPOCH:27/100\tTrain Loss: 1.996 | Train PPL:   7.362 \t Val. Loss: 6.906 |  Val. PPL: 998.608\n"
          ]
        },
        {
          "output_type": "stream",
          "name": "stderr",
          "text": [
            "100%|██████████| 94/94 [00:04<00:00, 19.16it/s]\n",
            "100%|██████████| 24/24 [00:00<00:00, 55.40it/s]\n"
          ]
        },
        {
          "output_type": "stream",
          "name": "stdout",
          "text": [
            "\tEPOCH:28/100\tTrain Loss: 1.916 | Train PPL:   6.791 \t Val. Loss: 6.934 |  Val. PPL: 1026.315\n"
          ]
        },
        {
          "output_type": "stream",
          "name": "stderr",
          "text": [
            "100%|██████████| 94/94 [00:04<00:00, 20.52it/s]\n",
            "100%|██████████| 24/24 [00:00<00:00, 56.44it/s]\n"
          ]
        },
        {
          "output_type": "stream",
          "name": "stdout",
          "text": [
            "\tEPOCH:29/100\tTrain Loss: 1.838 | Train PPL:   6.283 \t Val. Loss: 7.000 |  Val. PPL: 1096.656\n"
          ]
        },
        {
          "output_type": "stream",
          "name": "stderr",
          "text": [
            "100%|██████████| 94/94 [00:05<00:00, 17.62it/s]\n",
            "100%|██████████| 24/24 [00:00<00:00, 57.60it/s]\n"
          ]
        },
        {
          "output_type": "stream",
          "name": "stdout",
          "text": [
            "\tEPOCH:30/100\tTrain Loss: 1.773 | Train PPL:   5.889 \t Val. Loss: 7.040 |  Val. PPL: 1141.607\n"
          ]
        },
        {
          "output_type": "stream",
          "name": "stderr",
          "text": [
            "100%|██████████| 94/94 [00:04<00:00, 20.55it/s]\n",
            "100%|██████████| 24/24 [00:00<00:00, 58.20it/s]\n"
          ]
        },
        {
          "output_type": "stream",
          "name": "stdout",
          "text": [
            "\tEPOCH:31/100\tTrain Loss: 1.716 | Train PPL:   5.562 \t Val. Loss: 7.087 |  Val. PPL: 1196.215\n"
          ]
        },
        {
          "output_type": "stream",
          "name": "stderr",
          "text": [
            "100%|██████████| 94/94 [00:04<00:00, 20.12it/s]\n",
            "100%|██████████| 24/24 [00:00<00:00, 44.26it/s]\n"
          ]
        },
        {
          "output_type": "stream",
          "name": "stdout",
          "text": [
            "\tEPOCH:32/100\tTrain Loss: 1.656 | Train PPL:   5.238 \t Val. Loss: 7.152 |  Val. PPL: 1276.579\n"
          ]
        },
        {
          "output_type": "stream",
          "name": "stderr",
          "text": [
            "100%|██████████| 94/94 [00:05<00:00, 16.79it/s]\n",
            "100%|██████████| 24/24 [00:00<00:00, 42.19it/s]\n"
          ]
        },
        {
          "output_type": "stream",
          "name": "stdout",
          "text": [
            "\tEPOCH:33/100\tTrain Loss: 1.596 | Train PPL:   4.934 \t Val. Loss: 7.197 |  Val. PPL: 1335.716\n"
          ]
        },
        {
          "output_type": "stream",
          "name": "stderr",
          "text": [
            "100%|██████████| 94/94 [00:04<00:00, 19.49it/s]\n",
            "100%|██████████| 24/24 [00:00<00:00, 57.54it/s]\n"
          ]
        },
        {
          "output_type": "stream",
          "name": "stdout",
          "text": [
            "\tEPOCH:34/100\tTrain Loss: 1.566 | Train PPL:   4.786 \t Val. Loss: 7.244 |  Val. PPL: 1400.028\n"
          ]
        },
        {
          "output_type": "stream",
          "name": "stderr",
          "text": [
            "100%|██████████| 94/94 [00:05<00:00, 17.83it/s]\n",
            "100%|██████████| 24/24 [00:00<00:00, 42.26it/s]\n"
          ]
        },
        {
          "output_type": "stream",
          "name": "stdout",
          "text": [
            "\tEPOCH:35/100\tTrain Loss: 1.519 | Train PPL:   4.566 \t Val. Loss: 7.248 |  Val. PPL: 1405.034\n"
          ]
        },
        {
          "output_type": "stream",
          "name": "stderr",
          "text": [
            "100%|██████████| 94/94 [00:04<00:00, 20.57it/s]\n",
            "100%|██████████| 24/24 [00:00<00:00, 56.79it/s]\n"
          ]
        },
        {
          "output_type": "stream",
          "name": "stdout",
          "text": [
            "\tEPOCH:36/100\tTrain Loss: 1.467 | Train PPL:   4.335 \t Val. Loss: 7.279 |  Val. PPL: 1449.020\n"
          ]
        },
        {
          "output_type": "stream",
          "name": "stderr",
          "text": [
            "100%|██████████| 94/94 [00:04<00:00, 20.45it/s]\n",
            "100%|██████████| 24/24 [00:00<00:00, 42.76it/s]\n"
          ]
        },
        {
          "output_type": "stream",
          "name": "stdout",
          "text": [
            "\tEPOCH:37/100\tTrain Loss: 1.410 | Train PPL:   4.098 \t Val. Loss: 7.345 |  Val. PPL: 1548.730\n"
          ]
        },
        {
          "output_type": "stream",
          "name": "stderr",
          "text": [
            "100%|██████████| 94/94 [00:05<00:00, 17.97it/s]\n",
            "100%|██████████| 24/24 [00:00<00:00, 53.36it/s]\n"
          ]
        },
        {
          "output_type": "stream",
          "name": "stdout",
          "text": [
            "\tEPOCH:38/100\tTrain Loss: 1.382 | Train PPL:   3.984 \t Val. Loss: 7.391 |  Val. PPL: 1620.719\n"
          ]
        },
        {
          "output_type": "stream",
          "name": "stderr",
          "text": [
            "100%|██████████| 94/94 [00:04<00:00, 20.60it/s]\n",
            "100%|██████████| 24/24 [00:00<00:00, 57.16it/s]\n"
          ]
        },
        {
          "output_type": "stream",
          "name": "stdout",
          "text": [
            "\tEPOCH:39/100\tTrain Loss: 1.358 | Train PPL:   3.890 \t Val. Loss: 7.412 |  Val. PPL: 1656.209\n"
          ]
        },
        {
          "output_type": "stream",
          "name": "stderr",
          "text": [
            "100%|██████████| 94/94 [00:05<00:00, 18.59it/s]\n",
            "100%|██████████| 24/24 [00:00<00:00, 43.85it/s]\n"
          ]
        },
        {
          "output_type": "stream",
          "name": "stdout",
          "text": [
            "\tEPOCH:40/100\tTrain Loss: 1.305 | Train PPL:   3.689 \t Val. Loss: 7.429 |  Val. PPL: 1684.252\n"
          ]
        },
        {
          "output_type": "stream",
          "name": "stderr",
          "text": [
            "100%|██████████| 94/94 [00:04<00:00, 19.60it/s]\n",
            "100%|██████████| 24/24 [00:00<00:00, 56.94it/s]\n"
          ]
        },
        {
          "output_type": "stream",
          "name": "stdout",
          "text": [
            "\tEPOCH:41/100\tTrain Loss: 1.276 | Train PPL:   3.582 \t Val. Loss: 7.443 |  Val. PPL: 1708.032\n"
          ]
        },
        {
          "output_type": "stream",
          "name": "stderr",
          "text": [
            "100%|██████████| 94/94 [00:04<00:00, 20.61it/s]\n",
            "100%|██████████| 24/24 [00:00<00:00, 56.08it/s]\n"
          ]
        },
        {
          "output_type": "stream",
          "name": "stdout",
          "text": [
            "\tEPOCH:42/100\tTrain Loss: 1.239 | Train PPL:   3.454 \t Val. Loss: 7.493 |  Val. PPL: 1796.221\n"
          ]
        },
        {
          "output_type": "stream",
          "name": "stderr",
          "text": [
            "100%|██████████| 94/94 [00:05<00:00, 17.46it/s]\n",
            "100%|██████████| 24/24 [00:00<00:00, 55.85it/s]\n"
          ]
        },
        {
          "output_type": "stream",
          "name": "stdout",
          "text": [
            "\tEPOCH:43/100\tTrain Loss: 1.209 | Train PPL:   3.352 \t Val. Loss: 7.569 |  Val. PPL: 1937.807\n"
          ]
        },
        {
          "output_type": "stream",
          "name": "stderr",
          "text": [
            "100%|██████████| 94/94 [00:04<00:00, 20.44it/s]\n",
            "100%|██████████| 24/24 [00:00<00:00, 56.21it/s]\n"
          ]
        },
        {
          "output_type": "stream",
          "name": "stdout",
          "text": [
            "\tEPOCH:44/100\tTrain Loss: 1.186 | Train PPL:   3.275 \t Val. Loss: 7.709 |  Val. PPL: 2227.258\n"
          ]
        },
        {
          "output_type": "stream",
          "name": "stderr",
          "text": [
            "100%|██████████| 94/94 [00:04<00:00, 19.79it/s]\n",
            "100%|██████████| 24/24 [00:00<00:00, 45.39it/s]\n"
          ]
        },
        {
          "output_type": "stream",
          "name": "stdout",
          "text": [
            "\tEPOCH:45/100\tTrain Loss: 1.150 | Train PPL:   3.159 \t Val. Loss: 7.659 |  Val. PPL: 2119.676\n"
          ]
        },
        {
          "output_type": "stream",
          "name": "stderr",
          "text": [
            "100%|██████████| 94/94 [00:05<00:00, 18.33it/s]\n",
            "100%|██████████| 24/24 [00:00<00:00, 55.75it/s]\n"
          ]
        },
        {
          "output_type": "stream",
          "name": "stdout",
          "text": [
            "\tEPOCH:46/100\tTrain Loss: 1.147 | Train PPL:   3.147 \t Val. Loss: 7.604 |  Val. PPL: 2007.208\n"
          ]
        },
        {
          "output_type": "stream",
          "name": "stderr",
          "text": [
            "100%|██████████| 94/94 [00:04<00:00, 20.63it/s]\n",
            "100%|██████████| 24/24 [00:00<00:00, 56.10it/s]\n"
          ]
        },
        {
          "output_type": "stream",
          "name": "stdout",
          "text": [
            "\tEPOCH:47/100\tTrain Loss: 1.108 | Train PPL:   3.030 \t Val. Loss: 7.617 |  Val. PPL: 2032.627\n"
          ]
        },
        {
          "output_type": "stream",
          "name": "stderr",
          "text": [
            "100%|██████████| 94/94 [00:05<00:00, 18.23it/s]\n",
            "100%|██████████| 24/24 [00:00<00:00, 44.29it/s]\n"
          ]
        },
        {
          "output_type": "stream",
          "name": "stdout",
          "text": [
            "\tEPOCH:48/100\tTrain Loss: 1.073 | Train PPL:   2.926 \t Val. Loss: 7.697 |  Val. PPL: 2202.496\n"
          ]
        },
        {
          "output_type": "stream",
          "name": "stderr",
          "text": [
            "100%|██████████| 94/94 [00:04<00:00, 20.11it/s]\n",
            "100%|██████████| 24/24 [00:00<00:00, 52.76it/s]\n"
          ]
        },
        {
          "output_type": "stream",
          "name": "stdout",
          "text": [
            "\tEPOCH:49/100\tTrain Loss: 1.057 | Train PPL:   2.877 \t Val. Loss: 7.746 |  Val. PPL: 2313.405\n"
          ]
        },
        {
          "output_type": "stream",
          "name": "stderr",
          "text": [
            "100%|██████████| 94/94 [00:04<00:00, 20.61it/s]\n",
            "100%|██████████| 24/24 [00:00<00:00, 55.26it/s]\n"
          ]
        },
        {
          "output_type": "stream",
          "name": "stdout",
          "text": [
            "\tEPOCH:50/100\tTrain Loss: 1.038 | Train PPL:   2.823 \t Val. Loss: 7.766 |  Val. PPL: 2359.936\n"
          ]
        },
        {
          "output_type": "stream",
          "name": "stderr",
          "text": [
            "100%|██████████| 94/94 [00:05<00:00, 17.46it/s]\n",
            "100%|██████████| 24/24 [00:00<00:00, 56.60it/s]\n"
          ]
        },
        {
          "output_type": "stream",
          "name": "stdout",
          "text": [
            "\tEPOCH:51/100\tTrain Loss: 1.015 | Train PPL:   2.760 \t Val. Loss: 7.791 |  Val. PPL: 2418.780\n"
          ]
        },
        {
          "output_type": "stream",
          "name": "stderr",
          "text": [
            "100%|██████████| 94/94 [00:04<00:00, 20.61it/s]\n",
            "100%|██████████| 24/24 [00:00<00:00, 56.72it/s]\n"
          ]
        },
        {
          "output_type": "stream",
          "name": "stdout",
          "text": [
            "\tEPOCH:52/100\tTrain Loss: 1.012 | Train PPL:   2.750 \t Val. Loss: 7.797 |  Val. PPL: 2433.861\n"
          ]
        },
        {
          "output_type": "stream",
          "name": "stderr",
          "text": [
            "100%|██████████| 94/94 [00:04<00:00, 19.06it/s]\n",
            "100%|██████████| 24/24 [00:00<00:00, 43.55it/s]\n"
          ]
        },
        {
          "output_type": "stream",
          "name": "stdout",
          "text": [
            "\tEPOCH:53/100\tTrain Loss: 1.012 | Train PPL:   2.752 \t Val. Loss: 7.856 |  Val. PPL: 2582.190\n"
          ]
        },
        {
          "output_type": "stream",
          "name": "stderr",
          "text": [
            "100%|██████████| 94/94 [00:05<00:00, 18.74it/s]\n",
            "100%|██████████| 24/24 [00:00<00:00, 56.12it/s]\n"
          ]
        },
        {
          "output_type": "stream",
          "name": "stdout",
          "text": [
            "\tEPOCH:54/100\tTrain Loss: 1.016 | Train PPL:   2.762 \t Val. Loss: 7.850 |  Val. PPL: 2564.682\n"
          ]
        },
        {
          "output_type": "stream",
          "name": "stderr",
          "text": [
            "100%|██████████| 94/94 [00:04<00:00, 20.15it/s]\n",
            "100%|██████████| 24/24 [00:00<00:00, 54.83it/s]\n"
          ]
        },
        {
          "output_type": "stream",
          "name": "stdout",
          "text": [
            "\tEPOCH:55/100\tTrain Loss: 0.965 | Train PPL:   2.625 \t Val. Loss: 7.862 |  Val. PPL: 2596.250\n"
          ]
        },
        {
          "output_type": "stream",
          "name": "stderr",
          "text": [
            "100%|██████████| 94/94 [00:05<00:00, 17.05it/s]\n",
            "100%|██████████| 24/24 [00:00<00:00, 56.79it/s]\n"
          ]
        },
        {
          "output_type": "stream",
          "name": "stdout",
          "text": [
            "\tEPOCH:56/100\tTrain Loss: 0.933 | Train PPL:   2.541 \t Val. Loss: 7.866 |  Val. PPL: 2606.534\n"
          ]
        },
        {
          "output_type": "stream",
          "name": "stderr",
          "text": [
            "100%|██████████| 94/94 [00:04<00:00, 20.13it/s]\n",
            "100%|██████████| 24/24 [00:00<00:00, 55.94it/s]\n"
          ]
        },
        {
          "output_type": "stream",
          "name": "stdout",
          "text": [
            "\tEPOCH:57/100\tTrain Loss: 0.897 | Train PPL:   2.451 \t Val. Loss: 7.912 |  Val. PPL: 2729.629\n"
          ]
        },
        {
          "output_type": "stream",
          "name": "stderr",
          "text": [
            "100%|██████████| 94/94 [00:04<00:00, 19.61it/s]\n",
            "100%|██████████| 24/24 [00:00<00:00, 41.86it/s]\n"
          ]
        },
        {
          "output_type": "stream",
          "name": "stdout",
          "text": [
            "\tEPOCH:58/100\tTrain Loss: 0.881 | Train PPL:   2.412 \t Val. Loss: 7.955 |  Val. PPL: 2851.212\n"
          ]
        },
        {
          "output_type": "stream",
          "name": "stderr",
          "text": [
            "100%|██████████| 94/94 [00:05<00:00, 18.15it/s]\n",
            "100%|██████████| 24/24 [00:00<00:00, 56.64it/s]\n"
          ]
        },
        {
          "output_type": "stream",
          "name": "stdout",
          "text": [
            "\tEPOCH:59/100\tTrain Loss: 0.862 | Train PPL:   2.367 \t Val. Loss: 7.954 |  Val. PPL: 2846.464\n"
          ]
        },
        {
          "output_type": "stream",
          "name": "stderr",
          "text": [
            "100%|██████████| 94/94 [00:04<00:00, 20.30it/s]\n",
            "100%|██████████| 24/24 [00:00<00:00, 54.46it/s]\n"
          ]
        },
        {
          "output_type": "stream",
          "name": "stdout",
          "text": [
            "\tEPOCH:60/100\tTrain Loss: 0.836 | Train PPL:   2.306 \t Val. Loss: 7.991 |  Val. PPL: 2953.949\n"
          ]
        },
        {
          "output_type": "stream",
          "name": "stderr",
          "text": [
            "100%|██████████| 94/94 [00:05<00:00, 18.26it/s]\n",
            "100%|██████████| 24/24 [00:00<00:00, 42.41it/s]\n"
          ]
        },
        {
          "output_type": "stream",
          "name": "stdout",
          "text": [
            "\tEPOCH:61/100\tTrain Loss: 0.827 | Train PPL:   2.287 \t Val. Loss: 8.020 |  Val. PPL: 3042.121\n"
          ]
        },
        {
          "output_type": "stream",
          "name": "stderr",
          "text": [
            "100%|██████████| 94/94 [00:04<00:00, 19.68it/s]\n",
            "100%|██████████| 24/24 [00:00<00:00, 56.51it/s]\n"
          ]
        },
        {
          "output_type": "stream",
          "name": "stdout",
          "text": [
            "\tEPOCH:62/100\tTrain Loss: 0.813 | Train PPL:   2.255 \t Val. Loss: 8.013 |  Val. PPL: 3019.919\n"
          ]
        },
        {
          "output_type": "stream",
          "name": "stderr",
          "text": [
            "100%|██████████| 94/94 [00:04<00:00, 20.17it/s]\n",
            "100%|██████████| 24/24 [00:00<00:00, 55.98it/s]\n"
          ]
        },
        {
          "output_type": "stream",
          "name": "stdout",
          "text": [
            "\tEPOCH:63/100\tTrain Loss: 0.820 | Train PPL:   2.271 \t Val. Loss: 8.043 |  Val. PPL: 3112.279\n"
          ]
        },
        {
          "output_type": "stream",
          "name": "stderr",
          "text": [
            "100%|██████████| 94/94 [00:05<00:00, 17.43it/s]\n",
            "100%|██████████| 24/24 [00:00<00:00, 56.96it/s]\n"
          ]
        },
        {
          "output_type": "stream",
          "name": "stdout",
          "text": [
            "\tEPOCH:64/100\tTrain Loss: 0.815 | Train PPL:   2.259 \t Val. Loss: 8.070 |  Val. PPL: 3196.401\n"
          ]
        },
        {
          "output_type": "stream",
          "name": "stderr",
          "text": [
            "100%|██████████| 94/94 [00:04<00:00, 20.51it/s]\n",
            "100%|██████████| 24/24 [00:00<00:00, 56.80it/s]\n"
          ]
        },
        {
          "output_type": "stream",
          "name": "stdout",
          "text": [
            "\tEPOCH:65/100\tTrain Loss: 0.804 | Train PPL:   2.234 \t Val. Loss: 8.087 |  Val. PPL: 3251.994\n"
          ]
        },
        {
          "output_type": "stream",
          "name": "stderr",
          "text": [
            "100%|██████████| 94/94 [00:04<00:00, 19.01it/s]\n",
            "100%|██████████| 24/24 [00:00<00:00, 42.19it/s]\n"
          ]
        },
        {
          "output_type": "stream",
          "name": "stdout",
          "text": [
            "\tEPOCH:66/100\tTrain Loss: 0.790 | Train PPL:   2.204 \t Val. Loss: 8.133 |  Val. PPL: 3404.372\n"
          ]
        },
        {
          "output_type": "stream",
          "name": "stderr",
          "text": [
            "100%|██████████| 94/94 [00:04<00:00, 19.03it/s]\n",
            "100%|██████████| 24/24 [00:00<00:00, 55.63it/s]\n"
          ]
        },
        {
          "output_type": "stream",
          "name": "stdout",
          "text": [
            "\tEPOCH:67/100\tTrain Loss: 0.786 | Train PPL:   2.196 \t Val. Loss: 8.108 |  Val. PPL: 3319.783\n"
          ]
        },
        {
          "output_type": "stream",
          "name": "stderr",
          "text": [
            "100%|██████████| 94/94 [00:04<00:00, 20.39it/s]\n",
            "100%|██████████| 24/24 [00:00<00:00, 57.05it/s]\n"
          ]
        },
        {
          "output_type": "stream",
          "name": "stdout",
          "text": [
            "\tEPOCH:68/100\tTrain Loss: 0.762 | Train PPL:   2.142 \t Val. Loss: 8.122 |  Val. PPL: 3368.564\n"
          ]
        },
        {
          "output_type": "stream",
          "name": "stderr",
          "text": [
            "100%|██████████| 94/94 [00:05<00:00, 17.47it/s]\n",
            "100%|██████████| 24/24 [00:00<00:00, 57.10it/s]\n"
          ]
        },
        {
          "output_type": "stream",
          "name": "stdout",
          "text": [
            "\tEPOCH:69/100\tTrain Loss: 0.747 | Train PPL:   2.112 \t Val. Loss: 8.154 |  Val. PPL: 3478.690\n"
          ]
        },
        {
          "output_type": "stream",
          "name": "stderr",
          "text": [
            "100%|██████████| 94/94 [00:04<00:00, 20.21it/s]\n",
            "100%|██████████| 24/24 [00:00<00:00, 56.68it/s]\n"
          ]
        },
        {
          "output_type": "stream",
          "name": "stdout",
          "text": [
            "\tEPOCH:70/100\tTrain Loss: 0.716 | Train PPL:   2.046 \t Val. Loss: 8.199 |  Val. PPL: 3638.118\n"
          ]
        },
        {
          "output_type": "stream",
          "name": "stderr",
          "text": [
            "100%|██████████| 94/94 [00:04<00:00, 19.58it/s]\n",
            "100%|██████████| 24/24 [00:00<00:00, 41.90it/s]\n"
          ]
        },
        {
          "output_type": "stream",
          "name": "stdout",
          "text": [
            "\tEPOCH:71/100\tTrain Loss: 0.733 | Train PPL:   2.081 \t Val. Loss: 8.255 |  Val. PPL: 3846.855\n"
          ]
        },
        {
          "output_type": "stream",
          "name": "stderr",
          "text": [
            "100%|██████████| 94/94 [00:05<00:00, 17.86it/s]\n",
            "100%|██████████| 24/24 [00:00<00:00, 54.51it/s]\n"
          ]
        },
        {
          "output_type": "stream",
          "name": "stdout",
          "text": [
            "\tEPOCH:72/100\tTrain Loss: 0.719 | Train PPL:   2.053 \t Val. Loss: 8.247 |  Val. PPL: 3817.441\n"
          ]
        },
        {
          "output_type": "stream",
          "name": "stderr",
          "text": [
            "100%|██████████| 94/94 [00:04<00:00, 20.09it/s]\n",
            "100%|██████████| 24/24 [00:00<00:00, 54.96it/s]\n"
          ]
        },
        {
          "output_type": "stream",
          "name": "stdout",
          "text": [
            "\tEPOCH:73/100\tTrain Loss: 0.705 | Train PPL:   2.024 \t Val. Loss: 8.235 |  Val. PPL: 3769.449\n"
          ]
        },
        {
          "output_type": "stream",
          "name": "stderr",
          "text": [
            "100%|██████████| 94/94 [00:05<00:00, 17.64it/s]\n",
            "100%|██████████| 24/24 [00:00<00:00, 40.60it/s]\n"
          ]
        },
        {
          "output_type": "stream",
          "name": "stdout",
          "text": [
            "\tEPOCH:74/100\tTrain Loss: 0.678 | Train PPL:   1.970 \t Val. Loss: 8.281 |  Val. PPL: 3947.750\n"
          ]
        },
        {
          "output_type": "stream",
          "name": "stderr",
          "text": [
            "100%|██████████| 94/94 [00:04<00:00, 20.39it/s]\n",
            "100%|██████████| 24/24 [00:00<00:00, 56.80it/s]\n"
          ]
        },
        {
          "output_type": "stream",
          "name": "stdout",
          "text": [
            "\tEPOCH:75/100\tTrain Loss: 0.683 | Train PPL:   1.980 \t Val. Loss: 8.300 |  Val. PPL: 4023.876\n"
          ]
        },
        {
          "output_type": "stream",
          "name": "stderr",
          "text": [
            "100%|██████████| 94/94 [00:04<00:00, 20.51it/s]\n",
            "100%|██████████| 24/24 [00:00<00:00, 48.98it/s]\n"
          ]
        },
        {
          "output_type": "stream",
          "name": "stdout",
          "text": [
            "\tEPOCH:76/100\tTrain Loss: 0.658 | Train PPL:   1.930 \t Val. Loss: 8.381 |  Val. PPL: 4365.382\n"
          ]
        },
        {
          "output_type": "stream",
          "name": "stderr",
          "text": [
            "100%|██████████| 94/94 [00:06<00:00, 14.85it/s]\n",
            "100%|██████████| 24/24 [00:00<00:00, 43.23it/s]\n"
          ]
        },
        {
          "output_type": "stream",
          "name": "stdout",
          "text": [
            "\tEPOCH:77/100\tTrain Loss: 0.656 | Train PPL:   1.927 \t Val. Loss: 8.396 |  Val. PPL: 4428.124\n"
          ]
        },
        {
          "output_type": "stream",
          "name": "stderr",
          "text": [
            "100%|██████████| 94/94 [00:04<00:00, 19.68it/s]\n",
            "100%|██████████| 24/24 [00:00<00:00, 52.59it/s]\n"
          ]
        },
        {
          "output_type": "stream",
          "name": "stdout",
          "text": [
            "\tEPOCH:78/100\tTrain Loss: 0.648 | Train PPL:   1.912 \t Val. Loss: 8.392 |  Val. PPL: 4411.105\n"
          ]
        },
        {
          "output_type": "stream",
          "name": "stderr",
          "text": [
            "100%|██████████| 94/94 [00:04<00:00, 18.82it/s]\n",
            "100%|██████████| 24/24 [00:00<00:00, 42.67it/s]\n"
          ]
        },
        {
          "output_type": "stream",
          "name": "stdout",
          "text": [
            "\tEPOCH:79/100\tTrain Loss: 0.651 | Train PPL:   1.918 \t Val. Loss: 8.408 |  Val. PPL: 4484.914\n"
          ]
        },
        {
          "output_type": "stream",
          "name": "stderr",
          "text": [
            "100%|██████████| 94/94 [00:04<00:00, 19.26it/s]\n",
            "100%|██████████| 24/24 [00:00<00:00, 56.85it/s]\n"
          ]
        },
        {
          "output_type": "stream",
          "name": "stdout",
          "text": [
            "\tEPOCH:80/100\tTrain Loss: 0.652 | Train PPL:   1.919 \t Val. Loss: 8.491 |  Val. PPL: 4870.522\n"
          ]
        },
        {
          "output_type": "stream",
          "name": "stderr",
          "text": [
            "100%|██████████| 94/94 [00:04<00:00, 20.43it/s]\n",
            "100%|██████████| 24/24 [00:00<00:00, 56.62it/s]\n"
          ]
        },
        {
          "output_type": "stream",
          "name": "stdout",
          "text": [
            "\tEPOCH:81/100\tTrain Loss: 0.636 | Train PPL:   1.889 \t Val. Loss: 8.466 |  Val. PPL: 4750.907\n"
          ]
        },
        {
          "output_type": "stream",
          "name": "stderr",
          "text": [
            "100%|██████████| 94/94 [00:05<00:00, 17.22it/s]\n",
            "100%|██████████| 24/24 [00:00<00:00, 53.15it/s]\n"
          ]
        },
        {
          "output_type": "stream",
          "name": "stdout",
          "text": [
            "\tEPOCH:82/100\tTrain Loss: 0.617 | Train PPL:   1.854 \t Val. Loss: 8.447 |  Val. PPL: 4662.227\n"
          ]
        },
        {
          "output_type": "stream",
          "name": "stderr",
          "text": [
            "100%|██████████| 94/94 [00:04<00:00, 20.54it/s]\n",
            "100%|██████████| 24/24 [00:00<00:00, 56.01it/s]\n"
          ]
        },
        {
          "output_type": "stream",
          "name": "stdout",
          "text": [
            "\tEPOCH:83/100\tTrain Loss: 0.620 | Train PPL:   1.858 \t Val. Loss: 8.473 |  Val. PPL: 4785.382\n"
          ]
        },
        {
          "output_type": "stream",
          "name": "stderr",
          "text": [
            "100%|██████████| 94/94 [00:04<00:00, 19.58it/s]\n",
            "100%|██████████| 24/24 [00:00<00:00, 43.14it/s]\n"
          ]
        },
        {
          "output_type": "stream",
          "name": "stdout",
          "text": [
            "\tEPOCH:84/100\tTrain Loss: 0.616 | Train PPL:   1.852 \t Val. Loss: 8.479 |  Val. PPL: 4811.132\n"
          ]
        },
        {
          "output_type": "stream",
          "name": "stderr",
          "text": [
            "100%|██████████| 94/94 [00:05<00:00, 18.45it/s]\n",
            "100%|██████████| 24/24 [00:00<00:00, 55.59it/s]\n"
          ]
        },
        {
          "output_type": "stream",
          "name": "stdout",
          "text": [
            "\tEPOCH:85/100\tTrain Loss: 0.616 | Train PPL:   1.851 \t Val. Loss: 8.484 |  Val. PPL: 4835.712\n"
          ]
        },
        {
          "output_type": "stream",
          "name": "stderr",
          "text": [
            "100%|██████████| 94/94 [00:04<00:00, 20.31it/s]\n",
            "100%|██████████| 24/24 [00:00<00:00, 55.00it/s]\n"
          ]
        },
        {
          "output_type": "stream",
          "name": "stdout",
          "text": [
            "\tEPOCH:86/100\tTrain Loss: 0.626 | Train PPL:   1.871 \t Val. Loss: 8.518 |  Val. PPL: 5004.293\n"
          ]
        },
        {
          "output_type": "stream",
          "name": "stderr",
          "text": [
            "100%|██████████| 94/94 [00:05<00:00, 17.94it/s]\n",
            "100%|██████████| 24/24 [00:00<00:00, 43.44it/s]\n"
          ]
        },
        {
          "output_type": "stream",
          "name": "stdout",
          "text": [
            "\tEPOCH:87/100\tTrain Loss: 0.614 | Train PPL:   1.847 \t Val. Loss: 8.512 |  Val. PPL: 4973.581\n"
          ]
        },
        {
          "output_type": "stream",
          "name": "stderr",
          "text": [
            "100%|██████████| 94/94 [00:04<00:00, 20.34it/s]\n",
            "100%|██████████| 24/24 [00:00<00:00, 55.25it/s]\n"
          ]
        },
        {
          "output_type": "stream",
          "name": "stdout",
          "text": [
            "\tEPOCH:88/100\tTrain Loss: 0.613 | Train PPL:   1.846 \t Val. Loss: 8.574 |  Val. PPL: 5294.735\n"
          ]
        },
        {
          "output_type": "stream",
          "name": "stderr",
          "text": [
            "100%|██████████| 94/94 [00:04<00:00, 20.37it/s]\n",
            "100%|██████████| 24/24 [00:00<00:00, 50.96it/s]\n"
          ]
        },
        {
          "output_type": "stream",
          "name": "stdout",
          "text": [
            "\tEPOCH:89/100\tTrain Loss: 0.597 | Train PPL:   1.816 \t Val. Loss: 8.609 |  Val. PPL: 5480.186\n"
          ]
        },
        {
          "output_type": "stream",
          "name": "stderr",
          "text": [
            "100%|██████████| 94/94 [00:05<00:00, 17.73it/s]\n",
            "100%|██████████| 24/24 [00:00<00:00, 55.09it/s]\n"
          ]
        },
        {
          "output_type": "stream",
          "name": "stdout",
          "text": [
            "\tEPOCH:90/100\tTrain Loss: 0.603 | Train PPL:   1.828 \t Val. Loss: 8.639 |  Val. PPL: 5648.134\n"
          ]
        },
        {
          "output_type": "stream",
          "name": "stderr",
          "text": [
            "100%|██████████| 94/94 [00:04<00:00, 20.28it/s]\n",
            "100%|██████████| 24/24 [00:00<00:00, 56.51it/s]\n"
          ]
        },
        {
          "output_type": "stream",
          "name": "stdout",
          "text": [
            "\tEPOCH:91/100\tTrain Loss: 0.602 | Train PPL:   1.827 \t Val. Loss: 8.641 |  Val. PPL: 5659.072\n"
          ]
        },
        {
          "output_type": "stream",
          "name": "stderr",
          "text": [
            "100%|██████████| 94/94 [00:05<00:00, 18.72it/s]\n",
            "100%|██████████| 24/24 [00:00<00:00, 44.81it/s]\n"
          ]
        },
        {
          "output_type": "stream",
          "name": "stdout",
          "text": [
            "\tEPOCH:92/100\tTrain Loss: 0.608 | Train PPL:   1.836 \t Val. Loss: 8.713 |  Val. PPL: 6079.508\n"
          ]
        },
        {
          "output_type": "stream",
          "name": "stderr",
          "text": [
            "100%|██████████| 94/94 [00:04<00:00, 18.84it/s]\n",
            "100%|██████████| 24/24 [00:00<00:00, 55.06it/s]\n"
          ]
        },
        {
          "output_type": "stream",
          "name": "stdout",
          "text": [
            "\tEPOCH:93/100\tTrain Loss: 0.585 | Train PPL:   1.796 \t Val. Loss: 8.627 |  Val. PPL: 5579.826\n"
          ]
        },
        {
          "output_type": "stream",
          "name": "stderr",
          "text": [
            "100%|██████████| 94/94 [00:04<00:00, 20.19it/s]\n",
            "100%|██████████| 24/24 [00:00<00:00, 55.94it/s]\n"
          ]
        },
        {
          "output_type": "stream",
          "name": "stdout",
          "text": [
            "\tEPOCH:94/100\tTrain Loss: 0.593 | Train PPL:   1.809 \t Val. Loss: 8.675 |  Val. PPL: 5852.163\n"
          ]
        },
        {
          "output_type": "stream",
          "name": "stderr",
          "text": [
            "100%|██████████| 94/94 [00:05<00:00, 16.82it/s]\n",
            "100%|██████████| 24/24 [00:00<00:00, 54.80it/s]\n"
          ]
        },
        {
          "output_type": "stream",
          "name": "stdout",
          "text": [
            "\tEPOCH:95/100\tTrain Loss: 0.596 | Train PPL:   1.815 \t Val. Loss: 8.636 |  Val. PPL: 5631.151\n"
          ]
        },
        {
          "output_type": "stream",
          "name": "stderr",
          "text": [
            "100%|██████████| 94/94 [00:04<00:00, 20.28it/s]\n",
            "100%|██████████| 24/24 [00:00<00:00, 55.53it/s]\n"
          ]
        },
        {
          "output_type": "stream",
          "name": "stdout",
          "text": [
            "\tEPOCH:96/100\tTrain Loss: 0.572 | Train PPL:   1.772 \t Val. Loss: 8.654 |  Val. PPL: 5731.100\n"
          ]
        },
        {
          "output_type": "stream",
          "name": "stderr",
          "text": [
            "100%|██████████| 94/94 [00:04<00:00, 19.13it/s]\n",
            "100%|██████████| 24/24 [00:00<00:00, 42.32it/s]\n"
          ]
        },
        {
          "output_type": "stream",
          "name": "stdout",
          "text": [
            "\tEPOCH:97/100\tTrain Loss: 0.571 | Train PPL:   1.769 \t Val. Loss: 8.666 |  Val. PPL: 5800.517\n"
          ]
        },
        {
          "output_type": "stream",
          "name": "stderr",
          "text": [
            "100%|██████████| 94/94 [00:05<00:00, 18.33it/s]\n",
            "100%|██████████| 24/24 [00:00<00:00, 54.67it/s]\n"
          ]
        },
        {
          "output_type": "stream",
          "name": "stdout",
          "text": [
            "\tEPOCH:98/100\tTrain Loss: 0.545 | Train PPL:   1.725 \t Val. Loss: 8.679 |  Val. PPL: 5879.798\n"
          ]
        },
        {
          "output_type": "stream",
          "name": "stderr",
          "text": [
            "100%|██████████| 94/94 [00:04<00:00, 20.44it/s]\n",
            "100%|██████████| 24/24 [00:00<00:00, 52.44it/s]\n"
          ]
        },
        {
          "output_type": "stream",
          "name": "stdout",
          "text": [
            "\tEPOCH:99/100\tTrain Loss: 0.545 | Train PPL:   1.725 \t Val. Loss: 8.716 |  Val. PPL: 6100.249\n"
          ]
        },
        {
          "output_type": "stream",
          "name": "stderr",
          "text": [
            "100%|██████████| 94/94 [00:05<00:00, 17.09it/s]\n",
            "100%|██████████| 24/24 [00:00<00:00, 42.61it/s]\n"
          ]
        },
        {
          "output_type": "stream",
          "name": "stdout",
          "text": [
            "\tEPOCH:100/100\tTrain Loss: 0.523 | Train PPL:   1.687 \t Val. Loss: 8.762 |  Val. PPL: 6383.985\n"
          ]
        }
      ]
    },
    {
      "cell_type": "code",
      "source": [
        "# torch.save(model.state_dict(), \"seq2seq.pt\")"
      ],
      "metadata": {
        "execution": {
          "iopub.status.busy": "2024-01-12T05:52:00.744745Z",
          "iopub.execute_input": "2024-01-12T05:52:00.745048Z",
          "iopub.status.idle": "2024-01-12T05:52:00.749776Z",
          "shell.execute_reply.started": "2024-01-12T05:52:00.745022Z",
          "shell.execute_reply": "2024-01-12T05:52:00.748725Z"
        },
        "trusted": true,
        "id": "rAsMHPyMYbbS"
      },
      "execution_count": 106,
      "outputs": []
    },
    {
      "cell_type": "code",
      "source": [
        "# model.load_state_dict(torch.load(\"/kaggle/input/mentalhealth-chatbot/seq2seq.pt\",map_location=torch.device('cpu')))"
      ],
      "metadata": {
        "execution": {
          "iopub.status.busy": "2024-01-12T05:52:00.751049Z",
          "iopub.execute_input": "2024-01-12T05:52:00.751422Z",
          "iopub.status.idle": "2024-01-12T05:52:00.770610Z",
          "shell.execute_reply.started": "2024-01-12T05:52:00.751388Z",
          "shell.execute_reply": "2024-01-12T05:52:00.769678Z"
        },
        "trusted": true,
        "id": "JO9pVXD0YbbS"
      },
      "execution_count": 107,
      "outputs": []
    },
    {
      "cell_type": "code",
      "source": [
        "model = model.eval()"
      ],
      "metadata": {
        "trusted": true,
        "id": "oXOm-WWIYbbS"
      },
      "execution_count": 108,
      "outputs": []
    },
    {
      "cell_type": "code",
      "source": [
        "def tokenize(qn):\n",
        "    qn = qn.lower()\n",
        "    qn = qn.translate(str.maketrans('', '', string.punctuation))\n",
        "    indices = [vocab_en[word] for word in qn.split()]\n",
        "    indices.insert(0,vocab_en[\"<BOS>\"])\n",
        "    indices.append(vocab_en[\"<EOS>\"])\n",
        "    ip_tensor = torch.tensor(indices).unsqueeze(0).permute(1,0)\n",
        "\n",
        "    return ip_tensor"
      ],
      "metadata": {
        "trusted": true,
        "id": "z402qMKkYbbS"
      },
      "execution_count": 109,
      "outputs": []
    },
    {
      "cell_type": "code",
      "source": [
        "def make_pred(qn,trg_len=12):\n",
        "    src = tokenize(qn).to(device)\n",
        "    encoder_outputs, hidden = model.encoder(src, torch.tensor([len(src)]))\n",
        "    trg = torch.tensor([[vocab_en[\"<BOS>\"]]])\n",
        "\n",
        "    with torch.no_grad():\n",
        "        trg_ip = trg[0,:].to(device)\n",
        "        trg_vocab_size = model.decoder.output_dim\n",
        "        outputs = torch.zeros(trg_len, 1, trg_vocab_size).to(device)\n",
        "        mask = model.create_mask(src).to(device)\n",
        "\n",
        "        for t in range(1, trg_len):\n",
        "            #insert input token embedding, previous hidden state and all encoder hidden states\n",
        "            #receive output tensor (predictions) and new hidden state\n",
        "            output, hidden, _ = model.decoder(trg_ip, hidden, encoder_outputs, mask)\n",
        "\n",
        "            #place predictions in a tensor holding predictions for each token\n",
        "            outputs[t] = output\n",
        "\n",
        "            #get the highest predicted token from our predictions\n",
        "            trg_ip = output.argmax(1)\n",
        "\n",
        "        outputs = outputs.squeeze(1)\n",
        "        return \" \".join([vocab_en.get_itos()[i] for i in outputs.argmax(1) if i not in [0,1,2]])"
      ],
      "metadata": {
        "trusted": true,
        "id": "0_SaUAPyYbbT"
      },
      "execution_count": 110,
      "outputs": []
    },
    {
      "cell_type": "code",
      "source": [
        "while True:\n",
        "    you = input(\"YOU > \")\n",
        "    if you==\"q\" or you==\"quit\":\n",
        "        break\n",
        "\n",
        "    bot = make_pred(you)\n",
        "    print(f\"BOT > {bot}\")\n",
        "print(f\"BOT > Bye! Have a good day dear.\")"
      ],
      "metadata": {
        "execution": {
          "iopub.status.busy": "2024-01-12T06:08:30.272839Z",
          "iopub.execute_input": "2024-01-12T06:08:30.273245Z",
          "iopub.status.idle": "2024-01-12T06:08:51.347440Z",
          "shell.execute_reply.started": "2024-01-12T06:08:30.273213Z",
          "shell.execute_reply": "2024-01-12T06:08:51.346479Z"
        },
        "trusted": true,
        "colab": {
          "base_uri": "https://localhost:8080/"
        },
        "id": "66Vo7jr9YbbT",
        "outputId": "f4f75655-95a5-445c-9e79-e0cf2fcc594d"
      },
      "execution_count": 113,
      "outputs": [
        {
          "output_type": "stream",
          "name": "stdout",
          "text": [
            "YOU > hello dear\n",
            "BOT > the got got every did did lot lot lot\n",
            "YOU > lot lot what\n",
            "BOT > i course course course\n",
            "YOU > no course\n",
            "BOT > i\n",
            "YOU > i \n",
            "BOT > but do the the\n",
            "YOU > do what\n",
            "BOT > dont i her by\n",
            "YOU > who is her\n",
            "BOT > a a did did a a with so\n",
            "YOU > did what\n",
            "BOT > then then when when rude it\n",
            "YOU > she rude?\n",
            "BOT > you i i you\n",
            "YOU > me rude?\n",
            "BOT > you i i i i go\n",
            "YOU > no i am not\n",
            "BOT > are to to your my you but you you\n",
            "YOU > yes yes yes\n",
            "BOT > last date i the dirty shop me me\n",
            "YOU > when did it happen\n",
            "BOT > whats and\n",
            "YOU > and what\n",
            "BOT > dont do do do plus want want\n",
            "YOU > bye\n",
            "BOT > good the move it job before before\n",
            "YOU > q\n",
            "BOT > Bye! Have a good day dear.\n"
          ]
        }
      ]
    }
  ]
}