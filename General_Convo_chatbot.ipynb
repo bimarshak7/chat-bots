{
  "cells": [
    {
      "cell_type": "markdown",
      "metadata": {
        "id": "view-in-github",
        "colab_type": "text"
      },
      "source": [
        "<a href=\"https://colab.research.google.com/github/bimarshak7/chat-bots/blob/main/General_Convo_chatbot.ipynb\" target=\"_parent\"><img src=\"https://colab.research.google.com/assets/colab-badge.svg\" alt=\"Open In Colab\"/></a>"
      ]
    },
    {
      "cell_type": "code",
      "execution_count": null,
      "metadata": {
        "colab": {
          "base_uri": "https://localhost:8080/"
        },
        "id": "QjUsbE30YphY",
        "outputId": "cc6b9e0b-0400-4ce9-88e4-11124bf86b66"
      },
      "outputs": [
        {
          "output_type": "stream",
          "name": "stdout",
          "text": [
            "Mounted at /content/drive\n"
          ]
        }
      ],
      "source": [
        "#snippet to mount drive and copy kaggle API keys\n",
        "# palge you kaggle keys at MyDrive/Colab Notebooks/ as kaggle.json\n",
        "from google.colab import drive\n",
        "drive.mount('/content/drive')\n",
        "! mkdir ~/.kaggle\n",
        "!cp \"/content/drive/MyDrive/Colab Notebooks/kaggle.json\" ~/.kaggle/kaggle.json\n",
        "! chmod 600 ~/.kaggle/kaggle.json"
      ]
    },
    {
      "cell_type": "code",
      "execution_count": null,
      "metadata": {
        "colab": {
          "base_uri": "https://localhost:8080/"
        },
        "id": "J6tAAhIiYqOq",
        "outputId": "861928a1-c72d-4178-fb78-1ee3938fecbe"
      },
      "outputs": [
        {
          "output_type": "stream",
          "name": "stdout",
          "text": [
            "Downloading 3k-conversations-dataset-for-chatbot.zip to /content\n",
            "\r  0% 0.00/67.1k [00:00<?, ?B/s]\n",
            "\r100% 67.1k/67.1k [00:00<00:00, 69.7MB/s]\n"
          ]
        }
      ],
      "source": [
        "!kaggle datasets download -d kreeshrajani/3k-conversations-dataset-for-chatbot"
      ]
    },
    {
      "cell_type": "code",
      "execution_count": null,
      "metadata": {
        "id": "5EvG5DxpZFgT"
      },
      "outputs": [],
      "source": [
        "!unzip -q *.zip -d data/"
      ]
    },
    {
      "cell_type": "code",
      "execution_count": null,
      "metadata": {
        "id": "8obhGtUTYbaj"
      },
      "outputs": [],
      "source": [
        "import json\n",
        "import pandas as pd\n",
        "from collections import Counter\n",
        "import torch\n",
        "import random\n",
        "from torch import nn\n",
        "import torch.nn.functional as F\n",
        "from torchtext.vocab import vocab\n",
        "from torch.utils.data import Dataset\n",
        "from torch.utils.data import DataLoader\n",
        "from torch.nn.utils.rnn import pad_sequence\n",
        "from tqdm import tqdm\n",
        "import math\n",
        "import string"
      ]
    },
    {
      "cell_type": "code",
      "execution_count": null,
      "metadata": {
        "id": "kdf0hpnqYbap"
      },
      "outputs": [],
      "source": [
        "DATA_PATH = \"/content/data/Conversation.csv\""
      ]
    },
    {
      "cell_type": "code",
      "execution_count": null,
      "metadata": {
        "colab": {
          "base_uri": "https://localhost:8080/",
          "height": 206
        },
        "id": "7dk-TqdZYbas",
        "outputId": "fecb3476-85ae-4928-bb2b-9f135037d34b"
      },
      "outputs": [
        {
          "output_type": "execute_result",
          "data": {
            "text/plain": [
              "      Unnamed: 0                                         question  \\\n",
              "2256        2256                              you must be joking.   \n",
              "2031        2031    well, you can't play baseball in a rainstorm.   \n",
              "1095        1095                              that's a good idea.   \n",
              "785          785                      we haven't been in a while.   \n",
              "2954        2954  yes, i guess most of us are stuck in a routine.   \n",
              "\n",
              "                                                 answer  \n",
              "2256                                   no, i'm serious.  \n",
              "2031          i thought they were playing under a dome.  \n",
              "1095        i found a button in my pant cuffs one time.  \n",
              "785                         we haven't been in a month.  \n",
              "2954  i wonder if there is any job that you don't re...  "
            ],
            "text/html": [
              "\n",
              "  <div id=\"df-4c375ee2-c00c-4b22-bad4-86d821d47ab6\" class=\"colab-df-container\">\n",
              "    <div>\n",
              "<style scoped>\n",
              "    .dataframe tbody tr th:only-of-type {\n",
              "        vertical-align: middle;\n",
              "    }\n",
              "\n",
              "    .dataframe tbody tr th {\n",
              "        vertical-align: top;\n",
              "    }\n",
              "\n",
              "    .dataframe thead th {\n",
              "        text-align: right;\n",
              "    }\n",
              "</style>\n",
              "<table border=\"1\" class=\"dataframe\">\n",
              "  <thead>\n",
              "    <tr style=\"text-align: right;\">\n",
              "      <th></th>\n",
              "      <th>Unnamed: 0</th>\n",
              "      <th>question</th>\n",
              "      <th>answer</th>\n",
              "    </tr>\n",
              "  </thead>\n",
              "  <tbody>\n",
              "    <tr>\n",
              "      <th>2256</th>\n",
              "      <td>2256</td>\n",
              "      <td>you must be joking.</td>\n",
              "      <td>no, i'm serious.</td>\n",
              "    </tr>\n",
              "    <tr>\n",
              "      <th>2031</th>\n",
              "      <td>2031</td>\n",
              "      <td>well, you can't play baseball in a rainstorm.</td>\n",
              "      <td>i thought they were playing under a dome.</td>\n",
              "    </tr>\n",
              "    <tr>\n",
              "      <th>1095</th>\n",
              "      <td>1095</td>\n",
              "      <td>that's a good idea.</td>\n",
              "      <td>i found a button in my pant cuffs one time.</td>\n",
              "    </tr>\n",
              "    <tr>\n",
              "      <th>785</th>\n",
              "      <td>785</td>\n",
              "      <td>we haven't been in a while.</td>\n",
              "      <td>we haven't been in a month.</td>\n",
              "    </tr>\n",
              "    <tr>\n",
              "      <th>2954</th>\n",
              "      <td>2954</td>\n",
              "      <td>yes, i guess most of us are stuck in a routine.</td>\n",
              "      <td>i wonder if there is any job that you don't re...</td>\n",
              "    </tr>\n",
              "  </tbody>\n",
              "</table>\n",
              "</div>\n",
              "    <div class=\"colab-df-buttons\">\n",
              "\n",
              "  <div class=\"colab-df-container\">\n",
              "    <button class=\"colab-df-convert\" onclick=\"convertToInteractive('df-4c375ee2-c00c-4b22-bad4-86d821d47ab6')\"\n",
              "            title=\"Convert this dataframe to an interactive table.\"\n",
              "            style=\"display:none;\">\n",
              "\n",
              "  <svg xmlns=\"http://www.w3.org/2000/svg\" height=\"24px\" viewBox=\"0 -960 960 960\">\n",
              "    <path d=\"M120-120v-720h720v720H120Zm60-500h600v-160H180v160Zm220 220h160v-160H400v160Zm0 220h160v-160H400v160ZM180-400h160v-160H180v160Zm440 0h160v-160H620v160ZM180-180h160v-160H180v160Zm440 0h160v-160H620v160Z\"/>\n",
              "  </svg>\n",
              "    </button>\n",
              "\n",
              "  <style>\n",
              "    .colab-df-container {\n",
              "      display:flex;\n",
              "      gap: 12px;\n",
              "    }\n",
              "\n",
              "    .colab-df-convert {\n",
              "      background-color: #E8F0FE;\n",
              "      border: none;\n",
              "      border-radius: 50%;\n",
              "      cursor: pointer;\n",
              "      display: none;\n",
              "      fill: #1967D2;\n",
              "      height: 32px;\n",
              "      padding: 0 0 0 0;\n",
              "      width: 32px;\n",
              "    }\n",
              "\n",
              "    .colab-df-convert:hover {\n",
              "      background-color: #E2EBFA;\n",
              "      box-shadow: 0px 1px 2px rgba(60, 64, 67, 0.3), 0px 1px 3px 1px rgba(60, 64, 67, 0.15);\n",
              "      fill: #174EA6;\n",
              "    }\n",
              "\n",
              "    .colab-df-buttons div {\n",
              "      margin-bottom: 4px;\n",
              "    }\n",
              "\n",
              "    [theme=dark] .colab-df-convert {\n",
              "      background-color: #3B4455;\n",
              "      fill: #D2E3FC;\n",
              "    }\n",
              "\n",
              "    [theme=dark] .colab-df-convert:hover {\n",
              "      background-color: #434B5C;\n",
              "      box-shadow: 0px 1px 3px 1px rgba(0, 0, 0, 0.15);\n",
              "      filter: drop-shadow(0px 1px 2px rgba(0, 0, 0, 0.3));\n",
              "      fill: #FFFFFF;\n",
              "    }\n",
              "  </style>\n",
              "\n",
              "    <script>\n",
              "      const buttonEl =\n",
              "        document.querySelector('#df-4c375ee2-c00c-4b22-bad4-86d821d47ab6 button.colab-df-convert');\n",
              "      buttonEl.style.display =\n",
              "        google.colab.kernel.accessAllowed ? 'block' : 'none';\n",
              "\n",
              "      async function convertToInteractive(key) {\n",
              "        const element = document.querySelector('#df-4c375ee2-c00c-4b22-bad4-86d821d47ab6');\n",
              "        const dataTable =\n",
              "          await google.colab.kernel.invokeFunction('convertToInteractive',\n",
              "                                                    [key], {});\n",
              "        if (!dataTable) return;\n",
              "\n",
              "        const docLinkHtml = 'Like what you see? Visit the ' +\n",
              "          '<a target=\"_blank\" href=https://colab.research.google.com/notebooks/data_table.ipynb>data table notebook</a>'\n",
              "          + ' to learn more about interactive tables.';\n",
              "        element.innerHTML = '';\n",
              "        dataTable['output_type'] = 'display_data';\n",
              "        await google.colab.output.renderOutput(dataTable, element);\n",
              "        const docLink = document.createElement('div');\n",
              "        docLink.innerHTML = docLinkHtml;\n",
              "        element.appendChild(docLink);\n",
              "      }\n",
              "    </script>\n",
              "  </div>\n",
              "\n",
              "\n",
              "<div id=\"df-5c59ef51-1f76-4dc1-a129-20246baefd43\">\n",
              "  <button class=\"colab-df-quickchart\" onclick=\"quickchart('df-5c59ef51-1f76-4dc1-a129-20246baefd43')\"\n",
              "            title=\"Suggest charts\"\n",
              "            style=\"display:none;\">\n",
              "\n",
              "<svg xmlns=\"http://www.w3.org/2000/svg\" height=\"24px\"viewBox=\"0 0 24 24\"\n",
              "     width=\"24px\">\n",
              "    <g>\n",
              "        <path d=\"M19 3H5c-1.1 0-2 .9-2 2v14c0 1.1.9 2 2 2h14c1.1 0 2-.9 2-2V5c0-1.1-.9-2-2-2zM9 17H7v-7h2v7zm4 0h-2V7h2v10zm4 0h-2v-4h2v4z\"/>\n",
              "    </g>\n",
              "</svg>\n",
              "  </button>\n",
              "\n",
              "<style>\n",
              "  .colab-df-quickchart {\n",
              "      --bg-color: #E8F0FE;\n",
              "      --fill-color: #1967D2;\n",
              "      --hover-bg-color: #E2EBFA;\n",
              "      --hover-fill-color: #174EA6;\n",
              "      --disabled-fill-color: #AAA;\n",
              "      --disabled-bg-color: #DDD;\n",
              "  }\n",
              "\n",
              "  [theme=dark] .colab-df-quickchart {\n",
              "      --bg-color: #3B4455;\n",
              "      --fill-color: #D2E3FC;\n",
              "      --hover-bg-color: #434B5C;\n",
              "      --hover-fill-color: #FFFFFF;\n",
              "      --disabled-bg-color: #3B4455;\n",
              "      --disabled-fill-color: #666;\n",
              "  }\n",
              "\n",
              "  .colab-df-quickchart {\n",
              "    background-color: var(--bg-color);\n",
              "    border: none;\n",
              "    border-radius: 50%;\n",
              "    cursor: pointer;\n",
              "    display: none;\n",
              "    fill: var(--fill-color);\n",
              "    height: 32px;\n",
              "    padding: 0;\n",
              "    width: 32px;\n",
              "  }\n",
              "\n",
              "  .colab-df-quickchart:hover {\n",
              "    background-color: var(--hover-bg-color);\n",
              "    box-shadow: 0 1px 2px rgba(60, 64, 67, 0.3), 0 1px 3px 1px rgba(60, 64, 67, 0.15);\n",
              "    fill: var(--button-hover-fill-color);\n",
              "  }\n",
              "\n",
              "  .colab-df-quickchart-complete:disabled,\n",
              "  .colab-df-quickchart-complete:disabled:hover {\n",
              "    background-color: var(--disabled-bg-color);\n",
              "    fill: var(--disabled-fill-color);\n",
              "    box-shadow: none;\n",
              "  }\n",
              "\n",
              "  .colab-df-spinner {\n",
              "    border: 2px solid var(--fill-color);\n",
              "    border-color: transparent;\n",
              "    border-bottom-color: var(--fill-color);\n",
              "    animation:\n",
              "      spin 1s steps(1) infinite;\n",
              "  }\n",
              "\n",
              "  @keyframes spin {\n",
              "    0% {\n",
              "      border-color: transparent;\n",
              "      border-bottom-color: var(--fill-color);\n",
              "      border-left-color: var(--fill-color);\n",
              "    }\n",
              "    20% {\n",
              "      border-color: transparent;\n",
              "      border-left-color: var(--fill-color);\n",
              "      border-top-color: var(--fill-color);\n",
              "    }\n",
              "    30% {\n",
              "      border-color: transparent;\n",
              "      border-left-color: var(--fill-color);\n",
              "      border-top-color: var(--fill-color);\n",
              "      border-right-color: var(--fill-color);\n",
              "    }\n",
              "    40% {\n",
              "      border-color: transparent;\n",
              "      border-right-color: var(--fill-color);\n",
              "      border-top-color: var(--fill-color);\n",
              "    }\n",
              "    60% {\n",
              "      border-color: transparent;\n",
              "      border-right-color: var(--fill-color);\n",
              "    }\n",
              "    80% {\n",
              "      border-color: transparent;\n",
              "      border-right-color: var(--fill-color);\n",
              "      border-bottom-color: var(--fill-color);\n",
              "    }\n",
              "    90% {\n",
              "      border-color: transparent;\n",
              "      border-bottom-color: var(--fill-color);\n",
              "    }\n",
              "  }\n",
              "</style>\n",
              "\n",
              "  <script>\n",
              "    async function quickchart(key) {\n",
              "      const quickchartButtonEl =\n",
              "        document.querySelector('#' + key + ' button');\n",
              "      quickchartButtonEl.disabled = true;  // To prevent multiple clicks.\n",
              "      quickchartButtonEl.classList.add('colab-df-spinner');\n",
              "      try {\n",
              "        const charts = await google.colab.kernel.invokeFunction(\n",
              "            'suggestCharts', [key], {});\n",
              "      } catch (error) {\n",
              "        console.error('Error during call to suggestCharts:', error);\n",
              "      }\n",
              "      quickchartButtonEl.classList.remove('colab-df-spinner');\n",
              "      quickchartButtonEl.classList.add('colab-df-quickchart-complete');\n",
              "    }\n",
              "    (() => {\n",
              "      let quickchartButtonEl =\n",
              "        document.querySelector('#df-5c59ef51-1f76-4dc1-a129-20246baefd43 button');\n",
              "      quickchartButtonEl.style.display =\n",
              "        google.colab.kernel.accessAllowed ? 'block' : 'none';\n",
              "    })();\n",
              "  </script>\n",
              "</div>\n",
              "    </div>\n",
              "  </div>\n"
            ]
          },
          "metadata": {},
          "execution_count": 6
        }
      ],
      "source": [
        "df = pd.read_csv(DATA_PATH)\n",
        "df.sample(5)"
      ]
    },
    {
      "cell_type": "code",
      "execution_count": null,
      "metadata": {
        "id": "lmcXqlc1Ybav"
      },
      "outputs": [],
      "source": [
        "df[\"question\"] = df[\"question\"].apply(lambda x: x.lower())\n",
        "df[\"answer\"] = df[\"answer\"].apply(lambda x: x.lower())"
      ]
    },
    {
      "cell_type": "code",
      "execution_count": null,
      "metadata": {
        "id": "-fcv_XPuYbay"
      },
      "outputs": [],
      "source": [
        "df[\"question\"] = df[\"question\"].apply(lambda x: x.translate(str.maketrans('', '', string.punctuation)))\n",
        "df[\"answer\"] = df[\"answer\"].apply(lambda x: x.translate(str.maketrans('', '', string.punctuation)))"
      ]
    },
    {
      "cell_type": "code",
      "execution_count": null,
      "metadata": {
        "id": "LWr5SBa0Yba6"
      },
      "outputs": [],
      "source": [
        "counter = Counter()\n",
        "for i in range(len(df)):\n",
        "    row = df.iloc[i]\n",
        "    counter.update(row[\"question\"].split())\n",
        "    counter.update(row[\"answer\"].split())"
      ]
    },
    {
      "cell_type": "code",
      "execution_count": null,
      "metadata": {
        "id": "5i33HFHLYba7"
      },
      "outputs": [],
      "source": [
        "vocab_en = vocab(counter, min_freq=5, specials=('<UNK>', '<BOS>', '<EOS>', '<PAD>'))"
      ]
    },
    {
      "cell_type": "code",
      "execution_count": null,
      "metadata": {
        "id": "AMgnPmHVYba9"
      },
      "outputs": [],
      "source": [
        "vocab_en.set_default_index(vocab_en['<UNK>'])"
      ]
    },
    {
      "cell_type": "code",
      "execution_count": null,
      "metadata": {
        "id": "xWjmCyAvYba_"
      },
      "outputs": [],
      "source": [
        "df[\"question\"] = df[\"question\"].apply(lambda x: \"<BOS> \"+x+\" <EOS>\")\n",
        "df[\"answer\"] = df[\"answer\"].apply(lambda x: \"<BOS> \"+x+\" <EOS>\")"
      ]
    },
    {
      "cell_type": "code",
      "execution_count": null,
      "metadata": {
        "colab": {
          "base_uri": "https://localhost:8080/"
        },
        "id": "ij0m-3dBYbbB",
        "outputId": "031f3937-778e-4f35-ef50-d43d0f4061e6"
      },
      "outputs": [
        {
          "output_type": "execute_result",
          "data": {
            "text/plain": [
              "(21, 21)"
            ]
          },
          "metadata": {},
          "execution_count": 13
        }
      ],
      "source": [
        "MAX_LEN_QN = df[\"question\"].apply(lambda x: len(x.split())).max()\n",
        "MAX_LEN_ANS = df[\"answer\"].apply(lambda x: len(x.split())).max()\n",
        "MAX_LEN_QN,MAX_LEN_ANS"
      ]
    },
    {
      "cell_type": "code",
      "execution_count": null,
      "metadata": {
        "id": "YaATcdAjYbbC"
      },
      "outputs": [],
      "source": [
        "class MyDataset(Dataset):\n",
        "    def __init__(self, df):\n",
        "        self.X = df[\"question\"]\n",
        "        self.y = df[\"answer\"]\n",
        "\n",
        "    def __len__(self):\n",
        "        return len(self.X)\n",
        "\n",
        "    def __getitem__(self, idx):\n",
        "        qn = self.X.iloc[idx]\n",
        "        ans = self.y.iloc[idx]\n",
        "\n",
        "        qn_indices = [vocab_en[word] for word in qn.split()]\n",
        "\n",
        "        ans_indices = [vocab_en[word] for word in ans.split()]\n",
        "\n",
        "        return torch.tensor(qn_indices), len(qn_indices), torch.tensor(ans_indices)\n"
      ]
    },
    {
      "cell_type": "code",
      "execution_count": null,
      "metadata": {
        "id": "h31Q_pl7YbbD"
      },
      "outputs": [],
      "source": [
        "ds = MyDataset(df)"
      ]
    },
    {
      "cell_type": "code",
      "execution_count": null,
      "metadata": {
        "id": "t-p0A8NmYbbD"
      },
      "outputs": [],
      "source": [
        "train_ds,test_ds = torch.utils.data.random_split(ds, [0.8, 0.2])"
      ]
    },
    {
      "cell_type": "code",
      "execution_count": null,
      "metadata": {
        "id": "9IWw5IkmYbbD"
      },
      "outputs": [],
      "source": [
        "BATCH_SIZE = 32"
      ]
    },
    {
      "cell_type": "code",
      "execution_count": null,
      "metadata": {
        "id": "wB-UKkVsYbbE"
      },
      "outputs": [],
      "source": [
        "def my_collate(batch):\n",
        "    # Extract sequences and targets\n",
        "    qns = [item[0] for item in batch]\n",
        "    src_lens = [item[1] for item in batch]\n",
        "    ans = [item[2] for item in batch]\n",
        "    # Pad sequences\n",
        "    padded_qn = pad_sequence(qns, batch_first=True, padding_value=vocab_en[\"<PAD>\"])\n",
        "    padded_ans = pad_sequence(ans, batch_first=True, padding_value=vocab_en[\"<PAD>\"])\n",
        "\n",
        "    # Return padded sequences and targets\n",
        "    return padded_qn, torch.tensor(src_lens), padded_ans"
      ]
    },
    {
      "cell_type": "code",
      "execution_count": null,
      "metadata": {
        "id": "TsSKpS31YbbE"
      },
      "outputs": [],
      "source": [
        "train_loader = DataLoader(train_ds, batch_size=BATCH_SIZE,collate_fn=my_collate)\n",
        "test_loader = DataLoader(test_ds, batch_size=BATCH_SIZE,collate_fn=my_collate)"
      ]
    },
    {
      "cell_type": "code",
      "execution_count": null,
      "metadata": {
        "id": "_KlMxiDSYbbF"
      },
      "outputs": [],
      "source": [
        "class Encoder(nn.Module):\n",
        "    def __init__(self, input_dim, emb_dim, enc_hid_dim, dec_hid_dim, dropout):\n",
        "        super().__init__()\n",
        "\n",
        "        self.embedding = nn.Embedding(input_dim, emb_dim)\n",
        "\n",
        "        self.rnn = nn.GRU(emb_dim, enc_hid_dim,2, bidirectional = True)\n",
        "\n",
        "        self.fc = nn.Linear(enc_hid_dim * 2, dec_hid_dim)\n",
        "\n",
        "        self.dropout = nn.Dropout(dropout)\n",
        "\n",
        "    def forward(self, src, src_len):\n",
        "\n",
        "        #src = [src len, batch size]\n",
        "        #src_len = [batch size]\n",
        "\n",
        "        embedded = self.dropout(self.embedding(src))\n",
        "        #embedded = [src len, batch size, emb dim]\n",
        "\n",
        "        #need to explicitly put lengths on cpu!\n",
        "        packed_embedded = nn.utils.rnn.pack_padded_sequence(embedded, src_len.to('cpu'),enforce_sorted=False)\n",
        "\n",
        "        packed_outputs, hidden = self.rnn(packed_embedded)\n",
        "\n",
        "        #packed_outputs is a packed sequence containing all hidden states\n",
        "        #hidden is now from the final non-padded element in the batch\n",
        "\n",
        "        outputs, _ = nn.utils.rnn.pad_packed_sequence(packed_outputs)\n",
        "\n",
        "        #outputs is now a non-packed sequence, all hidden states obtained\n",
        "        #  when the input is a pad token are all zeros\n",
        "\n",
        "        #outputs = [src len, batch size, hid dim * num directions]\n",
        "        #hidden = [n layers * num directions, batch size, hid dim]\n",
        "\n",
        "        #hidden is stacked [forward_1, backward_1, forward_2, backward_2, ...]\n",
        "        #outputs are always from the last layer\n",
        "\n",
        "        #hidden [-2, :, : ] is the last of the forwards RNN\n",
        "        #hidden [-1, :, : ] is the last of the backwards RNN\n",
        "\n",
        "        #initial decoder hidden is final hidden state of the forwards and backwards\n",
        "        #  encoder RNNs fed through a linear layer\n",
        "        hidden = torch.tanh(self.fc(torch.cat((hidden[-2,:,:], hidden[-1,:,:]), dim = 1)))\n",
        "\n",
        "        #outputs = [src len, batch size, enc hid dim * 2]\n",
        "        #hidden = [batch size, dec hid dim]\n",
        "\n",
        "        return outputs, hidden"
      ]
    },
    {
      "cell_type": "code",
      "execution_count": null,
      "metadata": {
        "id": "yHQHUuKxYbbF"
      },
      "outputs": [],
      "source": [
        "class Attention(nn.Module):\n",
        "    def __init__(self, enc_hid_dim, dec_hid_dim):\n",
        "        super().__init__()\n",
        "\n",
        "        self.attn = nn.Linear((enc_hid_dim * 2) + dec_hid_dim, dec_hid_dim)\n",
        "        self.v = nn.Linear(dec_hid_dim, 1, bias = False)\n",
        "\n",
        "    def forward(self, hidden, encoder_outputs, mask):\n",
        "\n",
        "        #hidden = [batch size, dec hid dim]\n",
        "        #encoder_outputs = [src len, batch size, enc hid dim * 2]\n",
        "\n",
        "        batch_size = encoder_outputs.shape[1]\n",
        "        src_len = encoder_outputs.shape[0]\n",
        "\n",
        "        #repeat decoder hidden state src_len times\n",
        "        hidden = hidden.unsqueeze(1).repeat(1, src_len, 1)\n",
        "\n",
        "        encoder_outputs = encoder_outputs.permute(1, 0, 2)\n",
        "\n",
        "        #hidden = [batch size, src len, dec hid dim]\n",
        "        #encoder_outputs = [batch size, src len, enc hid dim * 2]\n",
        "\n",
        "        energy = torch.tanh(self.attn(torch.cat((hidden, encoder_outputs), dim = 2)))\n",
        "\n",
        "        #energy = [batch size, src len, dec hid dim]\n",
        "\n",
        "        attention = self.v(energy).squeeze(2)\n",
        "\n",
        "        #attention = [batch size, src len]\n",
        "\n",
        "        attention = attention.masked_fill(mask == 0, -1e10)\n",
        "\n",
        "        return F.softmax(attention, dim = 1)"
      ]
    },
    {
      "cell_type": "code",
      "execution_count": null,
      "metadata": {
        "id": "prI_hqLkYbbF"
      },
      "outputs": [],
      "source": [
        "class Decoder(nn.Module):\n",
        "    def __init__(self, output_dim, emb_dim, enc_hid_dim, dec_hid_dim, dropout, attention):\n",
        "        super().__init__()\n",
        "\n",
        "        self.output_dim = output_dim\n",
        "        self.attention = attention\n",
        "\n",
        "        self.embedding = nn.Embedding(output_dim, emb_dim)\n",
        "\n",
        "        self.rnn = nn.GRU((enc_hid_dim * 2) + emb_dim, dec_hid_dim)\n",
        "\n",
        "        self.fc_out = nn.Linear((enc_hid_dim * 2) + dec_hid_dim + emb_dim, output_dim)\n",
        "\n",
        "        self.dropout = nn.Dropout(dropout)\n",
        "\n",
        "    def forward(self, input, hidden, encoder_outputs, mask):\n",
        "\n",
        "        #input = [batch size]\n",
        "        #hidden = [batch size, dec hid dim]\n",
        "        #encoder_outputs = [src len, batch size, enc hid dim * 2]\n",
        "        #mask = [batch size, src len]\n",
        "\n",
        "        input = input.unsqueeze(0)\n",
        "\n",
        "        #input = [1, batch size]\n",
        "\n",
        "        embedded = self.dropout(self.embedding(input))\n",
        "\n",
        "        #embedded = [1, batch size, emb dim]\n",
        "\n",
        "        a = self.attention(hidden, encoder_outputs, mask)\n",
        "\n",
        "        #a = [batch size, src len]\n",
        "\n",
        "        a = a.unsqueeze(1)\n",
        "\n",
        "        #a = [batch size, 1, src len]\n",
        "\n",
        "        encoder_outputs = encoder_outputs.permute(1, 0, 2)\n",
        "\n",
        "        #encoder_outputs = [batch size, src len, enc hid dim * 2]\n",
        "\n",
        "        weighted = torch.bmm(a, encoder_outputs)\n",
        "\n",
        "        #weighted = [batch size, 1, enc hid dim * 2]\n",
        "\n",
        "        weighted = weighted.permute(1, 0, 2)\n",
        "\n",
        "        #weighted = [1, batch size, enc hid dim * 2]\n",
        "\n",
        "        rnn_input = torch.cat((embedded, weighted), dim = 2)\n",
        "\n",
        "        #rnn_input = [1, batch size, (enc hid dim * 2) + emb dim]\n",
        "\n",
        "        output, hidden = self.rnn(rnn_input, hidden.unsqueeze(0))\n",
        "\n",
        "        #output = [seq len, batch size, dec hid dim * n directions]\n",
        "        #hidden = [n layers * n directions, batch size, dec hid dim]\n",
        "\n",
        "        #seq len, n layers and n directions will always be 1 in this decoder, therefore:\n",
        "        #output = [1, batch size, dec hid dim]\n",
        "        #hidden = [1, batch size, dec hid dim]\n",
        "        #this also means that output == hidden\n",
        "        assert (output == hidden).all()\n",
        "\n",
        "        embedded = embedded.squeeze(0)\n",
        "        output = output.squeeze(0)\n",
        "        weighted = weighted.squeeze(0)\n",
        "\n",
        "        prediction = self.fc_out(torch.cat((output, weighted, embedded), dim = 1))\n",
        "\n",
        "        #prediction = [batch size, output dim]\n",
        "\n",
        "        return prediction, hidden.squeeze(0), a.squeeze(1)"
      ]
    },
    {
      "cell_type": "code",
      "execution_count": null,
      "metadata": {
        "id": "d6rosx3GYbbK"
      },
      "outputs": [],
      "source": [
        "class Seq2Seq(nn.Module):\n",
        "    def __init__(self, encoder, decoder, src_pad_idx, device):\n",
        "        super().__init__()\n",
        "\n",
        "        self.encoder = encoder\n",
        "        self.decoder = decoder\n",
        "        self.src_pad_idx = src_pad_idx\n",
        "        self.device = device\n",
        "\n",
        "    def create_mask(self, src):\n",
        "        mask = (src != self.src_pad_idx).permute(1, 0)\n",
        "        return mask\n",
        "\n",
        "    def forward(self, src, src_len, trg, teacher_forcing_ratio = 0.5):\n",
        "\n",
        "        #src = [src len, batch size]\n",
        "        #src_len = [batch size]\n",
        "        #trg = [trg len, batch size]\n",
        "        #teacher_forcing_ratio is probability to use teacher forcing\n",
        "        #e.g. if teacher_forcing_ratio is 0.75 we use teacher forcing 75% of the time\n",
        "        src = src.permute(1,0)\n",
        "        trg = trg.permute(1,0)\n",
        "\n",
        "        # print(\"SRC SHAPE\",src.shape)\n",
        "        # print(\"TRG SHAPE\",trg.shape)\n",
        "\n",
        "        batch_size = src.shape[1]\n",
        "        trg_len = trg.shape[0]\n",
        "        trg_vocab_size = self.decoder.output_dim\n",
        "\n",
        "        #tensor to store decoder outputs\n",
        "        outputs = torch.zeros(trg_len, batch_size, trg_vocab_size).to(self.device)\n",
        "\n",
        "        #encoder_outputs is all hidden states of the input sequence, back and forwards\n",
        "        #hidden is the final forward and backward hidden states, passed through a linear layer\n",
        "        encoder_outputs, hidden = self.encoder(src, src_len)\n",
        "        #first input to the decoder is the <sos> tokens\n",
        "        input = trg[0,:]\n",
        "\n",
        "        mask = self.create_mask(src)\n",
        "\n",
        "        #mask = [batch size, src len]\n",
        "\n",
        "        for t in range(1, trg_len):\n",
        "\n",
        "            #insert input token embedding, previous hidden state, all encoder hidden states\n",
        "            #  and mask\n",
        "            #receive output tensor (predictions) and new hidden state\n",
        "            output, hidden, _ = self.decoder(input, hidden, encoder_outputs, mask)\n",
        "\n",
        "            #place predictions in a tensor holding predictions for each token\n",
        "            outputs[t] = output\n",
        "\n",
        "            #decide if we are going to use teacher forcing or not\n",
        "            teacher_force = random.random() < teacher_forcing_ratio\n",
        "\n",
        "            #get the highest predicted token from our predictions\n",
        "            top1 = output.argmax(1)\n",
        "\n",
        "            #if teacher forcing, use actual next token as next input\n",
        "            #if not, use predicted token\n",
        "            input = trg[t] if teacher_force else top1\n",
        "\n",
        "        return outputs"
      ]
    },
    {
      "cell_type": "code",
      "execution_count": null,
      "metadata": {
        "id": "2DE-9gU5YbbM"
      },
      "outputs": [],
      "source": [
        "device = torch.device('cuda' if torch.cuda.is_available() else 'cpu')"
      ]
    },
    {
      "cell_type": "code",
      "execution_count": null,
      "metadata": {
        "id": "Uoa8rHbxYbbM"
      },
      "outputs": [],
      "source": [
        "INPUT_DIM = len(vocab_en)\n",
        "OUTPUT_DIM = len(vocab_en)\n",
        "ENC_EMB_DIM = 256\n",
        "DEC_EMB_DIM = 256\n",
        "ENC_HID_DIM = 512\n",
        "DEC_HID_DIM = 512\n",
        "ENC_DROPOUT = 0.4\n",
        "DEC_DROPOUT = 0.3\n",
        "SRC_PAD_IDX = vocab_en[\"<PAD>\"]\n",
        "ENCODER_N_LAYERS = 2"
      ]
    },
    {
      "cell_type": "code",
      "execution_count": null,
      "metadata": {
        "id": "Xy2Q_FutYbbN"
      },
      "outputs": [],
      "source": [
        "attn = Attention(ENC_HID_DIM, DEC_HID_DIM)\n",
        "enc = Encoder(INPUT_DIM, ENC_EMB_DIM, ENC_HID_DIM, DEC_HID_DIM, ENC_DROPOUT)\n",
        "dec = Decoder(OUTPUT_DIM, DEC_EMB_DIM, ENC_HID_DIM, DEC_HID_DIM, DEC_DROPOUT, attn)\n",
        "model = Seq2Seq(enc, dec, SRC_PAD_IDX, device).to(device)"
      ]
    },
    {
      "cell_type": "code",
      "execution_count": null,
      "metadata": {
        "id": "1LuTHkzQYbbO"
      },
      "outputs": [],
      "source": [
        "criterion = nn.CrossEntropyLoss(ignore_index = vocab_en[\"<PAD>\"])"
      ]
    },
    {
      "cell_type": "code",
      "execution_count": null,
      "metadata": {
        "id": "i1U1p8ZVYbbO"
      },
      "outputs": [],
      "source": [
        "# def init_weights(m):\n",
        "#     for name, param in m.named_parameters():\n",
        "#         if 'weight' in name:\n",
        "#             nn.init.normal_(param.data, mean=0, std=0.01)\n",
        "#         else:\n",
        "#             nn.init.constant_(param.data, 0)\n",
        "\n",
        "# model.apply(init_weights)"
      ]
    },
    {
      "cell_type": "code",
      "execution_count": null,
      "metadata": {
        "id": "N0zuxEuQYbbO"
      },
      "outputs": [],
      "source": [
        "# model.load_state_dict(torch.load(\"/kaggle/input/seq2seqmental/seq2seq(mental).pt\"))"
      ]
    },
    {
      "cell_type": "code",
      "execution_count": null,
      "metadata": {
        "id": "t7vl2HWsYbbP"
      },
      "outputs": [],
      "source": [
        "optimizer = torch.optim.Adam(model.parameters(),lr=2e-4)"
      ]
    },
    {
      "cell_type": "code",
      "execution_count": null,
      "metadata": {
        "id": "-sm1ljMPYbbP"
      },
      "outputs": [],
      "source": [
        "criterion = nn.CrossEntropyLoss(ignore_index = vocab_en[\"<PAD>\"])"
      ]
    },
    {
      "cell_type": "code",
      "execution_count": null,
      "metadata": {
        "id": "Dz6T-rHVYbbQ"
      },
      "outputs": [],
      "source": [
        "def train(model, iterator, optimizer, criterion, clip):\n",
        "\n",
        "    model.train()\n",
        "\n",
        "    epoch_loss = 0\n",
        "    pbar = tqdm(iterator)\n",
        "    for i, batch in enumerate(pbar):\n",
        "\n",
        "        src = batch[0].to(device)\n",
        "        src_lens = batch[1]\n",
        "        trg = batch[2].to(device)\n",
        "        optimizer.zero_grad()\n",
        "\n",
        "        output = model(src, src_lens, trg)\n",
        "\n",
        "        #trg = [trg len, batch size]\n",
        "        #output = [trg len, batch size, output dim]\n",
        "\n",
        "        output_dim = output.shape[-1]\n",
        "\n",
        "        output = output[1:].view(-1, output_dim)\n",
        "        trg = trg[:,1:].reshape(-1)\n",
        "\n",
        "        #trg = [(trg len - 1) * batch size]\n",
        "        #output = [(trg len - 1) * batch size, output dim]\n",
        "#         print(\"OP shape \",output.shape)\n",
        "#         print(\"TRG Shape \",trg.shape)\n",
        "        loss = criterion(output, trg)\n",
        "\n",
        "        loss.backward()\n",
        "\n",
        "        torch.nn.utils.clip_grad_norm_(model.parameters(), clip)\n",
        "\n",
        "        optimizer.step()\n",
        "\n",
        "        epoch_loss += loss.item()\n",
        "#         if i%500==0:print(\"Batch:\",epoch_loss)\n",
        "\n",
        "    return epoch_loss / len(iterator)"
      ]
    },
    {
      "cell_type": "code",
      "execution_count": null,
      "metadata": {
        "id": "FzaPlqsOYbbQ"
      },
      "outputs": [],
      "source": [
        "def evaluate(model, iterator, criterion):\n",
        "\n",
        "    model.eval()\n",
        "\n",
        "    epoch_loss = 0\n",
        "\n",
        "    with torch.no_grad():\n",
        "        pbar = tqdm(iterator)\n",
        "        for i, batch in enumerate(pbar):\n",
        "\n",
        "            src = batch[0].to(device)\n",
        "            src_lens = batch[1]\n",
        "            trg = batch[2].to(device)\n",
        "            output = model(src, src_lens, trg, 0) #turn off teacher forcing\n",
        "\n",
        "            #trg = [trg len, batch size]\n",
        "            #output = [trg len, batch size, output dim]\n",
        "\n",
        "            output_dim = output.shape[-1]\n",
        "\n",
        "            output = output[1:].view(-1, output_dim)\n",
        "            trg = trg[:,1:].reshape(-1)\n",
        "\n",
        "            #trg = [(trg len - 1) * batch size]\n",
        "            #output = [(trg len - 1) * batch size, output dim]\n",
        "\n",
        "            loss = criterion(output, trg)\n",
        "\n",
        "            epoch_loss += loss.item()\n",
        "\n",
        "    return epoch_loss / len(iterator)"
      ]
    },
    {
      "cell_type": "code",
      "execution_count": null,
      "metadata": {
        "id": "-WgDApJ-YbbQ"
      },
      "outputs": [],
      "source": [
        "model = model.to(device)"
      ]
    },
    {
      "cell_type": "code",
      "execution_count": null,
      "metadata": {
        "id": "FrYKz1b_YbbQ"
      },
      "outputs": [],
      "source": [
        "N_EPOCHS = 1000\n",
        "CLIP = 70.0"
      ]
    },
    {
      "cell_type": "code",
      "execution_count": null,
      "metadata": {
        "colab": {
          "base_uri": "https://localhost:8080/"
        },
        "id": "FPSw0vPyYbbR",
        "outputId": "9c22621d-3852-40c5-d28f-d0fa9ea30cff"
      },
      "outputs": [
        {
          "output_type": "stream",
          "name": "stderr",
          "text": [
            "100%|██████████| 94/94 [00:07<00:00, 13.39it/s]\n",
            "100%|██████████| 24/24 [00:00<00:00, 58.65it/s]\n"
          ]
        },
        {
          "output_type": "stream",
          "name": "stdout",
          "text": [
            "\tEPOCH:1/1000\tTrain Loss: 5.474 |\t Val. Loss: 5.284\n"
          ]
        },
        {
          "output_type": "stream",
          "name": "stderr",
          "text": [
            "100%|██████████| 94/94 [00:04<00:00, 20.48it/s]\n",
            "100%|██████████| 24/24 [00:00<00:00, 58.70it/s]\n"
          ]
        },
        {
          "output_type": "stream",
          "name": "stdout",
          "text": [
            "\tEPOCH:2/1000\tTrain Loss: 5.204 |\t Val. Loss: 5.270\n"
          ]
        },
        {
          "output_type": "stream",
          "name": "stderr",
          "text": [
            "100%|██████████| 94/94 [00:05<00:00, 16.24it/s]\n",
            "100%|██████████| 24/24 [00:00<00:00, 42.65it/s]\n"
          ]
        },
        {
          "output_type": "stream",
          "name": "stdout",
          "text": [
            "\tEPOCH:3/1000\tTrain Loss: 5.153 |\t Val. Loss: 5.280\n"
          ]
        },
        {
          "output_type": "stream",
          "name": "stderr",
          "text": [
            "100%|██████████| 94/94 [00:04<00:00, 20.18it/s]\n",
            "100%|██████████| 24/24 [00:00<00:00, 56.64it/s]\n"
          ]
        },
        {
          "output_type": "stream",
          "name": "stdout",
          "text": [
            "\tEPOCH:4/1000\tTrain Loss: 5.079 |\t Val. Loss: 5.307\n"
          ]
        },
        {
          "output_type": "stream",
          "name": "stderr",
          "text": [
            "100%|██████████| 94/94 [00:05<00:00, 18.56it/s]\n",
            "100%|██████████| 24/24 [00:00<00:00, 42.04it/s]\n"
          ]
        },
        {
          "output_type": "stream",
          "name": "stdout",
          "text": [
            "\tEPOCH:5/1000\tTrain Loss: 4.978 |\t Val. Loss: 5.351\n"
          ]
        },
        {
          "output_type": "stream",
          "name": "stderr",
          "text": [
            "100%|██████████| 94/94 [00:05<00:00, 17.83it/s]\n",
            "100%|██████████| 24/24 [00:00<00:00, 57.77it/s]\n"
          ]
        },
        {
          "output_type": "stream",
          "name": "stdout",
          "text": [
            "\tEPOCH:6/1000\tTrain Loss: 4.843 |\t Val. Loss: 5.418\n"
          ]
        },
        {
          "output_type": "stream",
          "name": "stderr",
          "text": [
            "100%|██████████| 94/94 [00:04<00:00, 20.40it/s]\n",
            "100%|██████████| 24/24 [00:00<00:00, 56.57it/s]\n"
          ]
        },
        {
          "output_type": "stream",
          "name": "stdout",
          "text": [
            "\tEPOCH:7/1000\tTrain Loss: 4.689 |\t Val. Loss: 5.481\n"
          ]
        },
        {
          "output_type": "stream",
          "name": "stderr",
          "text": [
            "100%|██████████| 94/94 [00:05<00:00, 18.37it/s]\n",
            "100%|██████████| 24/24 [00:00<00:00, 43.95it/s]\n"
          ]
        },
        {
          "output_type": "stream",
          "name": "stdout",
          "text": [
            "\tEPOCH:8/1000\tTrain Loss: 4.516 |\t Val. Loss: 5.557\n"
          ]
        },
        {
          "output_type": "stream",
          "name": "stderr",
          "text": [
            "100%|██████████| 94/94 [00:04<00:00, 19.45it/s]\n",
            "100%|██████████| 24/24 [00:00<00:00, 55.98it/s]\n"
          ]
        },
        {
          "output_type": "stream",
          "name": "stdout",
          "text": [
            "\tEPOCH:9/1000\tTrain Loss: 4.345 |\t Val. Loss: 5.621\n"
          ]
        },
        {
          "output_type": "stream",
          "name": "stderr",
          "text": [
            "100%|██████████| 94/94 [00:04<00:00, 20.30it/s]\n",
            "100%|██████████| 24/24 [00:00<00:00, 57.46it/s]\n"
          ]
        },
        {
          "output_type": "stream",
          "name": "stdout",
          "text": [
            "\tEPOCH:10/1000\tTrain Loss: 4.165 |\t Val. Loss: 5.691\n"
          ]
        },
        {
          "output_type": "stream",
          "name": "stderr",
          "text": [
            "100%|██████████| 94/94 [00:05<00:00, 17.05it/s]\n",
            "100%|██████████| 24/24 [00:00<00:00, 55.44it/s]\n"
          ]
        },
        {
          "output_type": "stream",
          "name": "stdout",
          "text": [
            "\tEPOCH:11/1000\tTrain Loss: 3.977 |\t Val. Loss: 5.761\n"
          ]
        },
        {
          "output_type": "stream",
          "name": "stderr",
          "text": [
            "100%|██████████| 94/94 [00:04<00:00, 20.27it/s]\n",
            "100%|██████████| 24/24 [00:00<00:00, 55.26it/s]\n"
          ]
        },
        {
          "output_type": "stream",
          "name": "stdout",
          "text": [
            "\tEPOCH:12/1000\tTrain Loss: 3.806 |\t Val. Loss: 5.826\n"
          ]
        },
        {
          "output_type": "stream",
          "name": "stderr",
          "text": [
            "100%|██████████| 94/94 [00:04<00:00, 18.99it/s]\n",
            "100%|██████████| 24/24 [00:00<00:00, 45.71it/s]\n"
          ]
        },
        {
          "output_type": "stream",
          "name": "stdout",
          "text": [
            "\tEPOCH:13/1000\tTrain Loss: 3.628 |\t Val. Loss: 5.911\n"
          ]
        },
        {
          "output_type": "stream",
          "name": "stderr",
          "text": [
            "100%|██████████| 94/94 [00:05<00:00, 18.09it/s]\n",
            "100%|██████████| 24/24 [00:00<00:00, 52.66it/s]\n"
          ]
        },
        {
          "output_type": "stream",
          "name": "stdout",
          "text": [
            "\tEPOCH:14/1000\tTrain Loss: 3.481 |\t Val. Loss: 5.976\n"
          ]
        },
        {
          "output_type": "stream",
          "name": "stderr",
          "text": [
            "100%|██████████| 94/94 [00:04<00:00, 20.26it/s]\n",
            "100%|██████████| 24/24 [00:00<00:00, 55.36it/s]\n"
          ]
        },
        {
          "output_type": "stream",
          "name": "stdout",
          "text": [
            "\tEPOCH:15/1000\tTrain Loss: 3.333 |\t Val. Loss: 6.020\n"
          ]
        },
        {
          "output_type": "stream",
          "name": "stderr",
          "text": [
            "100%|██████████| 94/94 [00:05<00:00, 17.62it/s]\n",
            "100%|██████████| 24/24 [00:00<00:00, 42.12it/s]\n"
          ]
        },
        {
          "output_type": "stream",
          "name": "stdout",
          "text": [
            "\tEPOCH:16/1000\tTrain Loss: 3.187 |\t Val. Loss: 6.099\n"
          ]
        },
        {
          "output_type": "stream",
          "name": "stderr",
          "text": [
            "100%|██████████| 94/94 [00:04<00:00, 20.33it/s]\n",
            "100%|██████████| 24/24 [00:00<00:00, 54.63it/s]\n"
          ]
        },
        {
          "output_type": "stream",
          "name": "stdout",
          "text": [
            "\tEPOCH:17/1000\tTrain Loss: 3.048 |\t Val. Loss: 6.159\n"
          ]
        },
        {
          "output_type": "stream",
          "name": "stderr",
          "text": [
            "100%|██████████| 94/94 [00:04<00:00, 20.49it/s]\n",
            "100%|██████████| 24/24 [00:00<00:00, 43.46it/s]\n"
          ]
        },
        {
          "output_type": "stream",
          "name": "stdout",
          "text": [
            "\tEPOCH:18/1000\tTrain Loss: 2.918 |\t Val. Loss: 6.244\n"
          ]
        },
        {
          "output_type": "stream",
          "name": "stderr",
          "text": [
            "100%|██████████| 94/94 [00:05<00:00, 17.62it/s]\n",
            "100%|██████████| 24/24 [00:00<00:00, 55.89it/s]\n"
          ]
        },
        {
          "output_type": "stream",
          "name": "stdout",
          "text": [
            "\tEPOCH:19/1000\tTrain Loss: 2.793 |\t Val. Loss: 6.296\n"
          ]
        },
        {
          "output_type": "stream",
          "name": "stderr",
          "text": [
            "100%|██████████| 94/94 [00:04<00:00, 20.40it/s]\n",
            "100%|██████████| 24/24 [00:00<00:00, 57.04it/s]\n"
          ]
        },
        {
          "output_type": "stream",
          "name": "stdout",
          "text": [
            "\tEPOCH:20/1000\tTrain Loss: 2.653 |\t Val. Loss: 6.352\n"
          ]
        },
        {
          "output_type": "stream",
          "name": "stderr",
          "text": [
            "100%|██████████| 94/94 [00:05<00:00, 18.62it/s]\n",
            "100%|██████████| 24/24 [00:00<00:00, 43.29it/s]\n"
          ]
        },
        {
          "output_type": "stream",
          "name": "stdout",
          "text": [
            "\tEPOCH:21/1000\tTrain Loss: 2.524 |\t Val. Loss: 6.391\n"
          ]
        },
        {
          "output_type": "stream",
          "name": "stderr",
          "text": [
            "100%|██████████| 94/94 [00:05<00:00, 18.76it/s]\n",
            "100%|██████████| 24/24 [00:00<00:00, 56.52it/s]\n"
          ]
        },
        {
          "output_type": "stream",
          "name": "stdout",
          "text": [
            "\tEPOCH:22/1000\tTrain Loss: 2.416 |\t Val. Loss: 6.458\n"
          ]
        },
        {
          "output_type": "stream",
          "name": "stderr",
          "text": [
            "100%|██████████| 94/94 [00:04<00:00, 20.39it/s]\n",
            "100%|██████████| 24/24 [00:00<00:00, 56.10it/s]\n"
          ]
        },
        {
          "output_type": "stream",
          "name": "stdout",
          "text": [
            "\tEPOCH:23/1000\tTrain Loss: 2.318 |\t Val. Loss: 6.510\n"
          ]
        },
        {
          "output_type": "stream",
          "name": "stderr",
          "text": [
            "100%|██████████| 94/94 [00:05<00:00, 17.31it/s]\n",
            "100%|██████████| 24/24 [00:00<00:00, 55.91it/s]\n"
          ]
        },
        {
          "output_type": "stream",
          "name": "stdout",
          "text": [
            "\tEPOCH:24/1000\tTrain Loss: 2.223 |\t Val. Loss: 6.557\n"
          ]
        },
        {
          "output_type": "stream",
          "name": "stderr",
          "text": [
            "100%|██████████| 94/94 [00:04<00:00, 20.31it/s]\n",
            "100%|██████████| 24/24 [00:00<00:00, 54.07it/s]\n"
          ]
        },
        {
          "output_type": "stream",
          "name": "stdout",
          "text": [
            "\tEPOCH:25/1000\tTrain Loss: 2.158 |\t Val. Loss: 6.628\n"
          ]
        },
        {
          "output_type": "stream",
          "name": "stderr",
          "text": [
            "100%|██████████| 94/94 [00:04<00:00, 19.64it/s]\n",
            "100%|██████████| 24/24 [00:00<00:00, 45.01it/s]\n"
          ]
        },
        {
          "output_type": "stream",
          "name": "stdout",
          "text": [
            "\tEPOCH:26/1000\tTrain Loss: 2.055 |\t Val. Loss: 6.667\n"
          ]
        },
        {
          "output_type": "stream",
          "name": "stderr",
          "text": [
            "100%|██████████| 94/94 [00:05<00:00, 18.11it/s]\n",
            "100%|██████████| 24/24 [00:00<00:00, 55.17it/s]\n"
          ]
        },
        {
          "output_type": "stream",
          "name": "stdout",
          "text": [
            "\tEPOCH:27/1000\tTrain Loss: 1.971 |\t Val. Loss: 6.720\n"
          ]
        },
        {
          "output_type": "stream",
          "name": "stderr",
          "text": [
            "100%|██████████| 94/94 [00:04<00:00, 20.37it/s]\n",
            "100%|██████████| 24/24 [00:00<00:00, 55.49it/s]\n"
          ]
        },
        {
          "output_type": "stream",
          "name": "stdout",
          "text": [
            "\tEPOCH:28/1000\tTrain Loss: 1.904 |\t Val. Loss: 6.801\n"
          ]
        },
        {
          "output_type": "stream",
          "name": "stderr",
          "text": [
            "100%|██████████| 94/94 [00:05<00:00, 17.79it/s]\n",
            "100%|██████████| 24/24 [00:00<00:00, 44.10it/s]\n"
          ]
        },
        {
          "output_type": "stream",
          "name": "stdout",
          "text": [
            "\tEPOCH:29/1000\tTrain Loss: 1.837 |\t Val. Loss: 6.859\n"
          ]
        },
        {
          "output_type": "stream",
          "name": "stderr",
          "text": [
            "100%|██████████| 94/94 [00:04<00:00, 19.98it/s]\n",
            "100%|██████████| 24/24 [00:00<00:00, 55.91it/s]\n"
          ]
        },
        {
          "output_type": "stream",
          "name": "stdout",
          "text": [
            "\tEPOCH:30/1000\tTrain Loss: 1.771 |\t Val. Loss: 6.896\n"
          ]
        },
        {
          "output_type": "stream",
          "name": "stderr",
          "text": [
            "100%|██████████| 94/94 [00:04<00:00, 20.29it/s]\n",
            "100%|██████████| 24/24 [00:00<00:00, 56.82it/s]\n"
          ]
        },
        {
          "output_type": "stream",
          "name": "stdout",
          "text": [
            "\tEPOCH:31/1000\tTrain Loss: 1.720 |\t Val. Loss: 6.915\n"
          ]
        },
        {
          "output_type": "stream",
          "name": "stderr",
          "text": [
            "100%|██████████| 94/94 [00:05<00:00, 17.54it/s]\n",
            "100%|██████████| 24/24 [00:00<00:00, 56.22it/s]\n"
          ]
        },
        {
          "output_type": "stream",
          "name": "stdout",
          "text": [
            "\tEPOCH:32/1000\tTrain Loss: 1.669 |\t Val. Loss: 6.959\n"
          ]
        },
        {
          "output_type": "stream",
          "name": "stderr",
          "text": [
            "100%|██████████| 94/94 [00:04<00:00, 20.35it/s]\n",
            "100%|██████████| 24/24 [00:00<00:00, 57.96it/s]\n"
          ]
        },
        {
          "output_type": "stream",
          "name": "stdout",
          "text": [
            "\tEPOCH:33/1000\tTrain Loss: 1.601 |\t Val. Loss: 7.012\n"
          ]
        },
        {
          "output_type": "stream",
          "name": "stderr",
          "text": [
            "100%|██████████| 94/94 [00:04<00:00, 18.91it/s]\n",
            "100%|██████████| 24/24 [00:00<00:00, 42.85it/s]\n"
          ]
        },
        {
          "output_type": "stream",
          "name": "stdout",
          "text": [
            "\tEPOCH:34/1000\tTrain Loss: 1.543 |\t Val. Loss: 7.080\n"
          ]
        },
        {
          "output_type": "stream",
          "name": "stderr",
          "text": [
            "100%|██████████| 94/94 [00:05<00:00, 18.55it/s]\n",
            "100%|██████████| 24/24 [00:00<00:00, 59.55it/s]\n"
          ]
        },
        {
          "output_type": "stream",
          "name": "stdout",
          "text": [
            "\tEPOCH:35/1000\tTrain Loss: 1.518 |\t Val. Loss: 7.152\n"
          ]
        },
        {
          "output_type": "stream",
          "name": "stderr",
          "text": [
            "100%|██████████| 94/94 [00:04<00:00, 20.27it/s]\n",
            "100%|██████████| 24/24 [00:00<00:00, 58.65it/s]\n"
          ]
        },
        {
          "output_type": "stream",
          "name": "stdout",
          "text": [
            "\tEPOCH:36/1000\tTrain Loss: 1.472 |\t Val. Loss: 7.167\n"
          ]
        },
        {
          "output_type": "stream",
          "name": "stderr",
          "text": [
            "100%|██████████| 94/94 [00:05<00:00, 17.54it/s]\n",
            "100%|██████████| 24/24 [00:00<00:00, 50.20it/s]\n"
          ]
        },
        {
          "output_type": "stream",
          "name": "stdout",
          "text": [
            "\tEPOCH:37/1000\tTrain Loss: 1.429 |\t Val. Loss: 7.185\n"
          ]
        },
        {
          "output_type": "stream",
          "name": "stderr",
          "text": [
            "100%|██████████| 94/94 [00:04<00:00, 20.48it/s]\n",
            "100%|██████████| 24/24 [00:00<00:00, 57.91it/s]\n"
          ]
        },
        {
          "output_type": "stream",
          "name": "stdout",
          "text": [
            "\tEPOCH:38/1000\tTrain Loss: 1.408 |\t Val. Loss: 7.199\n"
          ]
        },
        {
          "output_type": "stream",
          "name": "stderr",
          "text": [
            "100%|██████████| 94/94 [00:05<00:00, 16.73it/s]\n",
            "100%|██████████| 24/24 [00:00<00:00, 39.57it/s]\n"
          ]
        },
        {
          "output_type": "stream",
          "name": "stdout",
          "text": [
            "\tEPOCH:39/1000\tTrain Loss: 1.393 |\t Val. Loss: 7.280\n"
          ]
        },
        {
          "output_type": "stream",
          "name": "stderr",
          "text": [
            "100%|██████████| 94/94 [00:05<00:00, 17.88it/s]\n",
            "100%|██████████| 24/24 [00:00<00:00, 53.67it/s]\n"
          ]
        },
        {
          "output_type": "stream",
          "name": "stdout",
          "text": [
            "\tEPOCH:40/1000\tTrain Loss: 1.334 |\t Val. Loss: 7.348\n"
          ]
        },
        {
          "output_type": "stream",
          "name": "stderr",
          "text": [
            "100%|██████████| 94/94 [00:04<00:00, 20.24it/s]\n",
            "100%|██████████| 24/24 [00:00<00:00, 56.54it/s]\n"
          ]
        },
        {
          "output_type": "stream",
          "name": "stdout",
          "text": [
            "\tEPOCH:41/1000\tTrain Loss: 1.304 |\t Val. Loss: 7.304\n"
          ]
        },
        {
          "output_type": "stream",
          "name": "stderr",
          "text": [
            "100%|██████████| 94/94 [00:05<00:00, 17.99it/s]\n",
            "100%|██████████| 24/24 [00:00<00:00, 42.84it/s]\n"
          ]
        },
        {
          "output_type": "stream",
          "name": "stdout",
          "text": [
            "\tEPOCH:42/1000\tTrain Loss: 1.255 |\t Val. Loss: 7.309\n"
          ]
        },
        {
          "output_type": "stream",
          "name": "stderr",
          "text": [
            "100%|██████████| 94/94 [00:04<00:00, 19.91it/s]\n",
            "100%|██████████| 24/24 [00:00<00:00, 55.95it/s]\n"
          ]
        },
        {
          "output_type": "stream",
          "name": "stdout",
          "text": [
            "\tEPOCH:43/1000\tTrain Loss: 1.222 |\t Val. Loss: 7.358\n"
          ]
        },
        {
          "output_type": "stream",
          "name": "stderr",
          "text": [
            "100%|██████████| 94/94 [00:04<00:00, 20.25it/s]\n",
            "100%|██████████| 24/24 [00:00<00:00, 58.48it/s]\n"
          ]
        },
        {
          "output_type": "stream",
          "name": "stdout",
          "text": [
            "\tEPOCH:44/1000\tTrain Loss: 1.181 |\t Val. Loss: 7.412\n"
          ]
        },
        {
          "output_type": "stream",
          "name": "stderr",
          "text": [
            "100%|██████████| 94/94 [00:05<00:00, 16.94it/s]\n",
            "100%|██████████| 24/24 [00:00<00:00, 55.75it/s]\n"
          ]
        },
        {
          "output_type": "stream",
          "name": "stdout",
          "text": [
            "\tEPOCH:45/1000\tTrain Loss: 1.156 |\t Val. Loss: 7.412\n"
          ]
        },
        {
          "output_type": "stream",
          "name": "stderr",
          "text": [
            "100%|██████████| 94/94 [00:04<00:00, 20.24it/s]\n",
            "100%|██████████| 24/24 [00:00<00:00, 54.92it/s]\n"
          ]
        },
        {
          "output_type": "stream",
          "name": "stdout",
          "text": [
            "\tEPOCH:46/1000\tTrain Loss: 1.126 |\t Val. Loss: 7.515\n"
          ]
        },
        {
          "output_type": "stream",
          "name": "stderr",
          "text": [
            "100%|██████████| 94/94 [00:04<00:00, 18.85it/s]\n",
            "100%|██████████| 24/24 [00:00<00:00, 43.50it/s]\n"
          ]
        },
        {
          "output_type": "stream",
          "name": "stdout",
          "text": [
            "\tEPOCH:47/1000\tTrain Loss: 1.094 |\t Val. Loss: 7.602\n"
          ]
        },
        {
          "output_type": "stream",
          "name": "stderr",
          "text": [
            "100%|██████████| 94/94 [00:04<00:00, 18.98it/s]\n",
            "100%|██████████| 24/24 [00:00<00:00, 56.41it/s]\n"
          ]
        },
        {
          "output_type": "stream",
          "name": "stdout",
          "text": [
            "\tEPOCH:48/1000\tTrain Loss: 1.069 |\t Val. Loss: 7.540\n"
          ]
        },
        {
          "output_type": "stream",
          "name": "stderr",
          "text": [
            "100%|██████████| 94/94 [00:04<00:00, 20.34it/s]\n",
            "100%|██████████| 24/24 [00:00<00:00, 56.00it/s]\n"
          ]
        },
        {
          "output_type": "stream",
          "name": "stdout",
          "text": [
            "\tEPOCH:49/1000\tTrain Loss: 1.047 |\t Val. Loss: 7.559\n"
          ]
        },
        {
          "output_type": "stream",
          "name": "stderr",
          "text": [
            "100%|██████████| 94/94 [00:05<00:00, 17.36it/s]\n",
            "100%|██████████| 24/24 [00:00<00:00, 54.58it/s]\n"
          ]
        },
        {
          "output_type": "stream",
          "name": "stdout",
          "text": [
            "\tEPOCH:50/1000\tTrain Loss: 1.026 |\t Val. Loss: 7.594\n"
          ]
        },
        {
          "output_type": "stream",
          "name": "stderr",
          "text": [
            "100%|██████████| 94/94 [00:04<00:00, 20.37it/s]\n",
            "100%|██████████| 24/24 [00:00<00:00, 57.48it/s]\n"
          ]
        },
        {
          "output_type": "stream",
          "name": "stdout",
          "text": [
            "\tEPOCH:51/1000\tTrain Loss: 1.015 |\t Val. Loss: 7.601\n"
          ]
        },
        {
          "output_type": "stream",
          "name": "stderr",
          "text": [
            "100%|██████████| 94/94 [00:04<00:00, 19.93it/s]\n",
            "100%|██████████| 24/24 [00:00<00:00, 40.92it/s]\n"
          ]
        },
        {
          "output_type": "stream",
          "name": "stdout",
          "text": [
            "\tEPOCH:52/1000\tTrain Loss: 1.013 |\t Val. Loss: 7.681\n"
          ]
        },
        {
          "output_type": "stream",
          "name": "stderr",
          "text": [
            "100%|██████████| 94/94 [00:05<00:00, 17.96it/s]\n",
            "100%|██████████| 24/24 [00:00<00:00, 57.94it/s]\n"
          ]
        },
        {
          "output_type": "stream",
          "name": "stdout",
          "text": [
            "\tEPOCH:53/1000\tTrain Loss: 1.012 |\t Val. Loss: 7.663\n"
          ]
        },
        {
          "output_type": "stream",
          "name": "stderr",
          "text": [
            "100%|██████████| 94/94 [00:04<00:00, 20.41it/s]\n",
            "100%|██████████| 24/24 [00:00<00:00, 55.98it/s]\n"
          ]
        },
        {
          "output_type": "stream",
          "name": "stdout",
          "text": [
            "\tEPOCH:54/1000\tTrain Loss: 1.006 |\t Val. Loss: 7.687\n"
          ]
        },
        {
          "output_type": "stream",
          "name": "stderr",
          "text": [
            "100%|██████████| 94/94 [00:05<00:00, 18.22it/s]\n",
            "100%|██████████| 24/24 [00:00<00:00, 42.69it/s]\n"
          ]
        },
        {
          "output_type": "stream",
          "name": "stdout",
          "text": [
            "\tEPOCH:55/1000\tTrain Loss: 1.023 |\t Val. Loss: 7.757\n"
          ]
        },
        {
          "output_type": "stream",
          "name": "stderr",
          "text": [
            "100%|██████████| 94/94 [00:04<00:00, 19.54it/s]\n",
            "100%|██████████| 24/24 [00:00<00:00, 58.02it/s]\n"
          ]
        },
        {
          "output_type": "stream",
          "name": "stdout",
          "text": [
            "\tEPOCH:56/1000\tTrain Loss: 0.994 |\t Val. Loss: 7.751\n"
          ]
        },
        {
          "output_type": "stream",
          "name": "stderr",
          "text": [
            "100%|██████████| 94/94 [00:04<00:00, 20.27it/s]\n",
            "100%|██████████| 24/24 [00:00<00:00, 59.28it/s]\n"
          ]
        },
        {
          "output_type": "stream",
          "name": "stdout",
          "text": [
            "\tEPOCH:57/1000\tTrain Loss: 0.933 |\t Val. Loss: 7.717\n"
          ]
        },
        {
          "output_type": "stream",
          "name": "stderr",
          "text": [
            "100%|██████████| 94/94 [00:05<00:00, 17.17it/s]\n",
            "100%|██████████| 24/24 [00:00<00:00, 58.68it/s]\n"
          ]
        },
        {
          "output_type": "stream",
          "name": "stdout",
          "text": [
            "\tEPOCH:58/1000\tTrain Loss: 0.895 |\t Val. Loss: 7.768\n"
          ]
        },
        {
          "output_type": "stream",
          "name": "stderr",
          "text": [
            "100%|██████████| 94/94 [00:04<00:00, 20.42it/s]\n",
            "100%|██████████| 24/24 [00:00<00:00, 58.83it/s]\n"
          ]
        },
        {
          "output_type": "stream",
          "name": "stdout",
          "text": [
            "\tEPOCH:59/1000\tTrain Loss: 0.890 |\t Val. Loss: 7.758\n"
          ]
        },
        {
          "output_type": "stream",
          "name": "stderr",
          "text": [
            "100%|██████████| 94/94 [00:04<00:00, 19.36it/s]\n",
            "100%|██████████| 24/24 [00:00<00:00, 44.50it/s]\n"
          ]
        },
        {
          "output_type": "stream",
          "name": "stdout",
          "text": [
            "\tEPOCH:60/1000\tTrain Loss: 0.855 |\t Val. Loss: 7.813\n"
          ]
        },
        {
          "output_type": "stream",
          "name": "stderr",
          "text": [
            "100%|██████████| 94/94 [00:05<00:00, 18.51it/s]\n",
            "100%|██████████| 24/24 [00:00<00:00, 57.13it/s]\n"
          ]
        },
        {
          "output_type": "stream",
          "name": "stdout",
          "text": [
            "\tEPOCH:61/1000\tTrain Loss: 0.857 |\t Val. Loss: 7.853\n"
          ]
        },
        {
          "output_type": "stream",
          "name": "stderr",
          "text": [
            "100%|██████████| 94/94 [00:04<00:00, 20.32it/s]\n",
            "100%|██████████| 24/24 [00:00<00:00, 56.71it/s]\n"
          ]
        },
        {
          "output_type": "stream",
          "name": "stdout",
          "text": [
            "\tEPOCH:62/1000\tTrain Loss: 0.852 |\t Val. Loss: 7.860\n"
          ]
        },
        {
          "output_type": "stream",
          "name": "stderr",
          "text": [
            "100%|██████████| 94/94 [00:05<00:00, 17.54it/s]\n",
            "100%|██████████| 24/24 [00:00<00:00, 43.08it/s]\n"
          ]
        },
        {
          "output_type": "stream",
          "name": "stdout",
          "text": [
            "\tEPOCH:63/1000\tTrain Loss: 0.834 |\t Val. Loss: 7.858\n"
          ]
        },
        {
          "output_type": "stream",
          "name": "stderr",
          "text": [
            "100%|██████████| 94/94 [00:04<00:00, 20.48it/s]\n",
            "100%|██████████| 24/24 [00:00<00:00, 57.45it/s]\n"
          ]
        },
        {
          "output_type": "stream",
          "name": "stdout",
          "text": [
            "\tEPOCH:64/1000\tTrain Loss: 0.821 |\t Val. Loss: 7.879\n"
          ]
        },
        {
          "output_type": "stream",
          "name": "stderr",
          "text": [
            "100%|██████████| 94/94 [00:04<00:00, 20.45it/s]\n",
            "100%|██████████| 24/24 [00:00<00:00, 46.88it/s]\n"
          ]
        },
        {
          "output_type": "stream",
          "name": "stdout",
          "text": [
            "\tEPOCH:65/1000\tTrain Loss: 0.799 |\t Val. Loss: 7.933\n"
          ]
        },
        {
          "output_type": "stream",
          "name": "stderr",
          "text": [
            "100%|██████████| 94/94 [00:05<00:00, 17.77it/s]\n",
            "100%|██████████| 24/24 [00:00<00:00, 56.08it/s]\n"
          ]
        },
        {
          "output_type": "stream",
          "name": "stdout",
          "text": [
            "\tEPOCH:66/1000\tTrain Loss: 0.784 |\t Val. Loss: 7.932\n"
          ]
        },
        {
          "output_type": "stream",
          "name": "stderr",
          "text": [
            "100%|██████████| 94/94 [00:04<00:00, 20.30it/s]\n",
            "100%|██████████| 24/24 [00:00<00:00, 57.09it/s]\n"
          ]
        },
        {
          "output_type": "stream",
          "name": "stdout",
          "text": [
            "\tEPOCH:67/1000\tTrain Loss: 0.776 |\t Val. Loss: 7.985\n"
          ]
        },
        {
          "output_type": "stream",
          "name": "stderr",
          "text": [
            "100%|██████████| 94/94 [00:05<00:00, 18.52it/s]\n",
            "100%|██████████| 24/24 [00:00<00:00, 44.02it/s]\n"
          ]
        },
        {
          "output_type": "stream",
          "name": "stdout",
          "text": [
            "\tEPOCH:68/1000\tTrain Loss: 0.775 |\t Val. Loss: 8.015\n"
          ]
        },
        {
          "output_type": "stream",
          "name": "stderr",
          "text": [
            "100%|██████████| 94/94 [00:04<00:00, 18.83it/s]\n",
            "100%|██████████| 24/24 [00:00<00:00, 56.68it/s]\n"
          ]
        },
        {
          "output_type": "stream",
          "name": "stdout",
          "text": [
            "\tEPOCH:69/1000\tTrain Loss: 0.764 |\t Val. Loss: 8.008\n"
          ]
        },
        {
          "output_type": "stream",
          "name": "stderr",
          "text": [
            "100%|██████████| 94/94 [00:04<00:00, 20.21it/s]\n",
            "100%|██████████| 24/24 [00:00<00:00, 55.41it/s]\n"
          ]
        },
        {
          "output_type": "stream",
          "name": "stdout",
          "text": [
            "\tEPOCH:70/1000\tTrain Loss: 0.745 |\t Val. Loss: 8.074\n"
          ]
        },
        {
          "output_type": "stream",
          "name": "stderr",
          "text": [
            "100%|██████████| 94/94 [00:05<00:00, 17.05it/s]\n",
            "100%|██████████| 24/24 [00:00<00:00, 56.22it/s]\n"
          ]
        },
        {
          "output_type": "stream",
          "name": "stdout",
          "text": [
            "\tEPOCH:71/1000\tTrain Loss: 0.729 |\t Val. Loss: 8.130\n"
          ]
        },
        {
          "output_type": "stream",
          "name": "stderr",
          "text": [
            "100%|██████████| 94/94 [00:04<00:00, 20.47it/s]\n",
            "100%|██████████| 24/24 [00:00<00:00, 56.70it/s]\n"
          ]
        },
        {
          "output_type": "stream",
          "name": "stdout",
          "text": [
            "\tEPOCH:72/1000\tTrain Loss: 0.732 |\t Val. Loss: 8.073\n"
          ]
        },
        {
          "output_type": "stream",
          "name": "stderr",
          "text": [
            "100%|██████████| 94/94 [00:04<00:00, 19.70it/s]\n",
            "100%|██████████| 24/24 [00:00<00:00, 45.09it/s]\n"
          ]
        },
        {
          "output_type": "stream",
          "name": "stdout",
          "text": [
            "\tEPOCH:73/1000\tTrain Loss: 0.717 |\t Val. Loss: 8.124\n"
          ]
        },
        {
          "output_type": "stream",
          "name": "stderr",
          "text": [
            "100%|██████████| 94/94 [00:05<00:00, 17.85it/s]\n",
            "100%|██████████| 24/24 [00:00<00:00, 54.89it/s]\n"
          ]
        },
        {
          "output_type": "stream",
          "name": "stdout",
          "text": [
            "\tEPOCH:74/1000\tTrain Loss: 0.692 |\t Val. Loss: 8.104\n"
          ]
        },
        {
          "output_type": "stream",
          "name": "stderr",
          "text": [
            "100%|██████████| 94/94 [00:04<00:00, 20.29it/s]\n",
            "100%|██████████| 24/24 [00:00<00:00, 56.79it/s]\n"
          ]
        },
        {
          "output_type": "stream",
          "name": "stdout",
          "text": [
            "\tEPOCH:75/1000\tTrain Loss: 0.694 |\t Val. Loss: 8.174\n"
          ]
        },
        {
          "output_type": "stream",
          "name": "stderr",
          "text": [
            "100%|██████████| 94/94 [00:05<00:00, 17.98it/s]\n",
            "100%|██████████| 24/24 [00:00<00:00, 44.55it/s]\n"
          ]
        },
        {
          "output_type": "stream",
          "name": "stdout",
          "text": [
            "\tEPOCH:76/1000\tTrain Loss: 0.692 |\t Val. Loss: 8.174\n"
          ]
        },
        {
          "output_type": "stream",
          "name": "stderr",
          "text": [
            "100%|██████████| 94/94 [00:04<00:00, 19.85it/s]\n",
            "100%|██████████| 24/24 [00:00<00:00, 56.68it/s]\n"
          ]
        },
        {
          "output_type": "stream",
          "name": "stdout",
          "text": [
            "\tEPOCH:77/1000\tTrain Loss: 0.682 |\t Val. Loss: 8.172\n"
          ]
        },
        {
          "output_type": "stream",
          "name": "stderr",
          "text": [
            "100%|██████████| 94/94 [00:04<00:00, 20.32it/s]\n",
            "100%|██████████| 24/24 [00:00<00:00, 58.13it/s]\n"
          ]
        },
        {
          "output_type": "stream",
          "name": "stdout",
          "text": [
            "\tEPOCH:78/1000\tTrain Loss: 0.674 |\t Val. Loss: 8.177\n"
          ]
        },
        {
          "output_type": "stream",
          "name": "stderr",
          "text": [
            "100%|██████████| 94/94 [00:05<00:00, 16.81it/s]\n",
            "100%|██████████| 24/24 [00:00<00:00, 55.68it/s]\n"
          ]
        },
        {
          "output_type": "stream",
          "name": "stdout",
          "text": [
            "\tEPOCH:79/1000\tTrain Loss: 0.661 |\t Val. Loss: 8.194\n"
          ]
        },
        {
          "output_type": "stream",
          "name": "stderr",
          "text": [
            "100%|██████████| 94/94 [00:04<00:00, 20.18it/s]\n",
            "100%|██████████| 24/24 [00:00<00:00, 56.04it/s]\n"
          ]
        },
        {
          "output_type": "stream",
          "name": "stdout",
          "text": [
            "\tEPOCH:80/1000\tTrain Loss: 0.642 |\t Val. Loss: 8.221\n"
          ]
        },
        {
          "output_type": "stream",
          "name": "stderr",
          "text": [
            "100%|██████████| 94/94 [00:04<00:00, 18.93it/s]\n",
            "100%|██████████| 24/24 [00:00<00:00, 46.01it/s]\n"
          ]
        },
        {
          "output_type": "stream",
          "name": "stdout",
          "text": [
            "\tEPOCH:81/1000\tTrain Loss: 0.646 |\t Val. Loss: 8.289\n"
          ]
        },
        {
          "output_type": "stream",
          "name": "stderr",
          "text": [
            "100%|██████████| 94/94 [00:05<00:00, 18.69it/s]\n",
            "100%|██████████| 24/24 [00:00<00:00, 56.76it/s]\n"
          ]
        },
        {
          "output_type": "stream",
          "name": "stdout",
          "text": [
            "\tEPOCH:82/1000\tTrain Loss: 0.656 |\t Val. Loss: 8.297\n"
          ]
        },
        {
          "output_type": "stream",
          "name": "stderr",
          "text": [
            "100%|██████████| 94/94 [00:04<00:00, 20.51it/s]\n",
            "100%|██████████| 24/24 [00:00<00:00, 55.44it/s]\n"
          ]
        },
        {
          "output_type": "stream",
          "name": "stdout",
          "text": [
            "\tEPOCH:83/1000\tTrain Loss: 0.633 |\t Val. Loss: 8.311\n"
          ]
        },
        {
          "output_type": "stream",
          "name": "stderr",
          "text": [
            "100%|██████████| 94/94 [00:05<00:00, 17.17it/s]\n",
            "100%|██████████| 24/24 [00:00<00:00, 47.45it/s]\n"
          ]
        },
        {
          "output_type": "stream",
          "name": "stdout",
          "text": [
            "\tEPOCH:84/1000\tTrain Loss: 0.623 |\t Val. Loss: 8.305\n"
          ]
        },
        {
          "output_type": "stream",
          "name": "stderr",
          "text": [
            "100%|██████████| 94/94 [00:04<00:00, 20.20it/s]\n",
            "100%|██████████| 24/24 [00:00<00:00, 57.21it/s]\n"
          ]
        },
        {
          "output_type": "stream",
          "name": "stdout",
          "text": [
            "\tEPOCH:85/1000\tTrain Loss: 0.606 |\t Val. Loss: 8.410\n"
          ]
        },
        {
          "output_type": "stream",
          "name": "stderr",
          "text": [
            "100%|██████████| 94/94 [00:05<00:00, 17.05it/s]\n",
            "100%|██████████| 24/24 [00:00<00:00, 37.19it/s]\n"
          ]
        },
        {
          "output_type": "stream",
          "name": "stdout",
          "text": [
            "\tEPOCH:86/1000\tTrain Loss: 0.609 |\t Val. Loss: 8.445\n"
          ]
        },
        {
          "output_type": "stream",
          "name": "stderr",
          "text": [
            "100%|██████████| 94/94 [00:05<00:00, 15.81it/s]\n",
            "100%|██████████| 24/24 [00:00<00:00, 57.46it/s]\n"
          ]
        },
        {
          "output_type": "stream",
          "name": "stdout",
          "text": [
            "\tEPOCH:87/1000\tTrain Loss: 0.611 |\t Val. Loss: 8.386\n"
          ]
        },
        {
          "output_type": "stream",
          "name": "stderr",
          "text": [
            "100%|██████████| 94/94 [00:04<00:00, 20.13it/s]\n",
            "100%|██████████| 24/24 [00:00<00:00, 58.83it/s]\n"
          ]
        },
        {
          "output_type": "stream",
          "name": "stdout",
          "text": [
            "\tEPOCH:88/1000\tTrain Loss: 0.614 |\t Val. Loss: 8.421\n"
          ]
        },
        {
          "output_type": "stream",
          "name": "stderr",
          "text": [
            "100%|██████████| 94/94 [00:05<00:00, 18.11it/s]\n",
            "100%|██████████| 24/24 [00:00<00:00, 43.32it/s]\n"
          ]
        },
        {
          "output_type": "stream",
          "name": "stdout",
          "text": [
            "\tEPOCH:89/1000\tTrain Loss: 0.622 |\t Val. Loss: 8.379\n"
          ]
        },
        {
          "output_type": "stream",
          "name": "stderr",
          "text": [
            "100%|██████████| 94/94 [00:04<00:00, 19.06it/s]\n",
            "100%|██████████| 24/24 [00:00<00:00, 57.63it/s]\n"
          ]
        },
        {
          "output_type": "stream",
          "name": "stdout",
          "text": [
            "\tEPOCH:90/1000\tTrain Loss: 0.631 |\t Val. Loss: 8.358\n"
          ]
        },
        {
          "output_type": "stream",
          "name": "stderr",
          "text": [
            "100%|██████████| 94/94 [00:04<00:00, 20.12it/s]\n",
            "100%|██████████| 24/24 [00:00<00:00, 57.94it/s]\n"
          ]
        },
        {
          "output_type": "stream",
          "name": "stdout",
          "text": [
            "\tEPOCH:91/1000\tTrain Loss: 0.639 |\t Val. Loss: 8.368\n"
          ]
        },
        {
          "output_type": "stream",
          "name": "stderr",
          "text": [
            "100%|██████████| 94/94 [00:05<00:00, 16.82it/s]\n",
            "100%|██████████| 24/24 [00:00<00:00, 55.22it/s]\n"
          ]
        },
        {
          "output_type": "stream",
          "name": "stdout",
          "text": [
            "\tEPOCH:92/1000\tTrain Loss: 0.633 |\t Val. Loss: 8.439\n"
          ]
        },
        {
          "output_type": "stream",
          "name": "stderr",
          "text": [
            "100%|██████████| 94/94 [00:04<00:00, 20.11it/s]\n",
            "100%|██████████| 24/24 [00:00<00:00, 56.56it/s]\n"
          ]
        },
        {
          "output_type": "stream",
          "name": "stdout",
          "text": [
            "\tEPOCH:93/1000\tTrain Loss: 0.625 |\t Val. Loss: 8.499\n"
          ]
        },
        {
          "output_type": "stream",
          "name": "stderr",
          "text": [
            "100%|██████████| 94/94 [00:04<00:00, 18.86it/s]\n",
            "100%|██████████| 24/24 [00:00<00:00, 43.16it/s]\n"
          ]
        },
        {
          "output_type": "stream",
          "name": "stdout",
          "text": [
            "\tEPOCH:94/1000\tTrain Loss: 0.620 |\t Val. Loss: 8.518\n"
          ]
        },
        {
          "output_type": "stream",
          "name": "stderr",
          "text": [
            "100%|██████████| 94/94 [00:05<00:00, 18.32it/s]\n",
            "100%|██████████| 24/24 [00:00<00:00, 56.38it/s]\n"
          ]
        },
        {
          "output_type": "stream",
          "name": "stdout",
          "text": [
            "\tEPOCH:95/1000\tTrain Loss: 0.599 |\t Val. Loss: 8.527\n"
          ]
        },
        {
          "output_type": "stream",
          "name": "stderr",
          "text": [
            "100%|██████████| 94/94 [00:04<00:00, 20.13it/s]\n",
            "100%|██████████| 24/24 [00:00<00:00, 57.47it/s]\n"
          ]
        },
        {
          "output_type": "stream",
          "name": "stdout",
          "text": [
            "\tEPOCH:96/1000\tTrain Loss: 0.575 |\t Val. Loss: 8.561\n"
          ]
        },
        {
          "output_type": "stream",
          "name": "stderr",
          "text": [
            "100%|██████████| 94/94 [00:05<00:00, 16.98it/s]\n",
            "100%|██████████| 24/24 [00:00<00:00, 50.72it/s]\n"
          ]
        },
        {
          "output_type": "stream",
          "name": "stdout",
          "text": [
            "\tEPOCH:97/1000\tTrain Loss: 0.551 |\t Val. Loss: 8.538\n"
          ]
        },
        {
          "output_type": "stream",
          "name": "stderr",
          "text": [
            "100%|██████████| 94/94 [00:04<00:00, 20.01it/s]\n",
            "100%|██████████| 24/24 [00:00<00:00, 55.82it/s]\n"
          ]
        },
        {
          "output_type": "stream",
          "name": "stdout",
          "text": [
            "\tEPOCH:98/1000\tTrain Loss: 0.529 |\t Val. Loss: 8.533\n"
          ]
        },
        {
          "output_type": "stream",
          "name": "stderr",
          "text": [
            "100%|██████████| 94/94 [00:04<00:00, 19.83it/s]\n",
            "100%|██████████| 24/24 [00:00<00:00, 42.00it/s]\n"
          ]
        },
        {
          "output_type": "stream",
          "name": "stdout",
          "text": [
            "\tEPOCH:99/1000\tTrain Loss: 0.516 |\t Val. Loss: 8.540\n"
          ]
        },
        {
          "output_type": "stream",
          "name": "stderr",
          "text": [
            "100%|██████████| 94/94 [00:05<00:00, 17.85it/s]\n",
            "100%|██████████| 24/24 [00:00<00:00, 57.72it/s]\n"
          ]
        },
        {
          "output_type": "stream",
          "name": "stdout",
          "text": [
            "\tEPOCH:100/1000\tTrain Loss: 0.505 |\t Val. Loss: 8.566\n"
          ]
        },
        {
          "output_type": "stream",
          "name": "stderr",
          "text": [
            "100%|██████████| 94/94 [00:04<00:00, 20.31it/s]\n",
            "100%|██████████| 24/24 [00:00<00:00, 57.48it/s]\n"
          ]
        },
        {
          "output_type": "stream",
          "name": "stdout",
          "text": [
            "\tEPOCH:101/1000\tTrain Loss: 0.494 |\t Val. Loss: 8.627\n"
          ]
        },
        {
          "output_type": "stream",
          "name": "stderr",
          "text": [
            "100%|██████████| 94/94 [00:05<00:00, 18.31it/s]\n",
            "100%|██████████| 24/24 [00:00<00:00, 42.19it/s]\n"
          ]
        },
        {
          "output_type": "stream",
          "name": "stdout",
          "text": [
            "\tEPOCH:102/1000\tTrain Loss: 0.498 |\t Val. Loss: 8.674\n"
          ]
        },
        {
          "output_type": "stream",
          "name": "stderr",
          "text": [
            "100%|██████████| 94/94 [00:04<00:00, 19.50it/s]\n",
            "100%|██████████| 24/24 [00:00<00:00, 59.27it/s]\n"
          ]
        },
        {
          "output_type": "stream",
          "name": "stdout",
          "text": [
            "\tEPOCH:103/1000\tTrain Loss: 0.477 |\t Val. Loss: 8.661\n"
          ]
        },
        {
          "output_type": "stream",
          "name": "stderr",
          "text": [
            "100%|██████████| 94/94 [00:04<00:00, 20.52it/s]\n",
            "100%|██████████| 24/24 [00:00<00:00, 58.55it/s]\n"
          ]
        },
        {
          "output_type": "stream",
          "name": "stdout",
          "text": [
            "\tEPOCH:104/1000\tTrain Loss: 0.482 |\t Val. Loss: 8.684\n"
          ]
        },
        {
          "output_type": "stream",
          "name": "stderr",
          "text": [
            "100%|██████████| 94/94 [00:05<00:00, 17.29it/s]\n",
            "100%|██████████| 24/24 [00:00<00:00, 58.02it/s]\n"
          ]
        },
        {
          "output_type": "stream",
          "name": "stdout",
          "text": [
            "\tEPOCH:105/1000\tTrain Loss: 0.472 |\t Val. Loss: 8.698\n"
          ]
        },
        {
          "output_type": "stream",
          "name": "stderr",
          "text": [
            "100%|██████████| 94/94 [00:04<00:00, 20.36it/s]\n",
            "100%|██████████| 24/24 [00:00<00:00, 57.30it/s]\n"
          ]
        },
        {
          "output_type": "stream",
          "name": "stdout",
          "text": [
            "\tEPOCH:106/1000\tTrain Loss: 0.479 |\t Val. Loss: 8.695\n"
          ]
        },
        {
          "output_type": "stream",
          "name": "stderr",
          "text": [
            "100%|██████████| 94/94 [00:04<00:00, 19.42it/s]\n",
            "100%|██████████| 24/24 [00:00<00:00, 45.58it/s]\n"
          ]
        },
        {
          "output_type": "stream",
          "name": "stdout",
          "text": [
            "\tEPOCH:107/1000\tTrain Loss: 0.462 |\t Val. Loss: 8.696\n"
          ]
        },
        {
          "output_type": "stream",
          "name": "stderr",
          "text": [
            "100%|██████████| 94/94 [00:05<00:00, 18.44it/s]\n",
            "100%|██████████| 24/24 [00:00<00:00, 56.23it/s]\n"
          ]
        },
        {
          "output_type": "stream",
          "name": "stdout",
          "text": [
            "\tEPOCH:108/1000\tTrain Loss: 0.475 |\t Val. Loss: 8.706\n"
          ]
        },
        {
          "output_type": "stream",
          "name": "stderr",
          "text": [
            "100%|██████████| 94/94 [00:04<00:00, 20.09it/s]\n",
            "100%|██████████| 24/24 [00:00<00:00, 57.68it/s]\n"
          ]
        },
        {
          "output_type": "stream",
          "name": "stdout",
          "text": [
            "\tEPOCH:109/1000\tTrain Loss: 0.464 |\t Val. Loss: 8.741\n"
          ]
        },
        {
          "output_type": "stream",
          "name": "stderr",
          "text": [
            "100%|██████████| 94/94 [00:05<00:00, 17.84it/s]\n",
            "100%|██████████| 24/24 [00:00<00:00, 44.65it/s]\n"
          ]
        },
        {
          "output_type": "stream",
          "name": "stdout",
          "text": [
            "\tEPOCH:110/1000\tTrain Loss: 0.465 |\t Val. Loss: 8.764\n"
          ]
        },
        {
          "output_type": "stream",
          "name": "stderr",
          "text": [
            "100%|██████████| 94/94 [00:04<00:00, 19.76it/s]\n",
            "100%|██████████| 24/24 [00:00<00:00, 57.23it/s]\n"
          ]
        },
        {
          "output_type": "stream",
          "name": "stdout",
          "text": [
            "\tEPOCH:111/1000\tTrain Loss: 0.473 |\t Val. Loss: 8.786\n"
          ]
        },
        {
          "output_type": "stream",
          "name": "stderr",
          "text": [
            "100%|██████████| 94/94 [00:04<00:00, 19.81it/s]\n",
            "100%|██████████| 24/24 [00:00<00:00, 49.07it/s]\n"
          ]
        },
        {
          "output_type": "stream",
          "name": "stdout",
          "text": [
            "\tEPOCH:112/1000\tTrain Loss: 0.471 |\t Val. Loss: 8.810\n"
          ]
        },
        {
          "output_type": "stream",
          "name": "stderr",
          "text": [
            "100%|██████████| 94/94 [00:05<00:00, 17.35it/s]\n",
            "100%|██████████| 24/24 [00:00<00:00, 57.67it/s]\n"
          ]
        },
        {
          "output_type": "stream",
          "name": "stdout",
          "text": [
            "\tEPOCH:113/1000\tTrain Loss: 0.469 |\t Val. Loss: 8.819\n"
          ]
        },
        {
          "output_type": "stream",
          "name": "stderr",
          "text": [
            "100%|██████████| 94/94 [00:04<00:00, 20.47it/s]\n",
            "100%|██████████| 24/24 [00:00<00:00, 58.40it/s]\n"
          ]
        },
        {
          "output_type": "stream",
          "name": "stdout",
          "text": [
            "\tEPOCH:114/1000\tTrain Loss: 0.458 |\t Val. Loss: 8.795\n"
          ]
        },
        {
          "output_type": "stream",
          "name": "stderr",
          "text": [
            "100%|██████████| 94/94 [00:05<00:00, 18.70it/s]\n",
            "100%|██████████| 24/24 [00:00<00:00, 44.90it/s]\n"
          ]
        },
        {
          "output_type": "stream",
          "name": "stdout",
          "text": [
            "\tEPOCH:115/1000\tTrain Loss: 0.455 |\t Val. Loss: 8.777\n"
          ]
        },
        {
          "output_type": "stream",
          "name": "stderr",
          "text": [
            "100%|██████████| 94/94 [00:04<00:00, 19.21it/s]\n",
            "100%|██████████| 24/24 [00:00<00:00, 56.61it/s]\n"
          ]
        },
        {
          "output_type": "stream",
          "name": "stdout",
          "text": [
            "\tEPOCH:116/1000\tTrain Loss: 0.448 |\t Val. Loss: 8.808\n"
          ]
        },
        {
          "output_type": "stream",
          "name": "stderr",
          "text": [
            "100%|██████████| 94/94 [00:04<00:00, 20.39it/s]\n",
            "100%|██████████| 24/24 [00:00<00:00, 57.02it/s]\n"
          ]
        },
        {
          "output_type": "stream",
          "name": "stdout",
          "text": [
            "\tEPOCH:117/1000\tTrain Loss: 0.433 |\t Val. Loss: 8.850\n"
          ]
        },
        {
          "output_type": "stream",
          "name": "stderr",
          "text": [
            "100%|██████████| 94/94 [00:05<00:00, 17.12it/s]\n",
            "100%|██████████| 24/24 [00:00<00:00, 56.81it/s]\n"
          ]
        },
        {
          "output_type": "stream",
          "name": "stdout",
          "text": [
            "\tEPOCH:118/1000\tTrain Loss: 0.456 |\t Val. Loss: 8.860\n"
          ]
        },
        {
          "output_type": "stream",
          "name": "stderr",
          "text": [
            "100%|██████████| 94/94 [00:04<00:00, 20.39it/s]\n",
            "100%|██████████| 24/24 [00:00<00:00, 56.47it/s]\n"
          ]
        },
        {
          "output_type": "stream",
          "name": "stdout",
          "text": [
            "\tEPOCH:119/1000\tTrain Loss: 0.445 |\t Val. Loss: 8.932\n"
          ]
        },
        {
          "output_type": "stream",
          "name": "stderr",
          "text": [
            "100%|██████████| 94/94 [00:04<00:00, 19.83it/s]\n",
            "100%|██████████| 24/24 [00:00<00:00, 41.65it/s]\n"
          ]
        },
        {
          "output_type": "stream",
          "name": "stdout",
          "text": [
            "\tEPOCH:120/1000\tTrain Loss: 0.446 |\t Val. Loss: 8.950\n"
          ]
        },
        {
          "output_type": "stream",
          "name": "stderr",
          "text": [
            "100%|██████████| 94/94 [00:05<00:00, 18.02it/s]\n",
            "100%|██████████| 24/24 [00:00<00:00, 56.25it/s]\n"
          ]
        },
        {
          "output_type": "stream",
          "name": "stdout",
          "text": [
            "\tEPOCH:121/1000\tTrain Loss: 0.415 |\t Val. Loss: 8.952\n"
          ]
        },
        {
          "output_type": "stream",
          "name": "stderr",
          "text": [
            "100%|██████████| 94/94 [00:04<00:00, 20.40it/s]\n",
            "100%|██████████| 24/24 [00:00<00:00, 54.51it/s]\n"
          ]
        },
        {
          "output_type": "stream",
          "name": "stdout",
          "text": [
            "\tEPOCH:122/1000\tTrain Loss: 0.405 |\t Val. Loss: 8.921\n"
          ]
        },
        {
          "output_type": "stream",
          "name": "stderr",
          "text": [
            "100%|██████████| 94/94 [00:05<00:00, 18.09it/s]\n",
            "100%|██████████| 24/24 [00:00<00:00, 44.78it/s]\n"
          ]
        },
        {
          "output_type": "stream",
          "name": "stdout",
          "text": [
            "\tEPOCH:123/1000\tTrain Loss: 0.397 |\t Val. Loss: 8.907\n"
          ]
        },
        {
          "output_type": "stream",
          "name": "stderr",
          "text": [
            "100%|██████████| 94/94 [00:04<00:00, 19.82it/s]\n",
            "100%|██████████| 24/24 [00:00<00:00, 55.77it/s]\n"
          ]
        },
        {
          "output_type": "stream",
          "name": "stdout",
          "text": [
            "\tEPOCH:124/1000\tTrain Loss: 0.377 |\t Val. Loss: 8.936\n"
          ]
        },
        {
          "output_type": "stream",
          "name": "stderr",
          "text": [
            "100%|██████████| 94/94 [00:04<00:00, 20.34it/s]\n",
            "100%|██████████| 24/24 [00:00<00:00, 57.26it/s]\n"
          ]
        },
        {
          "output_type": "stream",
          "name": "stdout",
          "text": [
            "\tEPOCH:125/1000\tTrain Loss: 0.379 |\t Val. Loss: 8.970\n"
          ]
        },
        {
          "output_type": "stream",
          "name": "stderr",
          "text": [
            "100%|██████████| 94/94 [00:05<00:00, 17.13it/s]\n",
            "100%|██████████| 24/24 [00:00<00:00, 58.52it/s]\n"
          ]
        },
        {
          "output_type": "stream",
          "name": "stdout",
          "text": [
            "\tEPOCH:126/1000\tTrain Loss: 0.371 |\t Val. Loss: 9.034\n"
          ]
        },
        {
          "output_type": "stream",
          "name": "stderr",
          "text": [
            "100%|██████████| 94/94 [00:04<00:00, 20.24it/s]\n",
            "100%|██████████| 24/24 [00:00<00:00, 58.45it/s]\n"
          ]
        },
        {
          "output_type": "stream",
          "name": "stdout",
          "text": [
            "\tEPOCH:127/1000\tTrain Loss: 0.374 |\t Val. Loss: 9.052\n"
          ]
        },
        {
          "output_type": "stream",
          "name": "stderr",
          "text": [
            "100%|██████████| 94/94 [00:04<00:00, 19.16it/s]\n",
            "100%|██████████| 24/24 [00:00<00:00, 44.79it/s]\n"
          ]
        },
        {
          "output_type": "stream",
          "name": "stdout",
          "text": [
            "\tEPOCH:128/1000\tTrain Loss: 0.363 |\t Val. Loss: 9.031\n"
          ]
        },
        {
          "output_type": "stream",
          "name": "stderr",
          "text": [
            "100%|██████████| 94/94 [00:04<00:00, 18.86it/s]\n",
            "100%|██████████| 24/24 [00:00<00:00, 57.40it/s]\n"
          ]
        },
        {
          "output_type": "stream",
          "name": "stdout",
          "text": [
            "\tEPOCH:129/1000\tTrain Loss: 0.362 |\t Val. Loss: 9.025\n"
          ]
        },
        {
          "output_type": "stream",
          "name": "stderr",
          "text": [
            "100%|██████████| 94/94 [00:04<00:00, 20.37it/s]\n",
            "100%|██████████| 24/24 [00:00<00:00, 56.68it/s]\n"
          ]
        },
        {
          "output_type": "stream",
          "name": "stdout",
          "text": [
            "\tEPOCH:130/1000\tTrain Loss: 0.349 |\t Val. Loss: 9.049\n"
          ]
        },
        {
          "output_type": "stream",
          "name": "stderr",
          "text": [
            "100%|██████████| 94/94 [00:05<00:00, 17.71it/s]\n",
            "100%|██████████| 24/24 [00:00<00:00, 44.43it/s]\n"
          ]
        },
        {
          "output_type": "stream",
          "name": "stdout",
          "text": [
            "\tEPOCH:131/1000\tTrain Loss: 0.343 |\t Val. Loss: 9.041\n"
          ]
        },
        {
          "output_type": "stream",
          "name": "stderr",
          "text": [
            "100%|██████████| 94/94 [00:04<00:00, 20.48it/s]\n",
            "100%|██████████| 24/24 [00:00<00:00, 58.23it/s]\n"
          ]
        },
        {
          "output_type": "stream",
          "name": "stdout",
          "text": [
            "\tEPOCH:132/1000\tTrain Loss: 0.347 |\t Val. Loss: 9.089\n"
          ]
        },
        {
          "output_type": "stream",
          "name": "stderr",
          "text": [
            "100%|██████████| 94/94 [00:04<00:00, 20.36it/s]\n",
            "100%|██████████| 24/24 [00:00<00:00, 44.94it/s]\n"
          ]
        },
        {
          "output_type": "stream",
          "name": "stdout",
          "text": [
            "\tEPOCH:133/1000\tTrain Loss: 0.342 |\t Val. Loss: 9.128\n"
          ]
        },
        {
          "output_type": "stream",
          "name": "stderr",
          "text": [
            "100%|██████████| 94/94 [00:06<00:00, 14.42it/s]\n",
            "100%|██████████| 24/24 [00:00<00:00, 44.63it/s]\n"
          ]
        },
        {
          "output_type": "stream",
          "name": "stdout",
          "text": [
            "\tEPOCH:134/1000\tTrain Loss: 0.348 |\t Val. Loss: 9.118\n"
          ]
        },
        {
          "output_type": "stream",
          "name": "stderr",
          "text": [
            "100%|██████████| 94/94 [00:04<00:00, 20.16it/s]\n",
            "100%|██████████| 24/24 [00:00<00:00, 57.30it/s]\n"
          ]
        },
        {
          "output_type": "stream",
          "name": "stdout",
          "text": [
            "\tEPOCH:135/1000\tTrain Loss: 0.350 |\t Val. Loss: 9.132\n"
          ]
        },
        {
          "output_type": "stream",
          "name": "stderr",
          "text": [
            "100%|██████████| 94/94 [00:04<00:00, 19.38it/s]\n",
            "100%|██████████| 24/24 [00:00<00:00, 45.38it/s]\n"
          ]
        },
        {
          "output_type": "stream",
          "name": "stdout",
          "text": [
            "\tEPOCH:136/1000\tTrain Loss: 0.357 |\t Val. Loss: 9.187\n"
          ]
        },
        {
          "output_type": "stream",
          "name": "stderr",
          "text": [
            "100%|██████████| 94/94 [00:05<00:00, 18.48it/s]\n",
            "100%|██████████| 24/24 [00:00<00:00, 57.00it/s]\n"
          ]
        },
        {
          "output_type": "stream",
          "name": "stdout",
          "text": [
            "\tEPOCH:137/1000\tTrain Loss: 0.349 |\t Val. Loss: 9.169\n"
          ]
        },
        {
          "output_type": "stream",
          "name": "stderr",
          "text": [
            "100%|██████████| 94/94 [00:04<00:00, 20.37it/s]\n",
            "100%|██████████| 24/24 [00:00<00:00, 58.54it/s]\n"
          ]
        },
        {
          "output_type": "stream",
          "name": "stdout",
          "text": [
            "\tEPOCH:138/1000\tTrain Loss: 0.347 |\t Val. Loss: 9.173\n"
          ]
        },
        {
          "output_type": "stream",
          "name": "stderr",
          "text": [
            "100%|██████████| 94/94 [00:05<00:00, 17.75it/s]\n",
            "100%|██████████| 24/24 [00:00<00:00, 42.91it/s]\n"
          ]
        },
        {
          "output_type": "stream",
          "name": "stdout",
          "text": [
            "\tEPOCH:139/1000\tTrain Loss: 0.357 |\t Val. Loss: 9.203\n"
          ]
        },
        {
          "output_type": "stream",
          "name": "stderr",
          "text": [
            "100%|██████████| 94/94 [00:04<00:00, 20.43it/s]\n",
            "100%|██████████| 24/24 [00:00<00:00, 57.77it/s]\n"
          ]
        },
        {
          "output_type": "stream",
          "name": "stdout",
          "text": [
            "\tEPOCH:140/1000\tTrain Loss: 0.351 |\t Val. Loss: 9.196\n"
          ]
        },
        {
          "output_type": "stream",
          "name": "stderr",
          "text": [
            "100%|██████████| 94/94 [00:04<00:00, 20.57it/s]\n",
            "100%|██████████| 24/24 [00:00<00:00, 46.83it/s]\n"
          ]
        },
        {
          "output_type": "stream",
          "name": "stdout",
          "text": [
            "\tEPOCH:141/1000\tTrain Loss: 0.371 |\t Val. Loss: 9.191\n"
          ]
        },
        {
          "output_type": "stream",
          "name": "stderr",
          "text": [
            "100%|██████████| 94/94 [00:05<00:00, 17.34it/s]\n",
            "100%|██████████| 24/24 [00:00<00:00, 55.63it/s]\n"
          ]
        },
        {
          "output_type": "stream",
          "name": "stdout",
          "text": [
            "\tEPOCH:142/1000\tTrain Loss: 0.368 |\t Val. Loss: 9.253\n"
          ]
        },
        {
          "output_type": "stream",
          "name": "stderr",
          "text": [
            "100%|██████████| 94/94 [00:04<00:00, 20.46it/s]\n",
            "100%|██████████| 24/24 [00:00<00:00, 56.84it/s]\n"
          ]
        },
        {
          "output_type": "stream",
          "name": "stdout",
          "text": [
            "\tEPOCH:143/1000\tTrain Loss: 0.355 |\t Val. Loss: 9.284\n"
          ]
        },
        {
          "output_type": "stream",
          "name": "stderr",
          "text": [
            "100%|██████████| 94/94 [00:05<00:00, 18.56it/s]\n",
            "100%|██████████| 24/24 [00:00<00:00, 43.89it/s]\n"
          ]
        },
        {
          "output_type": "stream",
          "name": "stdout",
          "text": [
            "\tEPOCH:144/1000\tTrain Loss: 0.361 |\t Val. Loss: 9.285\n"
          ]
        },
        {
          "output_type": "stream",
          "name": "stderr",
          "text": [
            "100%|██████████| 94/94 [00:04<00:00, 19.22it/s]\n",
            "100%|██████████| 24/24 [00:00<00:00, 56.11it/s]\n"
          ]
        },
        {
          "output_type": "stream",
          "name": "stdout",
          "text": [
            "\tEPOCH:145/1000\tTrain Loss: 0.365 |\t Val. Loss: 9.247\n"
          ]
        },
        {
          "output_type": "stream",
          "name": "stderr",
          "text": [
            "100%|██████████| 94/94 [00:04<00:00, 20.29it/s]\n",
            "100%|██████████| 24/24 [00:00<00:00, 57.80it/s]\n"
          ]
        },
        {
          "output_type": "stream",
          "name": "stdout",
          "text": [
            "\tEPOCH:146/1000\tTrain Loss: 0.352 |\t Val. Loss: 9.241\n"
          ]
        },
        {
          "output_type": "stream",
          "name": "stderr",
          "text": [
            "100%|██████████| 94/94 [00:05<00:00, 17.30it/s]\n",
            "100%|██████████| 24/24 [00:00<00:00, 58.18it/s]\n"
          ]
        },
        {
          "output_type": "stream",
          "name": "stdout",
          "text": [
            "\tEPOCH:147/1000\tTrain Loss: 0.334 |\t Val. Loss: 9.268\n"
          ]
        },
        {
          "output_type": "stream",
          "name": "stderr",
          "text": [
            "100%|██████████| 94/94 [00:04<00:00, 20.40it/s]\n",
            "100%|██████████| 24/24 [00:00<00:00, 56.85it/s]\n"
          ]
        },
        {
          "output_type": "stream",
          "name": "stdout",
          "text": [
            "\tEPOCH:148/1000\tTrain Loss: 0.340 |\t Val. Loss: 9.260\n"
          ]
        },
        {
          "output_type": "stream",
          "name": "stderr",
          "text": [
            "100%|██████████| 94/94 [00:04<00:00, 19.86it/s]\n",
            "100%|██████████| 24/24 [00:00<00:00, 40.54it/s]\n"
          ]
        },
        {
          "output_type": "stream",
          "name": "stdout",
          "text": [
            "\tEPOCH:149/1000\tTrain Loss: 0.323 |\t Val. Loss: 9.369\n"
          ]
        },
        {
          "output_type": "stream",
          "name": "stderr",
          "text": [
            "100%|██████████| 94/94 [00:05<00:00, 18.24it/s]\n",
            "100%|██████████| 24/24 [00:00<00:00, 57.99it/s]\n"
          ]
        },
        {
          "output_type": "stream",
          "name": "stdout",
          "text": [
            "\tEPOCH:150/1000\tTrain Loss: 0.306 |\t Val. Loss: 9.380\n"
          ]
        },
        {
          "output_type": "stream",
          "name": "stderr",
          "text": [
            "100%|██████████| 94/94 [00:04<00:00, 20.45it/s]\n",
            "100%|██████████| 24/24 [00:00<00:00, 56.26it/s]\n"
          ]
        },
        {
          "output_type": "stream",
          "name": "stdout",
          "text": [
            "\tEPOCH:151/1000\tTrain Loss: 0.296 |\t Val. Loss: 9.381\n"
          ]
        },
        {
          "output_type": "stream",
          "name": "stderr",
          "text": [
            "100%|██████████| 94/94 [00:05<00:00, 18.21it/s]\n",
            "100%|██████████| 24/24 [00:00<00:00, 45.09it/s]\n"
          ]
        },
        {
          "output_type": "stream",
          "name": "stdout",
          "text": [
            "\tEPOCH:152/1000\tTrain Loss: 0.286 |\t Val. Loss: 9.321\n"
          ]
        },
        {
          "output_type": "stream",
          "name": "stderr",
          "text": [
            "100%|██████████| 94/94 [00:04<00:00, 19.70it/s]\n",
            "100%|██████████| 24/24 [00:00<00:00, 58.39it/s]\n"
          ]
        },
        {
          "output_type": "stream",
          "name": "stdout",
          "text": [
            "\tEPOCH:153/1000\tTrain Loss: 0.259 |\t Val. Loss: 9.370\n"
          ]
        },
        {
          "output_type": "stream",
          "name": "stderr",
          "text": [
            "100%|██████████| 94/94 [00:04<00:00, 20.41it/s]\n",
            "100%|██████████| 24/24 [00:00<00:00, 56.52it/s]\n"
          ]
        },
        {
          "output_type": "stream",
          "name": "stdout",
          "text": [
            "\tEPOCH:154/1000\tTrain Loss: 0.261 |\t Val. Loss: 9.387\n"
          ]
        },
        {
          "output_type": "stream",
          "name": "stderr",
          "text": [
            "100%|██████████| 94/94 [00:05<00:00, 17.18it/s]\n",
            "100%|██████████| 24/24 [00:00<00:00, 58.72it/s]\n"
          ]
        },
        {
          "output_type": "stream",
          "name": "stdout",
          "text": [
            "\tEPOCH:155/1000\tTrain Loss: 0.257 |\t Val. Loss: 9.431\n"
          ]
        },
        {
          "output_type": "stream",
          "name": "stderr",
          "text": [
            "100%|██████████| 94/94 [00:04<00:00, 20.51it/s]\n",
            "100%|██████████| 24/24 [00:00<00:00, 58.10it/s]\n"
          ]
        },
        {
          "output_type": "stream",
          "name": "stdout",
          "text": [
            "\tEPOCH:156/1000\tTrain Loss: 0.257 |\t Val. Loss: 9.463\n"
          ]
        },
        {
          "output_type": "stream",
          "name": "stderr",
          "text": [
            "100%|██████████| 94/94 [00:04<00:00, 19.07it/s]\n",
            "100%|██████████| 24/24 [00:00<00:00, 43.13it/s]\n"
          ]
        },
        {
          "output_type": "stream",
          "name": "stdout",
          "text": [
            "\tEPOCH:157/1000\tTrain Loss: 0.250 |\t Val. Loss: 9.502\n"
          ]
        },
        {
          "output_type": "stream",
          "name": "stderr",
          "text": [
            "100%|██████████| 94/94 [00:05<00:00, 18.78it/s]\n",
            "100%|██████████| 24/24 [00:00<00:00, 58.26it/s]\n"
          ]
        },
        {
          "output_type": "stream",
          "name": "stdout",
          "text": [
            "\tEPOCH:158/1000\tTrain Loss: 0.242 |\t Val. Loss: 9.480\n"
          ]
        },
        {
          "output_type": "stream",
          "name": "stderr",
          "text": [
            "100%|██████████| 94/94 [00:04<00:00, 20.37it/s]\n",
            "100%|██████████| 24/24 [00:00<00:00, 58.53it/s]\n"
          ]
        },
        {
          "output_type": "stream",
          "name": "stdout",
          "text": [
            "\tEPOCH:159/1000\tTrain Loss: 0.238 |\t Val. Loss: 9.466\n"
          ]
        },
        {
          "output_type": "stream",
          "name": "stderr",
          "text": [
            "100%|██████████| 94/94 [00:05<00:00, 17.41it/s]\n",
            "100%|██████████| 24/24 [00:00<00:00, 41.95it/s]\n"
          ]
        },
        {
          "output_type": "stream",
          "name": "stdout",
          "text": [
            "\tEPOCH:160/1000\tTrain Loss: 0.235 |\t Val. Loss: 9.507\n"
          ]
        },
        {
          "output_type": "stream",
          "name": "stderr",
          "text": [
            "100%|██████████| 94/94 [00:04<00:00, 20.51it/s]\n",
            "100%|██████████| 24/24 [00:00<00:00, 57.01it/s]\n"
          ]
        },
        {
          "output_type": "stream",
          "name": "stdout",
          "text": [
            "\tEPOCH:161/1000\tTrain Loss: 0.232 |\t Val. Loss: 9.475\n"
          ]
        },
        {
          "output_type": "stream",
          "name": "stderr",
          "text": [
            "100%|██████████| 94/94 [00:04<00:00, 20.49it/s]\n",
            "100%|██████████| 24/24 [00:00<00:00, 46.62it/s]\n"
          ]
        },
        {
          "output_type": "stream",
          "name": "stdout",
          "text": [
            "\tEPOCH:162/1000\tTrain Loss: 0.233 |\t Val. Loss: 9.507\n"
          ]
        },
        {
          "output_type": "stream",
          "name": "stderr",
          "text": [
            "100%|██████████| 94/94 [00:05<00:00, 17.56it/s]\n",
            "100%|██████████| 24/24 [00:00<00:00, 56.65it/s]\n"
          ]
        },
        {
          "output_type": "stream",
          "name": "stdout",
          "text": [
            "\tEPOCH:163/1000\tTrain Loss: 0.241 |\t Val. Loss: 9.528\n"
          ]
        },
        {
          "output_type": "stream",
          "name": "stderr",
          "text": [
            "100%|██████████| 94/94 [00:04<00:00, 20.52it/s]\n",
            "100%|██████████| 24/24 [00:00<00:00, 55.95it/s]\n"
          ]
        },
        {
          "output_type": "stream",
          "name": "stdout",
          "text": [
            "\tEPOCH:164/1000\tTrain Loss: 0.239 |\t Val. Loss: 9.553\n"
          ]
        },
        {
          "output_type": "stream",
          "name": "stderr",
          "text": [
            "100%|██████████| 94/94 [00:05<00:00, 18.52it/s]\n",
            "100%|██████████| 24/24 [00:00<00:00, 43.64it/s]\n"
          ]
        },
        {
          "output_type": "stream",
          "name": "stdout",
          "text": [
            "\tEPOCH:165/1000\tTrain Loss: 0.242 |\t Val. Loss: 9.594\n"
          ]
        },
        {
          "output_type": "stream",
          "name": "stderr",
          "text": [
            "100%|██████████| 94/94 [00:04<00:00, 18.96it/s]\n",
            "100%|██████████| 24/24 [00:00<00:00, 55.79it/s]\n"
          ]
        },
        {
          "output_type": "stream",
          "name": "stdout",
          "text": [
            "\tEPOCH:166/1000\tTrain Loss: 0.253 |\t Val. Loss: 9.571\n"
          ]
        },
        {
          "output_type": "stream",
          "name": "stderr",
          "text": [
            "100%|██████████| 94/94 [00:04<00:00, 20.53it/s]\n",
            "100%|██████████| 24/24 [00:00<00:00, 56.25it/s]\n"
          ]
        },
        {
          "output_type": "stream",
          "name": "stdout",
          "text": [
            "\tEPOCH:167/1000\tTrain Loss: 0.246 |\t Val. Loss: 9.578\n"
          ]
        },
        {
          "output_type": "stream",
          "name": "stderr",
          "text": [
            "100%|██████████| 94/94 [00:05<00:00, 17.24it/s]\n",
            "100%|██████████| 24/24 [00:00<00:00, 56.83it/s]\n"
          ]
        },
        {
          "output_type": "stream",
          "name": "stdout",
          "text": [
            "\tEPOCH:168/1000\tTrain Loss: 0.245 |\t Val. Loss: 9.587\n"
          ]
        },
        {
          "output_type": "stream",
          "name": "stderr",
          "text": [
            "100%|██████████| 94/94 [00:04<00:00, 20.54it/s]\n",
            "100%|██████████| 24/24 [00:00<00:00, 54.73it/s]\n"
          ]
        },
        {
          "output_type": "stream",
          "name": "stdout",
          "text": [
            "\tEPOCH:169/1000\tTrain Loss: 0.245 |\t Val. Loss: 9.568\n"
          ]
        },
        {
          "output_type": "stream",
          "name": "stderr",
          "text": [
            "100%|██████████| 94/94 [00:04<00:00, 19.85it/s]\n",
            "100%|██████████| 24/24 [00:00<00:00, 44.58it/s]\n"
          ]
        },
        {
          "output_type": "stream",
          "name": "stdout",
          "text": [
            "\tEPOCH:170/1000\tTrain Loss: 0.265 |\t Val. Loss: 9.656\n"
          ]
        },
        {
          "output_type": "stream",
          "name": "stderr",
          "text": [
            "100%|██████████| 94/94 [00:05<00:00, 17.82it/s]\n",
            "100%|██████████| 24/24 [00:00<00:00, 59.47it/s]\n"
          ]
        },
        {
          "output_type": "stream",
          "name": "stdout",
          "text": [
            "\tEPOCH:171/1000\tTrain Loss: 0.266 |\t Val. Loss: 9.649\n"
          ]
        },
        {
          "output_type": "stream",
          "name": "stderr",
          "text": [
            "100%|██████████| 94/94 [00:04<00:00, 20.27it/s]\n",
            "100%|██████████| 24/24 [00:00<00:00, 58.30it/s]\n"
          ]
        },
        {
          "output_type": "stream",
          "name": "stdout",
          "text": [
            "\tEPOCH:172/1000\tTrain Loss: 0.251 |\t Val. Loss: 9.692\n"
          ]
        },
        {
          "output_type": "stream",
          "name": "stderr",
          "text": [
            "100%|██████████| 94/94 [00:05<00:00, 18.34it/s]\n",
            "100%|██████████| 24/24 [00:00<00:00, 45.87it/s]\n"
          ]
        },
        {
          "output_type": "stream",
          "name": "stdout",
          "text": [
            "\tEPOCH:173/1000\tTrain Loss: 0.260 |\t Val. Loss: 9.717\n"
          ]
        },
        {
          "output_type": "stream",
          "name": "stderr",
          "text": [
            "100%|██████████| 94/94 [00:04<00:00, 19.51it/s]\n",
            "100%|██████████| 24/24 [00:00<00:00, 55.89it/s]\n"
          ]
        },
        {
          "output_type": "stream",
          "name": "stdout",
          "text": [
            "\tEPOCH:174/1000\tTrain Loss: 0.262 |\t Val. Loss: 9.719\n"
          ]
        },
        {
          "output_type": "stream",
          "name": "stderr",
          "text": [
            "100%|██████████| 94/94 [00:04<00:00, 20.46it/s]\n",
            "100%|██████████| 24/24 [00:00<00:00, 57.01it/s]\n"
          ]
        },
        {
          "output_type": "stream",
          "name": "stdout",
          "text": [
            "\tEPOCH:175/1000\tTrain Loss: 0.257 |\t Val. Loss: 9.700\n"
          ]
        },
        {
          "output_type": "stream",
          "name": "stderr",
          "text": [
            "100%|██████████| 94/94 [00:05<00:00, 17.08it/s]\n",
            "100%|██████████| 24/24 [00:00<00:00, 55.80it/s]\n"
          ]
        },
        {
          "output_type": "stream",
          "name": "stdout",
          "text": [
            "\tEPOCH:176/1000\tTrain Loss: 0.268 |\t Val. Loss: 9.692\n"
          ]
        },
        {
          "output_type": "stream",
          "name": "stderr",
          "text": [
            "100%|██████████| 94/94 [00:04<00:00, 20.42it/s]\n",
            "100%|██████████| 24/24 [00:00<00:00, 58.96it/s]\n"
          ]
        },
        {
          "output_type": "stream",
          "name": "stdout",
          "text": [
            "\tEPOCH:177/1000\tTrain Loss: 0.275 |\t Val. Loss: 9.709\n"
          ]
        },
        {
          "output_type": "stream",
          "name": "stderr",
          "text": [
            "100%|██████████| 94/94 [00:04<00:00, 19.18it/s]\n",
            "100%|██████████| 24/24 [00:00<00:00, 42.56it/s]\n"
          ]
        },
        {
          "output_type": "stream",
          "name": "stdout",
          "text": [
            "\tEPOCH:178/1000\tTrain Loss: 0.275 |\t Val. Loss: 9.706\n"
          ]
        },
        {
          "output_type": "stream",
          "name": "stderr",
          "text": [
            "100%|██████████| 94/94 [00:05<00:00, 18.70it/s]\n",
            "100%|██████████| 24/24 [00:00<00:00, 57.70it/s]\n"
          ]
        },
        {
          "output_type": "stream",
          "name": "stdout",
          "text": [
            "\tEPOCH:179/1000\tTrain Loss: 0.273 |\t Val. Loss: 9.746\n"
          ]
        },
        {
          "output_type": "stream",
          "name": "stderr",
          "text": [
            "100%|██████████| 94/94 [00:04<00:00, 20.30it/s]\n",
            "100%|██████████| 24/24 [00:00<00:00, 57.53it/s]\n"
          ]
        },
        {
          "output_type": "stream",
          "name": "stdout",
          "text": [
            "\tEPOCH:180/1000\tTrain Loss: 0.263 |\t Val. Loss: 9.759\n"
          ]
        },
        {
          "output_type": "stream",
          "name": "stderr",
          "text": [
            "100%|██████████| 94/94 [00:05<00:00, 17.69it/s]\n",
            "100%|██████████| 24/24 [00:00<00:00, 42.60it/s]\n"
          ]
        },
        {
          "output_type": "stream",
          "name": "stdout",
          "text": [
            "\tEPOCH:181/1000\tTrain Loss: 0.240 |\t Val. Loss: 9.741\n"
          ]
        },
        {
          "output_type": "stream",
          "name": "stderr",
          "text": [
            "100%|██████████| 94/94 [00:05<00:00, 17.04it/s]\n",
            "100%|██████████| 24/24 [00:00<00:00, 56.14it/s]\n"
          ]
        },
        {
          "output_type": "stream",
          "name": "stdout",
          "text": [
            "\tEPOCH:182/1000\tTrain Loss: 0.252 |\t Val. Loss: 9.753\n"
          ]
        },
        {
          "output_type": "stream",
          "name": "stderr",
          "text": [
            "100%|██████████| 94/94 [00:04<00:00, 19.51it/s]\n",
            "100%|██████████| 24/24 [00:00<00:00, 44.19it/s]\n"
          ]
        },
        {
          "output_type": "stream",
          "name": "stdout",
          "text": [
            "\tEPOCH:183/1000\tTrain Loss: 0.232 |\t Val. Loss: 9.744\n"
          ]
        },
        {
          "output_type": "stream",
          "name": "stderr",
          "text": [
            "100%|██████████| 94/94 [00:05<00:00, 18.07it/s]\n",
            "100%|██████████| 24/24 [00:00<00:00, 55.70it/s]\n"
          ]
        },
        {
          "output_type": "stream",
          "name": "stdout",
          "text": [
            "\tEPOCH:184/1000\tTrain Loss: 0.221 |\t Val. Loss: 9.804\n"
          ]
        },
        {
          "output_type": "stream",
          "name": "stderr",
          "text": [
            "100%|██████████| 94/94 [00:04<00:00, 20.42it/s]\n",
            "100%|██████████| 24/24 [00:00<00:00, 56.27it/s]\n"
          ]
        },
        {
          "output_type": "stream",
          "name": "stdout",
          "text": [
            "\tEPOCH:185/1000\tTrain Loss: 0.195 |\t Val. Loss: 9.832\n"
          ]
        },
        {
          "output_type": "stream",
          "name": "stderr",
          "text": [
            "100%|██████████| 94/94 [00:05<00:00, 17.79it/s]\n",
            "100%|██████████| 24/24 [00:00<00:00, 43.42it/s]\n"
          ]
        },
        {
          "output_type": "stream",
          "name": "stdout",
          "text": [
            "\tEPOCH:186/1000\tTrain Loss: 0.184 |\t Val. Loss: 9.821\n"
          ]
        },
        {
          "output_type": "stream",
          "name": "stderr",
          "text": [
            "100%|██████████| 94/94 [00:04<00:00, 20.00it/s]\n",
            "100%|██████████| 24/24 [00:00<00:00, 57.30it/s]\n"
          ]
        },
        {
          "output_type": "stream",
          "name": "stdout",
          "text": [
            "\tEPOCH:187/1000\tTrain Loss: 0.181 |\t Val. Loss: 9.839\n"
          ]
        },
        {
          "output_type": "stream",
          "name": "stderr",
          "text": [
            "100%|██████████| 94/94 [00:04<00:00, 20.47it/s]\n",
            "100%|██████████| 24/24 [00:00<00:00, 52.18it/s]\n"
          ]
        },
        {
          "output_type": "stream",
          "name": "stdout",
          "text": [
            "\tEPOCH:188/1000\tTrain Loss: 0.179 |\t Val. Loss: 9.847\n"
          ]
        },
        {
          "output_type": "stream",
          "name": "stderr",
          "text": [
            "100%|██████████| 94/94 [00:05<00:00, 17.52it/s]\n",
            "100%|██████████| 24/24 [00:00<00:00, 56.57it/s]\n"
          ]
        },
        {
          "output_type": "stream",
          "name": "stdout",
          "text": [
            "\tEPOCH:189/1000\tTrain Loss: 0.167 |\t Val. Loss: 9.845\n"
          ]
        },
        {
          "output_type": "stream",
          "name": "stderr",
          "text": [
            "100%|██████████| 94/94 [00:04<00:00, 20.40it/s]\n",
            "100%|██████████| 24/24 [00:00<00:00, 56.88it/s]\n"
          ]
        },
        {
          "output_type": "stream",
          "name": "stdout",
          "text": [
            "\tEPOCH:190/1000\tTrain Loss: 0.164 |\t Val. Loss: 9.867\n"
          ]
        },
        {
          "output_type": "stream",
          "name": "stderr",
          "text": [
            "100%|██████████| 94/94 [00:04<00:00, 18.83it/s]\n",
            "100%|██████████| 24/24 [00:00<00:00, 45.46it/s]\n"
          ]
        },
        {
          "output_type": "stream",
          "name": "stdout",
          "text": [
            "\tEPOCH:191/1000\tTrain Loss: 0.156 |\t Val. Loss: 9.904\n"
          ]
        },
        {
          "output_type": "stream",
          "name": "stderr",
          "text": [
            "100%|██████████| 94/94 [00:04<00:00, 18.99it/s]\n",
            "100%|██████████| 24/24 [00:00<00:00, 54.18it/s]\n"
          ]
        },
        {
          "output_type": "stream",
          "name": "stdout",
          "text": [
            "\tEPOCH:192/1000\tTrain Loss: 0.152 |\t Val. Loss: 9.900\n"
          ]
        },
        {
          "output_type": "stream",
          "name": "stderr",
          "text": [
            "100%|██████████| 94/94 [00:04<00:00, 20.26it/s]\n",
            "100%|██████████| 24/24 [00:00<00:00, 57.03it/s]\n"
          ]
        },
        {
          "output_type": "stream",
          "name": "stdout",
          "text": [
            "\tEPOCH:193/1000\tTrain Loss: 0.153 |\t Val. Loss: 9.961\n"
          ]
        },
        {
          "output_type": "stream",
          "name": "stderr",
          "text": [
            "100%|██████████| 94/94 [00:05<00:00, 17.50it/s]\n",
            "100%|██████████| 24/24 [00:00<00:00, 57.75it/s]\n"
          ]
        },
        {
          "output_type": "stream",
          "name": "stdout",
          "text": [
            "\tEPOCH:194/1000\tTrain Loss: 0.147 |\t Val. Loss: 9.943\n"
          ]
        },
        {
          "output_type": "stream",
          "name": "stderr",
          "text": [
            "100%|██████████| 94/94 [00:04<00:00, 20.42it/s]\n",
            "100%|██████████| 24/24 [00:00<00:00, 57.32it/s]\n"
          ]
        },
        {
          "output_type": "stream",
          "name": "stdout",
          "text": [
            "\tEPOCH:195/1000\tTrain Loss: 0.162 |\t Val. Loss: 9.963\n"
          ]
        },
        {
          "output_type": "stream",
          "name": "stderr",
          "text": [
            "100%|██████████| 94/94 [00:04<00:00, 19.95it/s]\n",
            "100%|██████████| 24/24 [00:00<00:00, 43.59it/s]\n"
          ]
        },
        {
          "output_type": "stream",
          "name": "stdout",
          "text": [
            "\tEPOCH:196/1000\tTrain Loss: 0.149 |\t Val. Loss: 9.999\n"
          ]
        },
        {
          "output_type": "stream",
          "name": "stderr",
          "text": [
            "100%|██████████| 94/94 [00:05<00:00, 17.97it/s]\n",
            "100%|██████████| 24/24 [00:00<00:00, 56.78it/s]\n"
          ]
        },
        {
          "output_type": "stream",
          "name": "stdout",
          "text": [
            "\tEPOCH:197/1000\tTrain Loss: 0.148 |\t Val. Loss: 10.021\n"
          ]
        },
        {
          "output_type": "stream",
          "name": "stderr",
          "text": [
            "100%|██████████| 94/94 [00:04<00:00, 20.32it/s]\n",
            "100%|██████████| 24/24 [00:00<00:00, 56.47it/s]\n"
          ]
        },
        {
          "output_type": "stream",
          "name": "stdout",
          "text": [
            "\tEPOCH:198/1000\tTrain Loss: 0.154 |\t Val. Loss: 10.036\n"
          ]
        },
        {
          "output_type": "stream",
          "name": "stderr",
          "text": [
            "100%|██████████| 94/94 [00:05<00:00, 18.29it/s]\n",
            "100%|██████████| 24/24 [00:00<00:00, 44.90it/s]\n"
          ]
        },
        {
          "output_type": "stream",
          "name": "stdout",
          "text": [
            "\tEPOCH:199/1000\tTrain Loss: 0.161 |\t Val. Loss: 10.048\n"
          ]
        },
        {
          "output_type": "stream",
          "name": "stderr",
          "text": [
            "100%|██████████| 94/94 [00:04<00:00, 19.70it/s]\n",
            "100%|██████████| 24/24 [00:00<00:00, 56.79it/s]\n"
          ]
        },
        {
          "output_type": "stream",
          "name": "stdout",
          "text": [
            "\tEPOCH:200/1000\tTrain Loss: 0.163 |\t Val. Loss: 10.009\n"
          ]
        },
        {
          "output_type": "stream",
          "name": "stderr",
          "text": [
            "100%|██████████| 94/94 [00:04<00:00, 20.39it/s]\n",
            "100%|██████████| 24/24 [00:00<00:00, 57.35it/s]\n"
          ]
        },
        {
          "output_type": "stream",
          "name": "stdout",
          "text": [
            "\tEPOCH:201/1000\tTrain Loss: 0.155 |\t Val. Loss: 10.056\n"
          ]
        },
        {
          "output_type": "stream",
          "name": "stderr",
          "text": [
            "100%|██████████| 94/94 [00:05<00:00, 17.04it/s]\n",
            "100%|██████████| 24/24 [00:00<00:00, 58.19it/s]\n"
          ]
        },
        {
          "output_type": "stream",
          "name": "stdout",
          "text": [
            "\tEPOCH:202/1000\tTrain Loss: 0.152 |\t Val. Loss: 10.059\n"
          ]
        },
        {
          "output_type": "stream",
          "name": "stderr",
          "text": [
            "100%|██████████| 94/94 [00:04<00:00, 20.31it/s]\n",
            "100%|██████████| 24/24 [00:00<00:00, 57.23it/s]\n"
          ]
        },
        {
          "output_type": "stream",
          "name": "stdout",
          "text": [
            "\tEPOCH:203/1000\tTrain Loss: 0.154 |\t Val. Loss: 10.067\n"
          ]
        },
        {
          "output_type": "stream",
          "name": "stderr",
          "text": [
            "100%|██████████| 94/94 [00:04<00:00, 19.31it/s]\n",
            "100%|██████████| 24/24 [00:00<00:00, 43.09it/s]\n"
          ]
        },
        {
          "output_type": "stream",
          "name": "stdout",
          "text": [
            "\tEPOCH:204/1000\tTrain Loss: 0.161 |\t Val. Loss: 10.069\n"
          ]
        },
        {
          "output_type": "stream",
          "name": "stderr",
          "text": [
            "100%|██████████| 94/94 [00:05<00:00, 18.28it/s]\n",
            "100%|██████████| 24/24 [00:00<00:00, 56.02it/s]\n"
          ]
        },
        {
          "output_type": "stream",
          "name": "stdout",
          "text": [
            "\tEPOCH:205/1000\tTrain Loss: 0.160 |\t Val. Loss: 10.124\n"
          ]
        },
        {
          "output_type": "stream",
          "name": "stderr",
          "text": [
            "100%|██████████| 94/94 [00:04<00:00, 20.29it/s]\n",
            "100%|██████████| 24/24 [00:00<00:00, 56.93it/s]\n"
          ]
        },
        {
          "output_type": "stream",
          "name": "stdout",
          "text": [
            "\tEPOCH:206/1000\tTrain Loss: 0.157 |\t Val. Loss: 10.095\n"
          ]
        },
        {
          "output_type": "stream",
          "name": "stderr",
          "text": [
            "100%|██████████| 94/94 [00:05<00:00, 17.43it/s]\n",
            "100%|██████████| 24/24 [00:00<00:00, 39.72it/s]\n"
          ]
        },
        {
          "output_type": "stream",
          "name": "stdout",
          "text": [
            "\tEPOCH:207/1000\tTrain Loss: 0.166 |\t Val. Loss: 10.078\n"
          ]
        },
        {
          "output_type": "stream",
          "name": "stderr",
          "text": [
            "100%|██████████| 94/94 [00:04<00:00, 19.99it/s]\n",
            "100%|██████████| 24/24 [00:00<00:00, 56.77it/s]\n"
          ]
        },
        {
          "output_type": "stream",
          "name": "stdout",
          "text": [
            "\tEPOCH:208/1000\tTrain Loss: 0.173 |\t Val. Loss: 10.098\n"
          ]
        },
        {
          "output_type": "stream",
          "name": "stderr",
          "text": [
            "100%|██████████| 94/94 [00:04<00:00, 19.99it/s]\n",
            "100%|██████████| 24/24 [00:00<00:00, 46.07it/s]\n"
          ]
        },
        {
          "output_type": "stream",
          "name": "stdout",
          "text": [
            "\tEPOCH:209/1000\tTrain Loss: 0.172 |\t Val. Loss: 10.122\n"
          ]
        },
        {
          "output_type": "stream",
          "name": "stderr",
          "text": [
            "100%|██████████| 94/94 [00:05<00:00, 17.40it/s]\n",
            "100%|██████████| 24/24 [00:00<00:00, 56.65it/s]\n"
          ]
        },
        {
          "output_type": "stream",
          "name": "stdout",
          "text": [
            "\tEPOCH:210/1000\tTrain Loss: 0.169 |\t Val. Loss: 10.130\n"
          ]
        },
        {
          "output_type": "stream",
          "name": "stderr",
          "text": [
            "100%|██████████| 94/94 [00:04<00:00, 20.15it/s]\n",
            "100%|██████████| 24/24 [00:00<00:00, 55.68it/s]\n"
          ]
        },
        {
          "output_type": "stream",
          "name": "stdout",
          "text": [
            "\tEPOCH:211/1000\tTrain Loss: 0.167 |\t Val. Loss: 10.141\n"
          ]
        },
        {
          "output_type": "stream",
          "name": "stderr",
          "text": [
            "100%|██████████| 94/94 [00:05<00:00, 18.55it/s]\n",
            "100%|██████████| 24/24 [00:00<00:00, 42.40it/s]\n"
          ]
        },
        {
          "output_type": "stream",
          "name": "stdout",
          "text": [
            "\tEPOCH:212/1000\tTrain Loss: 0.176 |\t Val. Loss: 10.117\n"
          ]
        },
        {
          "output_type": "stream",
          "name": "stderr",
          "text": [
            "100%|██████████| 94/94 [00:05<00:00, 18.67it/s]\n",
            "100%|██████████| 24/24 [00:00<00:00, 56.48it/s]\n"
          ]
        },
        {
          "output_type": "stream",
          "name": "stdout",
          "text": [
            "\tEPOCH:213/1000\tTrain Loss: 0.184 |\t Val. Loss: 10.171\n"
          ]
        },
        {
          "output_type": "stream",
          "name": "stderr",
          "text": [
            "100%|██████████| 94/94 [00:04<00:00, 20.12it/s]\n",
            "100%|██████████| 24/24 [00:00<00:00, 56.72it/s]\n"
          ]
        },
        {
          "output_type": "stream",
          "name": "stdout",
          "text": [
            "\tEPOCH:214/1000\tTrain Loss: 0.173 |\t Val. Loss: 10.114\n"
          ]
        },
        {
          "output_type": "stream",
          "name": "stderr",
          "text": [
            "100%|██████████| 94/94 [00:05<00:00, 16.90it/s]\n",
            "100%|██████████| 24/24 [00:00<00:00, 57.77it/s]\n"
          ]
        },
        {
          "output_type": "stream",
          "name": "stdout",
          "text": [
            "\tEPOCH:215/1000\tTrain Loss: 0.163 |\t Val. Loss: 10.165\n"
          ]
        },
        {
          "output_type": "stream",
          "name": "stderr",
          "text": [
            "100%|██████████| 94/94 [00:04<00:00, 20.09it/s]\n",
            "100%|██████████| 24/24 [00:00<00:00, 55.08it/s]\n"
          ]
        },
        {
          "output_type": "stream",
          "name": "stdout",
          "text": [
            "\tEPOCH:216/1000\tTrain Loss: 0.168 |\t Val. Loss: 10.160\n"
          ]
        },
        {
          "output_type": "stream",
          "name": "stderr",
          "text": [
            "100%|██████████| 94/94 [00:04<00:00, 19.29it/s]\n",
            "100%|██████████| 24/24 [00:00<00:00, 43.08it/s]\n"
          ]
        },
        {
          "output_type": "stream",
          "name": "stdout",
          "text": [
            "\tEPOCH:217/1000\tTrain Loss: 0.167 |\t Val. Loss: 10.187\n"
          ]
        },
        {
          "output_type": "stream",
          "name": "stderr",
          "text": [
            "100%|██████████| 94/94 [00:05<00:00, 17.98it/s]\n",
            "100%|██████████| 24/24 [00:00<00:00, 57.95it/s]\n"
          ]
        },
        {
          "output_type": "stream",
          "name": "stdout",
          "text": [
            "\tEPOCH:218/1000\tTrain Loss: 0.170 |\t Val. Loss: 10.188\n"
          ]
        },
        {
          "output_type": "stream",
          "name": "stderr",
          "text": [
            "100%|██████████| 94/94 [00:04<00:00, 20.13it/s]\n",
            "100%|██████████| 24/24 [00:00<00:00, 55.61it/s]\n"
          ]
        },
        {
          "output_type": "stream",
          "name": "stdout",
          "text": [
            "\tEPOCH:219/1000\tTrain Loss: 0.166 |\t Val. Loss: 10.145\n"
          ]
        },
        {
          "output_type": "stream",
          "name": "stderr",
          "text": [
            "100%|██████████| 94/94 [00:05<00:00, 17.47it/s]\n",
            "100%|██████████| 24/24 [00:00<00:00, 43.09it/s]\n"
          ]
        },
        {
          "output_type": "stream",
          "name": "stdout",
          "text": [
            "\tEPOCH:220/1000\tTrain Loss: 0.157 |\t Val. Loss: 10.221\n"
          ]
        },
        {
          "output_type": "stream",
          "name": "stderr",
          "text": [
            "100%|██████████| 94/94 [00:04<00:00, 19.96it/s]\n",
            "100%|██████████| 24/24 [00:00<00:00, 55.25it/s]\n"
          ]
        },
        {
          "output_type": "stream",
          "name": "stdout",
          "text": [
            "\tEPOCH:221/1000\tTrain Loss: 0.165 |\t Val. Loss: 10.198\n"
          ]
        },
        {
          "output_type": "stream",
          "name": "stderr",
          "text": [
            "100%|██████████| 94/94 [00:04<00:00, 20.18it/s]\n",
            "100%|██████████| 24/24 [00:00<00:00, 52.38it/s]\n"
          ]
        },
        {
          "output_type": "stream",
          "name": "stdout",
          "text": [
            "\tEPOCH:222/1000\tTrain Loss: 0.156 |\t Val. Loss: 10.211\n"
          ]
        },
        {
          "output_type": "stream",
          "name": "stderr",
          "text": [
            "100%|██████████| 94/94 [00:05<00:00, 17.23it/s]\n",
            "100%|██████████| 24/24 [00:00<00:00, 55.51it/s]\n"
          ]
        },
        {
          "output_type": "stream",
          "name": "stdout",
          "text": [
            "\tEPOCH:223/1000\tTrain Loss: 0.142 |\t Val. Loss: 10.257\n"
          ]
        },
        {
          "output_type": "stream",
          "name": "stderr",
          "text": [
            "100%|██████████| 94/94 [00:04<00:00, 20.18it/s]\n",
            "100%|██████████| 24/24 [00:00<00:00, 57.30it/s]\n"
          ]
        },
        {
          "output_type": "stream",
          "name": "stdout",
          "text": [
            "\tEPOCH:224/1000\tTrain Loss: 0.153 |\t Val. Loss: 10.264\n"
          ]
        },
        {
          "output_type": "stream",
          "name": "stderr",
          "text": [
            "100%|██████████| 94/94 [00:05<00:00, 18.71it/s]\n",
            "100%|██████████| 24/24 [00:00<00:00, 43.46it/s]\n"
          ]
        },
        {
          "output_type": "stream",
          "name": "stdout",
          "text": [
            "\tEPOCH:225/1000\tTrain Loss: 0.150 |\t Val. Loss: 10.286\n"
          ]
        },
        {
          "output_type": "stream",
          "name": "stderr",
          "text": [
            "100%|██████████| 94/94 [00:05<00:00, 18.53it/s]\n",
            "100%|██████████| 24/24 [00:00<00:00, 57.03it/s]\n"
          ]
        },
        {
          "output_type": "stream",
          "name": "stdout",
          "text": [
            "\tEPOCH:226/1000\tTrain Loss: 0.140 |\t Val. Loss: 10.252\n"
          ]
        },
        {
          "output_type": "stream",
          "name": "stderr",
          "text": [
            "100%|██████████| 94/94 [00:04<00:00, 20.33it/s]\n",
            "100%|██████████| 24/24 [00:00<00:00, 56.00it/s]\n"
          ]
        },
        {
          "output_type": "stream",
          "name": "stdout",
          "text": [
            "\tEPOCH:227/1000\tTrain Loss: 0.142 |\t Val. Loss: 10.307\n"
          ]
        },
        {
          "output_type": "stream",
          "name": "stderr",
          "text": [
            "100%|██████████| 94/94 [00:05<00:00, 17.20it/s]\n",
            "100%|██████████| 24/24 [00:00<00:00, 53.62it/s]\n"
          ]
        },
        {
          "output_type": "stream",
          "name": "stdout",
          "text": [
            "\tEPOCH:228/1000\tTrain Loss: 0.149 |\t Val. Loss: 10.317\n"
          ]
        },
        {
          "output_type": "stream",
          "name": "stderr",
          "text": [
            "100%|██████████| 94/94 [00:04<00:00, 20.26it/s]\n",
            "100%|██████████| 24/24 [00:00<00:00, 57.87it/s]\n"
          ]
        },
        {
          "output_type": "stream",
          "name": "stdout",
          "text": [
            "\tEPOCH:229/1000\tTrain Loss: 0.137 |\t Val. Loss: 10.303\n"
          ]
        },
        {
          "output_type": "stream",
          "name": "stderr",
          "text": [
            "100%|██████████| 94/94 [00:05<00:00, 16.56it/s]\n",
            "100%|██████████| 24/24 [00:00<00:00, 35.75it/s]\n"
          ]
        },
        {
          "output_type": "stream",
          "name": "stdout",
          "text": [
            "\tEPOCH:230/1000\tTrain Loss: 0.127 |\t Val. Loss: 10.385\n"
          ]
        },
        {
          "output_type": "stream",
          "name": "stderr",
          "text": [
            "100%|██████████| 94/94 [00:05<00:00, 16.53it/s]\n",
            "100%|██████████| 24/24 [00:00<00:00, 57.79it/s]\n"
          ]
        },
        {
          "output_type": "stream",
          "name": "stdout",
          "text": [
            "\tEPOCH:231/1000\tTrain Loss: 0.116 |\t Val. Loss: 10.349\n"
          ]
        },
        {
          "output_type": "stream",
          "name": "stderr",
          "text": [
            "100%|██████████| 94/94 [00:04<00:00, 20.14it/s]\n",
            "100%|██████████| 24/24 [00:00<00:00, 56.56it/s]\n"
          ]
        },
        {
          "output_type": "stream",
          "name": "stdout",
          "text": [
            "\tEPOCH:232/1000\tTrain Loss: 0.115 |\t Val. Loss: 10.396\n"
          ]
        },
        {
          "output_type": "stream",
          "name": "stderr",
          "text": [
            "100%|██████████| 94/94 [00:05<00:00, 18.43it/s]\n",
            "100%|██████████| 24/24 [00:00<00:00, 44.42it/s]\n"
          ]
        },
        {
          "output_type": "stream",
          "name": "stdout",
          "text": [
            "\tEPOCH:233/1000\tTrain Loss: 0.121 |\t Val. Loss: 10.376\n"
          ]
        },
        {
          "output_type": "stream",
          "name": "stderr",
          "text": [
            "100%|██████████| 94/94 [00:04<00:00, 19.01it/s]\n",
            "100%|██████████| 24/24 [00:00<00:00, 54.59it/s]\n"
          ]
        },
        {
          "output_type": "stream",
          "name": "stdout",
          "text": [
            "\tEPOCH:234/1000\tTrain Loss: 0.110 |\t Val. Loss: 10.391\n"
          ]
        },
        {
          "output_type": "stream",
          "name": "stderr",
          "text": [
            "100%|██████████| 94/94 [00:04<00:00, 20.19it/s]\n",
            "100%|██████████| 24/24 [00:00<00:00, 56.44it/s]\n"
          ]
        },
        {
          "output_type": "stream",
          "name": "stdout",
          "text": [
            "\tEPOCH:235/1000\tTrain Loss: 0.117 |\t Val. Loss: 10.404\n"
          ]
        },
        {
          "output_type": "stream",
          "name": "stderr",
          "text": [
            "100%|██████████| 94/94 [00:05<00:00, 16.95it/s]\n",
            "100%|██████████| 24/24 [00:00<00:00, 56.81it/s]\n"
          ]
        },
        {
          "output_type": "stream",
          "name": "stdout",
          "text": [
            "\tEPOCH:236/1000\tTrain Loss: 0.107 |\t Val. Loss: 10.435\n"
          ]
        },
        {
          "output_type": "stream",
          "name": "stderr",
          "text": [
            "100%|██████████| 94/94 [00:04<00:00, 20.35it/s]\n",
            "100%|██████████| 24/24 [00:00<00:00, 56.54it/s]\n"
          ]
        },
        {
          "output_type": "stream",
          "name": "stdout",
          "text": [
            "\tEPOCH:237/1000\tTrain Loss: 0.101 |\t Val. Loss: 10.462\n"
          ]
        },
        {
          "output_type": "stream",
          "name": "stderr",
          "text": [
            "100%|██████████| 94/94 [00:04<00:00, 19.17it/s]\n",
            "100%|██████████| 24/24 [00:00<00:00, 45.24it/s]\n"
          ]
        },
        {
          "output_type": "stream",
          "name": "stdout",
          "text": [
            "\tEPOCH:238/1000\tTrain Loss: 0.107 |\t Val. Loss: 10.450\n"
          ]
        },
        {
          "output_type": "stream",
          "name": "stderr",
          "text": [
            "100%|██████████| 94/94 [00:05<00:00, 18.22it/s]\n",
            "100%|██████████| 24/24 [00:00<00:00, 55.94it/s]\n"
          ]
        },
        {
          "output_type": "stream",
          "name": "stdout",
          "text": [
            "\tEPOCH:239/1000\tTrain Loss: 0.102 |\t Val. Loss: 10.421\n"
          ]
        },
        {
          "output_type": "stream",
          "name": "stderr",
          "text": [
            "100%|██████████| 94/94 [00:04<00:00, 20.29it/s]\n",
            "100%|██████████| 24/24 [00:00<00:00, 55.05it/s]\n"
          ]
        },
        {
          "output_type": "stream",
          "name": "stdout",
          "text": [
            "\tEPOCH:240/1000\tTrain Loss: 0.104 |\t Val. Loss: 10.483\n"
          ]
        },
        {
          "output_type": "stream",
          "name": "stderr",
          "text": [
            "100%|██████████| 94/94 [00:05<00:00, 17.47it/s]\n",
            "100%|██████████| 24/24 [00:00<00:00, 43.21it/s]\n"
          ]
        },
        {
          "output_type": "stream",
          "name": "stdout",
          "text": [
            "\tEPOCH:241/1000\tTrain Loss: 0.106 |\t Val. Loss: 10.433\n"
          ]
        },
        {
          "output_type": "stream",
          "name": "stderr",
          "text": [
            "100%|██████████| 94/94 [00:04<00:00, 19.99it/s]\n",
            "100%|██████████| 24/24 [00:00<00:00, 56.82it/s]\n"
          ]
        },
        {
          "output_type": "stream",
          "name": "stdout",
          "text": [
            "\tEPOCH:242/1000\tTrain Loss: 0.110 |\t Val. Loss: 10.457\n"
          ]
        },
        {
          "output_type": "stream",
          "name": "stderr",
          "text": [
            "100%|██████████| 94/94 [00:04<00:00, 20.24it/s]\n",
            "100%|██████████| 24/24 [00:00<00:00, 55.93it/s]\n"
          ]
        },
        {
          "output_type": "stream",
          "name": "stdout",
          "text": [
            "\tEPOCH:243/1000\tTrain Loss: 0.109 |\t Val. Loss: 10.522\n"
          ]
        },
        {
          "output_type": "stream",
          "name": "stderr",
          "text": [
            "100%|██████████| 94/94 [00:05<00:00, 17.15it/s]\n",
            "100%|██████████| 24/24 [00:00<00:00, 56.50it/s]\n"
          ]
        },
        {
          "output_type": "stream",
          "name": "stdout",
          "text": [
            "\tEPOCH:244/1000\tTrain Loss: 0.118 |\t Val. Loss: 10.471\n"
          ]
        },
        {
          "output_type": "stream",
          "name": "stderr",
          "text": [
            "100%|██████████| 94/94 [00:04<00:00, 20.14it/s]\n",
            "100%|██████████| 24/24 [00:00<00:00, 54.36it/s]\n"
          ]
        },
        {
          "output_type": "stream",
          "name": "stdout",
          "text": [
            "\tEPOCH:245/1000\tTrain Loss: 0.117 |\t Val. Loss: 10.496\n"
          ]
        },
        {
          "output_type": "stream",
          "name": "stderr",
          "text": [
            "100%|██████████| 94/94 [00:05<00:00, 18.69it/s]\n",
            "100%|██████████| 24/24 [00:00<00:00, 41.44it/s]\n"
          ]
        },
        {
          "output_type": "stream",
          "name": "stdout",
          "text": [
            "\tEPOCH:246/1000\tTrain Loss: 0.115 |\t Val. Loss: 10.466\n"
          ]
        },
        {
          "output_type": "stream",
          "name": "stderr",
          "text": [
            "100%|██████████| 94/94 [00:05<00:00, 18.61it/s]\n",
            "100%|██████████| 24/24 [00:00<00:00, 57.23it/s]\n"
          ]
        },
        {
          "output_type": "stream",
          "name": "stdout",
          "text": [
            "\tEPOCH:247/1000\tTrain Loss: 0.107 |\t Val. Loss: 10.493\n"
          ]
        },
        {
          "output_type": "stream",
          "name": "stderr",
          "text": [
            "100%|██████████| 94/94 [00:04<00:00, 20.30it/s]\n",
            "100%|██████████| 24/24 [00:00<00:00, 57.52it/s]\n"
          ]
        },
        {
          "output_type": "stream",
          "name": "stdout",
          "text": [
            "\tEPOCH:248/1000\tTrain Loss: 0.114 |\t Val. Loss: 10.480\n"
          ]
        },
        {
          "output_type": "stream",
          "name": "stderr",
          "text": [
            "100%|██████████| 94/94 [00:05<00:00, 17.00it/s]\n",
            "100%|██████████| 24/24 [00:00<00:00, 58.68it/s]\n"
          ]
        },
        {
          "output_type": "stream",
          "name": "stdout",
          "text": [
            "\tEPOCH:249/1000\tTrain Loss: 0.119 |\t Val. Loss: 10.533\n"
          ]
        },
        {
          "output_type": "stream",
          "name": "stderr",
          "text": [
            "100%|██████████| 94/94 [00:04<00:00, 20.23it/s]\n",
            "100%|██████████| 24/24 [00:00<00:00, 56.68it/s]\n"
          ]
        },
        {
          "output_type": "stream",
          "name": "stdout",
          "text": [
            "\tEPOCH:250/1000\tTrain Loss: 0.123 |\t Val. Loss: 10.528\n"
          ]
        },
        {
          "output_type": "stream",
          "name": "stderr",
          "text": [
            "100%|██████████| 94/94 [00:04<00:00, 19.67it/s]\n",
            "100%|██████████| 24/24 [00:00<00:00, 42.20it/s]\n"
          ]
        },
        {
          "output_type": "stream",
          "name": "stdout",
          "text": [
            "\tEPOCH:251/1000\tTrain Loss: 0.130 |\t Val. Loss: 10.540\n"
          ]
        },
        {
          "output_type": "stream",
          "name": "stderr",
          "text": [
            "100%|██████████| 94/94 [00:05<00:00, 17.68it/s]\n",
            "100%|██████████| 24/24 [00:00<00:00, 57.78it/s]\n"
          ]
        },
        {
          "output_type": "stream",
          "name": "stdout",
          "text": [
            "\tEPOCH:252/1000\tTrain Loss: 0.124 |\t Val. Loss: 10.521\n"
          ]
        },
        {
          "output_type": "stream",
          "name": "stderr",
          "text": [
            "100%|██████████| 94/94 [00:04<00:00, 20.23it/s]\n",
            "100%|██████████| 24/24 [00:00<00:00, 55.49it/s]\n"
          ]
        },
        {
          "output_type": "stream",
          "name": "stdout",
          "text": [
            "\tEPOCH:253/1000\tTrain Loss: 0.130 |\t Val. Loss: 10.530\n"
          ]
        },
        {
          "output_type": "stream",
          "name": "stderr",
          "text": [
            "100%|██████████| 94/94 [00:05<00:00, 17.62it/s]\n",
            "100%|██████████| 24/24 [00:00<00:00, 42.68it/s]\n"
          ]
        },
        {
          "output_type": "stream",
          "name": "stdout",
          "text": [
            "\tEPOCH:254/1000\tTrain Loss: 0.127 |\t Val. Loss: 10.560\n"
          ]
        },
        {
          "output_type": "stream",
          "name": "stderr",
          "text": [
            "100%|██████████| 94/94 [00:04<00:00, 19.78it/s]\n",
            "100%|██████████| 24/24 [00:00<00:00, 56.84it/s]\n"
          ]
        },
        {
          "output_type": "stream",
          "name": "stdout",
          "text": [
            "\tEPOCH:255/1000\tTrain Loss: 0.126 |\t Val. Loss: 10.537\n"
          ]
        },
        {
          "output_type": "stream",
          "name": "stderr",
          "text": [
            "100%|██████████| 94/94 [00:04<00:00, 20.27it/s]\n",
            "100%|██████████| 24/24 [00:00<00:00, 56.88it/s]\n"
          ]
        },
        {
          "output_type": "stream",
          "name": "stdout",
          "text": [
            "\tEPOCH:256/1000\tTrain Loss: 0.115 |\t Val. Loss: 10.593\n"
          ]
        },
        {
          "output_type": "stream",
          "name": "stderr",
          "text": [
            "100%|██████████| 94/94 [00:05<00:00, 16.84it/s]\n",
            "100%|██████████| 24/24 [00:00<00:00, 55.88it/s]\n"
          ]
        },
        {
          "output_type": "stream",
          "name": "stdout",
          "text": [
            "\tEPOCH:257/1000\tTrain Loss: 0.116 |\t Val. Loss: 10.621\n"
          ]
        },
        {
          "output_type": "stream",
          "name": "stderr",
          "text": [
            "100%|██████████| 94/94 [00:04<00:00, 20.21it/s]\n",
            "100%|██████████| 24/24 [00:00<00:00, 55.79it/s]\n"
          ]
        },
        {
          "output_type": "stream",
          "name": "stdout",
          "text": [
            "\tEPOCH:258/1000\tTrain Loss: 0.119 |\t Val. Loss: 10.612\n"
          ]
        },
        {
          "output_type": "stream",
          "name": "stderr",
          "text": [
            "100%|██████████| 94/94 [00:05<00:00, 18.71it/s]\n",
            "100%|██████████| 24/24 [00:00<00:00, 40.65it/s]\n"
          ]
        },
        {
          "output_type": "stream",
          "name": "stdout",
          "text": [
            "\tEPOCH:259/1000\tTrain Loss: 0.118 |\t Val. Loss: 10.620\n"
          ]
        },
        {
          "output_type": "stream",
          "name": "stderr",
          "text": [
            "100%|██████████| 94/94 [00:05<00:00, 18.50it/s]\n",
            "100%|██████████| 24/24 [00:00<00:00, 56.18it/s]\n"
          ]
        },
        {
          "output_type": "stream",
          "name": "stdout",
          "text": [
            "\tEPOCH:260/1000\tTrain Loss: 0.119 |\t Val. Loss: 10.657\n"
          ]
        },
        {
          "output_type": "stream",
          "name": "stderr",
          "text": [
            "100%|██████████| 94/94 [00:04<00:00, 20.27it/s]\n",
            "100%|██████████| 24/24 [00:00<00:00, 57.47it/s]\n"
          ]
        },
        {
          "output_type": "stream",
          "name": "stdout",
          "text": [
            "\tEPOCH:261/1000\tTrain Loss: 0.116 |\t Val. Loss: 10.668\n"
          ]
        },
        {
          "output_type": "stream",
          "name": "stderr",
          "text": [
            "100%|██████████| 94/94 [00:05<00:00, 16.90it/s]\n",
            "100%|██████████| 24/24 [00:00<00:00, 57.64it/s]\n"
          ]
        },
        {
          "output_type": "stream",
          "name": "stdout",
          "text": [
            "\tEPOCH:262/1000\tTrain Loss: 0.113 |\t Val. Loss: 10.634\n"
          ]
        },
        {
          "output_type": "stream",
          "name": "stderr",
          "text": [
            "100%|██████████| 94/94 [00:04<00:00, 20.06it/s]\n",
            "100%|██████████| 24/24 [00:00<00:00, 56.76it/s]\n"
          ]
        },
        {
          "output_type": "stream",
          "name": "stdout",
          "text": [
            "\tEPOCH:263/1000\tTrain Loss: 0.107 |\t Val. Loss: 10.636\n"
          ]
        },
        {
          "output_type": "stream",
          "name": "stderr",
          "text": [
            "100%|██████████| 94/94 [00:05<00:00, 18.78it/s]\n",
            "100%|██████████| 24/24 [00:00<00:00, 43.02it/s]\n"
          ]
        },
        {
          "output_type": "stream",
          "name": "stdout",
          "text": [
            "\tEPOCH:264/1000\tTrain Loss: 0.102 |\t Val. Loss: 10.678\n"
          ]
        },
        {
          "output_type": "stream",
          "name": "stderr",
          "text": [
            "100%|██████████| 94/94 [00:05<00:00, 18.16it/s]\n",
            "100%|██████████| 24/24 [00:00<00:00, 57.17it/s]\n"
          ]
        },
        {
          "output_type": "stream",
          "name": "stdout",
          "text": [
            "\tEPOCH:265/1000\tTrain Loss: 0.114 |\t Val. Loss: 10.655\n"
          ]
        },
        {
          "output_type": "stream",
          "name": "stderr",
          "text": [
            "100%|██████████| 94/94 [00:04<00:00, 20.20it/s]\n",
            "100%|██████████| 24/24 [00:00<00:00, 57.30it/s]\n"
          ]
        },
        {
          "output_type": "stream",
          "name": "stdout",
          "text": [
            "\tEPOCH:266/1000\tTrain Loss: 0.094 |\t Val. Loss: 10.649\n"
          ]
        },
        {
          "output_type": "stream",
          "name": "stderr",
          "text": [
            "100%|██████████| 94/94 [00:05<00:00, 17.65it/s]\n",
            "100%|██████████| 24/24 [00:00<00:00, 46.58it/s]\n"
          ]
        },
        {
          "output_type": "stream",
          "name": "stdout",
          "text": [
            "\tEPOCH:267/1000\tTrain Loss: 0.108 |\t Val. Loss: 10.691\n"
          ]
        },
        {
          "output_type": "stream",
          "name": "stderr",
          "text": [
            "100%|██████████| 94/94 [00:04<00:00, 19.41it/s]\n",
            "100%|██████████| 24/24 [00:00<00:00, 52.54it/s]\n"
          ]
        },
        {
          "output_type": "stream",
          "name": "stdout",
          "text": [
            "\tEPOCH:268/1000\tTrain Loss: 0.098 |\t Val. Loss: 10.706\n"
          ]
        },
        {
          "output_type": "stream",
          "name": "stderr",
          "text": [
            "100%|██████████| 94/94 [00:04<00:00, 20.35it/s]\n",
            "100%|██████████| 24/24 [00:00<00:00, 56.06it/s]\n"
          ]
        },
        {
          "output_type": "stream",
          "name": "stdout",
          "text": [
            "\tEPOCH:269/1000\tTrain Loss: 0.096 |\t Val. Loss: 10.697\n"
          ]
        },
        {
          "output_type": "stream",
          "name": "stderr",
          "text": [
            "100%|██████████| 94/94 [00:05<00:00, 17.11it/s]\n",
            "100%|██████████| 24/24 [00:00<00:00, 55.91it/s]\n"
          ]
        },
        {
          "output_type": "stream",
          "name": "stdout",
          "text": [
            "\tEPOCH:270/1000\tTrain Loss: 0.106 |\t Val. Loss: 10.768\n"
          ]
        },
        {
          "output_type": "stream",
          "name": "stderr",
          "text": [
            "100%|██████████| 94/94 [00:04<00:00, 20.24it/s]\n",
            "100%|██████████| 24/24 [00:00<00:00, 55.44it/s]\n"
          ]
        },
        {
          "output_type": "stream",
          "name": "stdout",
          "text": [
            "\tEPOCH:271/1000\tTrain Loss: 0.101 |\t Val. Loss: 10.725\n"
          ]
        },
        {
          "output_type": "stream",
          "name": "stderr",
          "text": [
            "100%|██████████| 94/94 [00:05<00:00, 18.74it/s]\n",
            "100%|██████████| 24/24 [00:00<00:00, 42.75it/s]\n"
          ]
        },
        {
          "output_type": "stream",
          "name": "stdout",
          "text": [
            "\tEPOCH:272/1000\tTrain Loss: 0.106 |\t Val. Loss: 10.714\n"
          ]
        },
        {
          "output_type": "stream",
          "name": "stderr",
          "text": [
            "100%|██████████| 94/94 [00:05<00:00, 18.55it/s]\n",
            "100%|██████████| 24/24 [00:00<00:00, 55.00it/s]\n"
          ]
        },
        {
          "output_type": "stream",
          "name": "stdout",
          "text": [
            "\tEPOCH:273/1000\tTrain Loss: 0.100 |\t Val. Loss: 10.838\n"
          ]
        },
        {
          "output_type": "stream",
          "name": "stderr",
          "text": [
            "100%|██████████| 94/94 [00:04<00:00, 20.15it/s]\n",
            "100%|██████████| 24/24 [00:00<00:00, 55.44it/s]\n"
          ]
        },
        {
          "output_type": "stream",
          "name": "stdout",
          "text": [
            "\tEPOCH:274/1000\tTrain Loss: 0.103 |\t Val. Loss: 10.760\n"
          ]
        },
        {
          "output_type": "stream",
          "name": "stderr",
          "text": [
            "100%|██████████| 94/94 [00:05<00:00, 17.19it/s]\n",
            "100%|██████████| 24/24 [00:00<00:00, 50.73it/s]\n"
          ]
        },
        {
          "output_type": "stream",
          "name": "stdout",
          "text": [
            "\tEPOCH:275/1000\tTrain Loss: 0.110 |\t Val. Loss: 10.725\n"
          ]
        },
        {
          "output_type": "stream",
          "name": "stderr",
          "text": [
            "100%|██████████| 94/94 [00:04<00:00, 20.31it/s]\n",
            "100%|██████████| 24/24 [00:00<00:00, 58.01it/s]\n"
          ]
        },
        {
          "output_type": "stream",
          "name": "stdout",
          "text": [
            "\tEPOCH:276/1000\tTrain Loss: 0.114 |\t Val. Loss: 10.749\n"
          ]
        },
        {
          "output_type": "stream",
          "name": "stderr",
          "text": [
            "100%|██████████| 94/94 [00:04<00:00, 19.99it/s]\n",
            "100%|██████████| 24/24 [00:00<00:00, 39.69it/s]\n"
          ]
        },
        {
          "output_type": "stream",
          "name": "stdout",
          "text": [
            "\tEPOCH:277/1000\tTrain Loss: 0.122 |\t Val. Loss: 10.749\n"
          ]
        },
        {
          "output_type": "stream",
          "name": "stderr",
          "text": [
            "100%|██████████| 94/94 [00:06<00:00, 14.04it/s]\n",
            "100%|██████████| 24/24 [00:00<00:00, 40.68it/s]\n"
          ]
        },
        {
          "output_type": "stream",
          "name": "stdout",
          "text": [
            "\tEPOCH:278/1000\tTrain Loss: 0.116 |\t Val. Loss: 10.765\n"
          ]
        },
        {
          "output_type": "stream",
          "name": "stderr",
          "text": [
            "100%|██████████| 94/94 [00:04<00:00, 20.05it/s]\n",
            "100%|██████████| 24/24 [00:00<00:00, 57.01it/s]\n"
          ]
        },
        {
          "output_type": "stream",
          "name": "stdout",
          "text": [
            "\tEPOCH:279/1000\tTrain Loss: 0.122 |\t Val. Loss: 10.824\n"
          ]
        },
        {
          "output_type": "stream",
          "name": "stderr",
          "text": [
            "100%|██████████| 94/94 [00:04<00:00, 19.97it/s]\n",
            "100%|██████████| 24/24 [00:00<00:00, 44.78it/s]\n"
          ]
        },
        {
          "output_type": "stream",
          "name": "stdout",
          "text": [
            "\tEPOCH:280/1000\tTrain Loss: 0.112 |\t Val. Loss: 10.795\n"
          ]
        },
        {
          "output_type": "stream",
          "name": "stderr",
          "text": [
            "100%|██████████| 94/94 [00:05<00:00, 17.57it/s]\n",
            "100%|██████████| 24/24 [00:00<00:00, 56.85it/s]\n"
          ]
        },
        {
          "output_type": "stream",
          "name": "stdout",
          "text": [
            "\tEPOCH:281/1000\tTrain Loss: 0.107 |\t Val. Loss: 10.780\n"
          ]
        },
        {
          "output_type": "stream",
          "name": "stderr",
          "text": [
            "100%|██████████| 94/94 [00:04<00:00, 20.27it/s]\n",
            "100%|██████████| 24/24 [00:00<00:00, 57.14it/s]\n"
          ]
        },
        {
          "output_type": "stream",
          "name": "stdout",
          "text": [
            "\tEPOCH:282/1000\tTrain Loss: 0.105 |\t Val. Loss: 10.804\n"
          ]
        },
        {
          "output_type": "stream",
          "name": "stderr",
          "text": [
            "100%|██████████| 94/94 [00:05<00:00, 17.97it/s]\n",
            "100%|██████████| 24/24 [00:00<00:00, 41.01it/s]\n"
          ]
        },
        {
          "output_type": "stream",
          "name": "stdout",
          "text": [
            "\tEPOCH:283/1000\tTrain Loss: 0.097 |\t Val. Loss: 10.804\n"
          ]
        },
        {
          "output_type": "stream",
          "name": "stderr",
          "text": [
            "100%|██████████| 94/94 [00:04<00:00, 19.47it/s]\n",
            "100%|██████████| 24/24 [00:00<00:00, 57.22it/s]\n"
          ]
        },
        {
          "output_type": "stream",
          "name": "stdout",
          "text": [
            "\tEPOCH:284/1000\tTrain Loss: 0.096 |\t Val. Loss: 10.806\n"
          ]
        },
        {
          "output_type": "stream",
          "name": "stderr",
          "text": [
            "100%|██████████| 94/94 [00:04<00:00, 20.16it/s]\n",
            "100%|██████████| 24/24 [00:00<00:00, 57.66it/s]\n"
          ]
        },
        {
          "output_type": "stream",
          "name": "stdout",
          "text": [
            "\tEPOCH:285/1000\tTrain Loss: 0.103 |\t Val. Loss: 10.846\n"
          ]
        },
        {
          "output_type": "stream",
          "name": "stderr",
          "text": [
            "100%|██████████| 94/94 [00:05<00:00, 16.81it/s]\n",
            "100%|██████████| 24/24 [00:00<00:00, 56.70it/s]\n"
          ]
        },
        {
          "output_type": "stream",
          "name": "stdout",
          "text": [
            "\tEPOCH:286/1000\tTrain Loss: 0.095 |\t Val. Loss: 10.875\n"
          ]
        },
        {
          "output_type": "stream",
          "name": "stderr",
          "text": [
            "100%|██████████| 94/94 [00:04<00:00, 20.26it/s]\n",
            "100%|██████████| 24/24 [00:00<00:00, 55.60it/s]\n"
          ]
        },
        {
          "output_type": "stream",
          "name": "stdout",
          "text": [
            "\tEPOCH:287/1000\tTrain Loss: 0.089 |\t Val. Loss: 10.866\n"
          ]
        },
        {
          "output_type": "stream",
          "name": "stderr",
          "text": [
            "100%|██████████| 94/94 [00:04<00:00, 19.15it/s]\n",
            "100%|██████████| 24/24 [00:00<00:00, 43.09it/s]\n"
          ]
        },
        {
          "output_type": "stream",
          "name": "stdout",
          "text": [
            "\tEPOCH:288/1000\tTrain Loss: 0.090 |\t Val. Loss: 10.861\n"
          ]
        },
        {
          "output_type": "stream",
          "name": "stderr",
          "text": [
            "100%|██████████| 94/94 [00:05<00:00, 18.20it/s]\n",
            "100%|██████████| 24/24 [00:00<00:00, 56.33it/s]\n"
          ]
        },
        {
          "output_type": "stream",
          "name": "stdout",
          "text": [
            "\tEPOCH:289/1000\tTrain Loss: 0.096 |\t Val. Loss: 10.877\n"
          ]
        },
        {
          "output_type": "stream",
          "name": "stderr",
          "text": [
            "100%|██████████| 94/94 [00:04<00:00, 20.19it/s]\n",
            "100%|██████████| 24/24 [00:00<00:00, 56.87it/s]\n"
          ]
        },
        {
          "output_type": "stream",
          "name": "stdout",
          "text": [
            "\tEPOCH:290/1000\tTrain Loss: 0.097 |\t Val. Loss: 10.885\n"
          ]
        },
        {
          "output_type": "stream",
          "name": "stderr",
          "text": [
            "100%|██████████| 94/94 [00:05<00:00, 17.27it/s]\n",
            "100%|██████████| 24/24 [00:00<00:00, 42.74it/s]\n"
          ]
        },
        {
          "output_type": "stream",
          "name": "stdout",
          "text": [
            "\tEPOCH:291/1000\tTrain Loss: 0.095 |\t Val. Loss: 10.867\n"
          ]
        },
        {
          "output_type": "stream",
          "name": "stderr",
          "text": [
            "100%|██████████| 94/94 [00:04<00:00, 19.97it/s]\n",
            "100%|██████████| 24/24 [00:00<00:00, 57.30it/s]\n"
          ]
        },
        {
          "output_type": "stream",
          "name": "stdout",
          "text": [
            "\tEPOCH:292/1000\tTrain Loss: 0.086 |\t Val. Loss: 10.897\n"
          ]
        },
        {
          "output_type": "stream",
          "name": "stderr",
          "text": [
            "100%|██████████| 94/94 [00:04<00:00, 19.95it/s]\n",
            "100%|██████████| 24/24 [00:00<00:00, 41.37it/s]\n"
          ]
        },
        {
          "output_type": "stream",
          "name": "stdout",
          "text": [
            "\tEPOCH:293/1000\tTrain Loss: 0.083 |\t Val. Loss: 10.908\n"
          ]
        },
        {
          "output_type": "stream",
          "name": "stderr",
          "text": [
            "100%|██████████| 94/94 [00:05<00:00, 17.57it/s]\n",
            "100%|██████████| 24/24 [00:00<00:00, 56.03it/s]\n"
          ]
        },
        {
          "output_type": "stream",
          "name": "stdout",
          "text": [
            "\tEPOCH:294/1000\tTrain Loss: 0.085 |\t Val. Loss: 10.921\n"
          ]
        },
        {
          "output_type": "stream",
          "name": "stderr",
          "text": [
            "100%|██████████| 94/94 [00:04<00:00, 20.20it/s]\n",
            "100%|██████████| 24/24 [00:00<00:00, 57.39it/s]\n"
          ]
        },
        {
          "output_type": "stream",
          "name": "stdout",
          "text": [
            "\tEPOCH:295/1000\tTrain Loss: 0.104 |\t Val. Loss: 10.858\n"
          ]
        },
        {
          "output_type": "stream",
          "name": "stderr",
          "text": [
            "100%|██████████| 94/94 [00:05<00:00, 18.39it/s]\n",
            "100%|██████████| 24/24 [00:00<00:00, 40.10it/s]\n"
          ]
        },
        {
          "output_type": "stream",
          "name": "stdout",
          "text": [
            "\tEPOCH:296/1000\tTrain Loss: 0.097 |\t Val. Loss: 10.890\n"
          ]
        },
        {
          "output_type": "stream",
          "name": "stderr",
          "text": [
            "100%|██████████| 94/94 [00:04<00:00, 19.07it/s]\n",
            "100%|██████████| 24/24 [00:00<00:00, 56.68it/s]\n"
          ]
        },
        {
          "output_type": "stream",
          "name": "stdout",
          "text": [
            "\tEPOCH:297/1000\tTrain Loss: 0.091 |\t Val. Loss: 10.910\n"
          ]
        },
        {
          "output_type": "stream",
          "name": "stderr",
          "text": [
            "100%|██████████| 94/94 [00:04<00:00, 20.18it/s]\n",
            "100%|██████████| 24/24 [00:00<00:00, 56.80it/s]\n"
          ]
        },
        {
          "output_type": "stream",
          "name": "stdout",
          "text": [
            "\tEPOCH:298/1000\tTrain Loss: 0.092 |\t Val. Loss: 10.879\n"
          ]
        },
        {
          "output_type": "stream",
          "name": "stderr",
          "text": [
            "100%|██████████| 94/94 [00:05<00:00, 16.82it/s]\n",
            "100%|██████████| 24/24 [00:00<00:00, 56.17it/s]\n"
          ]
        },
        {
          "output_type": "stream",
          "name": "stdout",
          "text": [
            "\tEPOCH:299/1000\tTrain Loss: 0.097 |\t Val. Loss: 10.918\n"
          ]
        },
        {
          "output_type": "stream",
          "name": "stderr",
          "text": [
            "100%|██████████| 94/94 [00:04<00:00, 20.23it/s]\n",
            "100%|██████████| 24/24 [00:00<00:00, 57.06it/s]\n"
          ]
        },
        {
          "output_type": "stream",
          "name": "stdout",
          "text": [
            "\tEPOCH:300/1000\tTrain Loss: 0.100 |\t Val. Loss: 10.931\n"
          ]
        },
        {
          "output_type": "stream",
          "name": "stderr",
          "text": [
            "100%|██████████| 94/94 [00:04<00:00, 19.27it/s]\n",
            "100%|██████████| 24/24 [00:00<00:00, 42.04it/s]\n"
          ]
        },
        {
          "output_type": "stream",
          "name": "stdout",
          "text": [
            "\tEPOCH:301/1000\tTrain Loss: 0.096 |\t Val. Loss: 10.890\n"
          ]
        },
        {
          "output_type": "stream",
          "name": "stderr",
          "text": [
            "100%|██████████| 94/94 [00:05<00:00, 18.00it/s]\n",
            "100%|██████████| 24/24 [00:00<00:00, 56.05it/s]\n"
          ]
        },
        {
          "output_type": "stream",
          "name": "stdout",
          "text": [
            "\tEPOCH:302/1000\tTrain Loss: 0.094 |\t Val. Loss: 10.919\n"
          ]
        },
        {
          "output_type": "stream",
          "name": "stderr",
          "text": [
            "100%|██████████| 94/94 [00:04<00:00, 20.27it/s]\n",
            "100%|██████████| 24/24 [00:00<00:00, 53.41it/s]\n"
          ]
        },
        {
          "output_type": "stream",
          "name": "stdout",
          "text": [
            "\tEPOCH:303/1000\tTrain Loss: 0.092 |\t Val. Loss: 10.918\n"
          ]
        },
        {
          "output_type": "stream",
          "name": "stderr",
          "text": [
            "100%|██████████| 94/94 [00:05<00:00, 17.35it/s]\n",
            "100%|██████████| 24/24 [00:00<00:00, 41.38it/s]\n"
          ]
        },
        {
          "output_type": "stream",
          "name": "stdout",
          "text": [
            "\tEPOCH:304/1000\tTrain Loss: 0.094 |\t Val. Loss: 10.981\n"
          ]
        },
        {
          "output_type": "stream",
          "name": "stderr",
          "text": [
            "100%|██████████| 94/94 [00:04<00:00, 19.96it/s]\n",
            "100%|██████████| 24/24 [00:00<00:00, 53.88it/s]\n"
          ]
        },
        {
          "output_type": "stream",
          "name": "stdout",
          "text": [
            "\tEPOCH:305/1000\tTrain Loss: 0.100 |\t Val. Loss: 10.995\n"
          ]
        },
        {
          "output_type": "stream",
          "name": "stderr",
          "text": [
            "100%|██████████| 94/94 [00:04<00:00, 19.85it/s]\n",
            "100%|██████████| 24/24 [00:00<00:00, 42.93it/s]\n"
          ]
        },
        {
          "output_type": "stream",
          "name": "stdout",
          "text": [
            "\tEPOCH:306/1000\tTrain Loss: 0.095 |\t Val. Loss: 10.961\n"
          ]
        },
        {
          "output_type": "stream",
          "name": "stderr",
          "text": [
            "100%|██████████| 94/94 [00:05<00:00, 17.11it/s]\n",
            "100%|██████████| 24/24 [00:00<00:00, 54.55it/s]\n"
          ]
        },
        {
          "output_type": "stream",
          "name": "stdout",
          "text": [
            "\tEPOCH:307/1000\tTrain Loss: 0.106 |\t Val. Loss: 10.940\n"
          ]
        },
        {
          "output_type": "stream",
          "name": "stderr",
          "text": [
            "100%|██████████| 94/94 [00:04<00:00, 19.97it/s]\n",
            "100%|██████████| 24/24 [00:00<00:00, 55.66it/s]\n"
          ]
        },
        {
          "output_type": "stream",
          "name": "stdout",
          "text": [
            "\tEPOCH:308/1000\tTrain Loss: 0.108 |\t Val. Loss: 11.002\n"
          ]
        },
        {
          "output_type": "stream",
          "name": "stderr",
          "text": [
            "100%|██████████| 94/94 [00:05<00:00, 17.87it/s]\n",
            "100%|██████████| 24/24 [00:00<00:00, 41.77it/s]\n"
          ]
        },
        {
          "output_type": "stream",
          "name": "stdout",
          "text": [
            "\tEPOCH:309/1000\tTrain Loss: 0.106 |\t Val. Loss: 11.026\n"
          ]
        },
        {
          "output_type": "stream",
          "name": "stderr",
          "text": [
            "100%|██████████| 94/94 [00:04<00:00, 18.89it/s]\n",
            "100%|██████████| 24/24 [00:00<00:00, 54.71it/s]\n"
          ]
        },
        {
          "output_type": "stream",
          "name": "stdout",
          "text": [
            "\tEPOCH:310/1000\tTrain Loss: 0.107 |\t Val. Loss: 11.018\n"
          ]
        },
        {
          "output_type": "stream",
          "name": "stderr",
          "text": [
            "100%|██████████| 94/94 [00:04<00:00, 19.95it/s]\n",
            "100%|██████████| 24/24 [00:00<00:00, 56.87it/s]\n"
          ]
        },
        {
          "output_type": "stream",
          "name": "stdout",
          "text": [
            "\tEPOCH:311/1000\tTrain Loss: 0.101 |\t Val. Loss: 10.966\n"
          ]
        },
        {
          "output_type": "stream",
          "name": "stderr",
          "text": [
            "100%|██████████| 94/94 [00:05<00:00, 16.65it/s]\n",
            "100%|██████████| 24/24 [00:00<00:00, 55.71it/s]\n"
          ]
        },
        {
          "output_type": "stream",
          "name": "stdout",
          "text": [
            "\tEPOCH:312/1000\tTrain Loss: 0.096 |\t Val. Loss: 11.001\n"
          ]
        },
        {
          "output_type": "stream",
          "name": "stderr",
          "text": [
            "100%|██████████| 94/94 [00:04<00:00, 20.01it/s]\n",
            "100%|██████████| 24/24 [00:00<00:00, 54.44it/s]\n"
          ]
        },
        {
          "output_type": "stream",
          "name": "stdout",
          "text": [
            "\tEPOCH:313/1000\tTrain Loss: 0.098 |\t Val. Loss: 10.987\n"
          ]
        },
        {
          "output_type": "stream",
          "name": "stderr",
          "text": [
            "100%|██████████| 94/94 [00:05<00:00, 18.62it/s]\n",
            "100%|██████████| 24/24 [00:00<00:00, 43.38it/s]\n"
          ]
        },
        {
          "output_type": "stream",
          "name": "stdout",
          "text": [
            "\tEPOCH:314/1000\tTrain Loss: 0.092 |\t Val. Loss: 11.014\n"
          ]
        },
        {
          "output_type": "stream",
          "name": "stderr",
          "text": [
            "100%|██████████| 94/94 [00:05<00:00, 17.94it/s]\n",
            "100%|██████████| 24/24 [00:00<00:00, 54.82it/s]\n"
          ]
        },
        {
          "output_type": "stream",
          "name": "stdout",
          "text": [
            "\tEPOCH:315/1000\tTrain Loss: 0.083 |\t Val. Loss: 10.998\n"
          ]
        },
        {
          "output_type": "stream",
          "name": "stderr",
          "text": [
            "100%|██████████| 94/94 [00:04<00:00, 19.76it/s]\n",
            "100%|██████████| 24/24 [00:00<00:00, 55.26it/s]\n"
          ]
        },
        {
          "output_type": "stream",
          "name": "stdout",
          "text": [
            "\tEPOCH:316/1000\tTrain Loss: 0.083 |\t Val. Loss: 11.022\n"
          ]
        },
        {
          "output_type": "stream",
          "name": "stderr",
          "text": [
            "100%|██████████| 94/94 [00:05<00:00, 17.46it/s]\n",
            "100%|██████████| 24/24 [00:00<00:00, 45.97it/s]\n"
          ]
        },
        {
          "output_type": "stream",
          "name": "stdout",
          "text": [
            "\tEPOCH:317/1000\tTrain Loss: 0.089 |\t Val. Loss: 11.046\n"
          ]
        },
        {
          "output_type": "stream",
          "name": "stderr",
          "text": [
            "100%|██████████| 94/94 [00:04<00:00, 20.15it/s]\n",
            "100%|██████████| 24/24 [00:00<00:00, 53.60it/s]\n"
          ]
        },
        {
          "output_type": "stream",
          "name": "stdout",
          "text": [
            "\tEPOCH:318/1000\tTrain Loss: 0.091 |\t Val. Loss: 11.025\n"
          ]
        },
        {
          "output_type": "stream",
          "name": "stderr",
          "text": [
            "100%|██████████| 94/94 [00:04<00:00, 20.10it/s]\n",
            "100%|██████████| 24/24 [00:00<00:00, 42.48it/s]\n"
          ]
        },
        {
          "output_type": "stream",
          "name": "stdout",
          "text": [
            "\tEPOCH:319/1000\tTrain Loss: 0.086 |\t Val. Loss: 11.053\n"
          ]
        },
        {
          "output_type": "stream",
          "name": "stderr",
          "text": [
            "100%|██████████| 94/94 [00:05<00:00, 17.57it/s]\n",
            "100%|██████████| 24/24 [00:00<00:00, 56.09it/s]\n"
          ]
        },
        {
          "output_type": "stream",
          "name": "stdout",
          "text": [
            "\tEPOCH:320/1000\tTrain Loss: 0.084 |\t Val. Loss: 11.073\n"
          ]
        },
        {
          "output_type": "stream",
          "name": "stderr",
          "text": [
            "100%|██████████| 94/94 [00:04<00:00, 20.19it/s]\n",
            "100%|██████████| 24/24 [00:00<00:00, 55.79it/s]\n"
          ]
        },
        {
          "output_type": "stream",
          "name": "stdout",
          "text": [
            "\tEPOCH:321/1000\tTrain Loss: 0.077 |\t Val. Loss: 11.062\n"
          ]
        },
        {
          "output_type": "stream",
          "name": "stderr",
          "text": [
            "100%|██████████| 94/94 [00:05<00:00, 18.16it/s]\n",
            "100%|██████████| 24/24 [00:00<00:00, 44.63it/s]\n"
          ]
        },
        {
          "output_type": "stream",
          "name": "stdout",
          "text": [
            "\tEPOCH:322/1000\tTrain Loss: 0.084 |\t Val. Loss: 11.096\n"
          ]
        },
        {
          "output_type": "stream",
          "name": "stderr",
          "text": [
            "100%|██████████| 94/94 [00:04<00:00, 19.23it/s]\n",
            "100%|██████████| 24/24 [00:00<00:00, 54.46it/s]\n"
          ]
        },
        {
          "output_type": "stream",
          "name": "stdout",
          "text": [
            "\tEPOCH:323/1000\tTrain Loss: 0.084 |\t Val. Loss: 11.093\n"
          ]
        },
        {
          "output_type": "stream",
          "name": "stderr",
          "text": [
            "100%|██████████| 94/94 [00:04<00:00, 20.30it/s]\n",
            "100%|██████████| 24/24 [00:00<00:00, 54.54it/s]\n"
          ]
        },
        {
          "output_type": "stream",
          "name": "stdout",
          "text": [
            "\tEPOCH:324/1000\tTrain Loss: 0.084 |\t Val. Loss: 11.121\n"
          ]
        },
        {
          "output_type": "stream",
          "name": "stderr",
          "text": [
            "100%|██████████| 94/94 [00:06<00:00, 14.55it/s]\n",
            "100%|██████████| 24/24 [00:00<00:00, 41.02it/s]\n"
          ]
        },
        {
          "output_type": "stream",
          "name": "stdout",
          "text": [
            "\tEPOCH:325/1000\tTrain Loss: 0.083 |\t Val. Loss: 11.076\n"
          ]
        },
        {
          "output_type": "stream",
          "name": "stderr",
          "text": [
            "100%|██████████| 94/94 [00:04<00:00, 18.88it/s]\n",
            "100%|██████████| 24/24 [00:00<00:00, 51.68it/s]\n"
          ]
        },
        {
          "output_type": "stream",
          "name": "stdout",
          "text": [
            "\tEPOCH:326/1000\tTrain Loss: 0.089 |\t Val. Loss: 11.108\n"
          ]
        },
        {
          "output_type": "stream",
          "name": "stderr",
          "text": [
            "100%|██████████| 94/94 [00:04<00:00, 19.38it/s]\n",
            "100%|██████████| 24/24 [00:00<00:00, 43.60it/s]\n"
          ]
        },
        {
          "output_type": "stream",
          "name": "stdout",
          "text": [
            "\tEPOCH:327/1000\tTrain Loss: 0.086 |\t Val. Loss: 11.056\n"
          ]
        },
        {
          "output_type": "stream",
          "name": "stderr",
          "text": [
            "100%|██████████| 94/94 [00:05<00:00, 18.26it/s]\n",
            "100%|██████████| 24/24 [00:00<00:00, 54.29it/s]\n"
          ]
        },
        {
          "output_type": "stream",
          "name": "stdout",
          "text": [
            "\tEPOCH:328/1000\tTrain Loss: 0.078 |\t Val. Loss: 11.096\n"
          ]
        },
        {
          "output_type": "stream",
          "name": "stderr",
          "text": [
            "100%|██████████| 94/94 [00:04<00:00, 20.33it/s]\n",
            "100%|██████████| 24/24 [00:00<00:00, 57.45it/s]\n"
          ]
        },
        {
          "output_type": "stream",
          "name": "stdout",
          "text": [
            "\tEPOCH:329/1000\tTrain Loss: 0.081 |\t Val. Loss: 11.129\n"
          ]
        },
        {
          "output_type": "stream",
          "name": "stderr",
          "text": [
            "100%|██████████| 94/94 [00:05<00:00, 17.72it/s]\n",
            "100%|██████████| 24/24 [00:00<00:00, 43.68it/s]\n"
          ]
        },
        {
          "output_type": "stream",
          "name": "stdout",
          "text": [
            "\tEPOCH:330/1000\tTrain Loss: 0.076 |\t Val. Loss: 11.125\n"
          ]
        },
        {
          "output_type": "stream",
          "name": "stderr",
          "text": [
            "100%|██████████| 94/94 [00:04<00:00, 19.91it/s]\n",
            "100%|██████████| 24/24 [00:00<00:00, 53.52it/s]\n"
          ]
        },
        {
          "output_type": "stream",
          "name": "stdout",
          "text": [
            "\tEPOCH:331/1000\tTrain Loss: 0.077 |\t Val. Loss: 11.102\n"
          ]
        },
        {
          "output_type": "stream",
          "name": "stderr",
          "text": [
            "100%|██████████| 94/94 [00:04<00:00, 20.28it/s]\n",
            "100%|██████████| 24/24 [00:00<00:00, 56.81it/s]\n"
          ]
        },
        {
          "output_type": "stream",
          "name": "stdout",
          "text": [
            "\tEPOCH:332/1000\tTrain Loss: 0.081 |\t Val. Loss: 11.150\n"
          ]
        },
        {
          "output_type": "stream",
          "name": "stderr",
          "text": [
            "100%|██████████| 94/94 [00:05<00:00, 17.00it/s]\n",
            "100%|██████████| 24/24 [00:00<00:00, 54.58it/s]\n"
          ]
        },
        {
          "output_type": "stream",
          "name": "stdout",
          "text": [
            "\tEPOCH:333/1000\tTrain Loss: 0.087 |\t Val. Loss: 11.124\n"
          ]
        },
        {
          "output_type": "stream",
          "name": "stderr",
          "text": [
            "100%|██████████| 94/94 [00:05<00:00, 15.75it/s]\n",
            "100%|██████████| 24/24 [00:00<00:00, 33.35it/s]\n"
          ]
        },
        {
          "output_type": "stream",
          "name": "stdout",
          "text": [
            "\tEPOCH:334/1000\tTrain Loss: 0.090 |\t Val. Loss: 11.144\n"
          ]
        },
        {
          "output_type": "stream",
          "name": "stderr",
          "text": [
            "100%|██████████| 94/94 [00:08<00:00, 11.65it/s]\n",
            "100%|██████████| 24/24 [00:00<00:00, 56.41it/s]\n"
          ]
        },
        {
          "output_type": "stream",
          "name": "stdout",
          "text": [
            "\tEPOCH:335/1000\tTrain Loss: 0.085 |\t Val. Loss: 11.145\n"
          ]
        },
        {
          "output_type": "stream",
          "name": "stderr",
          "text": [
            "100%|██████████| 94/94 [00:04<00:00, 20.21it/s]\n",
            "100%|██████████| 24/24 [00:00<00:00, 54.61it/s]\n"
          ]
        },
        {
          "output_type": "stream",
          "name": "stdout",
          "text": [
            "\tEPOCH:336/1000\tTrain Loss: 0.082 |\t Val. Loss: 11.118\n"
          ]
        },
        {
          "output_type": "stream",
          "name": "stderr",
          "text": [
            "100%|██████████| 94/94 [00:05<00:00, 18.45it/s]\n",
            "100%|██████████| 24/24 [00:00<00:00, 41.55it/s]\n"
          ]
        },
        {
          "output_type": "stream",
          "name": "stdout",
          "text": [
            "\tEPOCH:337/1000\tTrain Loss: 0.082 |\t Val. Loss: 11.160\n"
          ]
        },
        {
          "output_type": "stream",
          "name": "stderr",
          "text": [
            "100%|██████████| 94/94 [00:04<00:00, 18.99it/s]\n",
            "100%|██████████| 24/24 [00:00<00:00, 56.92it/s]\n"
          ]
        },
        {
          "output_type": "stream",
          "name": "stdout",
          "text": [
            "\tEPOCH:338/1000\tTrain Loss: 0.072 |\t Val. Loss: 11.148\n"
          ]
        },
        {
          "output_type": "stream",
          "name": "stderr",
          "text": [
            "100%|██████████| 94/94 [00:04<00:00, 20.28it/s]\n",
            "100%|██████████| 24/24 [00:00<00:00, 58.77it/s]\n"
          ]
        },
        {
          "output_type": "stream",
          "name": "stdout",
          "text": [
            "\tEPOCH:339/1000\tTrain Loss: 0.078 |\t Val. Loss: 11.187\n"
          ]
        },
        {
          "output_type": "stream",
          "name": "stderr",
          "text": [
            "100%|██████████| 94/94 [00:05<00:00, 17.19it/s]\n",
            "100%|██████████| 24/24 [00:00<00:00, 55.78it/s]\n"
          ]
        },
        {
          "output_type": "stream",
          "name": "stdout",
          "text": [
            "\tEPOCH:340/1000\tTrain Loss: 0.083 |\t Val. Loss: 11.188\n"
          ]
        },
        {
          "output_type": "stream",
          "name": "stderr",
          "text": [
            "100%|██████████| 94/94 [00:04<00:00, 20.30it/s]\n",
            "100%|██████████| 24/24 [00:00<00:00, 55.36it/s]\n"
          ]
        },
        {
          "output_type": "stream",
          "name": "stdout",
          "text": [
            "\tEPOCH:341/1000\tTrain Loss: 0.079 |\t Val. Loss: 11.172\n"
          ]
        },
        {
          "output_type": "stream",
          "name": "stderr",
          "text": [
            "100%|██████████| 94/94 [00:04<00:00, 19.67it/s]\n",
            "100%|██████████| 24/24 [00:00<00:00, 45.00it/s]\n"
          ]
        },
        {
          "output_type": "stream",
          "name": "stdout",
          "text": [
            "\tEPOCH:342/1000\tTrain Loss: 0.075 |\t Val. Loss: 11.188\n"
          ]
        },
        {
          "output_type": "stream",
          "name": "stderr",
          "text": [
            "100%|██████████| 94/94 [00:05<00:00, 17.93it/s]\n",
            "100%|██████████| 24/24 [00:00<00:00, 55.73it/s]\n"
          ]
        },
        {
          "output_type": "stream",
          "name": "stdout",
          "text": [
            "\tEPOCH:343/1000\tTrain Loss: 0.073 |\t Val. Loss: 11.217\n"
          ]
        },
        {
          "output_type": "stream",
          "name": "stderr",
          "text": [
            "100%|██████████| 94/94 [00:04<00:00, 20.06it/s]\n",
            "100%|██████████| 24/24 [00:00<00:00, 56.57it/s]\n"
          ]
        },
        {
          "output_type": "stream",
          "name": "stdout",
          "text": [
            "\tEPOCH:344/1000\tTrain Loss: 0.072 |\t Val. Loss: 11.228\n"
          ]
        },
        {
          "output_type": "stream",
          "name": "stderr",
          "text": [
            "100%|██████████| 94/94 [00:05<00:00, 17.63it/s]\n",
            "100%|██████████| 24/24 [00:00<00:00, 43.72it/s]\n"
          ]
        },
        {
          "output_type": "stream",
          "name": "stdout",
          "text": [
            "\tEPOCH:345/1000\tTrain Loss: 0.075 |\t Val. Loss: 11.239\n"
          ]
        },
        {
          "output_type": "stream",
          "name": "stderr",
          "text": [
            "100%|██████████| 94/94 [00:04<00:00, 19.57it/s]\n",
            "100%|██████████| 24/24 [00:00<00:00, 55.30it/s]\n"
          ]
        },
        {
          "output_type": "stream",
          "name": "stdout",
          "text": [
            "\tEPOCH:346/1000\tTrain Loss: 0.082 |\t Val. Loss: 11.250\n"
          ]
        },
        {
          "output_type": "stream",
          "name": "stderr",
          "text": [
            "100%|██████████| 94/94 [00:04<00:00, 20.07it/s]\n",
            "100%|██████████| 24/24 [00:00<00:00, 53.28it/s]\n"
          ]
        },
        {
          "output_type": "stream",
          "name": "stdout",
          "text": [
            "\tEPOCH:347/1000\tTrain Loss: 0.089 |\t Val. Loss: 11.259\n"
          ]
        },
        {
          "output_type": "stream",
          "name": "stderr",
          "text": [
            "100%|██████████| 94/94 [00:05<00:00, 16.93it/s]\n",
            "100%|██████████| 24/24 [00:00<00:00, 55.13it/s]\n"
          ]
        },
        {
          "output_type": "stream",
          "name": "stdout",
          "text": [
            "\tEPOCH:348/1000\tTrain Loss: 0.094 |\t Val. Loss: 11.222\n"
          ]
        },
        {
          "output_type": "stream",
          "name": "stderr",
          "text": [
            "100%|██████████| 94/94 [00:04<00:00, 20.26it/s]\n",
            "100%|██████████| 24/24 [00:00<00:00, 58.39it/s]\n"
          ]
        },
        {
          "output_type": "stream",
          "name": "stdout",
          "text": [
            "\tEPOCH:349/1000\tTrain Loss: 0.075 |\t Val. Loss: 11.239\n"
          ]
        },
        {
          "output_type": "stream",
          "name": "stderr",
          "text": [
            "100%|██████████| 94/94 [00:04<00:00, 18.92it/s]\n",
            "100%|██████████| 24/24 [00:00<00:00, 42.53it/s]\n"
          ]
        },
        {
          "output_type": "stream",
          "name": "stdout",
          "text": [
            "\tEPOCH:350/1000\tTrain Loss: 0.072 |\t Val. Loss: 11.254\n"
          ]
        },
        {
          "output_type": "stream",
          "name": "stderr",
          "text": [
            "100%|██████████| 94/94 [00:05<00:00, 18.51it/s]\n",
            "100%|██████████| 24/24 [00:00<00:00, 56.59it/s]\n"
          ]
        },
        {
          "output_type": "stream",
          "name": "stdout",
          "text": [
            "\tEPOCH:351/1000\tTrain Loss: 0.081 |\t Val. Loss: 11.283\n"
          ]
        },
        {
          "output_type": "stream",
          "name": "stderr",
          "text": [
            "100%|██████████| 94/94 [00:04<00:00, 20.33it/s]\n",
            "100%|██████████| 24/24 [00:00<00:00, 35.79it/s]\n"
          ]
        },
        {
          "output_type": "stream",
          "name": "stdout",
          "text": [
            "\tEPOCH:352/1000\tTrain Loss: 0.082 |\t Val. Loss: 11.272\n"
          ]
        },
        {
          "output_type": "stream",
          "name": "stderr",
          "text": [
            "100%|██████████| 94/94 [00:06<00:00, 15.64it/s]\n",
            "100%|██████████| 24/24 [00:00<00:00, 57.56it/s]\n"
          ]
        },
        {
          "output_type": "stream",
          "name": "stdout",
          "text": [
            "\tEPOCH:353/1000\tTrain Loss: 0.083 |\t Val. Loss: 11.297\n"
          ]
        },
        {
          "output_type": "stream",
          "name": "stderr",
          "text": [
            "100%|██████████| 94/94 [00:04<00:00, 20.44it/s]\n",
            "100%|██████████| 24/24 [00:00<00:00, 56.04it/s]\n"
          ]
        },
        {
          "output_type": "stream",
          "name": "stdout",
          "text": [
            "\tEPOCH:354/1000\tTrain Loss: 0.089 |\t Val. Loss: 11.280\n"
          ]
        },
        {
          "output_type": "stream",
          "name": "stderr",
          "text": [
            "100%|██████████| 94/94 [00:04<00:00, 19.20it/s]\n",
            "100%|██████████| 24/24 [00:00<00:00, 41.59it/s]\n"
          ]
        },
        {
          "output_type": "stream",
          "name": "stdout",
          "text": [
            "\tEPOCH:355/1000\tTrain Loss: 0.087 |\t Val. Loss: 11.300\n"
          ]
        },
        {
          "output_type": "stream",
          "name": "stderr",
          "text": [
            "100%|██████████| 94/94 [00:05<00:00, 18.16it/s]\n",
            "100%|██████████| 24/24 [00:00<00:00, 56.05it/s]\n"
          ]
        },
        {
          "output_type": "stream",
          "name": "stdout",
          "text": [
            "\tEPOCH:356/1000\tTrain Loss: 0.082 |\t Val. Loss: 11.306\n"
          ]
        },
        {
          "output_type": "stream",
          "name": "stderr",
          "text": [
            "100%|██████████| 94/94 [00:04<00:00, 20.36it/s]\n",
            "100%|██████████| 24/24 [00:00<00:00, 54.35it/s]\n"
          ]
        },
        {
          "output_type": "stream",
          "name": "stdout",
          "text": [
            "\tEPOCH:357/1000\tTrain Loss: 0.075 |\t Val. Loss: 11.308\n"
          ]
        },
        {
          "output_type": "stream",
          "name": "stderr",
          "text": [
            "100%|██████████| 94/94 [00:05<00:00, 17.17it/s]\n",
            "100%|██████████| 24/24 [00:00<00:00, 40.02it/s]\n"
          ]
        },
        {
          "output_type": "stream",
          "name": "stdout",
          "text": [
            "\tEPOCH:358/1000\tTrain Loss: 0.076 |\t Val. Loss: 11.294\n"
          ]
        },
        {
          "output_type": "stream",
          "name": "stderr",
          "text": [
            "100%|██████████| 94/94 [00:04<00:00, 20.17it/s]\n",
            "100%|██████████| 24/24 [00:00<00:00, 55.31it/s]\n"
          ]
        },
        {
          "output_type": "stream",
          "name": "stdout",
          "text": [
            "\tEPOCH:359/1000\tTrain Loss: 0.080 |\t Val. Loss: 11.361\n"
          ]
        },
        {
          "output_type": "stream",
          "name": "stderr",
          "text": [
            "100%|██████████| 94/94 [00:04<00:00, 20.30it/s]\n",
            "100%|██████████| 24/24 [00:00<00:00, 47.39it/s]\n"
          ]
        },
        {
          "output_type": "stream",
          "name": "stdout",
          "text": [
            "\tEPOCH:360/1000\tTrain Loss: 0.082 |\t Val. Loss: 11.314\n"
          ]
        },
        {
          "output_type": "stream",
          "name": "stderr",
          "text": [
            "100%|██████████| 94/94 [00:05<00:00, 17.02it/s]\n",
            "100%|██████████| 24/24 [00:00<00:00, 55.54it/s]\n"
          ]
        },
        {
          "output_type": "stream",
          "name": "stdout",
          "text": [
            "\tEPOCH:361/1000\tTrain Loss: 0.074 |\t Val. Loss: 11.338\n"
          ]
        },
        {
          "output_type": "stream",
          "name": "stderr",
          "text": [
            "100%|██████████| 94/94 [00:04<00:00, 20.33it/s]\n",
            "100%|██████████| 24/24 [00:00<00:00, 55.15it/s]\n"
          ]
        },
        {
          "output_type": "stream",
          "name": "stdout",
          "text": [
            "\tEPOCH:362/1000\tTrain Loss: 0.081 |\t Val. Loss: 11.366\n"
          ]
        },
        {
          "output_type": "stream",
          "name": "stderr",
          "text": [
            "100%|██████████| 94/94 [00:05<00:00, 18.17it/s]\n",
            "100%|██████████| 24/24 [00:00<00:00, 40.03it/s]\n"
          ]
        },
        {
          "output_type": "stream",
          "name": "stdout",
          "text": [
            "\tEPOCH:363/1000\tTrain Loss: 0.066 |\t Val. Loss: 11.384\n"
          ]
        },
        {
          "output_type": "stream",
          "name": "stderr",
          "text": [
            "100%|██████████| 94/94 [00:04<00:00, 19.11it/s]\n",
            "100%|██████████| 24/24 [00:00<00:00, 57.07it/s]\n"
          ]
        },
        {
          "output_type": "stream",
          "name": "stdout",
          "text": [
            "\tEPOCH:364/1000\tTrain Loss: 0.065 |\t Val. Loss: 11.359\n"
          ]
        },
        {
          "output_type": "stream",
          "name": "stderr",
          "text": [
            "100%|██████████| 94/94 [00:04<00:00, 20.31it/s]\n",
            "100%|██████████| 24/24 [00:00<00:00, 56.79it/s]\n"
          ]
        },
        {
          "output_type": "stream",
          "name": "stdout",
          "text": [
            "\tEPOCH:365/1000\tTrain Loss: 0.071 |\t Val. Loss: 11.337\n"
          ]
        },
        {
          "output_type": "stream",
          "name": "stderr",
          "text": [
            "100%|██████████| 94/94 [00:05<00:00, 17.12it/s]\n",
            "100%|██████████| 24/24 [00:00<00:00, 54.15it/s]\n"
          ]
        },
        {
          "output_type": "stream",
          "name": "stdout",
          "text": [
            "\tEPOCH:366/1000\tTrain Loss: 0.084 |\t Val. Loss: 11.345\n"
          ]
        },
        {
          "output_type": "stream",
          "name": "stderr",
          "text": [
            "100%|██████████| 94/94 [00:04<00:00, 20.02it/s]\n",
            "100%|██████████| 24/24 [00:00<00:00, 56.13it/s]\n"
          ]
        },
        {
          "output_type": "stream",
          "name": "stdout",
          "text": [
            "\tEPOCH:367/1000\tTrain Loss: 0.089 |\t Val. Loss: 11.296\n"
          ]
        },
        {
          "output_type": "stream",
          "name": "stderr",
          "text": [
            "100%|██████████| 94/94 [00:04<00:00, 19.59it/s]\n",
            "100%|██████████| 24/24 [00:00<00:00, 42.47it/s]\n"
          ]
        },
        {
          "output_type": "stream",
          "name": "stdout",
          "text": [
            "\tEPOCH:368/1000\tTrain Loss: 0.092 |\t Val. Loss: 11.278\n"
          ]
        },
        {
          "output_type": "stream",
          "name": "stderr",
          "text": [
            "100%|██████████| 94/94 [00:05<00:00, 17.77it/s]\n",
            "100%|██████████| 24/24 [00:00<00:00, 57.97it/s]\n"
          ]
        },
        {
          "output_type": "stream",
          "name": "stdout",
          "text": [
            "\tEPOCH:369/1000\tTrain Loss: 0.087 |\t Val. Loss: 11.283\n"
          ]
        },
        {
          "output_type": "stream",
          "name": "stderr",
          "text": [
            "100%|██████████| 94/94 [00:04<00:00, 20.42it/s]\n",
            "100%|██████████| 24/24 [00:00<00:00, 56.30it/s]\n"
          ]
        },
        {
          "output_type": "stream",
          "name": "stdout",
          "text": [
            "\tEPOCH:370/1000\tTrain Loss: 0.089 |\t Val. Loss: 11.356\n"
          ]
        },
        {
          "output_type": "stream",
          "name": "stderr",
          "text": [
            "100%|██████████| 94/94 [00:05<00:00, 16.93it/s]\n",
            "100%|██████████| 24/24 [00:00<00:00, 37.46it/s]\n"
          ]
        },
        {
          "output_type": "stream",
          "name": "stdout",
          "text": [
            "\tEPOCH:371/1000\tTrain Loss: 0.076 |\t Val. Loss: 11.318\n"
          ]
        },
        {
          "output_type": "stream",
          "name": "stderr",
          "text": [
            "100%|██████████| 94/94 [00:05<00:00, 16.75it/s]\n",
            "100%|██████████| 24/24 [00:00<00:00, 57.26it/s]\n"
          ]
        },
        {
          "output_type": "stream",
          "name": "stdout",
          "text": [
            "\tEPOCH:372/1000\tTrain Loss: 0.075 |\t Val. Loss: 11.392\n"
          ]
        },
        {
          "output_type": "stream",
          "name": "stderr",
          "text": [
            "100%|██████████| 94/94 [00:04<00:00, 20.08it/s]\n",
            "100%|██████████| 24/24 [00:00<00:00, 57.54it/s]\n"
          ]
        },
        {
          "output_type": "stream",
          "name": "stdout",
          "text": [
            "\tEPOCH:373/1000\tTrain Loss: 0.074 |\t Val. Loss: 11.395\n"
          ]
        },
        {
          "output_type": "stream",
          "name": "stderr",
          "text": [
            "100%|██████████| 94/94 [00:05<00:00, 16.81it/s]\n",
            "100%|██████████| 24/24 [00:00<00:00, 57.44it/s]\n"
          ]
        },
        {
          "output_type": "stream",
          "name": "stdout",
          "text": [
            "\tEPOCH:374/1000\tTrain Loss: 0.081 |\t Val. Loss: 11.402\n"
          ]
        },
        {
          "output_type": "stream",
          "name": "stderr",
          "text": [
            "100%|██████████| 94/94 [00:04<00:00, 20.24it/s]\n",
            "100%|██████████| 24/24 [00:00<00:00, 56.57it/s]\n"
          ]
        },
        {
          "output_type": "stream",
          "name": "stdout",
          "text": [
            "\tEPOCH:375/1000\tTrain Loss: 0.074 |\t Val. Loss: 11.411\n"
          ]
        },
        {
          "output_type": "stream",
          "name": "stderr",
          "text": [
            "100%|██████████| 94/94 [00:04<00:00, 19.40it/s]\n",
            "100%|██████████| 24/24 [00:00<00:00, 44.94it/s]\n"
          ]
        },
        {
          "output_type": "stream",
          "name": "stdout",
          "text": [
            "\tEPOCH:376/1000\tTrain Loss: 0.069 |\t Val. Loss: 11.428\n"
          ]
        },
        {
          "output_type": "stream",
          "name": "stderr",
          "text": [
            "100%|██████████| 94/94 [00:05<00:00, 18.03it/s]\n",
            "100%|██████████| 24/24 [00:00<00:00, 55.12it/s]\n"
          ]
        },
        {
          "output_type": "stream",
          "name": "stdout",
          "text": [
            "\tEPOCH:377/1000\tTrain Loss: 0.072 |\t Val. Loss: 11.453\n"
          ]
        },
        {
          "output_type": "stream",
          "name": "stderr",
          "text": [
            "100%|██████████| 94/94 [00:04<00:00, 20.18it/s]\n",
            "100%|██████████| 24/24 [00:00<00:00, 56.15it/s]\n"
          ]
        },
        {
          "output_type": "stream",
          "name": "stdout",
          "text": [
            "\tEPOCH:378/1000\tTrain Loss: 0.066 |\t Val. Loss: 11.409\n"
          ]
        },
        {
          "output_type": "stream",
          "name": "stderr",
          "text": [
            "100%|██████████| 94/94 [00:05<00:00, 17.49it/s]\n",
            "100%|██████████| 24/24 [00:00<00:00, 42.86it/s]\n"
          ]
        },
        {
          "output_type": "stream",
          "name": "stdout",
          "text": [
            "\tEPOCH:379/1000\tTrain Loss: 0.064 |\t Val. Loss: 11.442\n"
          ]
        },
        {
          "output_type": "stream",
          "name": "stderr",
          "text": [
            "100%|██████████| 94/94 [00:04<00:00, 19.89it/s]\n",
            "100%|██████████| 24/24 [00:00<00:00, 57.29it/s]\n"
          ]
        },
        {
          "output_type": "stream",
          "name": "stdout",
          "text": [
            "\tEPOCH:380/1000\tTrain Loss: 0.061 |\t Val. Loss: 11.421\n"
          ]
        },
        {
          "output_type": "stream",
          "name": "stderr",
          "text": [
            "100%|██████████| 94/94 [00:04<00:00, 20.07it/s]\n",
            "100%|██████████| 24/24 [00:00<00:00, 49.82it/s]\n"
          ]
        },
        {
          "output_type": "stream",
          "name": "stdout",
          "text": [
            "\tEPOCH:381/1000\tTrain Loss: 0.067 |\t Val. Loss: 11.418\n"
          ]
        },
        {
          "output_type": "stream",
          "name": "stderr",
          "text": [
            "100%|██████████| 94/94 [00:05<00:00, 17.33it/s]\n",
            "100%|██████████| 24/24 [00:00<00:00, 55.11it/s]\n"
          ]
        },
        {
          "output_type": "stream",
          "name": "stdout",
          "text": [
            "\tEPOCH:382/1000\tTrain Loss: 0.067 |\t Val. Loss: 11.487\n"
          ]
        },
        {
          "output_type": "stream",
          "name": "stderr",
          "text": [
            "100%|██████████| 94/94 [00:04<00:00, 20.09it/s]\n",
            "100%|██████████| 24/24 [00:00<00:00, 55.59it/s]\n"
          ]
        },
        {
          "output_type": "stream",
          "name": "stdout",
          "text": [
            "\tEPOCH:383/1000\tTrain Loss: 0.070 |\t Val. Loss: 11.470\n"
          ]
        },
        {
          "output_type": "stream",
          "name": "stderr",
          "text": [
            "100%|██████████| 94/94 [00:05<00:00, 18.31it/s]\n",
            "100%|██████████| 24/24 [00:00<00:00, 41.19it/s]\n"
          ]
        },
        {
          "output_type": "stream",
          "name": "stdout",
          "text": [
            "\tEPOCH:384/1000\tTrain Loss: 0.074 |\t Val. Loss: 11.464\n"
          ]
        },
        {
          "output_type": "stream",
          "name": "stderr",
          "text": [
            "100%|██████████| 94/94 [00:05<00:00, 18.75it/s]\n",
            "100%|██████████| 24/24 [00:00<00:00, 56.40it/s]\n"
          ]
        },
        {
          "output_type": "stream",
          "name": "stdout",
          "text": [
            "\tEPOCH:385/1000\tTrain Loss: 0.060 |\t Val. Loss: 11.459\n"
          ]
        },
        {
          "output_type": "stream",
          "name": "stderr",
          "text": [
            "100%|██████████| 94/94 [00:04<00:00, 20.26it/s]\n",
            "100%|██████████| 24/24 [00:00<00:00, 55.97it/s]\n"
          ]
        },
        {
          "output_type": "stream",
          "name": "stdout",
          "text": [
            "\tEPOCH:386/1000\tTrain Loss: 0.072 |\t Val. Loss: 11.451\n"
          ]
        },
        {
          "output_type": "stream",
          "name": "stderr",
          "text": [
            "100%|██████████| 94/94 [00:05<00:00, 16.89it/s]\n",
            "100%|██████████| 24/24 [00:00<00:00, 56.27it/s]\n"
          ]
        },
        {
          "output_type": "stream",
          "name": "stdout",
          "text": [
            "\tEPOCH:387/1000\tTrain Loss: 0.072 |\t Val. Loss: 11.440\n"
          ]
        },
        {
          "output_type": "stream",
          "name": "stderr",
          "text": [
            "100%|██████████| 94/94 [00:04<00:00, 20.14it/s]\n",
            "100%|██████████| 24/24 [00:00<00:00, 54.27it/s]\n"
          ]
        },
        {
          "output_type": "stream",
          "name": "stdout",
          "text": [
            "\tEPOCH:388/1000\tTrain Loss: 0.065 |\t Val. Loss: 11.487\n"
          ]
        },
        {
          "output_type": "stream",
          "name": "stderr",
          "text": [
            "100%|██████████| 94/94 [00:04<00:00, 19.47it/s]\n",
            "100%|██████████| 24/24 [00:00<00:00, 41.37it/s]\n"
          ]
        },
        {
          "output_type": "stream",
          "name": "stdout",
          "text": [
            "\tEPOCH:389/1000\tTrain Loss: 0.070 |\t Val. Loss: 11.493\n"
          ]
        },
        {
          "output_type": "stream",
          "name": "stderr",
          "text": [
            "100%|██████████| 94/94 [00:05<00:00, 17.88it/s]\n",
            "100%|██████████| 24/24 [00:00<00:00, 55.25it/s]\n"
          ]
        },
        {
          "output_type": "stream",
          "name": "stdout",
          "text": [
            "\tEPOCH:390/1000\tTrain Loss: 0.069 |\t Val. Loss: 11.423\n"
          ]
        },
        {
          "output_type": "stream",
          "name": "stderr",
          "text": [
            "100%|██████████| 94/94 [00:04<00:00, 20.23it/s]\n",
            "100%|██████████| 24/24 [00:00<00:00, 55.21it/s]\n"
          ]
        },
        {
          "output_type": "stream",
          "name": "stdout",
          "text": [
            "\tEPOCH:391/1000\tTrain Loss: 0.063 |\t Val. Loss: 11.468\n"
          ]
        },
        {
          "output_type": "stream",
          "name": "stderr",
          "text": [
            "100%|██████████| 94/94 [00:05<00:00, 17.74it/s]\n",
            "100%|██████████| 24/24 [00:00<00:00, 41.84it/s]\n"
          ]
        },
        {
          "output_type": "stream",
          "name": "stdout",
          "text": [
            "\tEPOCH:392/1000\tTrain Loss: 0.073 |\t Val. Loss: 11.520\n"
          ]
        },
        {
          "output_type": "stream",
          "name": "stderr",
          "text": [
            "100%|██████████| 94/94 [00:04<00:00, 19.86it/s]\n",
            "100%|██████████| 24/24 [00:00<00:00, 56.24it/s]\n"
          ]
        },
        {
          "output_type": "stream",
          "name": "stdout",
          "text": [
            "\tEPOCH:393/1000\tTrain Loss: 0.087 |\t Val. Loss: 11.508\n"
          ]
        },
        {
          "output_type": "stream",
          "name": "stderr",
          "text": [
            "100%|██████████| 94/94 [00:04<00:00, 19.95it/s]\n",
            "100%|██████████| 24/24 [00:00<00:00, 50.75it/s]\n"
          ]
        },
        {
          "output_type": "stream",
          "name": "stdout",
          "text": [
            "\tEPOCH:394/1000\tTrain Loss: 0.094 |\t Val. Loss: 11.443\n"
          ]
        },
        {
          "output_type": "stream",
          "name": "stderr",
          "text": [
            "100%|██████████| 94/94 [00:05<00:00, 17.05it/s]\n",
            "100%|██████████| 24/24 [00:00<00:00, 55.11it/s]\n"
          ]
        },
        {
          "output_type": "stream",
          "name": "stdout",
          "text": [
            "\tEPOCH:395/1000\tTrain Loss: 0.103 |\t Val. Loss: 11.486\n"
          ]
        },
        {
          "output_type": "stream",
          "name": "stderr",
          "text": [
            "100%|██████████| 94/94 [00:04<00:00, 20.21it/s]\n",
            "100%|██████████| 24/24 [00:00<00:00, 56.65it/s]\n"
          ]
        },
        {
          "output_type": "stream",
          "name": "stdout",
          "text": [
            "\tEPOCH:396/1000\tTrain Loss: 0.094 |\t Val. Loss: 11.458\n"
          ]
        },
        {
          "output_type": "stream",
          "name": "stderr",
          "text": [
            "100%|██████████| 94/94 [00:05<00:00, 18.66it/s]\n",
            "100%|██████████| 24/24 [00:00<00:00, 43.38it/s]\n"
          ]
        },
        {
          "output_type": "stream",
          "name": "stdout",
          "text": [
            "\tEPOCH:397/1000\tTrain Loss: 0.095 |\t Val. Loss: 11.486\n"
          ]
        },
        {
          "output_type": "stream",
          "name": "stderr",
          "text": [
            "100%|██████████| 94/94 [00:05<00:00, 18.65it/s]\n",
            "100%|██████████| 24/24 [00:00<00:00, 56.51it/s]\n"
          ]
        },
        {
          "output_type": "stream",
          "name": "stdout",
          "text": [
            "\tEPOCH:398/1000\tTrain Loss: 0.090 |\t Val. Loss: 11.502\n"
          ]
        },
        {
          "output_type": "stream",
          "name": "stderr",
          "text": [
            "100%|██████████| 94/94 [00:04<00:00, 20.14it/s]\n",
            "100%|██████████| 24/24 [00:00<00:00, 52.90it/s]\n"
          ]
        },
        {
          "output_type": "stream",
          "name": "stdout",
          "text": [
            "\tEPOCH:399/1000\tTrain Loss: 0.086 |\t Val. Loss: 11.533\n"
          ]
        },
        {
          "output_type": "stream",
          "name": "stderr",
          "text": [
            "100%|██████████| 94/94 [00:05<00:00, 16.99it/s]\n",
            "100%|██████████| 24/24 [00:00<00:00, 52.65it/s]\n"
          ]
        },
        {
          "output_type": "stream",
          "name": "stdout",
          "text": [
            "\tEPOCH:400/1000\tTrain Loss: 0.072 |\t Val. Loss: 11.566\n"
          ]
        },
        {
          "output_type": "stream",
          "name": "stderr",
          "text": [
            "100%|██████████| 94/94 [00:04<00:00, 20.21it/s]\n",
            "100%|██████████| 24/24 [00:00<00:00, 55.07it/s]\n"
          ]
        },
        {
          "output_type": "stream",
          "name": "stdout",
          "text": [
            "\tEPOCH:401/1000\tTrain Loss: 0.068 |\t Val. Loss: 11.500\n"
          ]
        },
        {
          "output_type": "stream",
          "name": "stderr",
          "text": [
            "100%|██████████| 94/94 [00:04<00:00, 19.65it/s]\n",
            "100%|██████████| 24/24 [00:00<00:00, 44.84it/s]\n"
          ]
        },
        {
          "output_type": "stream",
          "name": "stdout",
          "text": [
            "\tEPOCH:402/1000\tTrain Loss: 0.070 |\t Val. Loss: 11.537\n"
          ]
        },
        {
          "output_type": "stream",
          "name": "stderr",
          "text": [
            "100%|██████████| 94/94 [00:05<00:00, 17.49it/s]\n",
            "100%|██████████| 24/24 [00:00<00:00, 55.80it/s]\n"
          ]
        },
        {
          "output_type": "stream",
          "name": "stdout",
          "text": [
            "\tEPOCH:403/1000\tTrain Loss: 0.071 |\t Val. Loss: 11.558\n"
          ]
        },
        {
          "output_type": "stream",
          "name": "stderr",
          "text": [
            "100%|██████████| 94/94 [00:04<00:00, 20.12it/s]\n",
            "100%|██████████| 24/24 [00:00<00:00, 56.92it/s]\n"
          ]
        },
        {
          "output_type": "stream",
          "name": "stdout",
          "text": [
            "\tEPOCH:404/1000\tTrain Loss: 0.056 |\t Val. Loss: 11.511\n"
          ]
        },
        {
          "output_type": "stream",
          "name": "stderr",
          "text": [
            "100%|██████████| 94/94 [00:05<00:00, 17.71it/s]\n",
            "100%|██████████| 24/24 [00:00<00:00, 42.95it/s]\n"
          ]
        },
        {
          "output_type": "stream",
          "name": "stdout",
          "text": [
            "\tEPOCH:405/1000\tTrain Loss: 0.069 |\t Val. Loss: 11.537\n"
          ]
        },
        {
          "output_type": "stream",
          "name": "stderr",
          "text": [
            "100%|██████████| 94/94 [00:04<00:00, 19.44it/s]\n",
            "100%|██████████| 24/24 [00:00<00:00, 57.59it/s]\n"
          ]
        },
        {
          "output_type": "stream",
          "name": "stdout",
          "text": [
            "\tEPOCH:406/1000\tTrain Loss: 0.066 |\t Val. Loss: 11.508\n"
          ]
        },
        {
          "output_type": "stream",
          "name": "stderr",
          "text": [
            "100%|██████████| 94/94 [00:04<00:00, 20.41it/s]\n",
            "100%|██████████| 24/24 [00:00<00:00, 56.42it/s]\n"
          ]
        },
        {
          "output_type": "stream",
          "name": "stdout",
          "text": [
            "\tEPOCH:407/1000\tTrain Loss: 0.068 |\t Val. Loss: 11.529\n"
          ]
        },
        {
          "output_type": "stream",
          "name": "stderr",
          "text": [
            "100%|██████████| 94/94 [00:05<00:00, 16.88it/s]\n",
            "100%|██████████| 24/24 [00:00<00:00, 57.45it/s]\n"
          ]
        },
        {
          "output_type": "stream",
          "name": "stdout",
          "text": [
            "\tEPOCH:408/1000\tTrain Loss: 0.063 |\t Val. Loss: 11.565\n"
          ]
        },
        {
          "output_type": "stream",
          "name": "stderr",
          "text": [
            "100%|██████████| 94/94 [00:04<00:00, 20.35it/s]\n",
            "100%|██████████| 24/24 [00:00<00:00, 56.97it/s]\n"
          ]
        },
        {
          "output_type": "stream",
          "name": "stdout",
          "text": [
            "\tEPOCH:409/1000\tTrain Loss: 0.062 |\t Val. Loss: 11.567\n"
          ]
        },
        {
          "output_type": "stream",
          "name": "stderr",
          "text": [
            "100%|██████████| 94/94 [00:04<00:00, 18.89it/s]\n",
            "100%|██████████| 24/24 [00:00<00:00, 43.09it/s]\n"
          ]
        },
        {
          "output_type": "stream",
          "name": "stdout",
          "text": [
            "\tEPOCH:410/1000\tTrain Loss: 0.062 |\t Val. Loss: 11.549\n"
          ]
        },
        {
          "output_type": "stream",
          "name": "stderr",
          "text": [
            "100%|██████████| 94/94 [00:05<00:00, 18.28it/s]\n",
            "100%|██████████| 24/24 [00:00<00:00, 55.36it/s]\n"
          ]
        },
        {
          "output_type": "stream",
          "name": "stdout",
          "text": [
            "\tEPOCH:411/1000\tTrain Loss: 0.068 |\t Val. Loss: 11.554\n"
          ]
        },
        {
          "output_type": "stream",
          "name": "stderr",
          "text": [
            "100%|██████████| 94/94 [00:04<00:00, 20.16it/s]\n",
            "100%|██████████| 24/24 [00:00<00:00, 56.40it/s]\n"
          ]
        },
        {
          "output_type": "stream",
          "name": "stdout",
          "text": [
            "\tEPOCH:412/1000\tTrain Loss: 0.064 |\t Val. Loss: 11.601\n"
          ]
        },
        {
          "output_type": "stream",
          "name": "stderr",
          "text": [
            "100%|██████████| 94/94 [00:05<00:00, 16.84it/s]\n",
            "100%|██████████| 24/24 [00:00<00:00, 49.66it/s]\n"
          ]
        },
        {
          "output_type": "stream",
          "name": "stdout",
          "text": [
            "\tEPOCH:413/1000\tTrain Loss: 0.057 |\t Val. Loss: 11.585\n"
          ]
        },
        {
          "output_type": "stream",
          "name": "stderr",
          "text": [
            "100%|██████████| 94/94 [00:04<00:00, 20.19it/s]\n",
            "100%|██████████| 24/24 [00:00<00:00, 57.31it/s]\n"
          ]
        },
        {
          "output_type": "stream",
          "name": "stdout",
          "text": [
            "\tEPOCH:414/1000\tTrain Loss: 0.060 |\t Val. Loss: 11.579\n"
          ]
        },
        {
          "output_type": "stream",
          "name": "stderr",
          "text": [
            "100%|██████████| 94/94 [00:04<00:00, 19.88it/s]\n",
            "100%|██████████| 24/24 [00:00<00:00, 43.88it/s]\n"
          ]
        },
        {
          "output_type": "stream",
          "name": "stdout",
          "text": [
            "\tEPOCH:415/1000\tTrain Loss: 0.071 |\t Val. Loss: 11.605\n"
          ]
        },
        {
          "output_type": "stream",
          "name": "stderr",
          "text": [
            "100%|██████████| 94/94 [00:05<00:00, 17.41it/s]\n",
            "100%|██████████| 24/24 [00:00<00:00, 53.74it/s]\n"
          ]
        },
        {
          "output_type": "stream",
          "name": "stdout",
          "text": [
            "\tEPOCH:416/1000\tTrain Loss: 0.069 |\t Val. Loss: 11.616\n"
          ]
        },
        {
          "output_type": "stream",
          "name": "stderr",
          "text": [
            "100%|██████████| 94/94 [00:04<00:00, 20.09it/s]\n",
            "100%|██████████| 24/24 [00:00<00:00, 57.34it/s]\n"
          ]
        },
        {
          "output_type": "stream",
          "name": "stdout",
          "text": [
            "\tEPOCH:417/1000\tTrain Loss: 0.071 |\t Val. Loss: 11.607\n"
          ]
        },
        {
          "output_type": "stream",
          "name": "stderr",
          "text": [
            "100%|██████████| 94/94 [00:05<00:00, 17.78it/s]\n",
            "100%|██████████| 24/24 [00:00<00:00, 45.03it/s]\n"
          ]
        },
        {
          "output_type": "stream",
          "name": "stdout",
          "text": [
            "\tEPOCH:418/1000\tTrain Loss: 0.075 |\t Val. Loss: 11.607\n"
          ]
        },
        {
          "output_type": "stream",
          "name": "stderr",
          "text": [
            "100%|██████████| 94/94 [00:05<00:00, 16.50it/s]\n",
            "100%|██████████| 24/24 [00:00<00:00, 57.27it/s]\n"
          ]
        },
        {
          "output_type": "stream",
          "name": "stdout",
          "text": [
            "\tEPOCH:419/1000\tTrain Loss: 0.074 |\t Val. Loss: 11.623\n"
          ]
        },
        {
          "output_type": "stream",
          "name": "stderr",
          "text": [
            "100%|██████████| 94/94 [00:04<00:00, 19.83it/s]\n",
            "100%|██████████| 24/24 [00:00<00:00, 43.15it/s]\n"
          ]
        },
        {
          "output_type": "stream",
          "name": "stdout",
          "text": [
            "\tEPOCH:420/1000\tTrain Loss: 0.060 |\t Val. Loss: 11.610\n"
          ]
        },
        {
          "output_type": "stream",
          "name": "stderr",
          "text": [
            "100%|██████████| 94/94 [00:05<00:00, 17.57it/s]\n",
            "100%|██████████| 24/24 [00:00<00:00, 57.14it/s]\n"
          ]
        },
        {
          "output_type": "stream",
          "name": "stdout",
          "text": [
            "\tEPOCH:421/1000\tTrain Loss: 0.081 |\t Val. Loss: 11.623\n"
          ]
        },
        {
          "output_type": "stream",
          "name": "stderr",
          "text": [
            "100%|██████████| 94/94 [00:04<00:00, 19.93it/s]\n",
            "100%|██████████| 24/24 [00:00<00:00, 57.04it/s]\n"
          ]
        },
        {
          "output_type": "stream",
          "name": "stdout",
          "text": [
            "\tEPOCH:422/1000\tTrain Loss: 0.077 |\t Val. Loss: 11.626\n"
          ]
        },
        {
          "output_type": "stream",
          "name": "stderr",
          "text": [
            "100%|██████████| 94/94 [00:05<00:00, 18.18it/s]\n",
            "100%|██████████| 24/24 [00:00<00:00, 43.75it/s]\n"
          ]
        },
        {
          "output_type": "stream",
          "name": "stdout",
          "text": [
            "\tEPOCH:423/1000\tTrain Loss: 0.080 |\t Val. Loss: 11.643\n"
          ]
        },
        {
          "output_type": "stream",
          "name": "stderr",
          "text": [
            "100%|██████████| 94/94 [00:05<00:00, 18.61it/s]\n",
            "100%|██████████| 24/24 [00:00<00:00, 56.98it/s]\n"
          ]
        },
        {
          "output_type": "stream",
          "name": "stdout",
          "text": [
            "\tEPOCH:424/1000\tTrain Loss: 0.068 |\t Val. Loss: 11.617\n"
          ]
        },
        {
          "output_type": "stream",
          "name": "stderr",
          "text": [
            "100%|██████████| 94/94 [00:04<00:00, 20.19it/s]\n",
            "100%|██████████| 24/24 [00:00<00:00, 56.97it/s]\n"
          ]
        },
        {
          "output_type": "stream",
          "name": "stdout",
          "text": [
            "\tEPOCH:425/1000\tTrain Loss: 0.065 |\t Val. Loss: 11.618\n"
          ]
        },
        {
          "output_type": "stream",
          "name": "stderr",
          "text": [
            "100%|██████████| 94/94 [00:05<00:00, 16.89it/s]\n",
            "100%|██████████| 24/24 [00:00<00:00, 55.86it/s]\n"
          ]
        },
        {
          "output_type": "stream",
          "name": "stdout",
          "text": [
            "\tEPOCH:426/1000\tTrain Loss: 0.066 |\t Val. Loss: 11.658\n"
          ]
        },
        {
          "output_type": "stream",
          "name": "stderr",
          "text": [
            "100%|██████████| 94/94 [00:04<00:00, 20.13it/s]\n",
            "100%|██████████| 24/24 [00:00<00:00, 54.53it/s]\n"
          ]
        },
        {
          "output_type": "stream",
          "name": "stdout",
          "text": [
            "\tEPOCH:427/1000\tTrain Loss: 0.066 |\t Val. Loss: 11.630\n"
          ]
        },
        {
          "output_type": "stream",
          "name": "stderr",
          "text": [
            "100%|██████████| 94/94 [00:04<00:00, 19.01it/s]\n",
            "100%|██████████| 24/24 [00:00<00:00, 44.29it/s]\n"
          ]
        },
        {
          "output_type": "stream",
          "name": "stdout",
          "text": [
            "\tEPOCH:428/1000\tTrain Loss: 0.069 |\t Val. Loss: 11.699\n"
          ]
        },
        {
          "output_type": "stream",
          "name": "stderr",
          "text": [
            "100%|██████████| 94/94 [00:05<00:00, 18.12it/s]\n",
            "100%|██████████| 24/24 [00:00<00:00, 55.54it/s]\n"
          ]
        },
        {
          "output_type": "stream",
          "name": "stdout",
          "text": [
            "\tEPOCH:429/1000\tTrain Loss: 0.067 |\t Val. Loss: 11.639\n"
          ]
        },
        {
          "output_type": "stream",
          "name": "stderr",
          "text": [
            "100%|██████████| 94/94 [00:04<00:00, 20.29it/s]\n",
            "100%|██████████| 24/24 [00:00<00:00, 57.09it/s]\n"
          ]
        },
        {
          "output_type": "stream",
          "name": "stdout",
          "text": [
            "\tEPOCH:430/1000\tTrain Loss: 0.066 |\t Val. Loss: 11.625\n"
          ]
        },
        {
          "output_type": "stream",
          "name": "stderr",
          "text": [
            "100%|██████████| 94/94 [00:05<00:00, 17.28it/s]\n",
            "100%|██████████| 24/24 [00:00<00:00, 43.17it/s]\n"
          ]
        },
        {
          "output_type": "stream",
          "name": "stdout",
          "text": [
            "\tEPOCH:431/1000\tTrain Loss: 0.080 |\t Val. Loss: 11.651\n"
          ]
        },
        {
          "output_type": "stream",
          "name": "stderr",
          "text": [
            "100%|██████████| 94/94 [00:04<00:00, 20.28it/s]\n",
            "100%|██████████| 24/24 [00:00<00:00, 54.28it/s]\n"
          ]
        },
        {
          "output_type": "stream",
          "name": "stdout",
          "text": [
            "\tEPOCH:432/1000\tTrain Loss: 0.072 |\t Val. Loss: 11.663\n"
          ]
        },
        {
          "output_type": "stream",
          "name": "stderr",
          "text": [
            "100%|██████████| 94/94 [00:04<00:00, 20.18it/s]\n",
            "100%|██████████| 24/24 [00:00<00:00, 41.44it/s]\n"
          ]
        },
        {
          "output_type": "stream",
          "name": "stdout",
          "text": [
            "\tEPOCH:433/1000\tTrain Loss: 0.061 |\t Val. Loss: 11.667\n"
          ]
        },
        {
          "output_type": "stream",
          "name": "stderr",
          "text": [
            "100%|██████████| 94/94 [00:05<00:00, 17.43it/s]\n",
            "100%|██████████| 24/24 [00:00<00:00, 55.32it/s]\n"
          ]
        },
        {
          "output_type": "stream",
          "name": "stdout",
          "text": [
            "\tEPOCH:434/1000\tTrain Loss: 0.059 |\t Val. Loss: 11.676\n"
          ]
        },
        {
          "output_type": "stream",
          "name": "stderr",
          "text": [
            "100%|██████████| 94/94 [00:04<00:00, 20.37it/s]\n",
            "100%|██████████| 24/24 [00:00<00:00, 56.03it/s]\n"
          ]
        },
        {
          "output_type": "stream",
          "name": "stdout",
          "text": [
            "\tEPOCH:435/1000\tTrain Loss: 0.068 |\t Val. Loss: 11.671\n"
          ]
        },
        {
          "output_type": "stream",
          "name": "stderr",
          "text": [
            "100%|██████████| 94/94 [00:05<00:00, 18.40it/s]\n",
            "100%|██████████| 24/24 [00:00<00:00, 41.25it/s]\n"
          ]
        },
        {
          "output_type": "stream",
          "name": "stdout",
          "text": [
            "\tEPOCH:436/1000\tTrain Loss: 0.071 |\t Val. Loss: 11.657\n"
          ]
        },
        {
          "output_type": "stream",
          "name": "stderr",
          "text": [
            "100%|██████████| 94/94 [00:04<00:00, 19.18it/s]\n",
            "100%|██████████| 24/24 [00:00<00:00, 54.38it/s]\n"
          ]
        },
        {
          "output_type": "stream",
          "name": "stdout",
          "text": [
            "\tEPOCH:437/1000\tTrain Loss: 0.064 |\t Val. Loss: 11.625\n"
          ]
        },
        {
          "output_type": "stream",
          "name": "stderr",
          "text": [
            "100%|██████████| 94/94 [00:04<00:00, 20.07it/s]\n",
            "100%|██████████| 24/24 [00:00<00:00, 57.01it/s]\n"
          ]
        },
        {
          "output_type": "stream",
          "name": "stdout",
          "text": [
            "\tEPOCH:438/1000\tTrain Loss: 0.066 |\t Val. Loss: 11.673\n"
          ]
        },
        {
          "output_type": "stream",
          "name": "stderr",
          "text": [
            "100%|██████████| 94/94 [00:05<00:00, 17.10it/s]\n",
            "100%|██████████| 24/24 [00:00<00:00, 56.15it/s]\n"
          ]
        },
        {
          "output_type": "stream",
          "name": "stdout",
          "text": [
            "\tEPOCH:439/1000\tTrain Loss: 0.061 |\t Val. Loss: 11.689\n"
          ]
        },
        {
          "output_type": "stream",
          "name": "stderr",
          "text": [
            "100%|██████████| 94/94 [00:04<00:00, 20.16it/s]\n",
            "100%|██████████| 24/24 [00:00<00:00, 53.51it/s]\n"
          ]
        },
        {
          "output_type": "stream",
          "name": "stdout",
          "text": [
            "\tEPOCH:440/1000\tTrain Loss: 0.059 |\t Val. Loss: 11.691\n"
          ]
        },
        {
          "output_type": "stream",
          "name": "stderr",
          "text": [
            "100%|██████████| 94/94 [00:04<00:00, 19.50it/s]\n",
            "100%|██████████| 24/24 [00:00<00:00, 46.09it/s]\n"
          ]
        },
        {
          "output_type": "stream",
          "name": "stdout",
          "text": [
            "\tEPOCH:441/1000\tTrain Loss: 0.059 |\t Val. Loss: 11.655\n"
          ]
        },
        {
          "output_type": "stream",
          "name": "stderr",
          "text": [
            "100%|██████████| 94/94 [00:05<00:00, 18.02it/s]\n",
            "100%|██████████| 24/24 [00:00<00:00, 55.73it/s]\n"
          ]
        },
        {
          "output_type": "stream",
          "name": "stdout",
          "text": [
            "\tEPOCH:442/1000\tTrain Loss: 0.054 |\t Val. Loss: 11.691\n"
          ]
        },
        {
          "output_type": "stream",
          "name": "stderr",
          "text": [
            "100%|██████████| 94/94 [00:04<00:00, 20.29it/s]\n",
            "100%|██████████| 24/24 [00:00<00:00, 54.49it/s]\n"
          ]
        },
        {
          "output_type": "stream",
          "name": "stdout",
          "text": [
            "\tEPOCH:443/1000\tTrain Loss: 0.065 |\t Val. Loss: 11.720\n"
          ]
        },
        {
          "output_type": "stream",
          "name": "stderr",
          "text": [
            "100%|██████████| 94/94 [00:05<00:00, 17.68it/s]\n",
            "100%|██████████| 24/24 [00:00<00:00, 43.87it/s]\n"
          ]
        },
        {
          "output_type": "stream",
          "name": "stdout",
          "text": [
            "\tEPOCH:444/1000\tTrain Loss: 0.062 |\t Val. Loss: 11.725\n"
          ]
        },
        {
          "output_type": "stream",
          "name": "stderr",
          "text": [
            "100%|██████████| 94/94 [00:04<00:00, 19.94it/s]\n",
            "100%|██████████| 24/24 [00:00<00:00, 54.69it/s]\n"
          ]
        },
        {
          "output_type": "stream",
          "name": "stdout",
          "text": [
            "\tEPOCH:445/1000\tTrain Loss: 0.056 |\t Val. Loss: 11.705\n"
          ]
        },
        {
          "output_type": "stream",
          "name": "stderr",
          "text": [
            "100%|██████████| 94/94 [00:04<00:00, 20.26it/s]\n",
            "100%|██████████| 24/24 [00:00<00:00, 54.13it/s]\n"
          ]
        },
        {
          "output_type": "stream",
          "name": "stdout",
          "text": [
            "\tEPOCH:446/1000\tTrain Loss: 0.057 |\t Val. Loss: 11.686\n"
          ]
        },
        {
          "output_type": "stream",
          "name": "stderr",
          "text": [
            "100%|██████████| 94/94 [00:05<00:00, 17.09it/s]\n",
            "100%|██████████| 24/24 [00:00<00:00, 54.77it/s]\n"
          ]
        },
        {
          "output_type": "stream",
          "name": "stdout",
          "text": [
            "\tEPOCH:447/1000\tTrain Loss: 0.067 |\t Val. Loss: 11.699\n"
          ]
        },
        {
          "output_type": "stream",
          "name": "stderr",
          "text": [
            "100%|██████████| 94/94 [00:04<00:00, 20.23it/s]\n",
            "100%|██████████| 24/24 [00:00<00:00, 58.07it/s]\n"
          ]
        },
        {
          "output_type": "stream",
          "name": "stdout",
          "text": [
            "\tEPOCH:448/1000\tTrain Loss: 0.067 |\t Val. Loss: 11.732\n"
          ]
        },
        {
          "output_type": "stream",
          "name": "stderr",
          "text": [
            "100%|██████████| 94/94 [00:05<00:00, 18.33it/s]\n",
            "100%|██████████| 24/24 [00:00<00:00, 44.79it/s]\n"
          ]
        },
        {
          "output_type": "stream",
          "name": "stdout",
          "text": [
            "\tEPOCH:449/1000\tTrain Loss: 0.073 |\t Val. Loss: 11.701\n"
          ]
        },
        {
          "output_type": "stream",
          "name": "stderr",
          "text": [
            "100%|██████████| 94/94 [00:05<00:00, 18.67it/s]\n",
            "100%|██████████| 24/24 [00:00<00:00, 55.73it/s]\n"
          ]
        },
        {
          "output_type": "stream",
          "name": "stdout",
          "text": [
            "\tEPOCH:450/1000\tTrain Loss: 0.064 |\t Val. Loss: 11.724\n"
          ]
        },
        {
          "output_type": "stream",
          "name": "stderr",
          "text": [
            "100%|██████████| 94/94 [00:04<00:00, 20.24it/s]\n",
            "100%|██████████| 24/24 [00:00<00:00, 56.94it/s]\n"
          ]
        },
        {
          "output_type": "stream",
          "name": "stdout",
          "text": [
            "\tEPOCH:451/1000\tTrain Loss: 0.065 |\t Val. Loss: 11.721\n"
          ]
        },
        {
          "output_type": "stream",
          "name": "stderr",
          "text": [
            "100%|██████████| 94/94 [00:05<00:00, 17.27it/s]\n",
            "100%|██████████| 24/24 [00:00<00:00, 46.50it/s]\n"
          ]
        },
        {
          "output_type": "stream",
          "name": "stdout",
          "text": [
            "\tEPOCH:452/1000\tTrain Loss: 0.072 |\t Val. Loss: 11.703\n"
          ]
        },
        {
          "output_type": "stream",
          "name": "stderr",
          "text": [
            "100%|██████████| 94/94 [00:04<00:00, 20.33it/s]\n",
            "100%|██████████| 24/24 [00:00<00:00, 56.09it/s]\n"
          ]
        },
        {
          "output_type": "stream",
          "name": "stdout",
          "text": [
            "\tEPOCH:453/1000\tTrain Loss: 0.075 |\t Val. Loss: 11.732\n"
          ]
        },
        {
          "output_type": "stream",
          "name": "stderr",
          "text": [
            "100%|██████████| 94/94 [00:04<00:00, 19.71it/s]\n",
            "100%|██████████| 24/24 [00:00<00:00, 41.89it/s]\n"
          ]
        },
        {
          "output_type": "stream",
          "name": "stdout",
          "text": [
            "\tEPOCH:454/1000\tTrain Loss: 0.073 |\t Val. Loss: 11.689\n"
          ]
        },
        {
          "output_type": "stream",
          "name": "stderr",
          "text": [
            "100%|██████████| 94/94 [00:05<00:00, 17.58it/s]\n",
            "100%|██████████| 24/24 [00:00<00:00, 57.20it/s]\n"
          ]
        },
        {
          "output_type": "stream",
          "name": "stdout",
          "text": [
            "\tEPOCH:455/1000\tTrain Loss: 0.076 |\t Val. Loss: 11.685\n"
          ]
        },
        {
          "output_type": "stream",
          "name": "stderr",
          "text": [
            "100%|██████████| 94/94 [00:04<00:00, 20.22it/s]\n",
            "100%|██████████| 24/24 [00:00<00:00, 57.48it/s]\n"
          ]
        },
        {
          "output_type": "stream",
          "name": "stdout",
          "text": [
            "\tEPOCH:456/1000\tTrain Loss: 0.066 |\t Val. Loss: 11.732\n"
          ]
        },
        {
          "output_type": "stream",
          "name": "stderr",
          "text": [
            "100%|██████████| 94/94 [00:05<00:00, 18.00it/s]\n",
            "100%|██████████| 24/24 [00:00<00:00, 40.67it/s]\n"
          ]
        },
        {
          "output_type": "stream",
          "name": "stdout",
          "text": [
            "\tEPOCH:457/1000\tTrain Loss: 0.071 |\t Val. Loss: 11.709\n"
          ]
        },
        {
          "output_type": "stream",
          "name": "stderr",
          "text": [
            "100%|██████████| 94/94 [00:04<00:00, 19.13it/s]\n",
            "100%|██████████| 24/24 [00:00<00:00, 57.47it/s]\n"
          ]
        },
        {
          "output_type": "stream",
          "name": "stdout",
          "text": [
            "\tEPOCH:458/1000\tTrain Loss: 0.071 |\t Val. Loss: 11.725\n"
          ]
        },
        {
          "output_type": "stream",
          "name": "stderr",
          "text": [
            "100%|██████████| 94/94 [00:04<00:00, 20.14it/s]\n",
            "100%|██████████| 24/24 [00:00<00:00, 56.54it/s]\n"
          ]
        },
        {
          "output_type": "stream",
          "name": "stdout",
          "text": [
            "\tEPOCH:459/1000\tTrain Loss: 0.069 |\t Val. Loss: 11.676\n"
          ]
        },
        {
          "output_type": "stream",
          "name": "stderr",
          "text": [
            "100%|██████████| 94/94 [00:05<00:00, 16.91it/s]\n",
            "100%|██████████| 24/24 [00:00<00:00, 56.01it/s]\n"
          ]
        },
        {
          "output_type": "stream",
          "name": "stdout",
          "text": [
            "\tEPOCH:460/1000\tTrain Loss: 0.067 |\t Val. Loss: 11.752\n"
          ]
        },
        {
          "output_type": "stream",
          "name": "stderr",
          "text": [
            "100%|██████████| 94/94 [00:04<00:00, 20.22it/s]\n",
            "100%|██████████| 24/24 [00:00<00:00, 55.68it/s]\n"
          ]
        },
        {
          "output_type": "stream",
          "name": "stdout",
          "text": [
            "\tEPOCH:461/1000\tTrain Loss: 0.069 |\t Val. Loss: 11.664\n"
          ]
        },
        {
          "output_type": "stream",
          "name": "stderr",
          "text": [
            "100%|██████████| 94/94 [00:04<00:00, 19.21it/s]\n",
            "100%|██████████| 24/24 [00:00<00:00, 42.65it/s]\n"
          ]
        },
        {
          "output_type": "stream",
          "name": "stdout",
          "text": [
            "\tEPOCH:462/1000\tTrain Loss: 0.061 |\t Val. Loss: 11.707\n"
          ]
        },
        {
          "output_type": "stream",
          "name": "stderr",
          "text": [
            "100%|██████████| 94/94 [00:05<00:00, 18.31it/s]\n",
            "100%|██████████| 24/24 [00:00<00:00, 56.37it/s]\n"
          ]
        },
        {
          "output_type": "stream",
          "name": "stdout",
          "text": [
            "\tEPOCH:463/1000\tTrain Loss: 0.065 |\t Val. Loss: 11.767\n"
          ]
        },
        {
          "output_type": "stream",
          "name": "stderr",
          "text": [
            "100%|██████████| 94/94 [00:04<00:00, 20.15it/s]\n",
            "100%|██████████| 24/24 [00:00<00:00, 55.10it/s]\n"
          ]
        },
        {
          "output_type": "stream",
          "name": "stdout",
          "text": [
            "\tEPOCH:464/1000\tTrain Loss: 0.068 |\t Val. Loss: 11.740\n"
          ]
        },
        {
          "output_type": "stream",
          "name": "stderr",
          "text": [
            "100%|██████████| 94/94 [00:05<00:00, 16.93it/s]\n",
            "100%|██████████| 24/24 [00:00<00:00, 39.19it/s]\n"
          ]
        },
        {
          "output_type": "stream",
          "name": "stdout",
          "text": [
            "\tEPOCH:465/1000\tTrain Loss: 0.069 |\t Val. Loss: 11.785\n"
          ]
        },
        {
          "output_type": "stream",
          "name": "stderr",
          "text": [
            "100%|██████████| 94/94 [00:05<00:00, 16.66it/s]\n",
            "100%|██████████| 24/24 [00:00<00:00, 55.92it/s]\n"
          ]
        },
        {
          "output_type": "stream",
          "name": "stdout",
          "text": [
            "\tEPOCH:466/1000\tTrain Loss: 0.081 |\t Val. Loss: 11.754\n"
          ]
        },
        {
          "output_type": "stream",
          "name": "stderr",
          "text": [
            "100%|██████████| 94/94 [00:04<00:00, 20.24it/s]\n",
            "100%|██████████| 24/24 [00:00<00:00, 41.78it/s]\n"
          ]
        },
        {
          "output_type": "stream",
          "name": "stdout",
          "text": [
            "\tEPOCH:467/1000\tTrain Loss: 0.074 |\t Val. Loss: 11.793\n"
          ]
        },
        {
          "output_type": "stream",
          "name": "stderr",
          "text": [
            "100%|██████████| 94/94 [00:05<00:00, 17.29it/s]\n",
            "100%|██████████| 24/24 [00:00<00:00, 56.25it/s]\n"
          ]
        },
        {
          "output_type": "stream",
          "name": "stdout",
          "text": [
            "\tEPOCH:468/1000\tTrain Loss: 0.064 |\t Val. Loss: 11.750\n"
          ]
        },
        {
          "output_type": "stream",
          "name": "stderr",
          "text": [
            "100%|██████████| 94/94 [00:04<00:00, 20.30it/s]\n",
            "100%|██████████| 24/24 [00:00<00:00, 55.77it/s]\n"
          ]
        },
        {
          "output_type": "stream",
          "name": "stdout",
          "text": [
            "\tEPOCH:469/1000\tTrain Loss: 0.062 |\t Val. Loss: 11.759\n"
          ]
        },
        {
          "output_type": "stream",
          "name": "stderr",
          "text": [
            "100%|██████████| 94/94 [00:05<00:00, 18.22it/s]\n",
            "100%|██████████| 24/24 [00:00<00:00, 44.02it/s]\n"
          ]
        },
        {
          "output_type": "stream",
          "name": "stdout",
          "text": [
            "\tEPOCH:470/1000\tTrain Loss: 0.061 |\t Val. Loss: 11.741\n"
          ]
        },
        {
          "output_type": "stream",
          "name": "stderr",
          "text": [
            "100%|██████████| 94/94 [00:04<00:00, 19.04it/s]\n",
            "100%|██████████| 24/24 [00:00<00:00, 54.94it/s]\n"
          ]
        },
        {
          "output_type": "stream",
          "name": "stdout",
          "text": [
            "\tEPOCH:471/1000\tTrain Loss: 0.070 |\t Val. Loss: 11.782\n"
          ]
        },
        {
          "output_type": "stream",
          "name": "stderr",
          "text": [
            "100%|██████████| 94/94 [00:04<00:00, 20.25it/s]\n",
            "100%|██████████| 24/24 [00:00<00:00, 55.62it/s]\n"
          ]
        },
        {
          "output_type": "stream",
          "name": "stdout",
          "text": [
            "\tEPOCH:472/1000\tTrain Loss: 0.062 |\t Val. Loss: 11.769\n"
          ]
        },
        {
          "output_type": "stream",
          "name": "stderr",
          "text": [
            "100%|██████████| 94/94 [00:05<00:00, 16.93it/s]\n",
            "100%|██████████| 24/24 [00:00<00:00, 52.76it/s]\n"
          ]
        },
        {
          "output_type": "stream",
          "name": "stdout",
          "text": [
            "\tEPOCH:473/1000\tTrain Loss: 0.054 |\t Val. Loss: 11.843\n"
          ]
        },
        {
          "output_type": "stream",
          "name": "stderr",
          "text": [
            "100%|██████████| 94/94 [00:04<00:00, 20.24it/s]\n",
            "100%|██████████| 24/24 [00:00<00:00, 55.74it/s]\n"
          ]
        },
        {
          "output_type": "stream",
          "name": "stdout",
          "text": [
            "\tEPOCH:474/1000\tTrain Loss: 0.053 |\t Val. Loss: 11.827\n"
          ]
        },
        {
          "output_type": "stream",
          "name": "stderr",
          "text": [
            "100%|██████████| 94/94 [00:04<00:00, 19.19it/s]\n",
            "100%|██████████| 24/24 [00:00<00:00, 43.98it/s]\n"
          ]
        },
        {
          "output_type": "stream",
          "name": "stdout",
          "text": [
            "\tEPOCH:475/1000\tTrain Loss: 0.052 |\t Val. Loss: 11.845\n"
          ]
        },
        {
          "output_type": "stream",
          "name": "stderr",
          "text": [
            "100%|██████████| 94/94 [00:05<00:00, 18.10it/s]\n",
            "100%|██████████| 24/24 [00:00<00:00, 56.00it/s]\n"
          ]
        },
        {
          "output_type": "stream",
          "name": "stdout",
          "text": [
            "\tEPOCH:476/1000\tTrain Loss: 0.047 |\t Val. Loss: 11.833\n"
          ]
        },
        {
          "output_type": "stream",
          "name": "stderr",
          "text": [
            "100%|██████████| 94/94 [00:04<00:00, 20.18it/s]\n",
            "100%|██████████| 24/24 [00:00<00:00, 55.21it/s]\n"
          ]
        },
        {
          "output_type": "stream",
          "name": "stdout",
          "text": [
            "\tEPOCH:477/1000\tTrain Loss: 0.050 |\t Val. Loss: 11.834\n"
          ]
        },
        {
          "output_type": "stream",
          "name": "stderr",
          "text": [
            "100%|██████████| 94/94 [00:05<00:00, 17.61it/s]\n",
            "100%|██████████| 24/24 [00:00<00:00, 44.84it/s]\n"
          ]
        },
        {
          "output_type": "stream",
          "name": "stdout",
          "text": [
            "\tEPOCH:478/1000\tTrain Loss: 0.050 |\t Val. Loss: 11.879\n"
          ]
        },
        {
          "output_type": "stream",
          "name": "stderr",
          "text": [
            "100%|██████████| 94/94 [00:04<00:00, 19.82it/s]\n",
            "100%|██████████| 24/24 [00:00<00:00, 55.62it/s]\n"
          ]
        },
        {
          "output_type": "stream",
          "name": "stdout",
          "text": [
            "\tEPOCH:479/1000\tTrain Loss: 0.055 |\t Val. Loss: 11.887\n"
          ]
        },
        {
          "output_type": "stream",
          "name": "stderr",
          "text": [
            "100%|██████████| 94/94 [00:04<00:00, 20.36it/s]\n",
            "100%|██████████| 24/24 [00:00<00:00, 57.47it/s]\n"
          ]
        },
        {
          "output_type": "stream",
          "name": "stdout",
          "text": [
            "\tEPOCH:480/1000\tTrain Loss: 0.053 |\t Val. Loss: 11.832\n"
          ]
        },
        {
          "output_type": "stream",
          "name": "stderr",
          "text": [
            "100%|██████████| 94/94 [00:05<00:00, 16.95it/s]\n",
            "100%|██████████| 24/24 [00:00<00:00, 55.15it/s]\n"
          ]
        },
        {
          "output_type": "stream",
          "name": "stdout",
          "text": [
            "\tEPOCH:481/1000\tTrain Loss: 0.062 |\t Val. Loss: 11.895\n"
          ]
        },
        {
          "output_type": "stream",
          "name": "stderr",
          "text": [
            "100%|██████████| 94/94 [00:04<00:00, 20.14it/s]\n",
            "100%|██████████| 24/24 [00:00<00:00, 56.31it/s]\n"
          ]
        },
        {
          "output_type": "stream",
          "name": "stdout",
          "text": [
            "\tEPOCH:482/1000\tTrain Loss: 0.059 |\t Val. Loss: 11.869\n"
          ]
        },
        {
          "output_type": "stream",
          "name": "stderr",
          "text": [
            "100%|██████████| 94/94 [00:04<00:00, 18.92it/s]\n",
            "100%|██████████| 24/24 [00:00<00:00, 41.36it/s]\n"
          ]
        },
        {
          "output_type": "stream",
          "name": "stdout",
          "text": [
            "\tEPOCH:483/1000\tTrain Loss: 0.069 |\t Val. Loss: 11.852\n"
          ]
        },
        {
          "output_type": "stream",
          "name": "stderr",
          "text": [
            "100%|██████████| 94/94 [00:05<00:00, 18.45it/s]\n",
            "100%|██████████| 24/24 [00:00<00:00, 55.40it/s]\n"
          ]
        },
        {
          "output_type": "stream",
          "name": "stdout",
          "text": [
            "\tEPOCH:484/1000\tTrain Loss: 0.060 |\t Val. Loss: 11.884\n"
          ]
        },
        {
          "output_type": "stream",
          "name": "stderr",
          "text": [
            "100%|██████████| 94/94 [00:04<00:00, 20.32it/s]\n",
            "100%|██████████| 24/24 [00:00<00:00, 57.01it/s]\n"
          ]
        },
        {
          "output_type": "stream",
          "name": "stdout",
          "text": [
            "\tEPOCH:485/1000\tTrain Loss: 0.064 |\t Val. Loss: 11.904\n"
          ]
        },
        {
          "output_type": "stream",
          "name": "stderr",
          "text": [
            "100%|██████████| 94/94 [00:05<00:00, 16.91it/s]\n",
            "100%|██████████| 24/24 [00:00<00:00, 50.59it/s]\n"
          ]
        },
        {
          "output_type": "stream",
          "name": "stdout",
          "text": [
            "\tEPOCH:486/1000\tTrain Loss: 0.060 |\t Val. Loss: 11.935\n"
          ]
        },
        {
          "output_type": "stream",
          "name": "stderr",
          "text": [
            "100%|██████████| 94/94 [00:04<00:00, 20.29it/s]\n",
            "100%|██████████| 24/24 [00:00<00:00, 56.23it/s]\n"
          ]
        },
        {
          "output_type": "stream",
          "name": "stdout",
          "text": [
            "\tEPOCH:487/1000\tTrain Loss: 0.060 |\t Val. Loss: 11.897\n"
          ]
        },
        {
          "output_type": "stream",
          "name": "stderr",
          "text": [
            "100%|██████████| 94/94 [00:04<00:00, 19.89it/s]\n",
            "100%|██████████| 24/24 [00:00<00:00, 43.93it/s]\n"
          ]
        },
        {
          "output_type": "stream",
          "name": "stdout",
          "text": [
            "\tEPOCH:488/1000\tTrain Loss: 0.067 |\t Val. Loss: 11.881\n"
          ]
        },
        {
          "output_type": "stream",
          "name": "stderr",
          "text": [
            "100%|██████████| 94/94 [00:05<00:00, 17.64it/s]\n",
            "100%|██████████| 24/24 [00:00<00:00, 55.71it/s]\n"
          ]
        },
        {
          "output_type": "stream",
          "name": "stdout",
          "text": [
            "\tEPOCH:489/1000\tTrain Loss: 0.067 |\t Val. Loss: 11.891\n"
          ]
        },
        {
          "output_type": "stream",
          "name": "stderr",
          "text": [
            "100%|██████████| 94/94 [00:04<00:00, 20.23it/s]\n",
            "100%|██████████| 24/24 [00:00<00:00, 55.17it/s]\n"
          ]
        },
        {
          "output_type": "stream",
          "name": "stdout",
          "text": [
            "\tEPOCH:490/1000\tTrain Loss: 0.069 |\t Val. Loss: 11.891\n"
          ]
        },
        {
          "output_type": "stream",
          "name": "stderr",
          "text": [
            "100%|██████████| 94/94 [00:05<00:00, 17.80it/s]\n",
            "100%|██████████| 24/24 [00:00<00:00, 41.54it/s]\n"
          ]
        },
        {
          "output_type": "stream",
          "name": "stdout",
          "text": [
            "\tEPOCH:491/1000\tTrain Loss: 0.072 |\t Val. Loss: 11.896\n"
          ]
        },
        {
          "output_type": "stream",
          "name": "stderr",
          "text": [
            "100%|██████████| 94/94 [00:04<00:00, 19.15it/s]\n",
            "100%|██████████| 24/24 [00:00<00:00, 56.03it/s]\n"
          ]
        },
        {
          "output_type": "stream",
          "name": "stdout",
          "text": [
            "\tEPOCH:492/1000\tTrain Loss: 0.067 |\t Val. Loss: 11.893\n"
          ]
        },
        {
          "output_type": "stream",
          "name": "stderr",
          "text": [
            "100%|██████████| 94/94 [00:04<00:00, 20.31it/s]\n",
            "100%|██████████| 24/24 [00:00<00:00, 57.46it/s]\n"
          ]
        },
        {
          "output_type": "stream",
          "name": "stdout",
          "text": [
            "\tEPOCH:493/1000\tTrain Loss: 0.075 |\t Val. Loss: 11.917\n"
          ]
        },
        {
          "output_type": "stream",
          "name": "stderr",
          "text": [
            "100%|██████████| 94/94 [00:05<00:00, 16.95it/s]\n",
            "100%|██████████| 24/24 [00:00<00:00, 56.04it/s]\n"
          ]
        },
        {
          "output_type": "stream",
          "name": "stdout",
          "text": [
            "\tEPOCH:494/1000\tTrain Loss: 0.063 |\t Val. Loss: 11.889\n"
          ]
        },
        {
          "output_type": "stream",
          "name": "stderr",
          "text": [
            "100%|██████████| 94/94 [00:04<00:00, 19.95it/s]\n",
            "100%|██████████| 24/24 [00:00<00:00, 56.24it/s]\n"
          ]
        },
        {
          "output_type": "stream",
          "name": "stdout",
          "text": [
            "\tEPOCH:495/1000\tTrain Loss: 0.062 |\t Val. Loss: 11.923\n"
          ]
        },
        {
          "output_type": "stream",
          "name": "stderr",
          "text": [
            "100%|██████████| 94/94 [00:04<00:00, 18.95it/s]\n",
            "100%|██████████| 24/24 [00:00<00:00, 42.04it/s]\n"
          ]
        },
        {
          "output_type": "stream",
          "name": "stdout",
          "text": [
            "\tEPOCH:496/1000\tTrain Loss: 0.062 |\t Val. Loss: 11.960\n"
          ]
        },
        {
          "output_type": "stream",
          "name": "stderr",
          "text": [
            "100%|██████████| 94/94 [00:05<00:00, 18.04it/s]\n",
            "100%|██████████| 24/24 [00:00<00:00, 54.90it/s]\n"
          ]
        },
        {
          "output_type": "stream",
          "name": "stdout",
          "text": [
            "\tEPOCH:497/1000\tTrain Loss: 0.056 |\t Val. Loss: 11.906\n"
          ]
        },
        {
          "output_type": "stream",
          "name": "stderr",
          "text": [
            "100%|██████████| 94/94 [00:04<00:00, 20.30it/s]\n",
            "100%|██████████| 24/24 [00:00<00:00, 54.33it/s]\n"
          ]
        },
        {
          "output_type": "stream",
          "name": "stdout",
          "text": [
            "\tEPOCH:498/1000\tTrain Loss: 0.059 |\t Val. Loss: 11.916\n"
          ]
        },
        {
          "output_type": "stream",
          "name": "stderr",
          "text": [
            "100%|██████████| 94/94 [00:05<00:00, 17.68it/s]\n",
            "100%|██████████| 24/24 [00:00<00:00, 43.48it/s]\n"
          ]
        },
        {
          "output_type": "stream",
          "name": "stdout",
          "text": [
            "\tEPOCH:499/1000\tTrain Loss: 0.062 |\t Val. Loss: 11.926\n"
          ]
        },
        {
          "output_type": "stream",
          "name": "stderr",
          "text": [
            "100%|██████████| 94/94 [00:04<00:00, 20.00it/s]\n",
            "100%|██████████| 24/24 [00:00<00:00, 56.00it/s]\n"
          ]
        },
        {
          "output_type": "stream",
          "name": "stdout",
          "text": [
            "\tEPOCH:500/1000\tTrain Loss: 0.059 |\t Val. Loss: 12.009\n"
          ]
        },
        {
          "output_type": "stream",
          "name": "stderr",
          "text": [
            "100%|██████████| 94/94 [00:04<00:00, 20.25it/s]\n",
            "100%|██████████| 24/24 [00:00<00:00, 50.95it/s]\n"
          ]
        },
        {
          "output_type": "stream",
          "name": "stdout",
          "text": [
            "\tEPOCH:501/1000\tTrain Loss: 0.055 |\t Val. Loss: 11.946\n"
          ]
        },
        {
          "output_type": "stream",
          "name": "stderr",
          "text": [
            "100%|██████████| 94/94 [00:05<00:00, 16.88it/s]\n",
            "100%|██████████| 24/24 [00:00<00:00, 54.85it/s]\n"
          ]
        },
        {
          "output_type": "stream",
          "name": "stdout",
          "text": [
            "\tEPOCH:502/1000\tTrain Loss: 0.053 |\t Val. Loss: 11.937\n"
          ]
        },
        {
          "output_type": "stream",
          "name": "stderr",
          "text": [
            "100%|██████████| 94/94 [00:04<00:00, 20.15it/s]\n",
            "100%|██████████| 24/24 [00:00<00:00, 54.67it/s]\n"
          ]
        },
        {
          "output_type": "stream",
          "name": "stdout",
          "text": [
            "\tEPOCH:503/1000\tTrain Loss: 0.055 |\t Val. Loss: 11.944\n"
          ]
        },
        {
          "output_type": "stream",
          "name": "stderr",
          "text": [
            "100%|██████████| 94/94 [00:05<00:00, 18.60it/s]\n",
            "100%|██████████| 24/24 [00:00<00:00, 43.61it/s]\n"
          ]
        },
        {
          "output_type": "stream",
          "name": "stdout",
          "text": [
            "\tEPOCH:504/1000\tTrain Loss: 0.063 |\t Val. Loss: 11.946\n"
          ]
        },
        {
          "output_type": "stream",
          "name": "stderr",
          "text": [
            "100%|██████████| 94/94 [00:05<00:00, 18.79it/s]\n",
            "100%|██████████| 24/24 [00:00<00:00, 56.37it/s]\n"
          ]
        },
        {
          "output_type": "stream",
          "name": "stdout",
          "text": [
            "\tEPOCH:505/1000\tTrain Loss: 0.060 |\t Val. Loss: 11.935\n"
          ]
        },
        {
          "output_type": "stream",
          "name": "stderr",
          "text": [
            "100%|██████████| 94/94 [00:04<00:00, 20.21it/s]\n",
            "100%|██████████| 24/24 [00:00<00:00, 54.00it/s]\n"
          ]
        },
        {
          "output_type": "stream",
          "name": "stdout",
          "text": [
            "\tEPOCH:506/1000\tTrain Loss: 0.057 |\t Val. Loss: 11.937\n"
          ]
        },
        {
          "output_type": "stream",
          "name": "stderr",
          "text": [
            "100%|██████████| 94/94 [00:05<00:00, 17.38it/s]\n",
            "100%|██████████| 24/24 [00:00<00:00, 45.94it/s]\n"
          ]
        },
        {
          "output_type": "stream",
          "name": "stdout",
          "text": [
            "\tEPOCH:507/1000\tTrain Loss: 0.052 |\t Val. Loss: 11.962\n"
          ]
        },
        {
          "output_type": "stream",
          "name": "stderr",
          "text": [
            "100%|██████████| 94/94 [00:04<00:00, 20.11it/s]\n",
            "100%|██████████| 24/24 [00:00<00:00, 54.42it/s]\n"
          ]
        },
        {
          "output_type": "stream",
          "name": "stdout",
          "text": [
            "\tEPOCH:508/1000\tTrain Loss: 0.058 |\t Val. Loss: 12.006\n"
          ]
        },
        {
          "output_type": "stream",
          "name": "stderr",
          "text": [
            "100%|██████████| 94/94 [00:04<00:00, 19.71it/s]\n",
            "100%|██████████| 24/24 [00:00<00:00, 43.42it/s]\n"
          ]
        },
        {
          "output_type": "stream",
          "name": "stdout",
          "text": [
            "\tEPOCH:509/1000\tTrain Loss: 0.064 |\t Val. Loss: 11.962\n"
          ]
        },
        {
          "output_type": "stream",
          "name": "stderr",
          "text": [
            "100%|██████████| 94/94 [00:05<00:00, 17.66it/s]\n",
            "100%|██████████| 24/24 [00:00<00:00, 55.48it/s]\n"
          ]
        },
        {
          "output_type": "stream",
          "name": "stdout",
          "text": [
            "\tEPOCH:510/1000\tTrain Loss: 0.067 |\t Val. Loss: 11.966\n"
          ]
        },
        {
          "output_type": "stream",
          "name": "stderr",
          "text": [
            "100%|██████████| 94/94 [00:04<00:00, 20.22it/s]\n",
            "100%|██████████| 24/24 [00:00<00:00, 56.23it/s]\n"
          ]
        },
        {
          "output_type": "stream",
          "name": "stdout",
          "text": [
            "\tEPOCH:511/1000\tTrain Loss: 0.072 |\t Val. Loss: 11.956\n"
          ]
        },
        {
          "output_type": "stream",
          "name": "stderr",
          "text": [
            "100%|██████████| 94/94 [00:06<00:00, 15.26it/s]\n",
            "100%|██████████| 24/24 [00:00<00:00, 42.98it/s]\n"
          ]
        },
        {
          "output_type": "stream",
          "name": "stdout",
          "text": [
            "\tEPOCH:512/1000\tTrain Loss: 0.072 |\t Val. Loss: 11.921\n"
          ]
        },
        {
          "output_type": "stream",
          "name": "stderr",
          "text": [
            "100%|██████████| 94/94 [00:05<00:00, 17.24it/s]\n",
            "100%|██████████| 24/24 [00:00<00:00, 57.34it/s]\n"
          ]
        },
        {
          "output_type": "stream",
          "name": "stdout",
          "text": [
            "\tEPOCH:513/1000\tTrain Loss: 0.066 |\t Val. Loss: 11.989\n"
          ]
        },
        {
          "output_type": "stream",
          "name": "stderr",
          "text": [
            "100%|██████████| 94/94 [00:04<00:00, 20.24it/s]\n",
            "100%|██████████| 24/24 [00:00<00:00, 56.84it/s]\n"
          ]
        },
        {
          "output_type": "stream",
          "name": "stdout",
          "text": [
            "\tEPOCH:514/1000\tTrain Loss: 0.063 |\t Val. Loss: 11.992\n"
          ]
        },
        {
          "output_type": "stream",
          "name": "stderr",
          "text": [
            "100%|██████████| 94/94 [00:05<00:00, 17.06it/s]\n",
            "100%|██████████| 24/24 [00:00<00:00, 42.70it/s]\n"
          ]
        },
        {
          "output_type": "stream",
          "name": "stdout",
          "text": [
            "\tEPOCH:515/1000\tTrain Loss: 0.056 |\t Val. Loss: 12.004\n"
          ]
        },
        {
          "output_type": "stream",
          "name": "stderr",
          "text": [
            "100%|██████████| 94/94 [00:04<00:00, 20.18it/s]\n",
            "100%|██████████| 24/24 [00:00<00:00, 56.53it/s]\n"
          ]
        },
        {
          "output_type": "stream",
          "name": "stdout",
          "text": [
            "\tEPOCH:516/1000\tTrain Loss: 0.049 |\t Val. Loss: 11.981\n"
          ]
        },
        {
          "output_type": "stream",
          "name": "stderr",
          "text": [
            "100%|██████████| 94/94 [00:04<00:00, 20.22it/s]\n",
            "100%|██████████| 24/24 [00:00<00:00, 44.19it/s]\n"
          ]
        },
        {
          "output_type": "stream",
          "name": "stdout",
          "text": [
            "\tEPOCH:517/1000\tTrain Loss: 0.057 |\t Val. Loss: 11.966\n"
          ]
        },
        {
          "output_type": "stream",
          "name": "stderr",
          "text": [
            "100%|██████████| 94/94 [00:05<00:00, 17.12it/s]\n",
            "100%|██████████| 24/24 [00:00<00:00, 54.79it/s]\n"
          ]
        },
        {
          "output_type": "stream",
          "name": "stdout",
          "text": [
            "\tEPOCH:518/1000\tTrain Loss: 0.053 |\t Val. Loss: 11.975\n"
          ]
        },
        {
          "output_type": "stream",
          "name": "stderr",
          "text": [
            "100%|██████████| 94/94 [00:04<00:00, 20.21it/s]\n",
            "100%|██████████| 24/24 [00:00<00:00, 55.05it/s]\n"
          ]
        },
        {
          "output_type": "stream",
          "name": "stdout",
          "text": [
            "\tEPOCH:519/1000\tTrain Loss: 0.051 |\t Val. Loss: 11.981\n"
          ]
        },
        {
          "output_type": "stream",
          "name": "stderr",
          "text": [
            "100%|██████████| 94/94 [00:05<00:00, 18.49it/s]\n",
            "100%|██████████| 24/24 [00:00<00:00, 42.14it/s]\n"
          ]
        },
        {
          "output_type": "stream",
          "name": "stdout",
          "text": [
            "\tEPOCH:520/1000\tTrain Loss: 0.057 |\t Val. Loss: 11.998\n"
          ]
        },
        {
          "output_type": "stream",
          "name": "stderr",
          "text": [
            "100%|██████████| 94/94 [00:05<00:00, 18.68it/s]\n",
            "100%|██████████| 24/24 [00:00<00:00, 55.96it/s]\n"
          ]
        },
        {
          "output_type": "stream",
          "name": "stdout",
          "text": [
            "\tEPOCH:521/1000\tTrain Loss: 0.056 |\t Val. Loss: 12.011\n"
          ]
        },
        {
          "output_type": "stream",
          "name": "stderr",
          "text": [
            "100%|██████████| 94/94 [00:04<00:00, 20.24it/s]\n",
            "100%|██████████| 24/24 [00:00<00:00, 55.27it/s]\n"
          ]
        },
        {
          "output_type": "stream",
          "name": "stdout",
          "text": [
            "\tEPOCH:522/1000\tTrain Loss: 0.054 |\t Val. Loss: 12.037\n"
          ]
        },
        {
          "output_type": "stream",
          "name": "stderr",
          "text": [
            "100%|██████████| 94/94 [00:05<00:00, 16.78it/s]\n",
            "100%|██████████| 24/24 [00:00<00:00, 54.99it/s]\n"
          ]
        },
        {
          "output_type": "stream",
          "name": "stdout",
          "text": [
            "\tEPOCH:523/1000\tTrain Loss: 0.046 |\t Val. Loss: 12.046\n"
          ]
        },
        {
          "output_type": "stream",
          "name": "stderr",
          "text": [
            "100%|██████████| 94/94 [00:04<00:00, 20.28it/s]\n",
            "100%|██████████| 24/24 [00:00<00:00, 54.44it/s]\n"
          ]
        },
        {
          "output_type": "stream",
          "name": "stdout",
          "text": [
            "\tEPOCH:524/1000\tTrain Loss: 0.052 |\t Val. Loss: 12.042\n"
          ]
        },
        {
          "output_type": "stream",
          "name": "stderr",
          "text": [
            "100%|██████████| 94/94 [00:04<00:00, 19.74it/s]\n",
            "100%|██████████| 24/24 [00:00<00:00, 44.61it/s]\n"
          ]
        },
        {
          "output_type": "stream",
          "name": "stdout",
          "text": [
            "\tEPOCH:525/1000\tTrain Loss: 0.052 |\t Val. Loss: 12.087\n"
          ]
        },
        {
          "output_type": "stream",
          "name": "stderr",
          "text": [
            "100%|██████████| 94/94 [00:05<00:00, 17.68it/s]\n",
            "100%|██████████| 24/24 [00:00<00:00, 54.80it/s]\n"
          ]
        },
        {
          "output_type": "stream",
          "name": "stdout",
          "text": [
            "\tEPOCH:526/1000\tTrain Loss: 0.050 |\t Val. Loss: 12.087\n"
          ]
        },
        {
          "output_type": "stream",
          "name": "stderr",
          "text": [
            "100%|██████████| 94/94 [00:04<00:00, 20.13it/s]\n",
            "100%|██████████| 24/24 [00:00<00:00, 54.92it/s]\n"
          ]
        },
        {
          "output_type": "stream",
          "name": "stdout",
          "text": [
            "\tEPOCH:527/1000\tTrain Loss: 0.059 |\t Val. Loss: 12.059\n"
          ]
        },
        {
          "output_type": "stream",
          "name": "stderr",
          "text": [
            "100%|██████████| 94/94 [00:05<00:00, 17.79it/s]\n",
            "100%|██████████| 24/24 [00:00<00:00, 44.27it/s]\n"
          ]
        },
        {
          "output_type": "stream",
          "name": "stdout",
          "text": [
            "\tEPOCH:528/1000\tTrain Loss: 0.067 |\t Val. Loss: 12.095\n"
          ]
        },
        {
          "output_type": "stream",
          "name": "stderr",
          "text": [
            "100%|██████████| 94/94 [00:04<00:00, 19.30it/s]\n",
            "100%|██████████| 24/24 [00:00<00:00, 55.43it/s]\n"
          ]
        },
        {
          "output_type": "stream",
          "name": "stdout",
          "text": [
            "\tEPOCH:529/1000\tTrain Loss: 0.062 |\t Val. Loss: 12.037\n"
          ]
        },
        {
          "output_type": "stream",
          "name": "stderr",
          "text": [
            "100%|██████████| 94/94 [00:04<00:00, 20.27it/s]\n",
            "100%|██████████| 24/24 [00:00<00:00, 56.63it/s]\n"
          ]
        },
        {
          "output_type": "stream",
          "name": "stdout",
          "text": [
            "\tEPOCH:530/1000\tTrain Loss: 0.059 |\t Val. Loss: 12.049\n"
          ]
        },
        {
          "output_type": "stream",
          "name": "stderr",
          "text": [
            "100%|██████████| 94/94 [00:05<00:00, 16.72it/s]\n",
            "100%|██████████| 24/24 [00:00<00:00, 56.62it/s]\n"
          ]
        },
        {
          "output_type": "stream",
          "name": "stdout",
          "text": [
            "\tEPOCH:531/1000\tTrain Loss: 0.062 |\t Val. Loss: 12.065\n"
          ]
        },
        {
          "output_type": "stream",
          "name": "stderr",
          "text": [
            "100%|██████████| 94/94 [00:04<00:00, 20.13it/s]\n",
            "100%|██████████| 24/24 [00:00<00:00, 55.51it/s]\n"
          ]
        },
        {
          "output_type": "stream",
          "name": "stdout",
          "text": [
            "\tEPOCH:532/1000\tTrain Loss: 0.061 |\t Val. Loss: 12.046\n"
          ]
        },
        {
          "output_type": "stream",
          "name": "stderr",
          "text": [
            "100%|██████████| 94/94 [00:04<00:00, 18.88it/s]\n",
            "100%|██████████| 24/24 [00:00<00:00, 44.50it/s]\n"
          ]
        },
        {
          "output_type": "stream",
          "name": "stdout",
          "text": [
            "\tEPOCH:533/1000\tTrain Loss: 0.049 |\t Val. Loss: 12.077\n"
          ]
        },
        {
          "output_type": "stream",
          "name": "stderr",
          "text": [
            "100%|██████████| 94/94 [00:05<00:00, 18.39it/s]\n",
            "100%|██████████| 24/24 [00:00<00:00, 56.42it/s]\n"
          ]
        },
        {
          "output_type": "stream",
          "name": "stdout",
          "text": [
            "\tEPOCH:534/1000\tTrain Loss: 0.065 |\t Val. Loss: 12.026\n"
          ]
        },
        {
          "output_type": "stream",
          "name": "stderr",
          "text": [
            "100%|██████████| 94/94 [00:04<00:00, 20.32it/s]\n",
            "100%|██████████| 24/24 [00:00<00:00, 58.22it/s]\n"
          ]
        },
        {
          "output_type": "stream",
          "name": "stdout",
          "text": [
            "\tEPOCH:535/1000\tTrain Loss: 0.063 |\t Val. Loss: 12.046\n"
          ]
        },
        {
          "output_type": "stream",
          "name": "stderr",
          "text": [
            "100%|██████████| 94/94 [00:05<00:00, 17.03it/s]\n",
            "100%|██████████| 24/24 [00:00<00:00, 49.78it/s]\n"
          ]
        },
        {
          "output_type": "stream",
          "name": "stdout",
          "text": [
            "\tEPOCH:536/1000\tTrain Loss: 0.070 |\t Val. Loss: 12.063\n"
          ]
        },
        {
          "output_type": "stream",
          "name": "stderr",
          "text": [
            "100%|██████████| 94/94 [00:04<00:00, 20.30it/s]\n",
            "100%|██████████| 24/24 [00:00<00:00, 54.32it/s]\n"
          ]
        },
        {
          "output_type": "stream",
          "name": "stdout",
          "text": [
            "\tEPOCH:537/1000\tTrain Loss: 0.054 |\t Val. Loss: 12.082\n"
          ]
        },
        {
          "output_type": "stream",
          "name": "stderr",
          "text": [
            "100%|██████████| 94/94 [00:04<00:00, 19.98it/s]\n",
            "100%|██████████| 24/24 [00:00<00:00, 44.25it/s]\n"
          ]
        },
        {
          "output_type": "stream",
          "name": "stdout",
          "text": [
            "\tEPOCH:538/1000\tTrain Loss: 0.055 |\t Val. Loss: 12.106\n"
          ]
        },
        {
          "output_type": "stream",
          "name": "stderr",
          "text": [
            "100%|██████████| 94/94 [00:05<00:00, 17.29it/s]\n",
            "100%|██████████| 24/24 [00:00<00:00, 55.44it/s]\n"
          ]
        },
        {
          "output_type": "stream",
          "name": "stdout",
          "text": [
            "\tEPOCH:539/1000\tTrain Loss: 0.056 |\t Val. Loss: 12.083\n"
          ]
        },
        {
          "output_type": "stream",
          "name": "stderr",
          "text": [
            "100%|██████████| 94/94 [00:04<00:00, 20.16it/s]\n",
            "100%|██████████| 24/24 [00:00<00:00, 57.20it/s]\n"
          ]
        },
        {
          "output_type": "stream",
          "name": "stdout",
          "text": [
            "\tEPOCH:540/1000\tTrain Loss: 0.055 |\t Val. Loss: 12.069\n"
          ]
        },
        {
          "output_type": "stream",
          "name": "stderr",
          "text": [
            "100%|██████████| 94/94 [00:05<00:00, 18.03it/s]\n",
            "100%|██████████| 24/24 [00:00<00:00, 43.33it/s]\n"
          ]
        },
        {
          "output_type": "stream",
          "name": "stdout",
          "text": [
            "\tEPOCH:541/1000\tTrain Loss: 0.063 |\t Val. Loss: 12.090\n"
          ]
        },
        {
          "output_type": "stream",
          "name": "stderr",
          "text": [
            "100%|██████████| 94/94 [00:04<00:00, 19.41it/s]\n",
            "100%|██████████| 24/24 [00:00<00:00, 56.01it/s]\n"
          ]
        },
        {
          "output_type": "stream",
          "name": "stdout",
          "text": [
            "\tEPOCH:542/1000\tTrain Loss: 0.060 |\t Val. Loss: 12.125\n"
          ]
        },
        {
          "output_type": "stream",
          "name": "stderr",
          "text": [
            "100%|██████████| 94/94 [00:04<00:00, 20.24it/s]\n",
            "100%|██████████| 24/24 [00:00<00:00, 56.72it/s]\n"
          ]
        },
        {
          "output_type": "stream",
          "name": "stdout",
          "text": [
            "\tEPOCH:543/1000\tTrain Loss: 0.058 |\t Val. Loss: 12.093\n"
          ]
        },
        {
          "output_type": "stream",
          "name": "stderr",
          "text": [
            "100%|██████████| 94/94 [00:05<00:00, 16.88it/s]\n",
            "100%|██████████| 24/24 [00:00<00:00, 57.51it/s]\n"
          ]
        },
        {
          "output_type": "stream",
          "name": "stdout",
          "text": [
            "\tEPOCH:544/1000\tTrain Loss: 0.058 |\t Val. Loss: 12.098\n"
          ]
        },
        {
          "output_type": "stream",
          "name": "stderr",
          "text": [
            "100%|██████████| 94/94 [00:04<00:00, 20.03it/s]\n",
            "100%|██████████| 24/24 [00:00<00:00, 57.40it/s]\n"
          ]
        },
        {
          "output_type": "stream",
          "name": "stdout",
          "text": [
            "\tEPOCH:545/1000\tTrain Loss: 0.056 |\t Val. Loss: 12.128\n"
          ]
        },
        {
          "output_type": "stream",
          "name": "stderr",
          "text": [
            "100%|██████████| 94/94 [00:04<00:00, 19.08it/s]\n",
            "100%|██████████| 24/24 [00:00<00:00, 41.76it/s]\n"
          ]
        },
        {
          "output_type": "stream",
          "name": "stdout",
          "text": [
            "\tEPOCH:546/1000\tTrain Loss: 0.053 |\t Val. Loss: 12.123\n"
          ]
        },
        {
          "output_type": "stream",
          "name": "stderr",
          "text": [
            "100%|██████████| 94/94 [00:05<00:00, 18.47it/s]\n",
            "100%|██████████| 24/24 [00:00<00:00, 57.26it/s]\n"
          ]
        },
        {
          "output_type": "stream",
          "name": "stdout",
          "text": [
            "\tEPOCH:547/1000\tTrain Loss: 0.053 |\t Val. Loss: 12.102\n"
          ]
        },
        {
          "output_type": "stream",
          "name": "stderr",
          "text": [
            "100%|██████████| 94/94 [00:04<00:00, 20.33it/s]\n",
            "100%|██████████| 24/24 [00:00<00:00, 55.77it/s]\n"
          ]
        },
        {
          "output_type": "stream",
          "name": "stdout",
          "text": [
            "\tEPOCH:548/1000\tTrain Loss: 0.057 |\t Val. Loss: 12.152\n"
          ]
        },
        {
          "output_type": "stream",
          "name": "stderr",
          "text": [
            "100%|██████████| 94/94 [00:05<00:00, 17.47it/s]\n",
            "100%|██████████| 24/24 [00:00<00:00, 41.68it/s]\n"
          ]
        },
        {
          "output_type": "stream",
          "name": "stdout",
          "text": [
            "\tEPOCH:549/1000\tTrain Loss: 0.055 |\t Val. Loss: 12.167\n"
          ]
        },
        {
          "output_type": "stream",
          "name": "stderr",
          "text": [
            "100%|██████████| 94/94 [00:04<00:00, 20.08it/s]\n",
            "100%|██████████| 24/24 [00:00<00:00, 56.53it/s]\n"
          ]
        },
        {
          "output_type": "stream",
          "name": "stdout",
          "text": [
            "\tEPOCH:550/1000\tTrain Loss: 0.051 |\t Val. Loss: 12.144\n"
          ]
        },
        {
          "output_type": "stream",
          "name": "stderr",
          "text": [
            "100%|██████████| 94/94 [00:04<00:00, 20.20it/s]\n",
            "100%|██████████| 24/24 [00:00<00:00, 43.50it/s]\n"
          ]
        },
        {
          "output_type": "stream",
          "name": "stdout",
          "text": [
            "\tEPOCH:551/1000\tTrain Loss: 0.048 |\t Val. Loss: 12.162\n"
          ]
        },
        {
          "output_type": "stream",
          "name": "stderr",
          "text": [
            "100%|██████████| 94/94 [00:05<00:00, 17.34it/s]\n",
            "100%|██████████| 24/24 [00:00<00:00, 55.65it/s]\n"
          ]
        },
        {
          "output_type": "stream",
          "name": "stdout",
          "text": [
            "\tEPOCH:552/1000\tTrain Loss: 0.046 |\t Val. Loss: 12.101\n"
          ]
        },
        {
          "output_type": "stream",
          "name": "stderr",
          "text": [
            "100%|██████████| 94/94 [00:04<00:00, 20.23it/s]\n",
            "100%|██████████| 24/24 [00:00<00:00, 57.53it/s]\n"
          ]
        },
        {
          "output_type": "stream",
          "name": "stdout",
          "text": [
            "\tEPOCH:553/1000\tTrain Loss: 0.054 |\t Val. Loss: 12.112\n"
          ]
        },
        {
          "output_type": "stream",
          "name": "stderr",
          "text": [
            "100%|██████████| 94/94 [00:05<00:00, 18.36it/s]\n",
            "100%|██████████| 24/24 [00:00<00:00, 40.63it/s]\n"
          ]
        },
        {
          "output_type": "stream",
          "name": "stdout",
          "text": [
            "\tEPOCH:554/1000\tTrain Loss: 0.056 |\t Val. Loss: 12.138\n"
          ]
        },
        {
          "output_type": "stream",
          "name": "stderr",
          "text": [
            "100%|██████████| 94/94 [00:04<00:00, 19.05it/s]\n",
            "100%|██████████| 24/24 [00:00<00:00, 56.52it/s]\n"
          ]
        },
        {
          "output_type": "stream",
          "name": "stdout",
          "text": [
            "\tEPOCH:555/1000\tTrain Loss: 0.061 |\t Val. Loss: 12.164\n"
          ]
        },
        {
          "output_type": "stream",
          "name": "stderr",
          "text": [
            "100%|██████████| 94/94 [00:04<00:00, 20.08it/s]\n",
            "100%|██████████| 24/24 [00:00<00:00, 55.68it/s]\n"
          ]
        },
        {
          "output_type": "stream",
          "name": "stdout",
          "text": [
            "\tEPOCH:556/1000\tTrain Loss: 0.065 |\t Val. Loss: 12.106\n"
          ]
        },
        {
          "output_type": "stream",
          "name": "stderr",
          "text": [
            "100%|██████████| 94/94 [00:05<00:00, 16.61it/s]\n",
            "100%|██████████| 24/24 [00:00<00:00, 53.23it/s]\n"
          ]
        },
        {
          "output_type": "stream",
          "name": "stdout",
          "text": [
            "\tEPOCH:557/1000\tTrain Loss: 0.077 |\t Val. Loss: 12.139\n"
          ]
        },
        {
          "output_type": "stream",
          "name": "stderr",
          "text": [
            "100%|██████████| 94/94 [00:05<00:00, 17.86it/s]\n",
            "100%|██████████| 24/24 [00:00<00:00, 43.41it/s]\n"
          ]
        },
        {
          "output_type": "stream",
          "name": "stdout",
          "text": [
            "\tEPOCH:558/1000\tTrain Loss: 0.063 |\t Val. Loss: 12.111\n"
          ]
        },
        {
          "output_type": "stream",
          "name": "stderr",
          "text": [
            "100%|██████████| 94/94 [00:05<00:00, 17.61it/s]\n",
            "100%|██████████| 24/24 [00:00<00:00, 44.16it/s]\n"
          ]
        },
        {
          "output_type": "stream",
          "name": "stdout",
          "text": [
            "\tEPOCH:559/1000\tTrain Loss: 0.064 |\t Val. Loss: 12.131\n"
          ]
        },
        {
          "output_type": "stream",
          "name": "stderr",
          "text": [
            "100%|██████████| 94/94 [00:05<00:00, 18.68it/s]\n",
            "100%|██████████| 24/24 [00:00<00:00, 55.12it/s]\n"
          ]
        },
        {
          "output_type": "stream",
          "name": "stdout",
          "text": [
            "\tEPOCH:560/1000\tTrain Loss: 0.058 |\t Val. Loss: 12.144\n"
          ]
        },
        {
          "output_type": "stream",
          "name": "stderr",
          "text": [
            "100%|██████████| 94/94 [00:04<00:00, 20.05it/s]\n",
            "100%|██████████| 24/24 [00:00<00:00, 53.87it/s]\n"
          ]
        },
        {
          "output_type": "stream",
          "name": "stdout",
          "text": [
            "\tEPOCH:561/1000\tTrain Loss: 0.052 |\t Val. Loss: 12.140\n"
          ]
        },
        {
          "output_type": "stream",
          "name": "stderr",
          "text": [
            "100%|██████████| 94/94 [00:05<00:00, 16.87it/s]\n",
            "100%|██████████| 24/24 [00:00<00:00, 54.02it/s]\n"
          ]
        },
        {
          "output_type": "stream",
          "name": "stdout",
          "text": [
            "\tEPOCH:562/1000\tTrain Loss: 0.055 |\t Val. Loss: 12.202\n"
          ]
        },
        {
          "output_type": "stream",
          "name": "stderr",
          "text": [
            "100%|██████████| 94/94 [00:04<00:00, 20.25it/s]\n",
            "100%|██████████| 24/24 [00:00<00:00, 56.02it/s]\n"
          ]
        },
        {
          "output_type": "stream",
          "name": "stdout",
          "text": [
            "\tEPOCH:563/1000\tTrain Loss: 0.051 |\t Val. Loss: 12.205\n"
          ]
        },
        {
          "output_type": "stream",
          "name": "stderr",
          "text": [
            "100%|██████████| 94/94 [00:04<00:00, 19.49it/s]\n",
            "100%|██████████| 24/24 [00:00<00:00, 42.14it/s]\n"
          ]
        },
        {
          "output_type": "stream",
          "name": "stdout",
          "text": [
            "\tEPOCH:564/1000\tTrain Loss: 0.049 |\t Val. Loss: 12.192\n"
          ]
        },
        {
          "output_type": "stream",
          "name": "stderr",
          "text": [
            "100%|██████████| 94/94 [00:05<00:00, 17.93it/s]\n",
            "100%|██████████| 24/24 [00:00<00:00, 54.63it/s]\n"
          ]
        },
        {
          "output_type": "stream",
          "name": "stdout",
          "text": [
            "\tEPOCH:565/1000\tTrain Loss: 0.060 |\t Val. Loss: 12.219\n"
          ]
        },
        {
          "output_type": "stream",
          "name": "stderr",
          "text": [
            "100%|██████████| 94/94 [00:04<00:00, 20.32it/s]\n",
            "100%|██████████| 24/24 [00:00<00:00, 55.64it/s]\n"
          ]
        },
        {
          "output_type": "stream",
          "name": "stdout",
          "text": [
            "\tEPOCH:566/1000\tTrain Loss: 0.049 |\t Val. Loss: 12.211\n"
          ]
        },
        {
          "output_type": "stream",
          "name": "stderr",
          "text": [
            "100%|██████████| 94/94 [00:05<00:00, 17.84it/s]\n",
            "100%|██████████| 24/24 [00:00<00:00, 41.21it/s]\n"
          ]
        },
        {
          "output_type": "stream",
          "name": "stdout",
          "text": [
            "\tEPOCH:567/1000\tTrain Loss: 0.056 |\t Val. Loss: 12.195\n"
          ]
        },
        {
          "output_type": "stream",
          "name": "stderr",
          "text": [
            "100%|██████████| 94/94 [00:04<00:00, 19.82it/s]\n",
            "100%|██████████| 24/24 [00:00<00:00, 56.72it/s]\n"
          ]
        },
        {
          "output_type": "stream",
          "name": "stdout",
          "text": [
            "\tEPOCH:568/1000\tTrain Loss: 0.059 |\t Val. Loss: 12.232\n"
          ]
        },
        {
          "output_type": "stream",
          "name": "stderr",
          "text": [
            "100%|██████████| 94/94 [00:04<00:00, 20.15it/s]\n",
            "100%|██████████| 24/24 [00:00<00:00, 56.98it/s]\n"
          ]
        },
        {
          "output_type": "stream",
          "name": "stdout",
          "text": [
            "\tEPOCH:569/1000\tTrain Loss: 0.048 |\t Val. Loss: 12.221\n"
          ]
        },
        {
          "output_type": "stream",
          "name": "stderr",
          "text": [
            "100%|██████████| 94/94 [00:05<00:00, 16.75it/s]\n",
            "100%|██████████| 24/24 [00:00<00:00, 53.60it/s]\n"
          ]
        },
        {
          "output_type": "stream",
          "name": "stdout",
          "text": [
            "\tEPOCH:570/1000\tTrain Loss: 0.056 |\t Val. Loss: 12.203\n"
          ]
        },
        {
          "output_type": "stream",
          "name": "stderr",
          "text": [
            "100%|██████████| 94/94 [00:04<00:00, 20.16it/s]\n",
            "100%|██████████| 24/24 [00:00<00:00, 54.65it/s]\n"
          ]
        },
        {
          "output_type": "stream",
          "name": "stdout",
          "text": [
            "\tEPOCH:571/1000\tTrain Loss: 0.051 |\t Val. Loss: 12.204\n"
          ]
        },
        {
          "output_type": "stream",
          "name": "stderr",
          "text": [
            "100%|██████████| 94/94 [00:05<00:00, 18.58it/s]\n",
            "100%|██████████| 24/24 [00:00<00:00, 43.39it/s]\n"
          ]
        },
        {
          "output_type": "stream",
          "name": "stdout",
          "text": [
            "\tEPOCH:572/1000\tTrain Loss: 0.053 |\t Val. Loss: 12.229\n"
          ]
        },
        {
          "output_type": "stream",
          "name": "stderr",
          "text": [
            "100%|██████████| 94/94 [00:05<00:00, 18.66it/s]\n",
            "100%|██████████| 24/24 [00:00<00:00, 55.49it/s]\n"
          ]
        },
        {
          "output_type": "stream",
          "name": "stdout",
          "text": [
            "\tEPOCH:573/1000\tTrain Loss: 0.051 |\t Val. Loss: 12.224\n"
          ]
        },
        {
          "output_type": "stream",
          "name": "stderr",
          "text": [
            "100%|██████████| 94/94 [00:04<00:00, 20.11it/s]\n",
            "100%|██████████| 24/24 [00:00<00:00, 57.29it/s]\n"
          ]
        },
        {
          "output_type": "stream",
          "name": "stdout",
          "text": [
            "\tEPOCH:574/1000\tTrain Loss: 0.045 |\t Val. Loss: 12.234\n"
          ]
        },
        {
          "output_type": "stream",
          "name": "stderr",
          "text": [
            "100%|██████████| 94/94 [00:05<00:00, 17.12it/s]\n",
            "100%|██████████| 24/24 [00:00<00:00, 48.37it/s]\n"
          ]
        },
        {
          "output_type": "stream",
          "name": "stdout",
          "text": [
            "\tEPOCH:575/1000\tTrain Loss: 0.045 |\t Val. Loss: 12.224\n"
          ]
        },
        {
          "output_type": "stream",
          "name": "stderr",
          "text": [
            "100%|██████████| 94/94 [00:04<00:00, 20.11it/s]\n",
            "100%|██████████| 24/24 [00:00<00:00, 56.15it/s]\n"
          ]
        },
        {
          "output_type": "stream",
          "name": "stdout",
          "text": [
            "\tEPOCH:576/1000\tTrain Loss: 0.044 |\t Val. Loss: 12.245\n"
          ]
        },
        {
          "output_type": "stream",
          "name": "stderr",
          "text": [
            "100%|██████████| 94/94 [00:04<00:00, 19.79it/s]\n",
            "100%|██████████| 24/24 [00:00<00:00, 44.63it/s]\n"
          ]
        },
        {
          "output_type": "stream",
          "name": "stdout",
          "text": [
            "\tEPOCH:577/1000\tTrain Loss: 0.044 |\t Val. Loss: 12.251\n"
          ]
        },
        {
          "output_type": "stream",
          "name": "stderr",
          "text": [
            "100%|██████████| 94/94 [00:05<00:00, 17.47it/s]\n",
            "100%|██████████| 24/24 [00:00<00:00, 54.86it/s]\n"
          ]
        },
        {
          "output_type": "stream",
          "name": "stdout",
          "text": [
            "\tEPOCH:578/1000\tTrain Loss: 0.062 |\t Val. Loss: 12.247\n"
          ]
        },
        {
          "output_type": "stream",
          "name": "stderr",
          "text": [
            "100%|██████████| 94/94 [00:04<00:00, 20.23it/s]\n",
            "100%|██████████| 24/24 [00:00<00:00, 56.42it/s]\n"
          ]
        },
        {
          "output_type": "stream",
          "name": "stdout",
          "text": [
            "\tEPOCH:579/1000\tTrain Loss: 0.050 |\t Val. Loss: 12.236\n"
          ]
        },
        {
          "output_type": "stream",
          "name": "stderr",
          "text": [
            "100%|██████████| 94/94 [00:05<00:00, 17.61it/s]\n",
            "100%|██████████| 24/24 [00:00<00:00, 44.58it/s]\n"
          ]
        },
        {
          "output_type": "stream",
          "name": "stdout",
          "text": [
            "\tEPOCH:580/1000\tTrain Loss: 0.057 |\t Val. Loss: 12.254\n"
          ]
        },
        {
          "output_type": "stream",
          "name": "stderr",
          "text": [
            "100%|██████████| 94/94 [00:04<00:00, 19.25it/s]\n",
            "100%|██████████| 24/24 [00:00<00:00, 56.01it/s]\n"
          ]
        },
        {
          "output_type": "stream",
          "name": "stdout",
          "text": [
            "\tEPOCH:581/1000\tTrain Loss: 0.054 |\t Val. Loss: 12.242\n"
          ]
        },
        {
          "output_type": "stream",
          "name": "stderr",
          "text": [
            "100%|██████████| 94/94 [00:04<00:00, 19.94it/s]\n",
            "100%|██████████| 24/24 [00:00<00:00, 57.72it/s]\n"
          ]
        },
        {
          "output_type": "stream",
          "name": "stdout",
          "text": [
            "\tEPOCH:582/1000\tTrain Loss: 0.061 |\t Val. Loss: 12.242\n"
          ]
        },
        {
          "output_type": "stream",
          "name": "stderr",
          "text": [
            "100%|██████████| 94/94 [00:05<00:00, 16.75it/s]\n",
            "100%|██████████| 24/24 [00:00<00:00, 55.77it/s]\n"
          ]
        },
        {
          "output_type": "stream",
          "name": "stdout",
          "text": [
            "\tEPOCH:583/1000\tTrain Loss: 0.051 |\t Val. Loss: 12.253\n"
          ]
        },
        {
          "output_type": "stream",
          "name": "stderr",
          "text": [
            "100%|██████████| 94/94 [00:04<00:00, 20.15it/s]\n",
            "100%|██████████| 24/24 [00:00<00:00, 56.15it/s]\n"
          ]
        },
        {
          "output_type": "stream",
          "name": "stdout",
          "text": [
            "\tEPOCH:584/1000\tTrain Loss: 0.049 |\t Val. Loss: 12.266\n"
          ]
        },
        {
          "output_type": "stream",
          "name": "stderr",
          "text": [
            "100%|██████████| 94/94 [00:04<00:00, 18.87it/s]\n",
            "100%|██████████| 24/24 [00:00<00:00, 44.14it/s]\n"
          ]
        },
        {
          "output_type": "stream",
          "name": "stdout",
          "text": [
            "\tEPOCH:585/1000\tTrain Loss: 0.057 |\t Val. Loss: 12.275\n"
          ]
        },
        {
          "output_type": "stream",
          "name": "stderr",
          "text": [
            "100%|██████████| 94/94 [00:05<00:00, 18.34it/s]\n",
            "100%|██████████| 24/24 [00:00<00:00, 55.95it/s]\n"
          ]
        },
        {
          "output_type": "stream",
          "name": "stdout",
          "text": [
            "\tEPOCH:586/1000\tTrain Loss: 0.059 |\t Val. Loss: 12.285\n"
          ]
        },
        {
          "output_type": "stream",
          "name": "stderr",
          "text": [
            "100%|██████████| 94/94 [00:04<00:00, 20.04it/s]\n",
            "100%|██████████| 24/24 [00:00<00:00, 55.68it/s]\n"
          ]
        },
        {
          "output_type": "stream",
          "name": "stdout",
          "text": [
            "\tEPOCH:587/1000\tTrain Loss: 0.056 |\t Val. Loss: 12.261\n"
          ]
        },
        {
          "output_type": "stream",
          "name": "stderr",
          "text": [
            "100%|██████████| 94/94 [00:05<00:00, 17.32it/s]\n",
            "100%|██████████| 24/24 [00:00<00:00, 40.43it/s]\n"
          ]
        },
        {
          "output_type": "stream",
          "name": "stdout",
          "text": [
            "\tEPOCH:588/1000\tTrain Loss: 0.062 |\t Val. Loss: 12.336\n"
          ]
        },
        {
          "output_type": "stream",
          "name": "stderr",
          "text": [
            "100%|██████████| 94/94 [00:04<00:00, 20.14it/s]\n",
            "100%|██████████| 24/24 [00:00<00:00, 54.33it/s]\n"
          ]
        },
        {
          "output_type": "stream",
          "name": "stdout",
          "text": [
            "\tEPOCH:589/1000\tTrain Loss: 0.067 |\t Val. Loss: 12.294\n"
          ]
        },
        {
          "output_type": "stream",
          "name": "stderr",
          "text": [
            "100%|██████████| 94/94 [00:04<00:00, 20.17it/s]\n",
            "100%|██████████| 24/24 [00:00<00:00, 43.54it/s]\n"
          ]
        },
        {
          "output_type": "stream",
          "name": "stdout",
          "text": [
            "\tEPOCH:590/1000\tTrain Loss: 0.056 |\t Val. Loss: 12.253\n"
          ]
        },
        {
          "output_type": "stream",
          "name": "stderr",
          "text": [
            "100%|██████████| 94/94 [00:05<00:00, 17.29it/s]\n",
            "100%|██████████| 24/24 [00:00<00:00, 54.82it/s]\n"
          ]
        },
        {
          "output_type": "stream",
          "name": "stdout",
          "text": [
            "\tEPOCH:591/1000\tTrain Loss: 0.062 |\t Val. Loss: 12.271\n"
          ]
        },
        {
          "output_type": "stream",
          "name": "stderr",
          "text": [
            "100%|██████████| 94/94 [00:04<00:00, 20.13it/s]\n",
            "100%|██████████| 24/24 [00:00<00:00, 53.45it/s]\n"
          ]
        },
        {
          "output_type": "stream",
          "name": "stdout",
          "text": [
            "\tEPOCH:592/1000\tTrain Loss: 0.056 |\t Val. Loss: 12.291\n"
          ]
        },
        {
          "output_type": "stream",
          "name": "stderr",
          "text": [
            "100%|██████████| 94/94 [00:05<00:00, 18.07it/s]\n",
            "100%|██████████| 24/24 [00:00<00:00, 42.72it/s]\n"
          ]
        },
        {
          "output_type": "stream",
          "name": "stdout",
          "text": [
            "\tEPOCH:593/1000\tTrain Loss: 0.053 |\t Val. Loss: 12.317\n"
          ]
        },
        {
          "output_type": "stream",
          "name": "stderr",
          "text": [
            "100%|██████████| 94/94 [00:04<00:00, 18.93it/s]\n",
            "100%|██████████| 24/24 [00:00<00:00, 56.60it/s]\n"
          ]
        },
        {
          "output_type": "stream",
          "name": "stdout",
          "text": [
            "\tEPOCH:594/1000\tTrain Loss: 0.047 |\t Val. Loss: 12.290\n"
          ]
        },
        {
          "output_type": "stream",
          "name": "stderr",
          "text": [
            "100%|██████████| 94/94 [00:04<00:00, 20.16it/s]\n",
            "100%|██████████| 24/24 [00:00<00:00, 56.81it/s]\n"
          ]
        },
        {
          "output_type": "stream",
          "name": "stdout",
          "text": [
            "\tEPOCH:595/1000\tTrain Loss: 0.053 |\t Val. Loss: 12.324\n"
          ]
        },
        {
          "output_type": "stream",
          "name": "stderr",
          "text": [
            "100%|██████████| 94/94 [00:05<00:00, 16.81it/s]\n",
            "100%|██████████| 24/24 [00:00<00:00, 56.13it/s]\n"
          ]
        },
        {
          "output_type": "stream",
          "name": "stdout",
          "text": [
            "\tEPOCH:596/1000\tTrain Loss: 0.052 |\t Val. Loss: 12.319\n"
          ]
        },
        {
          "output_type": "stream",
          "name": "stderr",
          "text": [
            "100%|██████████| 94/94 [00:04<00:00, 20.15it/s]\n",
            "100%|██████████| 24/24 [00:00<00:00, 56.46it/s]\n"
          ]
        },
        {
          "output_type": "stream",
          "name": "stdout",
          "text": [
            "\tEPOCH:597/1000\tTrain Loss: 0.054 |\t Val. Loss: 12.290\n"
          ]
        },
        {
          "output_type": "stream",
          "name": "stderr",
          "text": [
            "100%|██████████| 94/94 [00:04<00:00, 18.93it/s]\n",
            "100%|██████████| 24/24 [00:00<00:00, 43.45it/s]\n"
          ]
        },
        {
          "output_type": "stream",
          "name": "stdout",
          "text": [
            "\tEPOCH:598/1000\tTrain Loss: 0.063 |\t Val. Loss: 12.258\n"
          ]
        },
        {
          "output_type": "stream",
          "name": "stderr",
          "text": [
            "100%|██████████| 94/94 [00:05<00:00, 17.77it/s]\n",
            "100%|██████████| 24/24 [00:00<00:00, 56.53it/s]\n"
          ]
        },
        {
          "output_type": "stream",
          "name": "stdout",
          "text": [
            "\tEPOCH:599/1000\tTrain Loss: 0.059 |\t Val. Loss: 12.277\n"
          ]
        },
        {
          "output_type": "stream",
          "name": "stderr",
          "text": [
            "100%|██████████| 94/94 [00:04<00:00, 20.06it/s]\n",
            "100%|██████████| 24/24 [00:00<00:00, 56.77it/s]\n"
          ]
        },
        {
          "output_type": "stream",
          "name": "stdout",
          "text": [
            "\tEPOCH:600/1000\tTrain Loss: 0.065 |\t Val. Loss: 12.272\n"
          ]
        },
        {
          "output_type": "stream",
          "name": "stderr",
          "text": [
            "100%|██████████| 94/94 [00:05<00:00, 17.45it/s]\n",
            "100%|██████████| 24/24 [00:00<00:00, 40.84it/s]\n"
          ]
        },
        {
          "output_type": "stream",
          "name": "stdout",
          "text": [
            "\tEPOCH:601/1000\tTrain Loss: 0.063 |\t Val. Loss: 12.237\n"
          ]
        },
        {
          "output_type": "stream",
          "name": "stderr",
          "text": [
            "100%|██████████| 94/94 [00:04<00:00, 19.82it/s]\n",
            "100%|██████████| 24/24 [00:00<00:00, 54.46it/s]\n"
          ]
        },
        {
          "output_type": "stream",
          "name": "stdout",
          "text": [
            "\tEPOCH:602/1000\tTrain Loss: 0.060 |\t Val. Loss: 12.327\n"
          ]
        },
        {
          "output_type": "stream",
          "name": "stderr",
          "text": [
            "100%|██████████| 94/94 [00:04<00:00, 20.21it/s]\n",
            "100%|██████████| 24/24 [00:00<00:00, 44.33it/s]\n"
          ]
        },
        {
          "output_type": "stream",
          "name": "stdout",
          "text": [
            "\tEPOCH:603/1000\tTrain Loss: 0.057 |\t Val. Loss: 12.251\n"
          ]
        },
        {
          "output_type": "stream",
          "name": "stderr",
          "text": [
            "100%|██████████| 94/94 [00:05<00:00, 16.74it/s]\n",
            "100%|██████████| 24/24 [00:00<00:00, 53.09it/s]\n"
          ]
        },
        {
          "output_type": "stream",
          "name": "stdout",
          "text": [
            "\tEPOCH:604/1000\tTrain Loss: 0.069 |\t Val. Loss: 12.302\n"
          ]
        },
        {
          "output_type": "stream",
          "name": "stderr",
          "text": [
            "100%|██████████| 94/94 [00:05<00:00, 16.71it/s]\n",
            "100%|██████████| 24/24 [00:00<00:00, 53.15it/s]\n"
          ]
        },
        {
          "output_type": "stream",
          "name": "stdout",
          "text": [
            "\tEPOCH:605/1000\tTrain Loss: 0.060 |\t Val. Loss: 12.313\n"
          ]
        },
        {
          "output_type": "stream",
          "name": "stderr",
          "text": [
            "100%|██████████| 94/94 [00:05<00:00, 17.85it/s]\n",
            "100%|██████████| 24/24 [00:00<00:00, 41.84it/s]\n"
          ]
        },
        {
          "output_type": "stream",
          "name": "stdout",
          "text": [
            "\tEPOCH:606/1000\tTrain Loss: 0.066 |\t Val. Loss: 12.297\n"
          ]
        },
        {
          "output_type": "stream",
          "name": "stderr",
          "text": [
            "100%|██████████| 94/94 [00:04<00:00, 19.55it/s]\n",
            "100%|██████████| 24/24 [00:00<00:00, 54.72it/s]\n"
          ]
        },
        {
          "output_type": "stream",
          "name": "stdout",
          "text": [
            "\tEPOCH:607/1000\tTrain Loss: 0.052 |\t Val. Loss: 12.270\n"
          ]
        },
        {
          "output_type": "stream",
          "name": "stderr",
          "text": [
            "100%|██████████| 94/94 [00:04<00:00, 20.03it/s]\n",
            "100%|██████████| 24/24 [00:00<00:00, 51.26it/s]\n"
          ]
        },
        {
          "output_type": "stream",
          "name": "stdout",
          "text": [
            "\tEPOCH:608/1000\tTrain Loss: 0.054 |\t Val. Loss: 12.343\n"
          ]
        },
        {
          "output_type": "stream",
          "name": "stderr",
          "text": [
            "100%|██████████| 94/94 [00:05<00:00, 16.69it/s]\n",
            "100%|██████████| 24/24 [00:00<00:00, 55.78it/s]\n"
          ]
        },
        {
          "output_type": "stream",
          "name": "stdout",
          "text": [
            "\tEPOCH:609/1000\tTrain Loss: 0.061 |\t Val. Loss: 12.341\n"
          ]
        },
        {
          "output_type": "stream",
          "name": "stderr",
          "text": [
            "100%|██████████| 94/94 [00:04<00:00, 20.19it/s]\n",
            "100%|██████████| 24/24 [00:00<00:00, 55.48it/s]\n"
          ]
        },
        {
          "output_type": "stream",
          "name": "stdout",
          "text": [
            "\tEPOCH:610/1000\tTrain Loss: 0.057 |\t Val. Loss: 12.318\n"
          ]
        },
        {
          "output_type": "stream",
          "name": "stderr",
          "text": [
            "100%|██████████| 94/94 [00:05<00:00, 18.44it/s]\n",
            "100%|██████████| 24/24 [00:00<00:00, 42.02it/s]\n"
          ]
        },
        {
          "output_type": "stream",
          "name": "stdout",
          "text": [
            "\tEPOCH:611/1000\tTrain Loss: 0.057 |\t Val. Loss: 12.339\n"
          ]
        },
        {
          "output_type": "stream",
          "name": "stderr",
          "text": [
            "100%|██████████| 94/94 [00:05<00:00, 18.72it/s]\n",
            "100%|██████████| 24/24 [00:00<00:00, 55.54it/s]\n"
          ]
        },
        {
          "output_type": "stream",
          "name": "stdout",
          "text": [
            "\tEPOCH:612/1000\tTrain Loss: 0.057 |\t Val. Loss: 12.343\n"
          ]
        },
        {
          "output_type": "stream",
          "name": "stderr",
          "text": [
            "100%|██████████| 94/94 [00:04<00:00, 20.11it/s]\n",
            "100%|██████████| 24/24 [00:00<00:00, 56.40it/s]\n"
          ]
        },
        {
          "output_type": "stream",
          "name": "stdout",
          "text": [
            "\tEPOCH:613/1000\tTrain Loss: 0.052 |\t Val. Loss: 12.317\n"
          ]
        },
        {
          "output_type": "stream",
          "name": "stderr",
          "text": [
            "100%|██████████| 94/94 [00:05<00:00, 16.48it/s]\n",
            "100%|██████████| 24/24 [00:00<00:00, 54.14it/s]\n"
          ]
        },
        {
          "output_type": "stream",
          "name": "stdout",
          "text": [
            "\tEPOCH:614/1000\tTrain Loss: 0.048 |\t Val. Loss: 12.328\n"
          ]
        },
        {
          "output_type": "stream",
          "name": "stderr",
          "text": [
            "100%|██████████| 94/94 [00:04<00:00, 20.05it/s]\n",
            "100%|██████████| 24/24 [00:00<00:00, 57.46it/s]\n"
          ]
        },
        {
          "output_type": "stream",
          "name": "stdout",
          "text": [
            "\tEPOCH:615/1000\tTrain Loss: 0.043 |\t Val. Loss: 12.343\n"
          ]
        },
        {
          "output_type": "stream",
          "name": "stderr",
          "text": [
            "100%|██████████| 94/94 [00:04<00:00, 19.47it/s]\n",
            "100%|██████████| 24/24 [00:00<00:00, 42.48it/s]\n"
          ]
        },
        {
          "output_type": "stream",
          "name": "stdout",
          "text": [
            "\tEPOCH:616/1000\tTrain Loss: 0.048 |\t Val. Loss: 12.347\n"
          ]
        },
        {
          "output_type": "stream",
          "name": "stderr",
          "text": [
            "100%|██████████| 94/94 [00:05<00:00, 17.59it/s]\n",
            "100%|██████████| 24/24 [00:00<00:00, 55.20it/s]\n"
          ]
        },
        {
          "output_type": "stream",
          "name": "stdout",
          "text": [
            "\tEPOCH:617/1000\tTrain Loss: 0.056 |\t Val. Loss: 12.339\n"
          ]
        },
        {
          "output_type": "stream",
          "name": "stderr",
          "text": [
            "100%|██████████| 94/94 [00:04<00:00, 19.99it/s]\n",
            "100%|██████████| 24/24 [00:00<00:00, 57.80it/s]\n"
          ]
        },
        {
          "output_type": "stream",
          "name": "stdout",
          "text": [
            "\tEPOCH:618/1000\tTrain Loss: 0.051 |\t Val. Loss: 12.348\n"
          ]
        },
        {
          "output_type": "stream",
          "name": "stderr",
          "text": [
            "100%|██████████| 94/94 [00:05<00:00, 17.32it/s]\n",
            "100%|██████████| 24/24 [00:00<00:00, 44.20it/s]\n"
          ]
        },
        {
          "output_type": "stream",
          "name": "stdout",
          "text": [
            "\tEPOCH:619/1000\tTrain Loss: 0.062 |\t Val. Loss: 12.404\n"
          ]
        },
        {
          "output_type": "stream",
          "name": "stderr",
          "text": [
            "100%|██████████| 94/94 [00:04<00:00, 19.67it/s]\n",
            "100%|██████████| 24/24 [00:00<00:00, 55.91it/s]\n"
          ]
        },
        {
          "output_type": "stream",
          "name": "stdout",
          "text": [
            "\tEPOCH:620/1000\tTrain Loss: 0.050 |\t Val. Loss: 12.396\n"
          ]
        },
        {
          "output_type": "stream",
          "name": "stderr",
          "text": [
            "100%|██████████| 94/94 [00:04<00:00, 20.01it/s]\n",
            "100%|██████████| 24/24 [00:00<00:00, 53.63it/s]\n"
          ]
        },
        {
          "output_type": "stream",
          "name": "stdout",
          "text": [
            "\tEPOCH:621/1000\tTrain Loss: 0.054 |\t Val. Loss: 12.352\n"
          ]
        },
        {
          "output_type": "stream",
          "name": "stderr",
          "text": [
            "100%|██████████| 94/94 [00:05<00:00, 16.46it/s]\n",
            "100%|██████████| 24/24 [00:00<00:00, 49.86it/s]\n"
          ]
        },
        {
          "output_type": "stream",
          "name": "stdout",
          "text": [
            "\tEPOCH:622/1000\tTrain Loss: 0.052 |\t Val. Loss: 12.391\n"
          ]
        },
        {
          "output_type": "stream",
          "name": "stderr",
          "text": [
            "100%|██████████| 94/94 [00:04<00:00, 20.08it/s]\n",
            "100%|██████████| 24/24 [00:00<00:00, 54.88it/s]\n"
          ]
        },
        {
          "output_type": "stream",
          "name": "stdout",
          "text": [
            "\tEPOCH:623/1000\tTrain Loss: 0.049 |\t Val. Loss: 12.401\n"
          ]
        },
        {
          "output_type": "stream",
          "name": "stderr",
          "text": [
            "100%|██████████| 94/94 [00:05<00:00, 18.18it/s]\n",
            "100%|██████████| 24/24 [00:00<00:00, 43.87it/s]\n"
          ]
        },
        {
          "output_type": "stream",
          "name": "stdout",
          "text": [
            "\tEPOCH:624/1000\tTrain Loss: 0.055 |\t Val. Loss: 12.388\n"
          ]
        },
        {
          "output_type": "stream",
          "name": "stderr",
          "text": [
            "100%|██████████| 94/94 [00:05<00:00, 18.31it/s]\n",
            "100%|██████████| 24/24 [00:00<00:00, 57.23it/s]\n"
          ]
        },
        {
          "output_type": "stream",
          "name": "stdout",
          "text": [
            "\tEPOCH:625/1000\tTrain Loss: 0.050 |\t Val. Loss: 12.374\n"
          ]
        },
        {
          "output_type": "stream",
          "name": "stderr",
          "text": [
            "100%|██████████| 94/94 [00:04<00:00, 20.04it/s]\n",
            "100%|██████████| 24/24 [00:00<00:00, 57.26it/s]\n"
          ]
        },
        {
          "output_type": "stream",
          "name": "stdout",
          "text": [
            "\tEPOCH:626/1000\tTrain Loss: 0.053 |\t Val. Loss: 12.385\n"
          ]
        },
        {
          "output_type": "stream",
          "name": "stderr",
          "text": [
            "100%|██████████| 94/94 [00:05<00:00, 16.78it/s]\n",
            "100%|██████████| 24/24 [00:00<00:00, 54.91it/s]\n"
          ]
        },
        {
          "output_type": "stream",
          "name": "stdout",
          "text": [
            "\tEPOCH:627/1000\tTrain Loss: 0.050 |\t Val. Loss: 12.397\n"
          ]
        },
        {
          "output_type": "stream",
          "name": "stderr",
          "text": [
            "100%|██████████| 94/94 [00:04<00:00, 20.12it/s]\n",
            "100%|██████████| 24/24 [00:00<00:00, 55.50it/s]\n"
          ]
        },
        {
          "output_type": "stream",
          "name": "stdout",
          "text": [
            "\tEPOCH:628/1000\tTrain Loss: 0.055 |\t Val. Loss: 12.369\n"
          ]
        },
        {
          "output_type": "stream",
          "name": "stderr",
          "text": [
            "100%|██████████| 94/94 [00:04<00:00, 19.31it/s]\n",
            "100%|██████████| 24/24 [00:00<00:00, 43.54it/s]\n"
          ]
        },
        {
          "output_type": "stream",
          "name": "stdout",
          "text": [
            "\tEPOCH:629/1000\tTrain Loss: 0.053 |\t Val. Loss: 12.424\n"
          ]
        },
        {
          "output_type": "stream",
          "name": "stderr",
          "text": [
            "100%|██████████| 94/94 [00:05<00:00, 17.71it/s]\n",
            "100%|██████████| 24/24 [00:00<00:00, 54.01it/s]\n"
          ]
        },
        {
          "output_type": "stream",
          "name": "stdout",
          "text": [
            "\tEPOCH:630/1000\tTrain Loss: 0.055 |\t Val. Loss: 12.368\n"
          ]
        },
        {
          "output_type": "stream",
          "name": "stderr",
          "text": [
            "100%|██████████| 94/94 [00:04<00:00, 20.10it/s]\n",
            "100%|██████████| 24/24 [00:00<00:00, 54.03it/s]\n"
          ]
        },
        {
          "output_type": "stream",
          "name": "stdout",
          "text": [
            "\tEPOCH:631/1000\tTrain Loss: 0.056 |\t Val. Loss: 12.384\n"
          ]
        },
        {
          "output_type": "stream",
          "name": "stderr",
          "text": [
            "100%|██████████| 94/94 [00:05<00:00, 17.35it/s]\n",
            "100%|██████████| 24/24 [00:00<00:00, 41.85it/s]\n"
          ]
        },
        {
          "output_type": "stream",
          "name": "stdout",
          "text": [
            "\tEPOCH:632/1000\tTrain Loss: 0.043 |\t Val. Loss: 12.426\n"
          ]
        },
        {
          "output_type": "stream",
          "name": "stderr",
          "text": [
            "100%|██████████| 94/94 [00:04<00:00, 19.66it/s]\n",
            "100%|██████████| 24/24 [00:00<00:00, 53.96it/s]\n"
          ]
        },
        {
          "output_type": "stream",
          "name": "stdout",
          "text": [
            "\tEPOCH:633/1000\tTrain Loss: 0.050 |\t Val. Loss: 12.397\n"
          ]
        },
        {
          "output_type": "stream",
          "name": "stderr",
          "text": [
            "100%|██████████| 94/94 [00:04<00:00, 20.02it/s]\n",
            "100%|██████████| 24/24 [00:00<00:00, 48.16it/s]\n"
          ]
        },
        {
          "output_type": "stream",
          "name": "stdout",
          "text": [
            "\tEPOCH:634/1000\tTrain Loss: 0.050 |\t Val. Loss: 12.443\n"
          ]
        },
        {
          "output_type": "stream",
          "name": "stderr",
          "text": [
            "100%|██████████| 94/94 [00:05<00:00, 16.95it/s]\n",
            "100%|██████████| 24/24 [00:00<00:00, 53.46it/s]\n"
          ]
        },
        {
          "output_type": "stream",
          "name": "stdout",
          "text": [
            "\tEPOCH:635/1000\tTrain Loss: 0.054 |\t Val. Loss: 12.421\n"
          ]
        },
        {
          "output_type": "stream",
          "name": "stderr",
          "text": [
            "100%|██████████| 94/94 [00:04<00:00, 19.98it/s]\n",
            "100%|██████████| 24/24 [00:00<00:00, 53.33it/s]\n"
          ]
        },
        {
          "output_type": "stream",
          "name": "stdout",
          "text": [
            "\tEPOCH:636/1000\tTrain Loss: 0.048 |\t Val. Loss: 12.349\n"
          ]
        },
        {
          "output_type": "stream",
          "name": "stderr",
          "text": [
            "100%|██████████| 94/94 [00:05<00:00, 18.32it/s]\n",
            "100%|██████████| 24/24 [00:00<00:00, 43.44it/s]\n"
          ]
        },
        {
          "output_type": "stream",
          "name": "stdout",
          "text": [
            "\tEPOCH:637/1000\tTrain Loss: 0.044 |\t Val. Loss: 12.401\n"
          ]
        },
        {
          "output_type": "stream",
          "name": "stderr",
          "text": [
            "100%|██████████| 94/94 [00:05<00:00, 18.60it/s]\n",
            "100%|██████████| 24/24 [00:00<00:00, 53.33it/s]\n"
          ]
        },
        {
          "output_type": "stream",
          "name": "stdout",
          "text": [
            "\tEPOCH:638/1000\tTrain Loss: 0.048 |\t Val. Loss: 12.397\n"
          ]
        },
        {
          "output_type": "stream",
          "name": "stderr",
          "text": [
            "100%|██████████| 94/94 [00:04<00:00, 20.08it/s]\n",
            "100%|██████████| 24/24 [00:00<00:00, 53.81it/s]\n"
          ]
        },
        {
          "output_type": "stream",
          "name": "stdout",
          "text": [
            "\tEPOCH:639/1000\tTrain Loss: 0.059 |\t Val. Loss: 12.414\n"
          ]
        },
        {
          "output_type": "stream",
          "name": "stderr",
          "text": [
            "100%|██████████| 94/94 [00:05<00:00, 16.78it/s]\n",
            "100%|██████████| 24/24 [00:00<00:00, 53.43it/s]\n"
          ]
        },
        {
          "output_type": "stream",
          "name": "stdout",
          "text": [
            "\tEPOCH:640/1000\tTrain Loss: 0.054 |\t Val. Loss: 12.381\n"
          ]
        },
        {
          "output_type": "stream",
          "name": "stderr",
          "text": [
            "100%|██████████| 94/94 [00:04<00:00, 19.89it/s]\n",
            "100%|██████████| 24/24 [00:00<00:00, 54.89it/s]\n"
          ]
        },
        {
          "output_type": "stream",
          "name": "stdout",
          "text": [
            "\tEPOCH:641/1000\tTrain Loss: 0.061 |\t Val. Loss: 12.371\n"
          ]
        },
        {
          "output_type": "stream",
          "name": "stderr",
          "text": [
            "100%|██████████| 94/94 [00:04<00:00, 19.31it/s]\n",
            "100%|██████████| 24/24 [00:00<00:00, 41.26it/s]\n"
          ]
        },
        {
          "output_type": "stream",
          "name": "stdout",
          "text": [
            "\tEPOCH:642/1000\tTrain Loss: 0.061 |\t Val. Loss: 12.376\n"
          ]
        },
        {
          "output_type": "stream",
          "name": "stderr",
          "text": [
            "100%|██████████| 94/94 [00:05<00:00, 17.55it/s]\n",
            "100%|██████████| 24/24 [00:00<00:00, 55.42it/s]\n"
          ]
        },
        {
          "output_type": "stream",
          "name": "stdout",
          "text": [
            "\tEPOCH:643/1000\tTrain Loss: 0.050 |\t Val. Loss: 12.385\n"
          ]
        },
        {
          "output_type": "stream",
          "name": "stderr",
          "text": [
            "100%|██████████| 94/94 [00:04<00:00, 19.91it/s]\n",
            "100%|██████████| 24/24 [00:00<00:00, 54.55it/s]\n"
          ]
        },
        {
          "output_type": "stream",
          "name": "stdout",
          "text": [
            "\tEPOCH:644/1000\tTrain Loss: 0.049 |\t Val. Loss: 12.412\n"
          ]
        },
        {
          "output_type": "stream",
          "name": "stderr",
          "text": [
            "100%|██████████| 94/94 [00:05<00:00, 17.24it/s]\n",
            "100%|██████████| 24/24 [00:00<00:00, 39.21it/s]\n"
          ]
        },
        {
          "output_type": "stream",
          "name": "stdout",
          "text": [
            "\tEPOCH:645/1000\tTrain Loss: 0.048 |\t Val. Loss: 12.380\n"
          ]
        },
        {
          "output_type": "stream",
          "name": "stderr",
          "text": [
            "100%|██████████| 94/94 [00:04<00:00, 19.69it/s]\n",
            "100%|██████████| 24/24 [00:00<00:00, 53.65it/s]\n"
          ]
        },
        {
          "output_type": "stream",
          "name": "stdout",
          "text": [
            "\tEPOCH:646/1000\tTrain Loss: 0.047 |\t Val. Loss: 12.394\n"
          ]
        },
        {
          "output_type": "stream",
          "name": "stderr",
          "text": [
            "100%|██████████| 94/94 [00:04<00:00, 19.84it/s]\n",
            "100%|██████████| 24/24 [00:00<00:00, 40.70it/s]\n"
          ]
        },
        {
          "output_type": "stream",
          "name": "stdout",
          "text": [
            "\tEPOCH:647/1000\tTrain Loss: 0.046 |\t Val. Loss: 12.418\n"
          ]
        },
        {
          "output_type": "stream",
          "name": "stderr",
          "text": [
            "100%|██████████| 94/94 [00:05<00:00, 17.04it/s]\n",
            "100%|██████████| 24/24 [00:00<00:00, 52.05it/s]\n"
          ]
        },
        {
          "output_type": "stream",
          "name": "stdout",
          "text": [
            "\tEPOCH:648/1000\tTrain Loss: 0.051 |\t Val. Loss: 12.401\n"
          ]
        },
        {
          "output_type": "stream",
          "name": "stderr",
          "text": [
            "100%|██████████| 94/94 [00:04<00:00, 20.11it/s]\n",
            "100%|██████████| 24/24 [00:00<00:00, 55.39it/s]\n"
          ]
        },
        {
          "output_type": "stream",
          "name": "stdout",
          "text": [
            "\tEPOCH:649/1000\tTrain Loss: 0.051 |\t Val. Loss: 12.380\n"
          ]
        },
        {
          "output_type": "stream",
          "name": "stderr",
          "text": [
            "100%|██████████| 94/94 [00:05<00:00, 18.06it/s]\n",
            "100%|██████████| 24/24 [00:00<00:00, 43.06it/s]\n"
          ]
        },
        {
          "output_type": "stream",
          "name": "stdout",
          "text": [
            "\tEPOCH:650/1000\tTrain Loss: 0.052 |\t Val. Loss: 12.335\n"
          ]
        },
        {
          "output_type": "stream",
          "name": "stderr",
          "text": [
            "100%|██████████| 94/94 [00:05<00:00, 17.57it/s]\n",
            "100%|██████████| 24/24 [00:00<00:00, 41.44it/s]\n"
          ]
        },
        {
          "output_type": "stream",
          "name": "stdout",
          "text": [
            "\tEPOCH:651/1000\tTrain Loss: 0.054 |\t Val. Loss: 12.398\n"
          ]
        },
        {
          "output_type": "stream",
          "name": "stderr",
          "text": [
            "100%|██████████| 94/94 [00:05<00:00, 17.95it/s]\n",
            "100%|██████████| 24/24 [00:00<00:00, 42.64it/s]\n"
          ]
        },
        {
          "output_type": "stream",
          "name": "stdout",
          "text": [
            "\tEPOCH:652/1000\tTrain Loss: 0.058 |\t Val. Loss: 12.403\n"
          ]
        },
        {
          "output_type": "stream",
          "name": "stderr",
          "text": [
            "100%|██████████| 94/94 [00:05<00:00, 17.03it/s]\n",
            "100%|██████████| 24/24 [00:00<00:00, 56.10it/s]\n"
          ]
        },
        {
          "output_type": "stream",
          "name": "stdout",
          "text": [
            "\tEPOCH:653/1000\tTrain Loss: 0.058 |\t Val. Loss: 12.419\n"
          ]
        },
        {
          "output_type": "stream",
          "name": "stderr",
          "text": [
            "100%|██████████| 94/94 [00:04<00:00, 19.90it/s]\n",
            "100%|██████████| 24/24 [00:00<00:00, 56.32it/s]\n"
          ]
        },
        {
          "output_type": "stream",
          "name": "stdout",
          "text": [
            "\tEPOCH:654/1000\tTrain Loss: 0.060 |\t Val. Loss: 12.411\n"
          ]
        },
        {
          "output_type": "stream",
          "name": "stderr",
          "text": [
            "100%|██████████| 94/94 [00:05<00:00, 17.74it/s]\n",
            "100%|██████████| 24/24 [00:00<00:00, 43.50it/s]\n"
          ]
        },
        {
          "output_type": "stream",
          "name": "stdout",
          "text": [
            "\tEPOCH:655/1000\tTrain Loss: 0.060 |\t Val. Loss: 12.409\n"
          ]
        },
        {
          "output_type": "stream",
          "name": "stderr",
          "text": [
            "100%|██████████| 94/94 [00:04<00:00, 18.96it/s]\n",
            "100%|██████████| 24/24 [00:00<00:00, 54.32it/s]\n"
          ]
        },
        {
          "output_type": "stream",
          "name": "stdout",
          "text": [
            "\tEPOCH:656/1000\tTrain Loss: 0.057 |\t Val. Loss: 12.450\n"
          ]
        },
        {
          "output_type": "stream",
          "name": "stderr",
          "text": [
            "100%|██████████| 94/94 [00:04<00:00, 20.01it/s]\n",
            "100%|██████████| 24/24 [00:00<00:00, 55.21it/s]\n"
          ]
        },
        {
          "output_type": "stream",
          "name": "stdout",
          "text": [
            "\tEPOCH:657/1000\tTrain Loss: 0.069 |\t Val. Loss: 12.385\n"
          ]
        },
        {
          "output_type": "stream",
          "name": "stderr",
          "text": [
            "100%|██████████| 94/94 [00:05<00:00, 16.66it/s]\n",
            "100%|██████████| 24/24 [00:00<00:00, 54.49it/s]\n"
          ]
        },
        {
          "output_type": "stream",
          "name": "stdout",
          "text": [
            "\tEPOCH:658/1000\tTrain Loss: 0.055 |\t Val. Loss: 12.445\n"
          ]
        },
        {
          "output_type": "stream",
          "name": "stderr",
          "text": [
            "100%|██████████| 94/94 [00:04<00:00, 20.23it/s]\n",
            "100%|██████████| 24/24 [00:00<00:00, 54.74it/s]\n"
          ]
        },
        {
          "output_type": "stream",
          "name": "stdout",
          "text": [
            "\tEPOCH:659/1000\tTrain Loss: 0.059 |\t Val. Loss: 12.410\n"
          ]
        },
        {
          "output_type": "stream",
          "name": "stderr",
          "text": [
            "100%|██████████| 94/94 [00:04<00:00, 18.81it/s]\n",
            "100%|██████████| 24/24 [00:00<00:00, 44.60it/s]\n"
          ]
        },
        {
          "output_type": "stream",
          "name": "stdout",
          "text": [
            "\tEPOCH:660/1000\tTrain Loss: 0.054 |\t Val. Loss: 12.410\n"
          ]
        },
        {
          "output_type": "stream",
          "name": "stderr",
          "text": [
            "100%|██████████| 94/94 [00:05<00:00, 17.84it/s]\n",
            "100%|██████████| 24/24 [00:00<00:00, 55.19it/s]\n"
          ]
        },
        {
          "output_type": "stream",
          "name": "stdout",
          "text": [
            "\tEPOCH:661/1000\tTrain Loss: 0.064 |\t Val. Loss: 12.420\n"
          ]
        },
        {
          "output_type": "stream",
          "name": "stderr",
          "text": [
            "100%|██████████| 94/94 [00:04<00:00, 20.06it/s]\n",
            "100%|██████████| 24/24 [00:00<00:00, 55.21it/s]\n"
          ]
        },
        {
          "output_type": "stream",
          "name": "stdout",
          "text": [
            "\tEPOCH:662/1000\tTrain Loss: 0.052 |\t Val. Loss: 12.400\n"
          ]
        },
        {
          "output_type": "stream",
          "name": "stderr",
          "text": [
            "100%|██████████| 94/94 [00:05<00:00, 16.82it/s]\n",
            "100%|██████████| 24/24 [00:00<00:00, 41.82it/s]\n"
          ]
        },
        {
          "output_type": "stream",
          "name": "stdout",
          "text": [
            "\tEPOCH:663/1000\tTrain Loss: 0.050 |\t Val. Loss: 12.394\n"
          ]
        },
        {
          "output_type": "stream",
          "name": "stderr",
          "text": [
            "100%|██████████| 94/94 [00:04<00:00, 20.08it/s]\n",
            "100%|██████████| 24/24 [00:00<00:00, 56.51it/s]\n"
          ]
        },
        {
          "output_type": "stream",
          "name": "stdout",
          "text": [
            "\tEPOCH:664/1000\tTrain Loss: 0.050 |\t Val. Loss: 12.408\n"
          ]
        },
        {
          "output_type": "stream",
          "name": "stderr",
          "text": [
            "100%|██████████| 94/94 [00:04<00:00, 19.88it/s]\n",
            "100%|██████████| 24/24 [00:00<00:00, 44.41it/s]\n"
          ]
        },
        {
          "output_type": "stream",
          "name": "stdout",
          "text": [
            "\tEPOCH:665/1000\tTrain Loss: 0.050 |\t Val. Loss: 12.422\n"
          ]
        },
        {
          "output_type": "stream",
          "name": "stderr",
          "text": [
            "100%|██████████| 94/94 [00:05<00:00, 17.11it/s]\n",
            "100%|██████████| 24/24 [00:00<00:00, 55.28it/s]\n"
          ]
        },
        {
          "output_type": "stream",
          "name": "stdout",
          "text": [
            "\tEPOCH:666/1000\tTrain Loss: 0.046 |\t Val. Loss: 12.409\n"
          ]
        },
        {
          "output_type": "stream",
          "name": "stderr",
          "text": [
            "100%|██████████| 94/94 [00:04<00:00, 19.86it/s]\n",
            "100%|██████████| 24/24 [00:00<00:00, 53.50it/s]\n"
          ]
        },
        {
          "output_type": "stream",
          "name": "stdout",
          "text": [
            "\tEPOCH:667/1000\tTrain Loss: 0.045 |\t Val. Loss: 12.470\n"
          ]
        },
        {
          "output_type": "stream",
          "name": "stderr",
          "text": [
            "100%|██████████| 94/94 [00:05<00:00, 17.80it/s]\n",
            "100%|██████████| 24/24 [00:00<00:00, 42.13it/s]\n"
          ]
        },
        {
          "output_type": "stream",
          "name": "stdout",
          "text": [
            "\tEPOCH:668/1000\tTrain Loss: 0.049 |\t Val. Loss: 12.422\n"
          ]
        },
        {
          "output_type": "stream",
          "name": "stderr",
          "text": [
            "100%|██████████| 94/94 [00:04<00:00, 18.96it/s]\n",
            "100%|██████████| 24/24 [00:00<00:00, 56.14it/s]\n"
          ]
        },
        {
          "output_type": "stream",
          "name": "stdout",
          "text": [
            "\tEPOCH:669/1000\tTrain Loss: 0.058 |\t Val. Loss: 12.457\n"
          ]
        },
        {
          "output_type": "stream",
          "name": "stderr",
          "text": [
            "100%|██████████| 94/94 [00:04<00:00, 20.09it/s]\n",
            "100%|██████████| 24/24 [00:00<00:00, 55.87it/s]\n"
          ]
        },
        {
          "output_type": "stream",
          "name": "stdout",
          "text": [
            "\tEPOCH:670/1000\tTrain Loss: 0.045 |\t Val. Loss: 12.443\n"
          ]
        },
        {
          "output_type": "stream",
          "name": "stderr",
          "text": [
            "100%|██████████| 94/94 [00:05<00:00, 16.60it/s]\n",
            "100%|██████████| 24/24 [00:00<00:00, 52.52it/s]\n"
          ]
        },
        {
          "output_type": "stream",
          "name": "stdout",
          "text": [
            "\tEPOCH:671/1000\tTrain Loss: 0.046 |\t Val. Loss: 12.543\n"
          ]
        },
        {
          "output_type": "stream",
          "name": "stderr",
          "text": [
            "100%|██████████| 94/94 [00:04<00:00, 19.95it/s]\n",
            "100%|██████████| 24/24 [00:00<00:00, 53.48it/s]\n"
          ]
        },
        {
          "output_type": "stream",
          "name": "stdout",
          "text": [
            "\tEPOCH:672/1000\tTrain Loss: 0.051 |\t Val. Loss: 12.528\n"
          ]
        },
        {
          "output_type": "stream",
          "name": "stderr",
          "text": [
            "100%|██████████| 94/94 [00:05<00:00, 18.80it/s]\n",
            "100%|██████████| 24/24 [00:00<00:00, 43.28it/s]\n"
          ]
        },
        {
          "output_type": "stream",
          "name": "stdout",
          "text": [
            "\tEPOCH:673/1000\tTrain Loss: 0.048 |\t Val. Loss: 12.575\n"
          ]
        },
        {
          "output_type": "stream",
          "name": "stderr",
          "text": [
            "100%|██████████| 94/94 [00:05<00:00, 18.14it/s]\n",
            "100%|██████████| 24/24 [00:00<00:00, 52.41it/s]\n"
          ]
        },
        {
          "output_type": "stream",
          "name": "stdout",
          "text": [
            "\tEPOCH:674/1000\tTrain Loss: 0.049 |\t Val. Loss: 12.509\n"
          ]
        },
        {
          "output_type": "stream",
          "name": "stderr",
          "text": [
            "100%|██████████| 94/94 [00:04<00:00, 20.06it/s]\n",
            "100%|██████████| 24/24 [00:00<00:00, 55.44it/s]\n"
          ]
        },
        {
          "output_type": "stream",
          "name": "stdout",
          "text": [
            "\tEPOCH:675/1000\tTrain Loss: 0.049 |\t Val. Loss: 12.588\n"
          ]
        },
        {
          "output_type": "stream",
          "name": "stderr",
          "text": [
            "100%|██████████| 94/94 [00:05<00:00, 16.96it/s]\n",
            "100%|██████████| 24/24 [00:00<00:00, 43.01it/s]\n"
          ]
        },
        {
          "output_type": "stream",
          "name": "stdout",
          "text": [
            "\tEPOCH:676/1000\tTrain Loss: 0.042 |\t Val. Loss: 12.507\n"
          ]
        },
        {
          "output_type": "stream",
          "name": "stderr",
          "text": [
            "100%|██████████| 94/94 [00:04<00:00, 19.52it/s]\n",
            "100%|██████████| 24/24 [00:00<00:00, 51.45it/s]\n"
          ]
        },
        {
          "output_type": "stream",
          "name": "stdout",
          "text": [
            "\tEPOCH:677/1000\tTrain Loss: 0.058 |\t Val. Loss: 12.505\n"
          ]
        },
        {
          "output_type": "stream",
          "name": "stderr",
          "text": [
            "100%|██████████| 94/94 [00:04<00:00, 19.27it/s]\n",
            "100%|██████████| 24/24 [00:00<00:00, 41.99it/s]\n"
          ]
        },
        {
          "output_type": "stream",
          "name": "stdout",
          "text": [
            "\tEPOCH:678/1000\tTrain Loss: 0.055 |\t Val. Loss: 12.550\n"
          ]
        },
        {
          "output_type": "stream",
          "name": "stderr",
          "text": [
            "100%|██████████| 94/94 [00:05<00:00, 17.13it/s]\n",
            "100%|██████████| 24/24 [00:00<00:00, 55.17it/s]\n"
          ]
        },
        {
          "output_type": "stream",
          "name": "stdout",
          "text": [
            "\tEPOCH:679/1000\tTrain Loss: 0.050 |\t Val. Loss: 12.492\n"
          ]
        },
        {
          "output_type": "stream",
          "name": "stderr",
          "text": [
            "100%|██████████| 94/94 [00:04<00:00, 19.09it/s]\n",
            "100%|██████████| 24/24 [00:00<00:00, 54.37it/s]\n"
          ]
        },
        {
          "output_type": "stream",
          "name": "stdout",
          "text": [
            "\tEPOCH:680/1000\tTrain Loss: 0.058 |\t Val. Loss: 12.511\n"
          ]
        },
        {
          "output_type": "stream",
          "name": "stderr",
          "text": [
            "100%|██████████| 94/94 [00:05<00:00, 16.71it/s]\n",
            "100%|██████████| 24/24 [00:00<00:00, 41.38it/s]\n"
          ]
        },
        {
          "output_type": "stream",
          "name": "stdout",
          "text": [
            "\tEPOCH:681/1000\tTrain Loss: 0.049 |\t Val. Loss: 12.492\n"
          ]
        },
        {
          "output_type": "stream",
          "name": "stderr",
          "text": [
            "100%|██████████| 94/94 [00:04<00:00, 19.40it/s]\n",
            "100%|██████████| 24/24 [00:00<00:00, 53.30it/s]\n"
          ]
        },
        {
          "output_type": "stream",
          "name": "stdout",
          "text": [
            "\tEPOCH:682/1000\tTrain Loss: 0.052 |\t Val. Loss: 12.518\n"
          ]
        },
        {
          "output_type": "stream",
          "name": "stderr",
          "text": [
            "100%|██████████| 94/94 [00:04<00:00, 19.91it/s]\n",
            "100%|██████████| 24/24 [00:00<00:00, 44.11it/s]\n"
          ]
        },
        {
          "output_type": "stream",
          "name": "stdout",
          "text": [
            "\tEPOCH:683/1000\tTrain Loss: 0.054 |\t Val. Loss: 12.533\n"
          ]
        },
        {
          "output_type": "stream",
          "name": "stderr",
          "text": [
            "100%|██████████| 94/94 [00:05<00:00, 16.57it/s]\n",
            "100%|██████████| 24/24 [00:00<00:00, 53.01it/s]\n"
          ]
        },
        {
          "output_type": "stream",
          "name": "stdout",
          "text": [
            "\tEPOCH:684/1000\tTrain Loss: 0.054 |\t Val. Loss: 12.585\n"
          ]
        },
        {
          "output_type": "stream",
          "name": "stderr",
          "text": [
            "100%|██████████| 94/94 [00:04<00:00, 19.53it/s]\n",
            "100%|██████████| 24/24 [00:00<00:00, 54.46it/s]\n"
          ]
        },
        {
          "output_type": "stream",
          "name": "stdout",
          "text": [
            "\tEPOCH:685/1000\tTrain Loss: 0.052 |\t Val. Loss: 12.583\n"
          ]
        },
        {
          "output_type": "stream",
          "name": "stderr",
          "text": [
            "100%|██████████| 94/94 [00:05<00:00, 17.31it/s]\n",
            "100%|██████████| 24/24 [00:00<00:00, 40.63it/s]\n"
          ]
        },
        {
          "output_type": "stream",
          "name": "stdout",
          "text": [
            "\tEPOCH:686/1000\tTrain Loss: 0.060 |\t Val. Loss: 12.568\n"
          ]
        },
        {
          "output_type": "stream",
          "name": "stderr",
          "text": [
            "100%|██████████| 94/94 [00:05<00:00, 18.63it/s]\n",
            "100%|██████████| 24/24 [00:00<00:00, 53.58it/s]\n"
          ]
        },
        {
          "output_type": "stream",
          "name": "stdout",
          "text": [
            "\tEPOCH:687/1000\tTrain Loss: 0.053 |\t Val. Loss: 12.586\n"
          ]
        },
        {
          "output_type": "stream",
          "name": "stderr",
          "text": [
            "100%|██████████| 94/94 [00:04<00:00, 19.94it/s]\n",
            "100%|██████████| 24/24 [00:00<00:00, 49.89it/s]\n"
          ]
        },
        {
          "output_type": "stream",
          "name": "stdout",
          "text": [
            "\tEPOCH:688/1000\tTrain Loss: 0.051 |\t Val. Loss: 12.575\n"
          ]
        },
        {
          "output_type": "stream",
          "name": "stderr",
          "text": [
            "100%|██████████| 94/94 [00:05<00:00, 16.68it/s]\n",
            "100%|██████████| 24/24 [00:00<00:00, 54.63it/s]\n"
          ]
        },
        {
          "output_type": "stream",
          "name": "stdout",
          "text": [
            "\tEPOCH:689/1000\tTrain Loss: 0.054 |\t Val. Loss: 12.562\n"
          ]
        },
        {
          "output_type": "stream",
          "name": "stderr",
          "text": [
            "100%|██████████| 94/94 [00:04<00:00, 19.85it/s]\n",
            "100%|██████████| 24/24 [00:00<00:00, 53.87it/s]\n"
          ]
        },
        {
          "output_type": "stream",
          "name": "stdout",
          "text": [
            "\tEPOCH:690/1000\tTrain Loss: 0.050 |\t Val. Loss: 12.563\n"
          ]
        },
        {
          "output_type": "stream",
          "name": "stderr",
          "text": [
            "100%|██████████| 94/94 [00:05<00:00, 18.66it/s]\n",
            "100%|██████████| 24/24 [00:00<00:00, 40.51it/s]\n"
          ]
        },
        {
          "output_type": "stream",
          "name": "stdout",
          "text": [
            "\tEPOCH:691/1000\tTrain Loss: 0.047 |\t Val. Loss: 12.583\n"
          ]
        },
        {
          "output_type": "stream",
          "name": "stderr",
          "text": [
            "100%|██████████| 94/94 [00:05<00:00, 18.05it/s]\n",
            "100%|██████████| 24/24 [00:00<00:00, 54.75it/s]\n"
          ]
        },
        {
          "output_type": "stream",
          "name": "stdout",
          "text": [
            "\tEPOCH:692/1000\tTrain Loss: 0.053 |\t Val. Loss: 12.576\n"
          ]
        },
        {
          "output_type": "stream",
          "name": "stderr",
          "text": [
            "100%|██████████| 94/94 [00:04<00:00, 19.99it/s]\n",
            "100%|██████████| 24/24 [00:00<00:00, 53.99it/s]\n"
          ]
        },
        {
          "output_type": "stream",
          "name": "stdout",
          "text": [
            "\tEPOCH:693/1000\tTrain Loss: 0.044 |\t Val. Loss: 12.579\n"
          ]
        },
        {
          "output_type": "stream",
          "name": "stderr",
          "text": [
            "100%|██████████| 94/94 [00:05<00:00, 16.71it/s]\n",
            "100%|██████████| 24/24 [00:00<00:00, 52.36it/s]\n"
          ]
        },
        {
          "output_type": "stream",
          "name": "stdout",
          "text": [
            "\tEPOCH:694/1000\tTrain Loss: 0.046 |\t Val. Loss: 12.604\n"
          ]
        },
        {
          "output_type": "stream",
          "name": "stderr",
          "text": [
            "100%|██████████| 94/94 [00:04<00:00, 19.87it/s]\n",
            "100%|██████████| 24/24 [00:00<00:00, 54.99it/s]\n"
          ]
        },
        {
          "output_type": "stream",
          "name": "stdout",
          "text": [
            "\tEPOCH:695/1000\tTrain Loss: 0.051 |\t Val. Loss: 12.593\n"
          ]
        },
        {
          "output_type": "stream",
          "name": "stderr",
          "text": [
            "100%|██████████| 94/94 [00:04<00:00, 19.23it/s]\n",
            "100%|██████████| 24/24 [00:00<00:00, 41.41it/s]\n"
          ]
        },
        {
          "output_type": "stream",
          "name": "stdout",
          "text": [
            "\tEPOCH:696/1000\tTrain Loss: 0.048 |\t Val. Loss: 12.564\n"
          ]
        },
        {
          "output_type": "stream",
          "name": "stderr",
          "text": [
            "100%|██████████| 94/94 [00:05<00:00, 17.58it/s]\n",
            "100%|██████████| 24/24 [00:00<00:00, 55.05it/s]\n"
          ]
        },
        {
          "output_type": "stream",
          "name": "stdout",
          "text": [
            "\tEPOCH:697/1000\tTrain Loss: 0.050 |\t Val. Loss: 12.638\n"
          ]
        },
        {
          "output_type": "stream",
          "name": "stderr",
          "text": [
            "100%|██████████| 94/94 [00:05<00:00, 16.82it/s]\n",
            "100%|██████████| 24/24 [00:00<00:00, 39.81it/s]\n"
          ]
        },
        {
          "output_type": "stream",
          "name": "stdout",
          "text": [
            "\tEPOCH:698/1000\tTrain Loss: 0.044 |\t Val. Loss: 12.592\n"
          ]
        },
        {
          "output_type": "stream",
          "name": "stderr",
          "text": [
            "100%|██████████| 94/94 [00:05<00:00, 16.32it/s]\n",
            "100%|██████████| 24/24 [00:00<00:00, 53.64it/s]\n"
          ]
        },
        {
          "output_type": "stream",
          "name": "stdout",
          "text": [
            "\tEPOCH:699/1000\tTrain Loss: 0.043 |\t Val. Loss: 12.552\n"
          ]
        },
        {
          "output_type": "stream",
          "name": "stderr",
          "text": [
            "100%|██████████| 94/94 [00:04<00:00, 19.75it/s]\n",
            "100%|██████████| 24/24 [00:00<00:00, 51.71it/s]\n"
          ]
        },
        {
          "output_type": "stream",
          "name": "stdout",
          "text": [
            "\tEPOCH:700/1000\tTrain Loss: 0.043 |\t Val. Loss: 12.589\n"
          ]
        },
        {
          "output_type": "stream",
          "name": "stderr",
          "text": [
            "100%|██████████| 94/94 [00:04<00:00, 18.90it/s]\n",
            "100%|██████████| 24/24 [00:00<00:00, 43.25it/s]\n"
          ]
        },
        {
          "output_type": "stream",
          "name": "stdout",
          "text": [
            "\tEPOCH:701/1000\tTrain Loss: 0.048 |\t Val. Loss: 12.602\n"
          ]
        },
        {
          "output_type": "stream",
          "name": "stderr",
          "text": [
            "100%|██████████| 94/94 [00:05<00:00, 17.53it/s]\n",
            "100%|██████████| 24/24 [00:00<00:00, 54.58it/s]\n"
          ]
        },
        {
          "output_type": "stream",
          "name": "stdout",
          "text": [
            "\tEPOCH:702/1000\tTrain Loss: 0.047 |\t Val. Loss: 12.582\n"
          ]
        },
        {
          "output_type": "stream",
          "name": "stderr",
          "text": [
            "100%|██████████| 94/94 [00:04<00:00, 19.77it/s]\n",
            "100%|██████████| 24/24 [00:00<00:00, 52.94it/s]\n"
          ]
        },
        {
          "output_type": "stream",
          "name": "stdout",
          "text": [
            "\tEPOCH:703/1000\tTrain Loss: 0.045 |\t Val. Loss: 12.609\n"
          ]
        },
        {
          "output_type": "stream",
          "name": "stderr",
          "text": [
            "100%|██████████| 94/94 [00:05<00:00, 17.12it/s]\n",
            "100%|██████████| 24/24 [00:00<00:00, 42.60it/s]\n"
          ]
        },
        {
          "output_type": "stream",
          "name": "stdout",
          "text": [
            "\tEPOCH:704/1000\tTrain Loss: 0.051 |\t Val. Loss: 12.583\n"
          ]
        },
        {
          "output_type": "stream",
          "name": "stderr",
          "text": [
            "100%|██████████| 94/94 [00:04<00:00, 19.77it/s]\n",
            "100%|██████████| 24/24 [00:00<00:00, 53.71it/s]\n"
          ]
        },
        {
          "output_type": "stream",
          "name": "stdout",
          "text": [
            "\tEPOCH:705/1000\tTrain Loss: 0.053 |\t Val. Loss: 12.628\n"
          ]
        },
        {
          "output_type": "stream",
          "name": "stderr",
          "text": [
            "100%|██████████| 94/94 [00:04<00:00, 19.93it/s]\n",
            "100%|██████████| 24/24 [00:00<00:00, 41.42it/s]\n"
          ]
        },
        {
          "output_type": "stream",
          "name": "stdout",
          "text": [
            "\tEPOCH:706/1000\tTrain Loss: 0.062 |\t Val. Loss: 12.615\n"
          ]
        },
        {
          "output_type": "stream",
          "name": "stderr",
          "text": [
            "100%|██████████| 94/94 [00:05<00:00, 16.86it/s]\n",
            "100%|██████████| 24/24 [00:00<00:00, 55.69it/s]\n"
          ]
        },
        {
          "output_type": "stream",
          "name": "stdout",
          "text": [
            "\tEPOCH:707/1000\tTrain Loss: 0.060 |\t Val. Loss: 12.665\n"
          ]
        },
        {
          "output_type": "stream",
          "name": "stderr",
          "text": [
            "100%|██████████| 94/94 [00:04<00:00, 19.80it/s]\n",
            "100%|██████████| 24/24 [00:00<00:00, 55.16it/s]\n"
          ]
        },
        {
          "output_type": "stream",
          "name": "stdout",
          "text": [
            "\tEPOCH:708/1000\tTrain Loss: 0.052 |\t Val. Loss: 12.593\n"
          ]
        },
        {
          "output_type": "stream",
          "name": "stderr",
          "text": [
            "100%|██████████| 94/94 [00:05<00:00, 17.66it/s]\n",
            "100%|██████████| 24/24 [00:00<00:00, 41.15it/s]\n"
          ]
        },
        {
          "output_type": "stream",
          "name": "stdout",
          "text": [
            "\tEPOCH:709/1000\tTrain Loss: 0.054 |\t Val. Loss: 12.640\n"
          ]
        },
        {
          "output_type": "stream",
          "name": "stderr",
          "text": [
            "100%|██████████| 94/94 [00:04<00:00, 18.84it/s]\n",
            "100%|██████████| 24/24 [00:00<00:00, 54.86it/s]\n"
          ]
        },
        {
          "output_type": "stream",
          "name": "stdout",
          "text": [
            "\tEPOCH:710/1000\tTrain Loss: 0.056 |\t Val. Loss: 12.612\n"
          ]
        },
        {
          "output_type": "stream",
          "name": "stderr",
          "text": [
            "100%|██████████| 94/94 [00:04<00:00, 19.71it/s]\n",
            "100%|██████████| 24/24 [00:00<00:00, 52.56it/s]\n"
          ]
        },
        {
          "output_type": "stream",
          "name": "stdout",
          "text": [
            "\tEPOCH:711/1000\tTrain Loss: 0.055 |\t Val. Loss: 12.660\n"
          ]
        },
        {
          "output_type": "stream",
          "name": "stderr",
          "text": [
            "100%|██████████| 94/94 [00:05<00:00, 16.63it/s]\n",
            "100%|██████████| 24/24 [00:00<00:00, 51.53it/s]\n"
          ]
        },
        {
          "output_type": "stream",
          "name": "stdout",
          "text": [
            "\tEPOCH:712/1000\tTrain Loss: 0.052 |\t Val. Loss: 12.628\n"
          ]
        },
        {
          "output_type": "stream",
          "name": "stderr",
          "text": [
            "100%|██████████| 94/94 [00:04<00:00, 19.94it/s]\n",
            "100%|██████████| 24/24 [00:00<00:00, 52.38it/s]\n"
          ]
        },
        {
          "output_type": "stream",
          "name": "stdout",
          "text": [
            "\tEPOCH:713/1000\tTrain Loss: 0.055 |\t Val. Loss: 12.676\n"
          ]
        },
        {
          "output_type": "stream",
          "name": "stderr",
          "text": [
            "100%|██████████| 94/94 [00:05<00:00, 18.23it/s]\n",
            "100%|██████████| 24/24 [00:00<00:00, 43.30it/s]\n"
          ]
        },
        {
          "output_type": "stream",
          "name": "stdout",
          "text": [
            "\tEPOCH:714/1000\tTrain Loss: 0.053 |\t Val. Loss: 12.706\n"
          ]
        },
        {
          "output_type": "stream",
          "name": "stderr",
          "text": [
            "100%|██████████| 94/94 [00:05<00:00, 17.89it/s]\n",
            "100%|██████████| 24/24 [00:00<00:00, 53.87it/s]\n"
          ]
        },
        {
          "output_type": "stream",
          "name": "stdout",
          "text": [
            "\tEPOCH:715/1000\tTrain Loss: 0.049 |\t Val. Loss: 12.647\n"
          ]
        },
        {
          "output_type": "stream",
          "name": "stderr",
          "text": [
            "100%|██████████| 94/94 [00:04<00:00, 19.85it/s]\n",
            "100%|██████████| 24/24 [00:00<00:00, 55.13it/s]\n"
          ]
        },
        {
          "output_type": "stream",
          "name": "stdout",
          "text": [
            "\tEPOCH:716/1000\tTrain Loss: 0.052 |\t Val. Loss: 12.643\n"
          ]
        },
        {
          "output_type": "stream",
          "name": "stderr",
          "text": [
            "100%|██████████| 94/94 [00:05<00:00, 16.44it/s]\n",
            "100%|██████████| 24/24 [00:00<00:00, 47.66it/s]\n"
          ]
        },
        {
          "output_type": "stream",
          "name": "stdout",
          "text": [
            "\tEPOCH:717/1000\tTrain Loss: 0.052 |\t Val. Loss: 12.641\n"
          ]
        },
        {
          "output_type": "stream",
          "name": "stderr",
          "text": [
            "100%|██████████| 94/94 [00:04<00:00, 19.96it/s]\n",
            "100%|██████████| 24/24 [00:00<00:00, 53.88it/s]\n"
          ]
        },
        {
          "output_type": "stream",
          "name": "stdout",
          "text": [
            "\tEPOCH:718/1000\tTrain Loss: 0.061 |\t Val. Loss: 12.640\n"
          ]
        },
        {
          "output_type": "stream",
          "name": "stderr",
          "text": [
            "100%|██████████| 94/94 [00:04<00:00, 19.36it/s]\n",
            "100%|██████████| 24/24 [00:00<00:00, 42.79it/s]\n"
          ]
        },
        {
          "output_type": "stream",
          "name": "stdout",
          "text": [
            "\tEPOCH:719/1000\tTrain Loss: 0.060 |\t Val. Loss: 12.613\n"
          ]
        },
        {
          "output_type": "stream",
          "name": "stderr",
          "text": [
            "100%|██████████| 94/94 [00:05<00:00, 17.15it/s]\n",
            "100%|██████████| 24/24 [00:00<00:00, 55.22it/s]\n"
          ]
        },
        {
          "output_type": "stream",
          "name": "stdout",
          "text": [
            "\tEPOCH:720/1000\tTrain Loss: 0.049 |\t Val. Loss: 12.631\n"
          ]
        },
        {
          "output_type": "stream",
          "name": "stderr",
          "text": [
            "100%|██████████| 94/94 [00:04<00:00, 20.14it/s]\n",
            "100%|██████████| 24/24 [00:00<00:00, 52.95it/s]\n"
          ]
        },
        {
          "output_type": "stream",
          "name": "stdout",
          "text": [
            "\tEPOCH:721/1000\tTrain Loss: 0.059 |\t Val. Loss: 12.627\n"
          ]
        },
        {
          "output_type": "stream",
          "name": "stderr",
          "text": [
            "100%|██████████| 94/94 [00:05<00:00, 17.52it/s]\n",
            "100%|██████████| 24/24 [00:00<00:00, 43.14it/s]\n"
          ]
        },
        {
          "output_type": "stream",
          "name": "stdout",
          "text": [
            "\tEPOCH:722/1000\tTrain Loss: 0.050 |\t Val. Loss: 12.614\n"
          ]
        },
        {
          "output_type": "stream",
          "name": "stderr",
          "text": [
            "100%|██████████| 94/94 [00:04<00:00, 19.11it/s]\n",
            "100%|██████████| 24/24 [00:00<00:00, 55.86it/s]\n"
          ]
        },
        {
          "output_type": "stream",
          "name": "stdout",
          "text": [
            "\tEPOCH:723/1000\tTrain Loss: 0.043 |\t Val. Loss: 12.670\n"
          ]
        },
        {
          "output_type": "stream",
          "name": "stderr",
          "text": [
            "100%|██████████| 94/94 [00:04<00:00, 19.86it/s]\n",
            "100%|██████████| 24/24 [00:00<00:00, 53.15it/s]\n"
          ]
        },
        {
          "output_type": "stream",
          "name": "stdout",
          "text": [
            "\tEPOCH:724/1000\tTrain Loss: 0.046 |\t Val. Loss: 12.671\n"
          ]
        },
        {
          "output_type": "stream",
          "name": "stderr",
          "text": [
            "100%|██████████| 94/94 [00:05<00:00, 16.54it/s]\n",
            "100%|██████████| 24/24 [00:00<00:00, 57.10it/s]\n"
          ]
        },
        {
          "output_type": "stream",
          "name": "stdout",
          "text": [
            "\tEPOCH:725/1000\tTrain Loss: 0.047 |\t Val. Loss: 12.683\n"
          ]
        },
        {
          "output_type": "stream",
          "name": "stderr",
          "text": [
            "100%|██████████| 94/94 [00:04<00:00, 19.69it/s]\n",
            "100%|██████████| 24/24 [00:00<00:00, 56.50it/s]\n"
          ]
        },
        {
          "output_type": "stream",
          "name": "stdout",
          "text": [
            "\tEPOCH:726/1000\tTrain Loss: 0.048 |\t Val. Loss: 12.671\n"
          ]
        },
        {
          "output_type": "stream",
          "name": "stderr",
          "text": [
            "100%|██████████| 94/94 [00:05<00:00, 18.51it/s]\n",
            "100%|██████████| 24/24 [00:00<00:00, 43.76it/s]\n"
          ]
        },
        {
          "output_type": "stream",
          "name": "stdout",
          "text": [
            "\tEPOCH:727/1000\tTrain Loss: 0.038 |\t Val. Loss: 12.680\n"
          ]
        },
        {
          "output_type": "stream",
          "name": "stderr",
          "text": [
            "100%|██████████| 94/94 [00:05<00:00, 18.20it/s]\n",
            "100%|██████████| 24/24 [00:00<00:00, 54.17it/s]\n"
          ]
        },
        {
          "output_type": "stream",
          "name": "stdout",
          "text": [
            "\tEPOCH:728/1000\tTrain Loss: 0.043 |\t Val. Loss: 12.716\n"
          ]
        },
        {
          "output_type": "stream",
          "name": "stderr",
          "text": [
            "100%|██████████| 94/94 [00:04<00:00, 19.84it/s]\n",
            "100%|██████████| 24/24 [00:00<00:00, 53.83it/s]\n"
          ]
        },
        {
          "output_type": "stream",
          "name": "stdout",
          "text": [
            "\tEPOCH:729/1000\tTrain Loss: 0.044 |\t Val. Loss: 12.681\n"
          ]
        },
        {
          "output_type": "stream",
          "name": "stderr",
          "text": [
            "100%|██████████| 94/94 [00:05<00:00, 16.75it/s]\n",
            "100%|██████████| 24/24 [00:00<00:00, 42.06it/s]\n"
          ]
        },
        {
          "output_type": "stream",
          "name": "stdout",
          "text": [
            "\tEPOCH:730/1000\tTrain Loss: 0.046 |\t Val. Loss: 12.701\n"
          ]
        },
        {
          "output_type": "stream",
          "name": "stderr",
          "text": [
            "100%|██████████| 94/94 [00:04<00:00, 19.78it/s]\n",
            "100%|██████████| 24/24 [00:00<00:00, 54.20it/s]\n"
          ]
        },
        {
          "output_type": "stream",
          "name": "stdout",
          "text": [
            "\tEPOCH:731/1000\tTrain Loss: 0.046 |\t Val. Loss: 12.726\n"
          ]
        },
        {
          "output_type": "stream",
          "name": "stderr",
          "text": [
            "100%|██████████| 94/94 [00:04<00:00, 19.16it/s]\n",
            "100%|██████████| 24/24 [00:00<00:00, 39.88it/s]\n"
          ]
        },
        {
          "output_type": "stream",
          "name": "stdout",
          "text": [
            "\tEPOCH:732/1000\tTrain Loss: 0.052 |\t Val. Loss: 12.696\n"
          ]
        },
        {
          "output_type": "stream",
          "name": "stderr",
          "text": [
            "100%|██████████| 94/94 [00:05<00:00, 16.94it/s]\n",
            "100%|██████████| 24/24 [00:00<00:00, 53.92it/s]\n"
          ]
        },
        {
          "output_type": "stream",
          "name": "stdout",
          "text": [
            "\tEPOCH:733/1000\tTrain Loss: 0.053 |\t Val. Loss: 12.690\n"
          ]
        },
        {
          "output_type": "stream",
          "name": "stderr",
          "text": [
            "100%|██████████| 94/94 [00:04<00:00, 20.04it/s]\n",
            "100%|██████████| 24/24 [00:00<00:00, 56.48it/s]\n"
          ]
        },
        {
          "output_type": "stream",
          "name": "stdout",
          "text": [
            "\tEPOCH:734/1000\tTrain Loss: 0.052 |\t Val. Loss: 12.666\n"
          ]
        },
        {
          "output_type": "stream",
          "name": "stderr",
          "text": [
            "100%|██████████| 94/94 [00:05<00:00, 17.32it/s]\n",
            "100%|██████████| 24/24 [00:00<00:00, 44.05it/s]\n"
          ]
        },
        {
          "output_type": "stream",
          "name": "stdout",
          "text": [
            "\tEPOCH:735/1000\tTrain Loss: 0.048 |\t Val. Loss: 12.738\n"
          ]
        },
        {
          "output_type": "stream",
          "name": "stderr",
          "text": [
            "100%|██████████| 94/94 [00:04<00:00, 19.52it/s]\n",
            "100%|██████████| 24/24 [00:00<00:00, 54.32it/s]\n"
          ]
        },
        {
          "output_type": "stream",
          "name": "stdout",
          "text": [
            "\tEPOCH:736/1000\tTrain Loss: 0.057 |\t Val. Loss: 12.674\n"
          ]
        },
        {
          "output_type": "stream",
          "name": "stderr",
          "text": [
            "100%|██████████| 94/94 [00:04<00:00, 19.94it/s]\n",
            "100%|██████████| 24/24 [00:00<00:00, 54.73it/s]\n"
          ]
        },
        {
          "output_type": "stream",
          "name": "stdout",
          "text": [
            "\tEPOCH:737/1000\tTrain Loss: 0.054 |\t Val. Loss: 12.694\n"
          ]
        },
        {
          "output_type": "stream",
          "name": "stderr",
          "text": [
            "100%|██████████| 94/94 [00:05<00:00, 16.50it/s]\n",
            "100%|██████████| 24/24 [00:00<00:00, 53.59it/s]\n"
          ]
        },
        {
          "output_type": "stream",
          "name": "stdout",
          "text": [
            "\tEPOCH:738/1000\tTrain Loss: 0.054 |\t Val. Loss: 12.686\n"
          ]
        },
        {
          "output_type": "stream",
          "name": "stderr",
          "text": [
            "100%|██████████| 94/94 [00:04<00:00, 19.95it/s]\n",
            "100%|██████████| 24/24 [00:00<00:00, 55.06it/s]\n"
          ]
        },
        {
          "output_type": "stream",
          "name": "stdout",
          "text": [
            "\tEPOCH:739/1000\tTrain Loss: 0.053 |\t Val. Loss: 12.670\n"
          ]
        },
        {
          "output_type": "stream",
          "name": "stderr",
          "text": [
            "100%|██████████| 94/94 [00:05<00:00, 18.46it/s]\n",
            "100%|██████████| 24/24 [00:00<00:00, 42.30it/s]\n"
          ]
        },
        {
          "output_type": "stream",
          "name": "stdout",
          "text": [
            "\tEPOCH:740/1000\tTrain Loss: 0.048 |\t Val. Loss: 12.691\n"
          ]
        },
        {
          "output_type": "stream",
          "name": "stderr",
          "text": [
            "100%|██████████| 94/94 [00:05<00:00, 18.23it/s]\n",
            "100%|██████████| 24/24 [00:00<00:00, 57.25it/s]\n"
          ]
        },
        {
          "output_type": "stream",
          "name": "stdout",
          "text": [
            "\tEPOCH:741/1000\tTrain Loss: 0.052 |\t Val. Loss: 12.647\n"
          ]
        },
        {
          "output_type": "stream",
          "name": "stderr",
          "text": [
            "100%|██████████| 94/94 [00:04<00:00, 20.00it/s]\n",
            "100%|██████████| 24/24 [00:00<00:00, 54.38it/s]\n"
          ]
        },
        {
          "output_type": "stream",
          "name": "stdout",
          "text": [
            "\tEPOCH:742/1000\tTrain Loss: 0.051 |\t Val. Loss: 12.670\n"
          ]
        },
        {
          "output_type": "stream",
          "name": "stderr",
          "text": [
            "100%|██████████| 94/94 [00:05<00:00, 16.89it/s]\n",
            "100%|██████████| 24/24 [00:00<00:00, 47.28it/s]\n"
          ]
        },
        {
          "output_type": "stream",
          "name": "stdout",
          "text": [
            "\tEPOCH:743/1000\tTrain Loss: 0.050 |\t Val. Loss: 12.691\n"
          ]
        },
        {
          "output_type": "stream",
          "name": "stderr",
          "text": [
            "100%|██████████| 94/94 [00:04<00:00, 19.79it/s]\n",
            "100%|██████████| 24/24 [00:00<00:00, 56.00it/s]\n"
          ]
        },
        {
          "output_type": "stream",
          "name": "stdout",
          "text": [
            "\tEPOCH:744/1000\tTrain Loss: 0.055 |\t Val. Loss: 12.676\n"
          ]
        },
        {
          "output_type": "stream",
          "name": "stderr",
          "text": [
            "100%|██████████| 94/94 [00:05<00:00, 15.68it/s]\n",
            "100%|██████████| 24/24 [00:00<00:00, 41.58it/s]\n"
          ]
        },
        {
          "output_type": "stream",
          "name": "stdout",
          "text": [
            "\tEPOCH:745/1000\tTrain Loss: 0.068 |\t Val. Loss: 12.671\n"
          ]
        },
        {
          "output_type": "stream",
          "name": "stderr",
          "text": [
            "100%|██████████| 94/94 [00:05<00:00, 17.76it/s]\n",
            "100%|██████████| 24/24 [00:00<00:00, 56.11it/s]\n"
          ]
        },
        {
          "output_type": "stream",
          "name": "stdout",
          "text": [
            "\tEPOCH:746/1000\tTrain Loss: 0.063 |\t Val. Loss: 12.677\n"
          ]
        },
        {
          "output_type": "stream",
          "name": "stderr",
          "text": [
            "100%|██████████| 94/94 [00:04<00:00, 20.18it/s]\n",
            "100%|██████████| 24/24 [00:00<00:00, 54.36it/s]\n"
          ]
        },
        {
          "output_type": "stream",
          "name": "stdout",
          "text": [
            "\tEPOCH:747/1000\tTrain Loss: 0.057 |\t Val. Loss: 12.638\n"
          ]
        },
        {
          "output_type": "stream",
          "name": "stderr",
          "text": [
            "100%|██████████| 94/94 [00:05<00:00, 17.33it/s]\n",
            "100%|██████████| 24/24 [00:00<00:00, 42.49it/s]\n"
          ]
        },
        {
          "output_type": "stream",
          "name": "stdout",
          "text": [
            "\tEPOCH:748/1000\tTrain Loss: 0.047 |\t Val. Loss: 12.642\n"
          ]
        },
        {
          "output_type": "stream",
          "name": "stderr",
          "text": [
            "100%|██████████| 94/94 [00:04<00:00, 19.93it/s]\n",
            "100%|██████████| 24/24 [00:00<00:00, 55.86it/s]\n"
          ]
        },
        {
          "output_type": "stream",
          "name": "stdout",
          "text": [
            "\tEPOCH:749/1000\tTrain Loss: 0.046 |\t Val. Loss: 12.642\n"
          ]
        },
        {
          "output_type": "stream",
          "name": "stderr",
          "text": [
            "100%|██████████| 94/94 [00:04<00:00, 19.87it/s]\n",
            "100%|██████████| 24/24 [00:00<00:00, 42.87it/s]\n"
          ]
        },
        {
          "output_type": "stream",
          "name": "stdout",
          "text": [
            "\tEPOCH:750/1000\tTrain Loss: 0.051 |\t Val. Loss: 12.673\n"
          ]
        },
        {
          "output_type": "stream",
          "name": "stderr",
          "text": [
            "100%|██████████| 94/94 [00:05<00:00, 17.05it/s]\n",
            "100%|██████████| 24/24 [00:00<00:00, 52.88it/s]\n"
          ]
        },
        {
          "output_type": "stream",
          "name": "stdout",
          "text": [
            "\tEPOCH:751/1000\tTrain Loss: 0.049 |\t Val. Loss: 12.662\n"
          ]
        },
        {
          "output_type": "stream",
          "name": "stderr",
          "text": [
            "100%|██████████| 94/94 [00:04<00:00, 19.74it/s]\n",
            "100%|██████████| 24/24 [00:00<00:00, 55.74it/s]\n"
          ]
        },
        {
          "output_type": "stream",
          "name": "stdout",
          "text": [
            "\tEPOCH:752/1000\tTrain Loss: 0.053 |\t Val. Loss: 12.661\n"
          ]
        },
        {
          "output_type": "stream",
          "name": "stderr",
          "text": [
            "100%|██████████| 94/94 [00:05<00:00, 17.79it/s]\n",
            "100%|██████████| 24/24 [00:00<00:00, 39.73it/s]\n"
          ]
        },
        {
          "output_type": "stream",
          "name": "stdout",
          "text": [
            "\tEPOCH:753/1000\tTrain Loss: 0.051 |\t Val. Loss: 12.617\n"
          ]
        },
        {
          "output_type": "stream",
          "name": "stderr",
          "text": [
            "100%|██████████| 94/94 [00:05<00:00, 18.51it/s]\n",
            "100%|██████████| 24/24 [00:00<00:00, 54.95it/s]\n"
          ]
        },
        {
          "output_type": "stream",
          "name": "stdout",
          "text": [
            "\tEPOCH:754/1000\tTrain Loss: 0.048 |\t Val. Loss: 12.632\n"
          ]
        },
        {
          "output_type": "stream",
          "name": "stderr",
          "text": [
            "100%|██████████| 94/94 [00:04<00:00, 19.75it/s]\n",
            "100%|██████████| 24/24 [00:00<00:00, 52.70it/s]\n"
          ]
        },
        {
          "output_type": "stream",
          "name": "stdout",
          "text": [
            "\tEPOCH:755/1000\tTrain Loss: 0.045 |\t Val. Loss: 12.697\n"
          ]
        },
        {
          "output_type": "stream",
          "name": "stderr",
          "text": [
            "100%|██████████| 94/94 [00:05<00:00, 16.42it/s]\n",
            "100%|██████████| 24/24 [00:00<00:00, 52.87it/s]\n"
          ]
        },
        {
          "output_type": "stream",
          "name": "stdout",
          "text": [
            "\tEPOCH:756/1000\tTrain Loss: 0.040 |\t Val. Loss: 12.670\n"
          ]
        },
        {
          "output_type": "stream",
          "name": "stderr",
          "text": [
            "100%|██████████| 94/94 [00:04<00:00, 19.89it/s]\n",
            "100%|██████████| 24/24 [00:00<00:00, 52.38it/s]\n"
          ]
        },
        {
          "output_type": "stream",
          "name": "stdout",
          "text": [
            "\tEPOCH:757/1000\tTrain Loss: 0.041 |\t Val. Loss: 12.700\n"
          ]
        },
        {
          "output_type": "stream",
          "name": "stderr",
          "text": [
            "100%|██████████| 94/94 [00:05<00:00, 18.57it/s]\n",
            "100%|██████████| 24/24 [00:00<00:00, 42.84it/s]\n"
          ]
        },
        {
          "output_type": "stream",
          "name": "stdout",
          "text": [
            "\tEPOCH:758/1000\tTrain Loss: 0.038 |\t Val. Loss: 12.691\n"
          ]
        },
        {
          "output_type": "stream",
          "name": "stderr",
          "text": [
            "100%|██████████| 94/94 [00:05<00:00, 17.82it/s]\n",
            "100%|██████████| 24/24 [00:00<00:00, 55.44it/s]\n"
          ]
        },
        {
          "output_type": "stream",
          "name": "stdout",
          "text": [
            "\tEPOCH:759/1000\tTrain Loss: 0.038 |\t Val. Loss: 12.699\n"
          ]
        },
        {
          "output_type": "stream",
          "name": "stderr",
          "text": [
            "100%|██████████| 94/94 [00:04<00:00, 19.86it/s]\n",
            "100%|██████████| 24/24 [00:00<00:00, 53.60it/s]\n"
          ]
        },
        {
          "output_type": "stream",
          "name": "stdout",
          "text": [
            "\tEPOCH:760/1000\tTrain Loss: 0.041 |\t Val. Loss: 12.727\n"
          ]
        },
        {
          "output_type": "stream",
          "name": "stderr",
          "text": [
            "100%|██████████| 94/94 [00:05<00:00, 16.84it/s]\n",
            "100%|██████████| 24/24 [00:00<00:00, 42.35it/s]\n"
          ]
        },
        {
          "output_type": "stream",
          "name": "stdout",
          "text": [
            "\tEPOCH:761/1000\tTrain Loss: 0.051 |\t Val. Loss: 12.717\n"
          ]
        },
        {
          "output_type": "stream",
          "name": "stderr",
          "text": [
            "100%|██████████| 94/94 [00:04<00:00, 19.90it/s]\n",
            "100%|██████████| 24/24 [00:00<00:00, 55.44it/s]\n"
          ]
        },
        {
          "output_type": "stream",
          "name": "stdout",
          "text": [
            "\tEPOCH:762/1000\tTrain Loss: 0.046 |\t Val. Loss: 12.695\n"
          ]
        },
        {
          "output_type": "stream",
          "name": "stderr",
          "text": [
            "100%|██████████| 94/94 [00:04<00:00, 19.52it/s]\n",
            "100%|██████████| 24/24 [00:00<00:00, 40.61it/s]\n"
          ]
        },
        {
          "output_type": "stream",
          "name": "stdout",
          "text": [
            "\tEPOCH:763/1000\tTrain Loss: 0.053 |\t Val. Loss: 12.683\n"
          ]
        },
        {
          "output_type": "stream",
          "name": "stderr",
          "text": [
            "100%|██████████| 94/94 [00:05<00:00, 17.08it/s]\n",
            "100%|██████████| 24/24 [00:00<00:00, 53.89it/s]\n"
          ]
        },
        {
          "output_type": "stream",
          "name": "stdout",
          "text": [
            "\tEPOCH:764/1000\tTrain Loss: 0.044 |\t Val. Loss: 12.640\n"
          ]
        },
        {
          "output_type": "stream",
          "name": "stderr",
          "text": [
            "100%|██████████| 94/94 [00:04<00:00, 19.88it/s]\n",
            "100%|██████████| 24/24 [00:00<00:00, 51.81it/s]\n"
          ]
        },
        {
          "output_type": "stream",
          "name": "stdout",
          "text": [
            "\tEPOCH:765/1000\tTrain Loss: 0.048 |\t Val. Loss: 12.655\n"
          ]
        },
        {
          "output_type": "stream",
          "name": "stderr",
          "text": [
            "100%|██████████| 94/94 [00:05<00:00, 17.63it/s]\n",
            "100%|██████████| 24/24 [00:00<00:00, 42.62it/s]\n"
          ]
        },
        {
          "output_type": "stream",
          "name": "stdout",
          "text": [
            "\tEPOCH:766/1000\tTrain Loss: 0.050 |\t Val. Loss: 12.732\n"
          ]
        },
        {
          "output_type": "stream",
          "name": "stderr",
          "text": [
            "100%|██████████| 94/94 [00:04<00:00, 18.90it/s]\n",
            "100%|██████████| 24/24 [00:00<00:00, 54.81it/s]\n"
          ]
        },
        {
          "output_type": "stream",
          "name": "stdout",
          "text": [
            "\tEPOCH:767/1000\tTrain Loss: 0.051 |\t Val. Loss: 12.758\n"
          ]
        },
        {
          "output_type": "stream",
          "name": "stderr",
          "text": [
            "100%|██████████| 94/94 [00:04<00:00, 19.85it/s]\n",
            "100%|██████████| 24/24 [00:00<00:00, 53.93it/s]\n"
          ]
        },
        {
          "output_type": "stream",
          "name": "stdout",
          "text": [
            "\tEPOCH:768/1000\tTrain Loss: 0.042 |\t Val. Loss: 12.715\n"
          ]
        },
        {
          "output_type": "stream",
          "name": "stderr",
          "text": [
            "100%|██████████| 94/94 [00:05<00:00, 16.61it/s]\n",
            "100%|██████████| 24/24 [00:00<00:00, 54.91it/s]\n"
          ]
        },
        {
          "output_type": "stream",
          "name": "stdout",
          "text": [
            "\tEPOCH:769/1000\tTrain Loss: 0.037 |\t Val. Loss: 12.730\n"
          ]
        },
        {
          "output_type": "stream",
          "name": "stderr",
          "text": [
            "100%|██████████| 94/94 [00:04<00:00, 19.81it/s]\n",
            "100%|██████████| 24/24 [00:00<00:00, 55.14it/s]\n"
          ]
        },
        {
          "output_type": "stream",
          "name": "stdout",
          "text": [
            "\tEPOCH:770/1000\tTrain Loss: 0.041 |\t Val. Loss: 12.730\n"
          ]
        },
        {
          "output_type": "stream",
          "name": "stderr",
          "text": [
            "100%|██████████| 94/94 [00:05<00:00, 18.17it/s]\n",
            "100%|██████████| 24/24 [00:00<00:00, 41.60it/s]\n"
          ]
        },
        {
          "output_type": "stream",
          "name": "stdout",
          "text": [
            "\tEPOCH:771/1000\tTrain Loss: 0.037 |\t Val. Loss: 12.738\n"
          ]
        },
        {
          "output_type": "stream",
          "name": "stderr",
          "text": [
            "100%|██████████| 94/94 [00:05<00:00, 17.99it/s]\n",
            "100%|██████████| 24/24 [00:00<00:00, 54.08it/s]\n"
          ]
        },
        {
          "output_type": "stream",
          "name": "stdout",
          "text": [
            "\tEPOCH:772/1000\tTrain Loss: 0.048 |\t Val. Loss: 12.779\n"
          ]
        },
        {
          "output_type": "stream",
          "name": "stderr",
          "text": [
            "100%|██████████| 94/94 [00:04<00:00, 19.92it/s]\n",
            "100%|██████████| 24/24 [00:00<00:00, 53.71it/s]\n"
          ]
        },
        {
          "output_type": "stream",
          "name": "stdout",
          "text": [
            "\tEPOCH:773/1000\tTrain Loss: 0.041 |\t Val. Loss: 12.756\n"
          ]
        },
        {
          "output_type": "stream",
          "name": "stderr",
          "text": [
            "100%|██████████| 94/94 [00:05<00:00, 16.93it/s]\n",
            "100%|██████████| 24/24 [00:00<00:00, 48.74it/s]\n"
          ]
        },
        {
          "output_type": "stream",
          "name": "stdout",
          "text": [
            "\tEPOCH:774/1000\tTrain Loss: 0.045 |\t Val. Loss: 12.804\n"
          ]
        },
        {
          "output_type": "stream",
          "name": "stderr",
          "text": [
            "100%|██████████| 94/94 [00:04<00:00, 20.08it/s]\n",
            "100%|██████████| 24/24 [00:00<00:00, 53.43it/s]\n"
          ]
        },
        {
          "output_type": "stream",
          "name": "stdout",
          "text": [
            "\tEPOCH:775/1000\tTrain Loss: 0.048 |\t Val. Loss: 12.759\n"
          ]
        },
        {
          "output_type": "stream",
          "name": "stderr",
          "text": [
            "100%|██████████| 94/94 [00:04<00:00, 19.42it/s]\n",
            "100%|██████████| 24/24 [00:00<00:00, 41.89it/s]\n"
          ]
        },
        {
          "output_type": "stream",
          "name": "stdout",
          "text": [
            "\tEPOCH:776/1000\tTrain Loss: 0.059 |\t Val. Loss: 12.774\n"
          ]
        },
        {
          "output_type": "stream",
          "name": "stderr",
          "text": [
            "100%|██████████| 94/94 [00:05<00:00, 17.06it/s]\n",
            "100%|██████████| 24/24 [00:00<00:00, 55.61it/s]\n"
          ]
        },
        {
          "output_type": "stream",
          "name": "stdout",
          "text": [
            "\tEPOCH:777/1000\tTrain Loss: 0.049 |\t Val. Loss: 12.754\n"
          ]
        },
        {
          "output_type": "stream",
          "name": "stderr",
          "text": [
            "100%|██████████| 94/94 [00:04<00:00, 19.90it/s]\n",
            "100%|██████████| 24/24 [00:00<00:00, 54.83it/s]\n"
          ]
        },
        {
          "output_type": "stream",
          "name": "stdout",
          "text": [
            "\tEPOCH:778/1000\tTrain Loss: 0.053 |\t Val. Loss: 12.773\n"
          ]
        },
        {
          "output_type": "stream",
          "name": "stderr",
          "text": [
            "100%|██████████| 94/94 [00:05<00:00, 17.56it/s]\n",
            "100%|██████████| 24/24 [00:00<00:00, 44.81it/s]\n"
          ]
        },
        {
          "output_type": "stream",
          "name": "stdout",
          "text": [
            "\tEPOCH:779/1000\tTrain Loss: 0.047 |\t Val. Loss: 12.736\n"
          ]
        },
        {
          "output_type": "stream",
          "name": "stderr",
          "text": [
            "100%|██████████| 94/94 [00:04<00:00, 19.19it/s]\n",
            "100%|██████████| 24/24 [00:00<00:00, 54.84it/s]\n"
          ]
        },
        {
          "output_type": "stream",
          "name": "stdout",
          "text": [
            "\tEPOCH:780/1000\tTrain Loss: 0.046 |\t Val. Loss: 12.762\n"
          ]
        },
        {
          "output_type": "stream",
          "name": "stderr",
          "text": [
            "100%|██████████| 94/94 [00:04<00:00, 20.04it/s]\n",
            "100%|██████████| 24/24 [00:00<00:00, 52.52it/s]\n"
          ]
        },
        {
          "output_type": "stream",
          "name": "stdout",
          "text": [
            "\tEPOCH:781/1000\tTrain Loss: 0.054 |\t Val. Loss: 12.740\n"
          ]
        },
        {
          "output_type": "stream",
          "name": "stderr",
          "text": [
            "100%|██████████| 94/94 [00:05<00:00, 16.62it/s]\n",
            "100%|██████████| 24/24 [00:00<00:00, 52.80it/s]\n"
          ]
        },
        {
          "output_type": "stream",
          "name": "stdout",
          "text": [
            "\tEPOCH:782/1000\tTrain Loss: 0.049 |\t Val. Loss: 12.778\n"
          ]
        },
        {
          "output_type": "stream",
          "name": "stderr",
          "text": [
            "100%|██████████| 94/94 [00:04<00:00, 19.88it/s]\n",
            "100%|██████████| 24/24 [00:00<00:00, 54.48it/s]\n"
          ]
        },
        {
          "output_type": "stream",
          "name": "stdout",
          "text": [
            "\tEPOCH:783/1000\tTrain Loss: 0.061 |\t Val. Loss: 12.735\n"
          ]
        },
        {
          "output_type": "stream",
          "name": "stderr",
          "text": [
            "100%|██████████| 94/94 [00:05<00:00, 18.47it/s]\n",
            "100%|██████████| 24/24 [00:00<00:00, 40.94it/s]\n"
          ]
        },
        {
          "output_type": "stream",
          "name": "stdout",
          "text": [
            "\tEPOCH:784/1000\tTrain Loss: 0.051 |\t Val. Loss: 12.783\n"
          ]
        },
        {
          "output_type": "stream",
          "name": "stderr",
          "text": [
            "100%|██████████| 94/94 [00:05<00:00, 18.14it/s]\n",
            "100%|██████████| 24/24 [00:00<00:00, 54.25it/s]\n"
          ]
        },
        {
          "output_type": "stream",
          "name": "stdout",
          "text": [
            "\tEPOCH:785/1000\tTrain Loss: 0.050 |\t Val. Loss: 12.809\n"
          ]
        },
        {
          "output_type": "stream",
          "name": "stderr",
          "text": [
            "100%|██████████| 94/94 [00:04<00:00, 19.72it/s]\n",
            "100%|██████████| 24/24 [00:00<00:00, 55.12it/s]\n"
          ]
        },
        {
          "output_type": "stream",
          "name": "stdout",
          "text": [
            "\tEPOCH:786/1000\tTrain Loss: 0.055 |\t Val. Loss: 12.738\n"
          ]
        },
        {
          "output_type": "stream",
          "name": "stderr",
          "text": [
            "100%|██████████| 94/94 [00:05<00:00, 16.00it/s]\n",
            "100%|██████████| 24/24 [00:00<00:00, 54.45it/s]\n"
          ]
        },
        {
          "output_type": "stream",
          "name": "stdout",
          "text": [
            "\tEPOCH:787/1000\tTrain Loss: 0.065 |\t Val. Loss: 12.706\n"
          ]
        },
        {
          "output_type": "stream",
          "name": "stderr",
          "text": [
            "100%|██████████| 94/94 [00:04<00:00, 19.89it/s]\n",
            "100%|██████████| 24/24 [00:00<00:00, 55.00it/s]\n"
          ]
        },
        {
          "output_type": "stream",
          "name": "stdout",
          "text": [
            "\tEPOCH:788/1000\tTrain Loss: 0.053 |\t Val. Loss: 12.738\n"
          ]
        },
        {
          "output_type": "stream",
          "name": "stderr",
          "text": [
            "100%|██████████| 94/94 [00:04<00:00, 19.16it/s]\n",
            "100%|██████████| 24/24 [00:00<00:00, 42.00it/s]\n"
          ]
        },
        {
          "output_type": "stream",
          "name": "stdout",
          "text": [
            "\tEPOCH:789/1000\tTrain Loss: 0.049 |\t Val. Loss: 12.769\n"
          ]
        },
        {
          "output_type": "stream",
          "name": "stderr",
          "text": [
            "100%|██████████| 94/94 [00:05<00:00, 17.49it/s]\n",
            "100%|██████████| 24/24 [00:00<00:00, 50.15it/s]\n"
          ]
        },
        {
          "output_type": "stream",
          "name": "stdout",
          "text": [
            "\tEPOCH:790/1000\tTrain Loss: 0.041 |\t Val. Loss: 12.786\n"
          ]
        },
        {
          "output_type": "stream",
          "name": "stderr",
          "text": [
            "100%|██████████| 94/94 [00:05<00:00, 17.34it/s]\n",
            "100%|██████████| 24/24 [00:00<00:00, 43.11it/s]\n"
          ]
        },
        {
          "output_type": "stream",
          "name": "stdout",
          "text": [
            "\tEPOCH:791/1000\tTrain Loss: 0.052 |\t Val. Loss: 12.767\n"
          ]
        },
        {
          "output_type": "stream",
          "name": "stderr",
          "text": [
            "100%|██████████| 94/94 [00:05<00:00, 16.12it/s]\n",
            "100%|██████████| 24/24 [00:00<00:00, 54.79it/s]\n"
          ]
        },
        {
          "output_type": "stream",
          "name": "stdout",
          "text": [
            "\tEPOCH:792/1000\tTrain Loss: 0.056 |\t Val. Loss: 12.749\n"
          ]
        },
        {
          "output_type": "stream",
          "name": "stderr",
          "text": [
            "100%|██████████| 94/94 [00:04<00:00, 19.82it/s]\n",
            "100%|██████████| 24/24 [00:00<00:00, 55.06it/s]\n"
          ]
        },
        {
          "output_type": "stream",
          "name": "stdout",
          "text": [
            "\tEPOCH:793/1000\tTrain Loss: 0.049 |\t Val. Loss: 12.728\n"
          ]
        },
        {
          "output_type": "stream",
          "name": "stderr",
          "text": [
            "100%|██████████| 94/94 [00:04<00:00, 18.96it/s]\n",
            "100%|██████████| 24/24 [00:00<00:00, 44.59it/s]\n"
          ]
        },
        {
          "output_type": "stream",
          "name": "stdout",
          "text": [
            "\tEPOCH:794/1000\tTrain Loss: 0.046 |\t Val. Loss: 12.777\n"
          ]
        },
        {
          "output_type": "stream",
          "name": "stderr",
          "text": [
            "100%|██████████| 94/94 [00:05<00:00, 17.80it/s]\n",
            "100%|██████████| 24/24 [00:00<00:00, 56.98it/s]\n"
          ]
        },
        {
          "output_type": "stream",
          "name": "stdout",
          "text": [
            "\tEPOCH:795/1000\tTrain Loss: 0.050 |\t Val. Loss: 12.800\n"
          ]
        },
        {
          "output_type": "stream",
          "name": "stderr",
          "text": [
            "100%|██████████| 94/94 [00:04<00:00, 19.86it/s]\n",
            "100%|██████████| 24/24 [00:00<00:00, 54.21it/s]\n"
          ]
        },
        {
          "output_type": "stream",
          "name": "stdout",
          "text": [
            "\tEPOCH:796/1000\tTrain Loss: 0.050 |\t Val. Loss: 12.792\n"
          ]
        },
        {
          "output_type": "stream",
          "name": "stderr",
          "text": [
            "100%|██████████| 94/94 [00:05<00:00, 17.31it/s]\n",
            "100%|██████████| 24/24 [00:00<00:00, 45.70it/s]\n"
          ]
        },
        {
          "output_type": "stream",
          "name": "stdout",
          "text": [
            "\tEPOCH:797/1000\tTrain Loss: 0.043 |\t Val. Loss: 12.844\n"
          ]
        },
        {
          "output_type": "stream",
          "name": "stderr",
          "text": [
            "100%|██████████| 94/94 [00:04<00:00, 19.38it/s]\n",
            "100%|██████████| 24/24 [00:00<00:00, 55.15it/s]\n"
          ]
        },
        {
          "output_type": "stream",
          "name": "stdout",
          "text": [
            "\tEPOCH:798/1000\tTrain Loss: 0.046 |\t Val. Loss: 12.894\n"
          ]
        },
        {
          "output_type": "stream",
          "name": "stderr",
          "text": [
            "100%|██████████| 94/94 [00:04<00:00, 19.93it/s]\n",
            "100%|██████████| 24/24 [00:00<00:00, 51.95it/s]\n"
          ]
        },
        {
          "output_type": "stream",
          "name": "stdout",
          "text": [
            "\tEPOCH:799/1000\tTrain Loss: 0.053 |\t Val. Loss: 12.813\n"
          ]
        },
        {
          "output_type": "stream",
          "name": "stderr",
          "text": [
            "100%|██████████| 94/94 [00:05<00:00, 16.77it/s]\n",
            "100%|██████████| 24/24 [00:00<00:00, 54.51it/s]\n"
          ]
        },
        {
          "output_type": "stream",
          "name": "stdout",
          "text": [
            "\tEPOCH:800/1000\tTrain Loss: 0.047 |\t Val. Loss: 12.835\n"
          ]
        },
        {
          "output_type": "stream",
          "name": "stderr",
          "text": [
            "100%|██████████| 94/94 [00:04<00:00, 19.96it/s]\n",
            "100%|██████████| 24/24 [00:00<00:00, 52.74it/s]\n"
          ]
        },
        {
          "output_type": "stream",
          "name": "stdout",
          "text": [
            "\tEPOCH:801/1000\tTrain Loss: 0.048 |\t Val. Loss: 12.819\n"
          ]
        },
        {
          "output_type": "stream",
          "name": "stderr",
          "text": [
            "100%|██████████| 94/94 [00:05<00:00, 17.99it/s]\n",
            "100%|██████████| 24/24 [00:00<00:00, 40.70it/s]\n"
          ]
        },
        {
          "output_type": "stream",
          "name": "stdout",
          "text": [
            "\tEPOCH:802/1000\tTrain Loss: 0.053 |\t Val. Loss: 12.834\n"
          ]
        },
        {
          "output_type": "stream",
          "name": "stderr",
          "text": [
            "100%|██████████| 94/94 [00:05<00:00, 16.71it/s]\n",
            "100%|██████████| 24/24 [00:00<00:00, 47.80it/s]\n"
          ]
        },
        {
          "output_type": "stream",
          "name": "stdout",
          "text": [
            "\tEPOCH:803/1000\tTrain Loss: 0.057 |\t Val. Loss: 12.844\n"
          ]
        },
        {
          "output_type": "stream",
          "name": "stderr",
          "text": [
            "100%|██████████| 94/94 [00:04<00:00, 19.32it/s]\n",
            "100%|██████████| 24/24 [00:00<00:00, 54.29it/s]\n"
          ]
        },
        {
          "output_type": "stream",
          "name": "stdout",
          "text": [
            "\tEPOCH:804/1000\tTrain Loss: 0.053 |\t Val. Loss: 12.871\n"
          ]
        },
        {
          "output_type": "stream",
          "name": "stderr",
          "text": [
            "100%|██████████| 94/94 [00:05<00:00, 15.89it/s]\n",
            "100%|██████████| 24/24 [00:00<00:00, 50.16it/s]\n"
          ]
        },
        {
          "output_type": "stream",
          "name": "stdout",
          "text": [
            "\tEPOCH:805/1000\tTrain Loss: 0.050 |\t Val. Loss: 12.856\n"
          ]
        },
        {
          "output_type": "stream",
          "name": "stderr",
          "text": [
            "100%|██████████| 94/94 [00:05<00:00, 18.36it/s]\n",
            "100%|██████████| 24/24 [00:00<00:00, 47.69it/s]\n"
          ]
        },
        {
          "output_type": "stream",
          "name": "stdout",
          "text": [
            "\tEPOCH:806/1000\tTrain Loss: 0.059 |\t Val. Loss: 12.880\n"
          ]
        },
        {
          "output_type": "stream",
          "name": "stderr",
          "text": [
            "100%|██████████| 94/94 [00:05<00:00, 17.85it/s]\n",
            "100%|██████████| 24/24 [00:00<00:00, 42.80it/s]\n"
          ]
        },
        {
          "output_type": "stream",
          "name": "stdout",
          "text": [
            "\tEPOCH:807/1000\tTrain Loss: 0.047 |\t Val. Loss: 12.875\n"
          ]
        },
        {
          "output_type": "stream",
          "name": "stderr",
          "text": [
            "100%|██████████| 94/94 [00:05<00:00, 18.11it/s]\n",
            "100%|██████████| 24/24 [00:00<00:00, 54.42it/s]\n"
          ]
        },
        {
          "output_type": "stream",
          "name": "stdout",
          "text": [
            "\tEPOCH:808/1000\tTrain Loss: 0.048 |\t Val. Loss: 12.867\n"
          ]
        },
        {
          "output_type": "stream",
          "name": "stderr",
          "text": [
            "100%|██████████| 94/94 [00:04<00:00, 19.52it/s]\n",
            "100%|██████████| 24/24 [00:00<00:00, 48.28it/s]\n"
          ]
        },
        {
          "output_type": "stream",
          "name": "stdout",
          "text": [
            "\tEPOCH:809/1000\tTrain Loss: 0.044 |\t Val. Loss: 12.893\n"
          ]
        },
        {
          "output_type": "stream",
          "name": "stderr",
          "text": [
            "100%|██████████| 94/94 [00:06<00:00, 15.56it/s]\n",
            "100%|██████████| 24/24 [00:00<00:00, 51.27it/s]\n"
          ]
        },
        {
          "output_type": "stream",
          "name": "stdout",
          "text": [
            "\tEPOCH:810/1000\tTrain Loss: 0.044 |\t Val. Loss: 12.887\n"
          ]
        },
        {
          "output_type": "stream",
          "name": "stderr",
          "text": [
            "100%|██████████| 94/94 [00:04<00:00, 19.48it/s]\n",
            "100%|██████████| 24/24 [00:00<00:00, 52.77it/s]\n"
          ]
        },
        {
          "output_type": "stream",
          "name": "stdout",
          "text": [
            "\tEPOCH:811/1000\tTrain Loss: 0.044 |\t Val. Loss: 12.898\n"
          ]
        },
        {
          "output_type": "stream",
          "name": "stderr",
          "text": [
            "100%|██████████| 94/94 [00:05<00:00, 18.05it/s]\n",
            "100%|██████████| 24/24 [00:00<00:00, 39.75it/s]\n"
          ]
        },
        {
          "output_type": "stream",
          "name": "stdout",
          "text": [
            "\tEPOCH:812/1000\tTrain Loss: 0.039 |\t Val. Loss: 12.918\n"
          ]
        },
        {
          "output_type": "stream",
          "name": "stderr",
          "text": [
            "100%|██████████| 94/94 [00:05<00:00, 17.21it/s]\n",
            "100%|██████████| 24/24 [00:00<00:00, 50.35it/s]\n"
          ]
        },
        {
          "output_type": "stream",
          "name": "stdout",
          "text": [
            "\tEPOCH:813/1000\tTrain Loss: 0.036 |\t Val. Loss: 12.902\n"
          ]
        },
        {
          "output_type": "stream",
          "name": "stderr",
          "text": [
            "100%|██████████| 94/94 [00:04<00:00, 19.98it/s]\n",
            "100%|██████████| 24/24 [00:00<00:00, 52.82it/s]\n"
          ]
        },
        {
          "output_type": "stream",
          "name": "stdout",
          "text": [
            "\tEPOCH:814/1000\tTrain Loss: 0.049 |\t Val. Loss: 12.929\n"
          ]
        },
        {
          "output_type": "stream",
          "name": "stderr",
          "text": [
            "100%|██████████| 94/94 [00:05<00:00, 16.40it/s]\n",
            "100%|██████████| 24/24 [00:00<00:00, 44.67it/s]\n"
          ]
        },
        {
          "output_type": "stream",
          "name": "stdout",
          "text": [
            "\tEPOCH:815/1000\tTrain Loss: 0.043 |\t Val. Loss: 12.922\n"
          ]
        },
        {
          "output_type": "stream",
          "name": "stderr",
          "text": [
            "100%|██████████| 94/94 [00:04<00:00, 19.04it/s]\n",
            "100%|██████████| 24/24 [00:00<00:00, 52.84it/s]\n"
          ]
        },
        {
          "output_type": "stream",
          "name": "stdout",
          "text": [
            "\tEPOCH:816/1000\tTrain Loss: 0.041 |\t Val. Loss: 12.936\n"
          ]
        },
        {
          "output_type": "stream",
          "name": "stderr",
          "text": [
            "100%|██████████| 94/94 [00:05<00:00, 18.19it/s]\n",
            "100%|██████████| 24/24 [00:00<00:00, 41.76it/s]\n"
          ]
        },
        {
          "output_type": "stream",
          "name": "stdout",
          "text": [
            "\tEPOCH:817/1000\tTrain Loss: 0.038 |\t Val. Loss: 12.922\n"
          ]
        },
        {
          "output_type": "stream",
          "name": "stderr",
          "text": [
            "100%|██████████| 94/94 [00:05<00:00, 16.67it/s]\n",
            "100%|██████████| 24/24 [00:00<00:00, 53.06it/s]\n"
          ]
        },
        {
          "output_type": "stream",
          "name": "stdout",
          "text": [
            "\tEPOCH:818/1000\tTrain Loss: 0.042 |\t Val. Loss: 12.958\n"
          ]
        },
        {
          "output_type": "stream",
          "name": "stderr",
          "text": [
            "100%|██████████| 94/94 [00:04<00:00, 19.65it/s]\n",
            "100%|██████████| 24/24 [00:00<00:00, 53.03it/s]\n"
          ]
        },
        {
          "output_type": "stream",
          "name": "stdout",
          "text": [
            "\tEPOCH:819/1000\tTrain Loss: 0.038 |\t Val. Loss: 12.929\n"
          ]
        },
        {
          "output_type": "stream",
          "name": "stderr",
          "text": [
            "100%|██████████| 94/94 [00:05<00:00, 16.72it/s]\n",
            "100%|██████████| 24/24 [00:00<00:00, 41.84it/s]\n"
          ]
        },
        {
          "output_type": "stream",
          "name": "stdout",
          "text": [
            "\tEPOCH:820/1000\tTrain Loss: 0.039 |\t Val. Loss: 12.983\n"
          ]
        },
        {
          "output_type": "stream",
          "name": "stderr",
          "text": [
            "100%|██████████| 94/94 [00:05<00:00, 18.55it/s]\n",
            "100%|██████████| 24/24 [00:00<00:00, 51.51it/s]\n"
          ]
        },
        {
          "output_type": "stream",
          "name": "stdout",
          "text": [
            "\tEPOCH:821/1000\tTrain Loss: 0.044 |\t Val. Loss: 12.980\n"
          ]
        },
        {
          "output_type": "stream",
          "name": "stderr",
          "text": [
            "100%|██████████| 94/94 [00:04<00:00, 19.55it/s]\n",
            "100%|██████████| 24/24 [00:00<00:00, 40.15it/s]\n"
          ]
        },
        {
          "output_type": "stream",
          "name": "stdout",
          "text": [
            "\tEPOCH:822/1000\tTrain Loss: 0.048 |\t Val. Loss: 12.947\n"
          ]
        },
        {
          "output_type": "stream",
          "name": "stderr",
          "text": [
            "100%|██████████| 94/94 [00:05<00:00, 16.37it/s]\n",
            "100%|██████████| 24/24 [00:00<00:00, 54.13it/s]\n"
          ]
        },
        {
          "output_type": "stream",
          "name": "stdout",
          "text": [
            "\tEPOCH:823/1000\tTrain Loss: 0.054 |\t Val. Loss: 12.991\n"
          ]
        },
        {
          "output_type": "stream",
          "name": "stderr",
          "text": [
            "100%|██████████| 94/94 [00:04<00:00, 19.81it/s]\n",
            "100%|██████████| 24/24 [00:00<00:00, 52.66it/s]\n"
          ]
        },
        {
          "output_type": "stream",
          "name": "stdout",
          "text": [
            "\tEPOCH:824/1000\tTrain Loss: 0.058 |\t Val. Loss: 12.954\n"
          ]
        },
        {
          "output_type": "stream",
          "name": "stderr",
          "text": [
            "100%|██████████| 94/94 [00:05<00:00, 17.44it/s]\n",
            "100%|██████████| 24/24 [00:00<00:00, 43.55it/s]\n"
          ]
        },
        {
          "output_type": "stream",
          "name": "stdout",
          "text": [
            "\tEPOCH:825/1000\tTrain Loss: 0.053 |\t Val. Loss: 12.960\n"
          ]
        },
        {
          "output_type": "stream",
          "name": "stderr",
          "text": [
            "100%|██████████| 94/94 [00:05<00:00, 17.91it/s]\n",
            "100%|██████████| 24/24 [00:00<00:00, 52.55it/s]\n"
          ]
        },
        {
          "output_type": "stream",
          "name": "stdout",
          "text": [
            "\tEPOCH:826/1000\tTrain Loss: 0.052 |\t Val. Loss: 12.921\n"
          ]
        },
        {
          "output_type": "stream",
          "name": "stderr",
          "text": [
            "100%|██████████| 94/94 [00:04<00:00, 19.49it/s]\n",
            "100%|██████████| 24/24 [00:00<00:00, 52.56it/s]\n"
          ]
        },
        {
          "output_type": "stream",
          "name": "stdout",
          "text": [
            "\tEPOCH:827/1000\tTrain Loss: 0.049 |\t Val. Loss: 12.957\n"
          ]
        },
        {
          "output_type": "stream",
          "name": "stderr",
          "text": [
            "100%|██████████| 94/94 [00:05<00:00, 15.96it/s]\n",
            "100%|██████████| 24/24 [00:00<00:00, 54.35it/s]\n"
          ]
        },
        {
          "output_type": "stream",
          "name": "stdout",
          "text": [
            "\tEPOCH:828/1000\tTrain Loss: 0.047 |\t Val. Loss: 12.960\n"
          ]
        },
        {
          "output_type": "stream",
          "name": "stderr",
          "text": [
            "100%|██████████| 94/94 [00:04<00:00, 19.74it/s]\n",
            "100%|██████████| 24/24 [00:00<00:00, 53.95it/s]\n"
          ]
        },
        {
          "output_type": "stream",
          "name": "stdout",
          "text": [
            "\tEPOCH:829/1000\tTrain Loss: 0.043 |\t Val. Loss: 12.968\n"
          ]
        },
        {
          "output_type": "stream",
          "name": "stderr",
          "text": [
            "100%|██████████| 94/94 [00:05<00:00, 18.18it/s]\n",
            "100%|██████████| 24/24 [00:00<00:00, 42.20it/s]\n"
          ]
        },
        {
          "output_type": "stream",
          "name": "stdout",
          "text": [
            "\tEPOCH:830/1000\tTrain Loss: 0.041 |\t Val. Loss: 12.956\n"
          ]
        },
        {
          "output_type": "stream",
          "name": "stderr",
          "text": [
            "100%|██████████| 94/94 [00:05<00:00, 17.59it/s]\n",
            "100%|██████████| 24/24 [00:00<00:00, 52.76it/s]\n"
          ]
        },
        {
          "output_type": "stream",
          "name": "stdout",
          "text": [
            "\tEPOCH:831/1000\tTrain Loss: 0.048 |\t Val. Loss: 12.946\n"
          ]
        },
        {
          "output_type": "stream",
          "name": "stderr",
          "text": [
            "100%|██████████| 94/94 [00:04<00:00, 19.09it/s]\n",
            "100%|██████████| 24/24 [00:00<00:00, 50.63it/s]\n"
          ]
        },
        {
          "output_type": "stream",
          "name": "stdout",
          "text": [
            "\tEPOCH:832/1000\tTrain Loss: 0.046 |\t Val. Loss: 12.972\n"
          ]
        },
        {
          "output_type": "stream",
          "name": "stderr",
          "text": [
            "100%|██████████| 94/94 [00:05<00:00, 16.03it/s]\n",
            "100%|██████████| 24/24 [00:00<00:00, 37.80it/s]\n"
          ]
        },
        {
          "output_type": "stream",
          "name": "stdout",
          "text": [
            "\tEPOCH:833/1000\tTrain Loss: 0.043 |\t Val. Loss: 12.972\n"
          ]
        },
        {
          "output_type": "stream",
          "name": "stderr",
          "text": [
            "100%|██████████| 94/94 [00:04<00:00, 18.81it/s]\n",
            "100%|██████████| 24/24 [00:00<00:00, 54.07it/s]\n"
          ]
        },
        {
          "output_type": "stream",
          "name": "stdout",
          "text": [
            "\tEPOCH:834/1000\tTrain Loss: 0.046 |\t Val. Loss: 12.956\n"
          ]
        },
        {
          "output_type": "stream",
          "name": "stderr",
          "text": [
            "100%|██████████| 94/94 [00:04<00:00, 19.17it/s]\n",
            "100%|██████████| 24/24 [00:00<00:00, 39.99it/s]\n"
          ]
        },
        {
          "output_type": "stream",
          "name": "stdout",
          "text": [
            "\tEPOCH:835/1000\tTrain Loss: 0.040 |\t Val. Loss: 12.994\n"
          ]
        },
        {
          "output_type": "stream",
          "name": "stderr",
          "text": [
            "100%|██████████| 94/94 [00:05<00:00, 16.58it/s]\n",
            "100%|██████████| 24/24 [00:00<00:00, 37.64it/s]\n"
          ]
        },
        {
          "output_type": "stream",
          "name": "stdout",
          "text": [
            "\tEPOCH:836/1000\tTrain Loss: 0.041 |\t Val. Loss: 12.945\n"
          ]
        },
        {
          "output_type": "stream",
          "name": "stderr",
          "text": [
            "100%|██████████| 94/94 [00:05<00:00, 16.39it/s]\n",
            "100%|██████████| 24/24 [00:00<00:00, 55.35it/s]\n"
          ]
        },
        {
          "output_type": "stream",
          "name": "stdout",
          "text": [
            "\tEPOCH:837/1000\tTrain Loss: 0.043 |\t Val. Loss: 12.973\n"
          ]
        },
        {
          "output_type": "stream",
          "name": "stderr",
          "text": [
            "100%|██████████| 94/94 [00:05<00:00, 16.00it/s]\n",
            "100%|██████████| 24/24 [00:00<00:00, 54.63it/s]\n"
          ]
        },
        {
          "output_type": "stream",
          "name": "stdout",
          "text": [
            "\tEPOCH:838/1000\tTrain Loss: 0.057 |\t Val. Loss: 12.973\n"
          ]
        },
        {
          "output_type": "stream",
          "name": "stderr",
          "text": [
            "100%|██████████| 94/94 [00:04<00:00, 19.53it/s]\n",
            "100%|██████████| 24/24 [00:00<00:00, 52.93it/s]\n"
          ]
        },
        {
          "output_type": "stream",
          "name": "stdout",
          "text": [
            "\tEPOCH:839/1000\tTrain Loss: 0.048 |\t Val. Loss: 12.907\n"
          ]
        },
        {
          "output_type": "stream",
          "name": "stderr",
          "text": [
            "100%|██████████| 94/94 [00:05<00:00, 18.13it/s]\n",
            "100%|██████████| 24/24 [00:00<00:00, 41.27it/s]\n"
          ]
        },
        {
          "output_type": "stream",
          "name": "stdout",
          "text": [
            "\tEPOCH:840/1000\tTrain Loss: 0.047 |\t Val. Loss: 12.977\n"
          ]
        },
        {
          "output_type": "stream",
          "name": "stderr",
          "text": [
            "100%|██████████| 94/94 [00:05<00:00, 17.48it/s]\n",
            "100%|██████████| 24/24 [00:00<00:00, 53.58it/s]\n"
          ]
        },
        {
          "output_type": "stream",
          "name": "stdout",
          "text": [
            "\tEPOCH:841/1000\tTrain Loss: 0.053 |\t Val. Loss: 13.012\n"
          ]
        },
        {
          "output_type": "stream",
          "name": "stderr",
          "text": [
            "100%|██████████| 94/94 [00:04<00:00, 19.77it/s]\n",
            "100%|██████████| 24/24 [00:00<00:00, 55.51it/s]\n"
          ]
        },
        {
          "output_type": "stream",
          "name": "stdout",
          "text": [
            "\tEPOCH:842/1000\tTrain Loss: 0.061 |\t Val. Loss: 12.958\n"
          ]
        },
        {
          "output_type": "stream",
          "name": "stderr",
          "text": [
            "100%|██████████| 94/94 [00:05<00:00, 16.80it/s]\n",
            "100%|██████████| 24/24 [00:00<00:00, 40.53it/s]\n"
          ]
        },
        {
          "output_type": "stream",
          "name": "stdout",
          "text": [
            "\tEPOCH:843/1000\tTrain Loss: 0.060 |\t Val. Loss: 12.929\n"
          ]
        },
        {
          "output_type": "stream",
          "name": "stderr",
          "text": [
            "100%|██████████| 94/94 [00:04<00:00, 19.32it/s]\n",
            "100%|██████████| 24/24 [00:00<00:00, 52.10it/s]\n"
          ]
        },
        {
          "output_type": "stream",
          "name": "stdout",
          "text": [
            "\tEPOCH:844/1000\tTrain Loss: 0.053 |\t Val. Loss: 12.954\n"
          ]
        },
        {
          "output_type": "stream",
          "name": "stderr",
          "text": [
            "100%|██████████| 94/94 [00:05<00:00, 18.67it/s]\n",
            "100%|██████████| 24/24 [00:00<00:00, 41.06it/s]\n"
          ]
        },
        {
          "output_type": "stream",
          "name": "stdout",
          "text": [
            "\tEPOCH:845/1000\tTrain Loss: 0.050 |\t Val. Loss: 12.993\n"
          ]
        },
        {
          "output_type": "stream",
          "name": "stderr",
          "text": [
            "100%|██████████| 94/94 [00:05<00:00, 16.42it/s]\n",
            "100%|██████████| 24/24 [00:00<00:00, 49.40it/s]\n"
          ]
        },
        {
          "output_type": "stream",
          "name": "stdout",
          "text": [
            "\tEPOCH:846/1000\tTrain Loss: 0.055 |\t Val. Loss: 13.006\n"
          ]
        },
        {
          "output_type": "stream",
          "name": "stderr",
          "text": [
            "100%|██████████| 94/94 [00:04<00:00, 19.62it/s]\n",
            "100%|██████████| 24/24 [00:00<00:00, 51.43it/s]\n"
          ]
        },
        {
          "output_type": "stream",
          "name": "stdout",
          "text": [
            "\tEPOCH:847/1000\tTrain Loss: 0.053 |\t Val. Loss: 13.004\n"
          ]
        },
        {
          "output_type": "stream",
          "name": "stderr",
          "text": [
            "100%|██████████| 94/94 [00:05<00:00, 17.74it/s]\n",
            "100%|██████████| 24/24 [00:00<00:00, 42.45it/s]\n"
          ]
        },
        {
          "output_type": "stream",
          "name": "stdout",
          "text": [
            "\tEPOCH:848/1000\tTrain Loss: 0.042 |\t Val. Loss: 12.937\n"
          ]
        },
        {
          "output_type": "stream",
          "name": "stderr",
          "text": [
            "100%|██████████| 94/94 [00:05<00:00, 18.61it/s]\n",
            "100%|██████████| 24/24 [00:00<00:00, 54.83it/s]\n"
          ]
        },
        {
          "output_type": "stream",
          "name": "stdout",
          "text": [
            "\tEPOCH:849/1000\tTrain Loss: 0.040 |\t Val. Loss: 12.971\n"
          ]
        },
        {
          "output_type": "stream",
          "name": "stderr",
          "text": [
            "100%|██████████| 94/94 [00:04<00:00, 19.44it/s]\n",
            "100%|██████████| 24/24 [00:00<00:00, 55.34it/s]\n"
          ]
        },
        {
          "output_type": "stream",
          "name": "stdout",
          "text": [
            "\tEPOCH:850/1000\tTrain Loss: 0.039 |\t Val. Loss: 12.949\n"
          ]
        },
        {
          "output_type": "stream",
          "name": "stderr",
          "text": [
            "100%|██████████| 94/94 [00:05<00:00, 15.97it/s]\n",
            "100%|██████████| 24/24 [00:00<00:00, 51.05it/s]\n"
          ]
        },
        {
          "output_type": "stream",
          "name": "stdout",
          "text": [
            "\tEPOCH:851/1000\tTrain Loss: 0.050 |\t Val. Loss: 12.934\n"
          ]
        },
        {
          "output_type": "stream",
          "name": "stderr",
          "text": [
            "100%|██████████| 94/94 [00:04<00:00, 19.53it/s]\n",
            "100%|██████████| 24/24 [00:00<00:00, 53.26it/s]\n"
          ]
        },
        {
          "output_type": "stream",
          "name": "stdout",
          "text": [
            "\tEPOCH:852/1000\tTrain Loss: 0.046 |\t Val. Loss: 12.981\n"
          ]
        },
        {
          "output_type": "stream",
          "name": "stderr",
          "text": [
            "100%|██████████| 94/94 [00:05<00:00, 17.60it/s]\n",
            "100%|██████████| 24/24 [00:00<00:00, 39.81it/s]\n"
          ]
        },
        {
          "output_type": "stream",
          "name": "stdout",
          "text": [
            "\tEPOCH:853/1000\tTrain Loss: 0.053 |\t Val. Loss: 12.914\n"
          ]
        },
        {
          "output_type": "stream",
          "name": "stderr",
          "text": [
            "100%|██████████| 94/94 [00:05<00:00, 17.86it/s]\n",
            "100%|██████████| 24/24 [00:00<00:00, 52.32it/s]\n"
          ]
        },
        {
          "output_type": "stream",
          "name": "stdout",
          "text": [
            "\tEPOCH:854/1000\tTrain Loss: 0.050 |\t Val. Loss: 12.929\n"
          ]
        },
        {
          "output_type": "stream",
          "name": "stderr",
          "text": [
            "100%|██████████| 94/94 [00:04<00:00, 19.65it/s]\n",
            "100%|██████████| 24/24 [00:00<00:00, 53.98it/s]\n"
          ]
        },
        {
          "output_type": "stream",
          "name": "stdout",
          "text": [
            "\tEPOCH:855/1000\tTrain Loss: 0.062 |\t Val. Loss: 12.948\n"
          ]
        },
        {
          "output_type": "stream",
          "name": "stderr",
          "text": [
            "100%|██████████| 94/94 [00:05<00:00, 16.00it/s]\n",
            "100%|██████████| 24/24 [00:00<00:00, 52.43it/s]\n"
          ]
        },
        {
          "output_type": "stream",
          "name": "stdout",
          "text": [
            "\tEPOCH:856/1000\tTrain Loss: 0.055 |\t Val. Loss: 12.969\n"
          ]
        },
        {
          "output_type": "stream",
          "name": "stderr",
          "text": [
            "100%|██████████| 94/94 [00:04<00:00, 19.84it/s]\n",
            "100%|██████████| 24/24 [00:00<00:00, 55.11it/s]\n"
          ]
        },
        {
          "output_type": "stream",
          "name": "stdout",
          "text": [
            "\tEPOCH:857/1000\tTrain Loss: 0.047 |\t Val. Loss: 12.919\n"
          ]
        },
        {
          "output_type": "stream",
          "name": "stderr",
          "text": [
            "100%|██████████| 94/94 [00:05<00:00, 17.48it/s]\n",
            "100%|██████████| 24/24 [00:00<00:00, 40.82it/s]\n"
          ]
        },
        {
          "output_type": "stream",
          "name": "stdout",
          "text": [
            "\tEPOCH:858/1000\tTrain Loss: 0.047 |\t Val. Loss: 12.922\n"
          ]
        },
        {
          "output_type": "stream",
          "name": "stderr",
          "text": [
            "100%|██████████| 94/94 [00:05<00:00, 17.46it/s]\n",
            "100%|██████████| 24/24 [00:00<00:00, 54.25it/s]\n"
          ]
        },
        {
          "output_type": "stream",
          "name": "stdout",
          "text": [
            "\tEPOCH:859/1000\tTrain Loss: 0.048 |\t Val. Loss: 12.982\n"
          ]
        },
        {
          "output_type": "stream",
          "name": "stderr",
          "text": [
            "100%|██████████| 94/94 [00:04<00:00, 19.37it/s]\n",
            "100%|██████████| 24/24 [00:00<00:00, 49.58it/s]\n"
          ]
        },
        {
          "output_type": "stream",
          "name": "stdout",
          "text": [
            "\tEPOCH:860/1000\tTrain Loss: 0.043 |\t Val. Loss: 12.990\n"
          ]
        },
        {
          "output_type": "stream",
          "name": "stderr",
          "text": [
            "100%|██████████| 94/94 [00:06<00:00, 15.62it/s]\n",
            "100%|██████████| 24/24 [00:00<00:00, 52.70it/s]\n"
          ]
        },
        {
          "output_type": "stream",
          "name": "stdout",
          "text": [
            "\tEPOCH:861/1000\tTrain Loss: 0.044 |\t Val. Loss: 13.016\n"
          ]
        },
        {
          "output_type": "stream",
          "name": "stderr",
          "text": [
            "100%|██████████| 94/94 [00:04<00:00, 19.81it/s]\n",
            "100%|██████████| 24/24 [00:00<00:00, 55.58it/s]\n"
          ]
        },
        {
          "output_type": "stream",
          "name": "stdout",
          "text": [
            "\tEPOCH:862/1000\tTrain Loss: 0.042 |\t Val. Loss: 12.997\n"
          ]
        },
        {
          "output_type": "stream",
          "name": "stderr",
          "text": [
            "100%|██████████| 94/94 [00:05<00:00, 18.22it/s]\n",
            "100%|██████████| 24/24 [00:00<00:00, 40.56it/s]\n"
          ]
        },
        {
          "output_type": "stream",
          "name": "stdout",
          "text": [
            "\tEPOCH:863/1000\tTrain Loss: 0.041 |\t Val. Loss: 13.003\n"
          ]
        },
        {
          "output_type": "stream",
          "name": "stderr",
          "text": [
            "100%|██████████| 94/94 [00:05<00:00, 15.81it/s]\n",
            "100%|██████████| 24/24 [00:00<00:00, 53.63it/s]\n"
          ]
        },
        {
          "output_type": "stream",
          "name": "stdout",
          "text": [
            "\tEPOCH:864/1000\tTrain Loss: 0.044 |\t Val. Loss: 13.029\n"
          ]
        },
        {
          "output_type": "stream",
          "name": "stderr",
          "text": [
            "100%|██████████| 94/94 [00:04<00:00, 19.53it/s]\n",
            "100%|██████████| 24/24 [00:00<00:00, 53.84it/s]\n"
          ]
        },
        {
          "output_type": "stream",
          "name": "stdout",
          "text": [
            "\tEPOCH:865/1000\tTrain Loss: 0.039 |\t Val. Loss: 13.029\n"
          ]
        },
        {
          "output_type": "stream",
          "name": "stderr",
          "text": [
            "100%|██████████| 94/94 [00:05<00:00, 17.40it/s]\n",
            "100%|██████████| 24/24 [00:00<00:00, 42.71it/s]\n"
          ]
        },
        {
          "output_type": "stream",
          "name": "stdout",
          "text": [
            "\tEPOCH:866/1000\tTrain Loss: 0.043 |\t Val. Loss: 13.031\n"
          ]
        },
        {
          "output_type": "stream",
          "name": "stderr",
          "text": [
            "100%|██████████| 94/94 [00:04<00:00, 19.33it/s]\n",
            "100%|██████████| 24/24 [00:00<00:00, 49.75it/s]\n"
          ]
        },
        {
          "output_type": "stream",
          "name": "stdout",
          "text": [
            "\tEPOCH:867/1000\tTrain Loss: 0.035 |\t Val. Loss: 13.004\n"
          ]
        },
        {
          "output_type": "stream",
          "name": "stderr",
          "text": [
            "100%|██████████| 94/94 [00:04<00:00, 19.81it/s]\n",
            "100%|██████████| 24/24 [00:00<00:00, 43.51it/s]\n"
          ]
        },
        {
          "output_type": "stream",
          "name": "stdout",
          "text": [
            "\tEPOCH:868/1000\tTrain Loss: 0.041 |\t Val. Loss: 13.022\n"
          ]
        },
        {
          "output_type": "stream",
          "name": "stderr",
          "text": [
            "100%|██████████| 94/94 [00:05<00:00, 15.91it/s]\n",
            "100%|██████████| 24/24 [00:00<00:00, 51.65it/s]\n"
          ]
        },
        {
          "output_type": "stream",
          "name": "stdout",
          "text": [
            "\tEPOCH:869/1000\tTrain Loss: 0.044 |\t Val. Loss: 12.996\n"
          ]
        },
        {
          "output_type": "stream",
          "name": "stderr",
          "text": [
            "100%|██████████| 94/94 [00:04<00:00, 18.89it/s]\n",
            "100%|██████████| 24/24 [00:00<00:00, 47.69it/s]\n"
          ]
        },
        {
          "output_type": "stream",
          "name": "stdout",
          "text": [
            "\tEPOCH:870/1000\tTrain Loss: 0.046 |\t Val. Loss: 12.999\n"
          ]
        },
        {
          "output_type": "stream",
          "name": "stderr",
          "text": [
            "100%|██████████| 94/94 [00:05<00:00, 17.68it/s]\n",
            "100%|██████████| 24/24 [00:00<00:00, 39.58it/s]\n"
          ]
        },
        {
          "output_type": "stream",
          "name": "stdout",
          "text": [
            "\tEPOCH:871/1000\tTrain Loss: 0.050 |\t Val. Loss: 13.045\n"
          ]
        },
        {
          "output_type": "stream",
          "name": "stderr",
          "text": [
            "100%|██████████| 94/94 [00:05<00:00, 18.24it/s]\n",
            "100%|██████████| 24/24 [00:00<00:00, 51.36it/s]\n"
          ]
        },
        {
          "output_type": "stream",
          "name": "stdout",
          "text": [
            "\tEPOCH:872/1000\tTrain Loss: 0.043 |\t Val. Loss: 12.965\n"
          ]
        },
        {
          "output_type": "stream",
          "name": "stderr",
          "text": [
            "100%|██████████| 94/94 [00:04<00:00, 19.73it/s]\n",
            "100%|██████████| 24/24 [00:00<00:00, 57.04it/s]\n"
          ]
        },
        {
          "output_type": "stream",
          "name": "stdout",
          "text": [
            "\tEPOCH:873/1000\tTrain Loss: 0.050 |\t Val. Loss: 13.003\n"
          ]
        },
        {
          "output_type": "stream",
          "name": "stderr",
          "text": [
            "100%|██████████| 94/94 [00:05<00:00, 16.26it/s]\n",
            "100%|██████████| 24/24 [00:00<00:00, 56.22it/s]\n"
          ]
        },
        {
          "output_type": "stream",
          "name": "stdout",
          "text": [
            "\tEPOCH:874/1000\tTrain Loss: 0.057 |\t Val. Loss: 13.003\n"
          ]
        },
        {
          "output_type": "stream",
          "name": "stderr",
          "text": [
            "100%|██████████| 94/94 [00:04<00:00, 18.97it/s]\n",
            "100%|██████████| 24/24 [00:00<00:00, 53.67it/s]\n"
          ]
        },
        {
          "output_type": "stream",
          "name": "stdout",
          "text": [
            "\tEPOCH:875/1000\tTrain Loss: 0.052 |\t Val. Loss: 13.065\n"
          ]
        },
        {
          "output_type": "stream",
          "name": "stderr",
          "text": [
            "100%|██████████| 94/94 [00:05<00:00, 17.76it/s]\n",
            "100%|██████████| 24/24 [00:00<00:00, 41.61it/s]\n"
          ]
        },
        {
          "output_type": "stream",
          "name": "stdout",
          "text": [
            "\tEPOCH:876/1000\tTrain Loss: 0.061 |\t Val. Loss: 13.056\n"
          ]
        },
        {
          "output_type": "stream",
          "name": "stderr",
          "text": [
            "100%|██████████| 94/94 [00:05<00:00, 17.82it/s]\n",
            "100%|██████████| 24/24 [00:00<00:00, 53.56it/s]\n"
          ]
        },
        {
          "output_type": "stream",
          "name": "stdout",
          "text": [
            "\tEPOCH:877/1000\tTrain Loss: 0.053 |\t Val. Loss: 12.961\n"
          ]
        },
        {
          "output_type": "stream",
          "name": "stderr",
          "text": [
            "100%|██████████| 94/94 [00:04<00:00, 19.99it/s]\n",
            "100%|██████████| 24/24 [00:00<00:00, 56.74it/s]\n"
          ]
        },
        {
          "output_type": "stream",
          "name": "stdout",
          "text": [
            "\tEPOCH:878/1000\tTrain Loss: 0.047 |\t Val. Loss: 13.038\n"
          ]
        },
        {
          "output_type": "stream",
          "name": "stderr",
          "text": [
            "100%|██████████| 94/94 [00:05<00:00, 16.72it/s]\n",
            "100%|██████████| 24/24 [00:00<00:00, 47.27it/s]\n"
          ]
        },
        {
          "output_type": "stream",
          "name": "stdout",
          "text": [
            "\tEPOCH:879/1000\tTrain Loss: 0.051 |\t Val. Loss: 13.037\n"
          ]
        },
        {
          "output_type": "stream",
          "name": "stderr",
          "text": [
            "100%|██████████| 94/94 [00:05<00:00, 18.71it/s]\n",
            "100%|██████████| 24/24 [00:00<00:00, 49.44it/s]\n"
          ]
        },
        {
          "output_type": "stream",
          "name": "stdout",
          "text": [
            "\tEPOCH:880/1000\tTrain Loss: 0.043 |\t Val. Loss: 13.070\n"
          ]
        },
        {
          "output_type": "stream",
          "name": "stderr",
          "text": [
            "100%|██████████| 94/94 [00:05<00:00, 18.25it/s]\n",
            "100%|██████████| 24/24 [00:00<00:00, 40.13it/s]\n"
          ]
        },
        {
          "output_type": "stream",
          "name": "stdout",
          "text": [
            "\tEPOCH:881/1000\tTrain Loss: 0.045 |\t Val. Loss: 13.021\n"
          ]
        },
        {
          "output_type": "stream",
          "name": "stderr",
          "text": [
            "100%|██████████| 94/94 [00:06<00:00, 14.02it/s]\n",
            "100%|██████████| 24/24 [00:00<00:00, 42.88it/s]\n"
          ]
        },
        {
          "output_type": "stream",
          "name": "stdout",
          "text": [
            "\tEPOCH:882/1000\tTrain Loss: 0.053 |\t Val. Loss: 13.090\n"
          ]
        },
        {
          "output_type": "stream",
          "name": "stderr",
          "text": [
            "100%|██████████| 94/94 [00:04<00:00, 19.15it/s]\n",
            "100%|██████████| 24/24 [00:00<00:00, 51.53it/s]\n"
          ]
        },
        {
          "output_type": "stream",
          "name": "stdout",
          "text": [
            "\tEPOCH:883/1000\tTrain Loss: 0.048 |\t Val. Loss: 13.060\n"
          ]
        },
        {
          "output_type": "stream",
          "name": "stderr",
          "text": [
            "100%|██████████| 94/94 [00:05<00:00, 16.87it/s]\n",
            "100%|██████████| 24/24 [00:00<00:00, 39.17it/s]\n"
          ]
        },
        {
          "output_type": "stream",
          "name": "stdout",
          "text": [
            "\tEPOCH:884/1000\tTrain Loss: 0.050 |\t Val. Loss: 13.008\n"
          ]
        },
        {
          "output_type": "stream",
          "name": "stderr",
          "text": [
            "100%|██████████| 94/94 [00:05<00:00, 18.11it/s]\n",
            "100%|██████████| 24/24 [00:00<00:00, 50.66it/s]\n"
          ]
        },
        {
          "output_type": "stream",
          "name": "stdout",
          "text": [
            "\tEPOCH:885/1000\tTrain Loss: 0.053 |\t Val. Loss: 13.075\n"
          ]
        },
        {
          "output_type": "stream",
          "name": "stderr",
          "text": [
            "100%|██████████| 94/94 [00:04<00:00, 19.62it/s]\n",
            "100%|██████████| 24/24 [00:00<00:00, 52.04it/s]\n"
          ]
        },
        {
          "output_type": "stream",
          "name": "stdout",
          "text": [
            "\tEPOCH:886/1000\tTrain Loss: 0.042 |\t Val. Loss: 13.039\n"
          ]
        },
        {
          "output_type": "stream",
          "name": "stderr",
          "text": [
            "100%|██████████| 94/94 [00:05<00:00, 16.01it/s]\n",
            "100%|██████████| 24/24 [00:00<00:00, 55.30it/s]\n"
          ]
        },
        {
          "output_type": "stream",
          "name": "stdout",
          "text": [
            "\tEPOCH:887/1000\tTrain Loss: 0.035 |\t Val. Loss: 13.117\n"
          ]
        },
        {
          "output_type": "stream",
          "name": "stderr",
          "text": [
            "100%|██████████| 94/94 [00:04<00:00, 19.35it/s]\n",
            "100%|██████████| 24/24 [00:00<00:00, 52.70it/s]\n"
          ]
        },
        {
          "output_type": "stream",
          "name": "stdout",
          "text": [
            "\tEPOCH:888/1000\tTrain Loss: 0.040 |\t Val. Loss: 13.091\n"
          ]
        },
        {
          "output_type": "stream",
          "name": "stderr",
          "text": [
            "100%|██████████| 94/94 [00:05<00:00, 17.93it/s]\n",
            "100%|██████████| 24/24 [00:00<00:00, 42.95it/s]\n"
          ]
        },
        {
          "output_type": "stream",
          "name": "stdout",
          "text": [
            "\tEPOCH:889/1000\tTrain Loss: 0.037 |\t Val. Loss: 13.052\n"
          ]
        },
        {
          "output_type": "stream",
          "name": "stderr",
          "text": [
            "100%|██████████| 94/94 [00:05<00:00, 17.86it/s]\n",
            "100%|██████████| 24/24 [00:00<00:00, 50.89it/s]\n"
          ]
        },
        {
          "output_type": "stream",
          "name": "stdout",
          "text": [
            "\tEPOCH:890/1000\tTrain Loss: 0.038 |\t Val. Loss: 13.082\n"
          ]
        },
        {
          "output_type": "stream",
          "name": "stderr",
          "text": [
            "100%|██████████| 94/94 [00:04<00:00, 19.38it/s]\n",
            "100%|██████████| 24/24 [00:00<00:00, 52.94it/s]\n"
          ]
        },
        {
          "output_type": "stream",
          "name": "stdout",
          "text": [
            "\tEPOCH:891/1000\tTrain Loss: 0.037 |\t Val. Loss: 13.057\n"
          ]
        },
        {
          "output_type": "stream",
          "name": "stderr",
          "text": [
            "100%|██████████| 94/94 [00:05<00:00, 16.08it/s]\n",
            "100%|██████████| 24/24 [00:00<00:00, 53.20it/s]\n"
          ]
        },
        {
          "output_type": "stream",
          "name": "stdout",
          "text": [
            "\tEPOCH:892/1000\tTrain Loss: 0.037 |\t Val. Loss: 13.087\n"
          ]
        },
        {
          "output_type": "stream",
          "name": "stderr",
          "text": [
            "100%|██████████| 94/94 [00:04<00:00, 19.76it/s]\n",
            "100%|██████████| 24/24 [00:00<00:00, 53.68it/s]\n"
          ]
        },
        {
          "output_type": "stream",
          "name": "stdout",
          "text": [
            "\tEPOCH:893/1000\tTrain Loss: 0.041 |\t Val. Loss: 13.074\n"
          ]
        },
        {
          "output_type": "stream",
          "name": "stderr",
          "text": [
            "100%|██████████| 94/94 [00:05<00:00, 17.96it/s]\n",
            "100%|██████████| 24/24 [00:00<00:00, 42.85it/s]\n"
          ]
        },
        {
          "output_type": "stream",
          "name": "stdout",
          "text": [
            "\tEPOCH:894/1000\tTrain Loss: 0.034 |\t Val. Loss: 13.089\n"
          ]
        },
        {
          "output_type": "stream",
          "name": "stderr",
          "text": [
            "100%|██████████| 94/94 [00:05<00:00, 17.34it/s]\n",
            "100%|██████████| 24/24 [00:00<00:00, 55.06it/s]\n"
          ]
        },
        {
          "output_type": "stream",
          "name": "stdout",
          "text": [
            "\tEPOCH:895/1000\tTrain Loss: 0.046 |\t Val. Loss: 13.086\n"
          ]
        },
        {
          "output_type": "stream",
          "name": "stderr",
          "text": [
            "100%|██████████| 94/94 [00:04<00:00, 19.47it/s]\n",
            "100%|██████████| 24/24 [00:00<00:00, 53.43it/s]\n"
          ]
        },
        {
          "output_type": "stream",
          "name": "stdout",
          "text": [
            "\tEPOCH:896/1000\tTrain Loss: 0.041 |\t Val. Loss: 13.108\n"
          ]
        },
        {
          "output_type": "stream",
          "name": "stderr",
          "text": [
            "100%|██████████| 94/94 [00:05<00:00, 16.16it/s]\n",
            "100%|██████████| 24/24 [00:00<00:00, 40.26it/s]\n"
          ]
        },
        {
          "output_type": "stream",
          "name": "stdout",
          "text": [
            "\tEPOCH:897/1000\tTrain Loss: 0.043 |\t Val. Loss: 13.140\n"
          ]
        },
        {
          "output_type": "stream",
          "name": "stderr",
          "text": [
            "100%|██████████| 94/94 [00:04<00:00, 19.54it/s]\n",
            "100%|██████████| 24/24 [00:00<00:00, 51.23it/s]\n"
          ]
        },
        {
          "output_type": "stream",
          "name": "stdout",
          "text": [
            "\tEPOCH:898/1000\tTrain Loss: 0.046 |\t Val. Loss: 13.098\n"
          ]
        },
        {
          "output_type": "stream",
          "name": "stderr",
          "text": [
            "100%|██████████| 94/94 [00:04<00:00, 19.44it/s]\n",
            "100%|██████████| 24/24 [00:00<00:00, 42.65it/s]\n"
          ]
        },
        {
          "output_type": "stream",
          "name": "stdout",
          "text": [
            "\tEPOCH:899/1000\tTrain Loss: 0.039 |\t Val. Loss: 13.118\n"
          ]
        },
        {
          "output_type": "stream",
          "name": "stderr",
          "text": [
            "100%|██████████| 94/94 [00:05<00:00, 16.45it/s]\n",
            "100%|██████████| 24/24 [00:00<00:00, 53.40it/s]\n"
          ]
        },
        {
          "output_type": "stream",
          "name": "stdout",
          "text": [
            "\tEPOCH:900/1000\tTrain Loss: 0.046 |\t Val. Loss: 13.099\n"
          ]
        },
        {
          "output_type": "stream",
          "name": "stderr",
          "text": [
            "100%|██████████| 94/94 [00:04<00:00, 19.40it/s]\n",
            "100%|██████████| 24/24 [00:00<00:00, 49.06it/s]\n"
          ]
        },
        {
          "output_type": "stream",
          "name": "stdout",
          "text": [
            "\tEPOCH:901/1000\tTrain Loss: 0.048 |\t Val. Loss: 13.094\n"
          ]
        },
        {
          "output_type": "stream",
          "name": "stderr",
          "text": [
            "100%|██████████| 94/94 [00:05<00:00, 17.27it/s]\n",
            "100%|██████████| 24/24 [00:00<00:00, 39.61it/s]\n"
          ]
        },
        {
          "output_type": "stream",
          "name": "stdout",
          "text": [
            "\tEPOCH:902/1000\tTrain Loss: 0.045 |\t Val. Loss: 13.131\n"
          ]
        },
        {
          "output_type": "stream",
          "name": "stderr",
          "text": [
            "100%|██████████| 94/94 [00:05<00:00, 18.70it/s]\n",
            "100%|██████████| 24/24 [00:00<00:00, 55.63it/s]\n"
          ]
        },
        {
          "output_type": "stream",
          "name": "stdout",
          "text": [
            "\tEPOCH:903/1000\tTrain Loss: 0.047 |\t Val. Loss: 13.123\n"
          ]
        },
        {
          "output_type": "stream",
          "name": "stderr",
          "text": [
            "100%|██████████| 94/94 [00:04<00:00, 19.93it/s]\n",
            "100%|██████████| 24/24 [00:00<00:00, 54.70it/s]\n"
          ]
        },
        {
          "output_type": "stream",
          "name": "stdout",
          "text": [
            "\tEPOCH:904/1000\tTrain Loss: 0.051 |\t Val. Loss: 13.072\n"
          ]
        },
        {
          "output_type": "stream",
          "name": "stderr",
          "text": [
            "100%|██████████| 94/94 [00:05<00:00, 16.25it/s]\n",
            "100%|██████████| 24/24 [00:00<00:00, 52.16it/s]\n"
          ]
        },
        {
          "output_type": "stream",
          "name": "stdout",
          "text": [
            "\tEPOCH:905/1000\tTrain Loss: 0.052 |\t Val. Loss: 13.046\n"
          ]
        },
        {
          "output_type": "stream",
          "name": "stderr",
          "text": [
            "100%|██████████| 94/94 [00:04<00:00, 19.21it/s]\n",
            "100%|██████████| 24/24 [00:00<00:00, 50.82it/s]\n"
          ]
        },
        {
          "output_type": "stream",
          "name": "stdout",
          "text": [
            "\tEPOCH:906/1000\tTrain Loss: 0.049 |\t Val. Loss: 13.089\n"
          ]
        },
        {
          "output_type": "stream",
          "name": "stderr",
          "text": [
            "100%|██████████| 94/94 [00:05<00:00, 17.45it/s]\n",
            "100%|██████████| 24/24 [00:00<00:00, 38.26it/s]\n"
          ]
        },
        {
          "output_type": "stream",
          "name": "stdout",
          "text": [
            "\tEPOCH:907/1000\tTrain Loss: 0.062 |\t Val. Loss: 13.096\n"
          ]
        },
        {
          "output_type": "stream",
          "name": "stderr",
          "text": [
            "100%|██████████| 94/94 [00:05<00:00, 18.04it/s]\n",
            "100%|██████████| 24/24 [00:00<00:00, 50.77it/s]\n"
          ]
        },
        {
          "output_type": "stream",
          "name": "stdout",
          "text": [
            "\tEPOCH:908/1000\tTrain Loss: 0.047 |\t Val. Loss: 13.093\n"
          ]
        },
        {
          "output_type": "stream",
          "name": "stderr",
          "text": [
            "100%|██████████| 94/94 [00:04<00:00, 19.79it/s]\n",
            "100%|██████████| 24/24 [00:00<00:00, 54.05it/s]\n"
          ]
        },
        {
          "output_type": "stream",
          "name": "stdout",
          "text": [
            "\tEPOCH:909/1000\tTrain Loss: 0.050 |\t Val. Loss: 13.149\n"
          ]
        },
        {
          "output_type": "stream",
          "name": "stderr",
          "text": [
            "100%|██████████| 94/94 [00:05<00:00, 16.61it/s]\n",
            "100%|██████████| 24/24 [00:00<00:00, 48.24it/s]\n"
          ]
        },
        {
          "output_type": "stream",
          "name": "stdout",
          "text": [
            "\tEPOCH:910/1000\tTrain Loss: 0.056 |\t Val. Loss: 13.087\n"
          ]
        },
        {
          "output_type": "stream",
          "name": "stderr",
          "text": [
            "100%|██████████| 94/94 [00:04<00:00, 18.99it/s]\n",
            "100%|██████████| 24/24 [00:00<00:00, 48.56it/s]\n"
          ]
        },
        {
          "output_type": "stream",
          "name": "stdout",
          "text": [
            "\tEPOCH:911/1000\tTrain Loss: 0.045 |\t Val. Loss: 13.128\n"
          ]
        },
        {
          "output_type": "stream",
          "name": "stderr",
          "text": [
            "100%|██████████| 94/94 [00:05<00:00, 18.61it/s]\n",
            "100%|██████████| 24/24 [00:00<00:00, 40.82it/s]\n"
          ]
        },
        {
          "output_type": "stream",
          "name": "stdout",
          "text": [
            "\tEPOCH:912/1000\tTrain Loss: 0.052 |\t Val. Loss: 13.108\n"
          ]
        },
        {
          "output_type": "stream",
          "name": "stderr",
          "text": [
            "100%|██████████| 94/94 [00:05<00:00, 16.83it/s]\n",
            "100%|██████████| 24/24 [00:00<00:00, 50.31it/s]\n"
          ]
        },
        {
          "output_type": "stream",
          "name": "stdout",
          "text": [
            "\tEPOCH:913/1000\tTrain Loss: 0.047 |\t Val. Loss: 13.085\n"
          ]
        },
        {
          "output_type": "stream",
          "name": "stderr",
          "text": [
            "100%|██████████| 94/94 [00:04<00:00, 19.72it/s]\n",
            "100%|██████████| 24/24 [00:00<00:00, 52.39it/s]\n"
          ]
        },
        {
          "output_type": "stream",
          "name": "stdout",
          "text": [
            "\tEPOCH:914/1000\tTrain Loss: 0.046 |\t Val. Loss: 13.053\n"
          ]
        },
        {
          "output_type": "stream",
          "name": "stderr",
          "text": [
            "100%|██████████| 94/94 [00:05<00:00, 17.47it/s]\n",
            "100%|██████████| 24/24 [00:00<00:00, 41.31it/s]\n"
          ]
        },
        {
          "output_type": "stream",
          "name": "stdout",
          "text": [
            "\tEPOCH:915/1000\tTrain Loss: 0.044 |\t Val. Loss: 13.044\n"
          ]
        },
        {
          "output_type": "stream",
          "name": "stderr",
          "text": [
            "100%|██████████| 94/94 [00:04<00:00, 19.48it/s]\n",
            "100%|██████████| 24/24 [00:00<00:00, 52.04it/s]\n"
          ]
        },
        {
          "output_type": "stream",
          "name": "stdout",
          "text": [
            "\tEPOCH:916/1000\tTrain Loss: 0.046 |\t Val. Loss: 13.061\n"
          ]
        },
        {
          "output_type": "stream",
          "name": "stderr",
          "text": [
            "100%|██████████| 94/94 [00:04<00:00, 19.60it/s]\n",
            "100%|██████████| 24/24 [00:00<00:00, 44.13it/s]\n"
          ]
        },
        {
          "output_type": "stream",
          "name": "stdout",
          "text": [
            "\tEPOCH:917/1000\tTrain Loss: 0.049 |\t Val. Loss: 13.097\n"
          ]
        },
        {
          "output_type": "stream",
          "name": "stderr",
          "text": [
            "100%|██████████| 94/94 [00:05<00:00, 16.65it/s]\n",
            "100%|██████████| 24/24 [00:00<00:00, 51.99it/s]\n"
          ]
        },
        {
          "output_type": "stream",
          "name": "stdout",
          "text": [
            "\tEPOCH:918/1000\tTrain Loss: 0.046 |\t Val. Loss: 13.076\n"
          ]
        },
        {
          "output_type": "stream",
          "name": "stderr",
          "text": [
            "100%|██████████| 94/94 [00:04<00:00, 19.51it/s]\n",
            "100%|██████████| 24/24 [00:00<00:00, 48.99it/s]\n"
          ]
        },
        {
          "output_type": "stream",
          "name": "stdout",
          "text": [
            "\tEPOCH:919/1000\tTrain Loss: 0.048 |\t Val. Loss: 13.047\n"
          ]
        },
        {
          "output_type": "stream",
          "name": "stderr",
          "text": [
            "100%|██████████| 94/94 [00:05<00:00, 17.76it/s]\n",
            "100%|██████████| 24/24 [00:00<00:00, 40.66it/s]\n"
          ]
        },
        {
          "output_type": "stream",
          "name": "stdout",
          "text": [
            "\tEPOCH:920/1000\tTrain Loss: 0.040 |\t Val. Loss: 13.071\n"
          ]
        },
        {
          "output_type": "stream",
          "name": "stderr",
          "text": [
            "100%|██████████| 94/94 [00:04<00:00, 19.09it/s]\n",
            "100%|██████████| 24/24 [00:00<00:00, 53.61it/s]\n"
          ]
        },
        {
          "output_type": "stream",
          "name": "stdout",
          "text": [
            "\tEPOCH:921/1000\tTrain Loss: 0.046 |\t Val. Loss: 13.086\n"
          ]
        },
        {
          "output_type": "stream",
          "name": "stderr",
          "text": [
            "100%|██████████| 94/94 [00:04<00:00, 19.82it/s]\n",
            "100%|██████████| 24/24 [00:00<00:00, 53.57it/s]\n"
          ]
        },
        {
          "output_type": "stream",
          "name": "stdout",
          "text": [
            "\tEPOCH:922/1000\tTrain Loss: 0.039 |\t Val. Loss: 13.118\n"
          ]
        },
        {
          "output_type": "stream",
          "name": "stderr",
          "text": [
            "100%|██████████| 94/94 [00:05<00:00, 16.51it/s]\n",
            "100%|██████████| 24/24 [00:00<00:00, 54.87it/s]\n"
          ]
        },
        {
          "output_type": "stream",
          "name": "stdout",
          "text": [
            "\tEPOCH:923/1000\tTrain Loss: 0.042 |\t Val. Loss: 13.120\n"
          ]
        },
        {
          "output_type": "stream",
          "name": "stderr",
          "text": [
            "100%|██████████| 94/94 [00:04<00:00, 19.96it/s]\n",
            "100%|██████████| 24/24 [00:00<00:00, 54.00it/s]\n"
          ]
        },
        {
          "output_type": "stream",
          "name": "stdout",
          "text": [
            "\tEPOCH:924/1000\tTrain Loss: 0.043 |\t Val. Loss: 13.106\n"
          ]
        },
        {
          "output_type": "stream",
          "name": "stderr",
          "text": [
            "100%|██████████| 94/94 [00:05<00:00, 18.61it/s]\n",
            "100%|██████████| 24/24 [00:00<00:00, 42.82it/s]\n"
          ]
        },
        {
          "output_type": "stream",
          "name": "stdout",
          "text": [
            "\tEPOCH:925/1000\tTrain Loss: 0.052 |\t Val. Loss: 13.118\n"
          ]
        },
        {
          "output_type": "stream",
          "name": "stderr",
          "text": [
            "100%|██████████| 94/94 [00:05<00:00, 17.66it/s]\n",
            "100%|██████████| 24/24 [00:00<00:00, 53.36it/s]\n"
          ]
        },
        {
          "output_type": "stream",
          "name": "stdout",
          "text": [
            "\tEPOCH:926/1000\tTrain Loss: 0.042 |\t Val. Loss: 13.113\n"
          ]
        },
        {
          "output_type": "stream",
          "name": "stderr",
          "text": [
            "100%|██████████| 94/94 [00:05<00:00, 17.53it/s]\n",
            "100%|██████████| 24/24 [00:00<00:00, 43.41it/s]\n"
          ]
        },
        {
          "output_type": "stream",
          "name": "stdout",
          "text": [
            "\tEPOCH:927/1000\tTrain Loss: 0.048 |\t Val. Loss: 13.156\n"
          ]
        },
        {
          "output_type": "stream",
          "name": "stderr",
          "text": [
            "100%|██████████| 94/94 [00:05<00:00, 15.72it/s]\n",
            "100%|██████████| 24/24 [00:00<00:00, 51.45it/s]\n"
          ]
        },
        {
          "output_type": "stream",
          "name": "stdout",
          "text": [
            "\tEPOCH:928/1000\tTrain Loss: 0.046 |\t Val. Loss: 13.087\n"
          ]
        },
        {
          "output_type": "stream",
          "name": "stderr",
          "text": [
            "100%|██████████| 94/94 [00:04<00:00, 20.08it/s]\n",
            "100%|██████████| 24/24 [00:00<00:00, 53.06it/s]\n"
          ]
        },
        {
          "output_type": "stream",
          "name": "stdout",
          "text": [
            "\tEPOCH:929/1000\tTrain Loss: 0.042 |\t Val. Loss: 13.153\n"
          ]
        },
        {
          "output_type": "stream",
          "name": "stderr",
          "text": [
            "100%|██████████| 94/94 [00:05<00:00, 18.68it/s]\n",
            "100%|██████████| 24/24 [00:00<00:00, 43.96it/s]\n"
          ]
        },
        {
          "output_type": "stream",
          "name": "stdout",
          "text": [
            "\tEPOCH:930/1000\tTrain Loss: 0.045 |\t Val. Loss: 13.151\n"
          ]
        },
        {
          "output_type": "stream",
          "name": "stderr",
          "text": [
            "100%|██████████| 94/94 [00:05<00:00, 17.96it/s]\n",
            "100%|██████████| 24/24 [00:00<00:00, 55.19it/s]\n"
          ]
        },
        {
          "output_type": "stream",
          "name": "stdout",
          "text": [
            "\tEPOCH:931/1000\tTrain Loss: 0.045 |\t Val. Loss: 13.176\n"
          ]
        },
        {
          "output_type": "stream",
          "name": "stderr",
          "text": [
            "100%|██████████| 94/94 [00:04<00:00, 19.93it/s]\n",
            "100%|██████████| 24/24 [00:00<00:00, 55.71it/s]\n"
          ]
        },
        {
          "output_type": "stream",
          "name": "stdout",
          "text": [
            "\tEPOCH:932/1000\tTrain Loss: 0.038 |\t Val. Loss: 13.142\n"
          ]
        },
        {
          "output_type": "stream",
          "name": "stderr",
          "text": [
            "100%|██████████| 94/94 [00:05<00:00, 17.04it/s]\n",
            "100%|██████████| 24/24 [00:00<00:00, 41.59it/s]\n"
          ]
        },
        {
          "output_type": "stream",
          "name": "stdout",
          "text": [
            "\tEPOCH:933/1000\tTrain Loss: 0.045 |\t Val. Loss: 13.159\n"
          ]
        },
        {
          "output_type": "stream",
          "name": "stderr",
          "text": [
            "100%|██████████| 94/94 [00:04<00:00, 19.90it/s]\n",
            "100%|██████████| 24/24 [00:00<00:00, 54.01it/s]\n"
          ]
        },
        {
          "output_type": "stream",
          "name": "stdout",
          "text": [
            "\tEPOCH:934/1000\tTrain Loss: 0.046 |\t Val. Loss: 13.212\n"
          ]
        },
        {
          "output_type": "stream",
          "name": "stderr",
          "text": [
            "100%|██████████| 94/94 [00:04<00:00, 19.68it/s]\n",
            "100%|██████████| 24/24 [00:00<00:00, 40.13it/s]\n"
          ]
        },
        {
          "output_type": "stream",
          "name": "stdout",
          "text": [
            "\tEPOCH:935/1000\tTrain Loss: 0.048 |\t Val. Loss: 13.200\n"
          ]
        },
        {
          "output_type": "stream",
          "name": "stderr",
          "text": [
            "100%|██████████| 94/94 [00:05<00:00, 16.69it/s]\n",
            "100%|██████████| 24/24 [00:00<00:00, 53.23it/s]\n"
          ]
        },
        {
          "output_type": "stream",
          "name": "stdout",
          "text": [
            "\tEPOCH:936/1000\tTrain Loss: 0.042 |\t Val. Loss: 13.179\n"
          ]
        },
        {
          "output_type": "stream",
          "name": "stderr",
          "text": [
            "100%|██████████| 94/94 [00:04<00:00, 19.76it/s]\n",
            "100%|██████████| 24/24 [00:00<00:00, 54.61it/s]\n"
          ]
        },
        {
          "output_type": "stream",
          "name": "stdout",
          "text": [
            "\tEPOCH:937/1000\tTrain Loss: 0.041 |\t Val. Loss: 13.177\n"
          ]
        },
        {
          "output_type": "stream",
          "name": "stderr",
          "text": [
            "100%|██████████| 94/94 [00:05<00:00, 17.66it/s]\n",
            "100%|██████████| 24/24 [00:00<00:00, 42.20it/s]\n"
          ]
        },
        {
          "output_type": "stream",
          "name": "stdout",
          "text": [
            "\tEPOCH:938/1000\tTrain Loss: 0.039 |\t Val. Loss: 13.203\n"
          ]
        },
        {
          "output_type": "stream",
          "name": "stderr",
          "text": [
            "100%|██████████| 94/94 [00:04<00:00, 18.88it/s]\n",
            "100%|██████████| 24/24 [00:00<00:00, 51.96it/s]\n"
          ]
        },
        {
          "output_type": "stream",
          "name": "stdout",
          "text": [
            "\tEPOCH:939/1000\tTrain Loss: 0.038 |\t Val. Loss: 13.226\n"
          ]
        },
        {
          "output_type": "stream",
          "name": "stderr",
          "text": [
            "100%|██████████| 94/94 [00:04<00:00, 19.89it/s]\n",
            "100%|██████████| 24/24 [00:00<00:00, 54.69it/s]\n"
          ]
        },
        {
          "output_type": "stream",
          "name": "stdout",
          "text": [
            "\tEPOCH:940/1000\tTrain Loss: 0.035 |\t Val. Loss: 13.199\n"
          ]
        },
        {
          "output_type": "stream",
          "name": "stderr",
          "text": [
            "100%|██████████| 94/94 [00:05<00:00, 16.47it/s]\n",
            "100%|██████████| 24/24 [00:00<00:00, 55.11it/s]\n"
          ]
        },
        {
          "output_type": "stream",
          "name": "stdout",
          "text": [
            "\tEPOCH:941/1000\tTrain Loss: 0.040 |\t Val. Loss: 13.187\n"
          ]
        },
        {
          "output_type": "stream",
          "name": "stderr",
          "text": [
            "100%|██████████| 94/94 [00:04<00:00, 19.92it/s]\n",
            "100%|██████████| 24/24 [00:00<00:00, 53.36it/s]\n"
          ]
        },
        {
          "output_type": "stream",
          "name": "stdout",
          "text": [
            "\tEPOCH:942/1000\tTrain Loss: 0.042 |\t Val. Loss: 13.219\n"
          ]
        },
        {
          "output_type": "stream",
          "name": "stderr",
          "text": [
            "100%|██████████| 94/94 [00:05<00:00, 18.76it/s]\n",
            "100%|██████████| 24/24 [00:00<00:00, 38.35it/s]\n"
          ]
        },
        {
          "output_type": "stream",
          "name": "stdout",
          "text": [
            "\tEPOCH:943/1000\tTrain Loss: 0.048 |\t Val. Loss: 13.176\n"
          ]
        },
        {
          "output_type": "stream",
          "name": "stderr",
          "text": [
            "100%|██████████| 94/94 [00:05<00:00, 17.82it/s]\n",
            "100%|██████████| 24/24 [00:00<00:00, 52.47it/s]\n"
          ]
        },
        {
          "output_type": "stream",
          "name": "stdout",
          "text": [
            "\tEPOCH:944/1000\tTrain Loss: 0.050 |\t Val. Loss: 13.150\n"
          ]
        },
        {
          "output_type": "stream",
          "name": "stderr",
          "text": [
            "100%|██████████| 94/94 [00:04<00:00, 19.74it/s]\n",
            "100%|██████████| 24/24 [00:00<00:00, 54.13it/s]\n"
          ]
        },
        {
          "output_type": "stream",
          "name": "stdout",
          "text": [
            "\tEPOCH:945/1000\tTrain Loss: 0.054 |\t Val. Loss: 13.121\n"
          ]
        },
        {
          "output_type": "stream",
          "name": "stderr",
          "text": [
            "100%|██████████| 94/94 [00:05<00:00, 16.29it/s]\n",
            "100%|██████████| 24/24 [00:00<00:00, 43.79it/s]\n"
          ]
        },
        {
          "output_type": "stream",
          "name": "stdout",
          "text": [
            "\tEPOCH:946/1000\tTrain Loss: 0.052 |\t Val. Loss: 13.199\n"
          ]
        },
        {
          "output_type": "stream",
          "name": "stderr",
          "text": [
            "100%|██████████| 94/94 [00:04<00:00, 19.78it/s]\n",
            "100%|██████████| 24/24 [00:00<00:00, 55.50it/s]\n"
          ]
        },
        {
          "output_type": "stream",
          "name": "stdout",
          "text": [
            "\tEPOCH:947/1000\tTrain Loss: 0.051 |\t Val. Loss: 13.148\n"
          ]
        },
        {
          "output_type": "stream",
          "name": "stderr",
          "text": [
            "100%|██████████| 94/94 [00:04<00:00, 19.35it/s]\n",
            "100%|██████████| 24/24 [00:00<00:00, 42.93it/s]\n"
          ]
        },
        {
          "output_type": "stream",
          "name": "stdout",
          "text": [
            "\tEPOCH:948/1000\tTrain Loss: 0.050 |\t Val. Loss: 13.192\n"
          ]
        },
        {
          "output_type": "stream",
          "name": "stderr",
          "text": [
            "100%|██████████| 94/94 [00:05<00:00, 17.17it/s]\n",
            "100%|██████████| 24/24 [00:00<00:00, 53.76it/s]\n"
          ]
        },
        {
          "output_type": "stream",
          "name": "stdout",
          "text": [
            "\tEPOCH:949/1000\tTrain Loss: 0.046 |\t Val. Loss: 13.222\n"
          ]
        },
        {
          "output_type": "stream",
          "name": "stderr",
          "text": [
            "100%|██████████| 94/94 [00:04<00:00, 20.21it/s]\n",
            "100%|██████████| 24/24 [00:00<00:00, 53.33it/s]\n"
          ]
        },
        {
          "output_type": "stream",
          "name": "stdout",
          "text": [
            "\tEPOCH:950/1000\tTrain Loss: 0.044 |\t Val. Loss: 13.225\n"
          ]
        },
        {
          "output_type": "stream",
          "name": "stderr",
          "text": [
            "100%|██████████| 94/94 [00:05<00:00, 17.77it/s]\n",
            "100%|██████████| 24/24 [00:00<00:00, 39.04it/s]\n"
          ]
        },
        {
          "output_type": "stream",
          "name": "stdout",
          "text": [
            "\tEPOCH:951/1000\tTrain Loss: 0.042 |\t Val. Loss: 13.196\n"
          ]
        },
        {
          "output_type": "stream",
          "name": "stderr",
          "text": [
            "100%|██████████| 94/94 [00:04<00:00, 19.00it/s]\n",
            "100%|██████████| 24/24 [00:00<00:00, 56.07it/s]\n"
          ]
        },
        {
          "output_type": "stream",
          "name": "stdout",
          "text": [
            "\tEPOCH:952/1000\tTrain Loss: 0.039 |\t Val. Loss: 13.222\n"
          ]
        },
        {
          "output_type": "stream",
          "name": "stderr",
          "text": [
            "100%|██████████| 94/94 [00:04<00:00, 19.91it/s]\n",
            "100%|██████████| 24/24 [00:00<00:00, 54.50it/s]\n"
          ]
        },
        {
          "output_type": "stream",
          "name": "stdout",
          "text": [
            "\tEPOCH:953/1000\tTrain Loss: 0.042 |\t Val. Loss: 13.228\n"
          ]
        },
        {
          "output_type": "stream",
          "name": "stderr",
          "text": [
            "100%|██████████| 94/94 [00:05<00:00, 16.43it/s]\n",
            "100%|██████████| 24/24 [00:00<00:00, 56.70it/s]\n"
          ]
        },
        {
          "output_type": "stream",
          "name": "stdout",
          "text": [
            "\tEPOCH:954/1000\tTrain Loss: 0.043 |\t Val. Loss: 13.236\n"
          ]
        },
        {
          "output_type": "stream",
          "name": "stderr",
          "text": [
            "100%|██████████| 94/94 [00:04<00:00, 19.74it/s]\n",
            "100%|██████████| 24/24 [00:00<00:00, 54.15it/s]\n"
          ]
        },
        {
          "output_type": "stream",
          "name": "stdout",
          "text": [
            "\tEPOCH:955/1000\tTrain Loss: 0.048 |\t Val. Loss: 13.222\n"
          ]
        },
        {
          "output_type": "stream",
          "name": "stderr",
          "text": [
            "100%|██████████| 94/94 [00:05<00:00, 16.77it/s]\n",
            "100%|██████████| 24/24 [00:00<00:00, 41.22it/s]\n"
          ]
        },
        {
          "output_type": "stream",
          "name": "stdout",
          "text": [
            "\tEPOCH:956/1000\tTrain Loss: 0.042 |\t Val. Loss: 13.181\n"
          ]
        },
        {
          "output_type": "stream",
          "name": "stderr",
          "text": [
            "100%|██████████| 94/94 [00:05<00:00, 18.36it/s]\n",
            "100%|██████████| 24/24 [00:00<00:00, 56.24it/s]\n"
          ]
        },
        {
          "output_type": "stream",
          "name": "stdout",
          "text": [
            "\tEPOCH:957/1000\tTrain Loss: 0.042 |\t Val. Loss: 13.159\n"
          ]
        },
        {
          "output_type": "stream",
          "name": "stderr",
          "text": [
            "100%|██████████| 94/94 [00:04<00:00, 19.81it/s]\n",
            "100%|██████████| 24/24 [00:00<00:00, 55.39it/s]\n"
          ]
        },
        {
          "output_type": "stream",
          "name": "stdout",
          "text": [
            "\tEPOCH:958/1000\tTrain Loss: 0.038 |\t Val. Loss: 13.180\n"
          ]
        },
        {
          "output_type": "stream",
          "name": "stderr",
          "text": [
            "100%|██████████| 94/94 [00:05<00:00, 16.46it/s]\n",
            "100%|██████████| 24/24 [00:00<00:00, 54.11it/s]\n"
          ]
        },
        {
          "output_type": "stream",
          "name": "stdout",
          "text": [
            "\tEPOCH:959/1000\tTrain Loss: 0.038 |\t Val. Loss: 13.205\n"
          ]
        },
        {
          "output_type": "stream",
          "name": "stderr",
          "text": [
            "100%|██████████| 94/94 [00:04<00:00, 19.85it/s]\n",
            "100%|██████████| 24/24 [00:00<00:00, 55.20it/s]\n"
          ]
        },
        {
          "output_type": "stream",
          "name": "stdout",
          "text": [
            "\tEPOCH:960/1000\tTrain Loss: 0.043 |\t Val. Loss: 13.237\n"
          ]
        },
        {
          "output_type": "stream",
          "name": "stderr",
          "text": [
            "100%|██████████| 94/94 [00:05<00:00, 18.40it/s]\n",
            "100%|██████████| 24/24 [00:00<00:00, 42.51it/s]\n"
          ]
        },
        {
          "output_type": "stream",
          "name": "stdout",
          "text": [
            "\tEPOCH:961/1000\tTrain Loss: 0.044 |\t Val. Loss: 13.267\n"
          ]
        },
        {
          "output_type": "stream",
          "name": "stderr",
          "text": [
            "100%|██████████| 94/94 [00:05<00:00, 17.57it/s]\n",
            "100%|██████████| 24/24 [00:00<00:00, 54.74it/s]\n"
          ]
        },
        {
          "output_type": "stream",
          "name": "stdout",
          "text": [
            "\tEPOCH:962/1000\tTrain Loss: 0.037 |\t Val. Loss: 13.242\n"
          ]
        },
        {
          "output_type": "stream",
          "name": "stderr",
          "text": [
            "100%|██████████| 94/94 [00:04<00:00, 19.93it/s]\n",
            "100%|██████████| 24/24 [00:00<00:00, 55.63it/s]\n"
          ]
        },
        {
          "output_type": "stream",
          "name": "stdout",
          "text": [
            "\tEPOCH:963/1000\tTrain Loss: 0.035 |\t Val. Loss: 13.290\n"
          ]
        },
        {
          "output_type": "stream",
          "name": "stderr",
          "text": [
            "100%|██████████| 94/94 [00:05<00:00, 16.43it/s]\n",
            "100%|██████████| 24/24 [00:00<00:00, 47.79it/s]\n"
          ]
        },
        {
          "output_type": "stream",
          "name": "stdout",
          "text": [
            "\tEPOCH:964/1000\tTrain Loss: 0.048 |\t Val. Loss: 13.225\n"
          ]
        },
        {
          "output_type": "stream",
          "name": "stderr",
          "text": [
            "100%|██████████| 94/94 [00:04<00:00, 19.83it/s]\n",
            "100%|██████████| 24/24 [00:00<00:00, 55.35it/s]\n"
          ]
        },
        {
          "output_type": "stream",
          "name": "stdout",
          "text": [
            "\tEPOCH:965/1000\tTrain Loss: 0.049 |\t Val. Loss: 13.192\n"
          ]
        },
        {
          "output_type": "stream",
          "name": "stderr",
          "text": [
            "100%|██████████| 94/94 [00:04<00:00, 19.68it/s]\n",
            "100%|██████████| 24/24 [00:00<00:00, 42.34it/s]\n"
          ]
        },
        {
          "output_type": "stream",
          "name": "stdout",
          "text": [
            "\tEPOCH:966/1000\tTrain Loss: 0.045 |\t Val. Loss: 13.241\n"
          ]
        },
        {
          "output_type": "stream",
          "name": "stderr",
          "text": [
            "100%|██████████| 94/94 [00:05<00:00, 17.29it/s]\n",
            "100%|██████████| 24/24 [00:00<00:00, 54.19it/s]\n"
          ]
        },
        {
          "output_type": "stream",
          "name": "stdout",
          "text": [
            "\tEPOCH:967/1000\tTrain Loss: 0.046 |\t Val. Loss: 13.204\n"
          ]
        },
        {
          "output_type": "stream",
          "name": "stderr",
          "text": [
            "100%|██████████| 94/94 [00:04<00:00, 19.85it/s]\n",
            "100%|██████████| 24/24 [00:00<00:00, 52.79it/s]\n"
          ]
        },
        {
          "output_type": "stream",
          "name": "stdout",
          "text": [
            "\tEPOCH:968/1000\tTrain Loss: 0.048 |\t Val. Loss: 13.203\n"
          ]
        },
        {
          "output_type": "stream",
          "name": "stderr",
          "text": [
            "100%|██████████| 94/94 [00:05<00:00, 17.30it/s]\n",
            "100%|██████████| 24/24 [00:00<00:00, 41.58it/s]\n"
          ]
        },
        {
          "output_type": "stream",
          "name": "stdout",
          "text": [
            "\tEPOCH:969/1000\tTrain Loss: 0.048 |\t Val. Loss: 13.174\n"
          ]
        },
        {
          "output_type": "stream",
          "name": "stderr",
          "text": [
            "100%|██████████| 94/94 [00:04<00:00, 18.97it/s]\n",
            "100%|██████████| 24/24 [00:00<00:00, 53.86it/s]\n"
          ]
        },
        {
          "output_type": "stream",
          "name": "stdout",
          "text": [
            "\tEPOCH:970/1000\tTrain Loss: 0.045 |\t Val. Loss: 13.222\n"
          ]
        },
        {
          "output_type": "stream",
          "name": "stderr",
          "text": [
            "100%|██████████| 94/94 [00:04<00:00, 19.99it/s]\n",
            "100%|██████████| 24/24 [00:00<00:00, 55.73it/s]\n"
          ]
        },
        {
          "output_type": "stream",
          "name": "stdout",
          "text": [
            "\tEPOCH:971/1000\tTrain Loss: 0.046 |\t Val. Loss: 13.215\n"
          ]
        },
        {
          "output_type": "stream",
          "name": "stderr",
          "text": [
            "100%|██████████| 94/94 [00:05<00:00, 16.58it/s]\n",
            "100%|██████████| 24/24 [00:00<00:00, 54.72it/s]\n"
          ]
        },
        {
          "output_type": "stream",
          "name": "stdout",
          "text": [
            "\tEPOCH:972/1000\tTrain Loss: 0.042 |\t Val. Loss: 13.170\n"
          ]
        },
        {
          "output_type": "stream",
          "name": "stderr",
          "text": [
            "100%|██████████| 94/94 [00:05<00:00, 18.02it/s]\n",
            "100%|██████████| 24/24 [00:00<00:00, 43.89it/s]\n"
          ]
        },
        {
          "output_type": "stream",
          "name": "stdout",
          "text": [
            "\tEPOCH:973/1000\tTrain Loss: 0.045 |\t Val. Loss: 13.243\n"
          ]
        },
        {
          "output_type": "stream",
          "name": "stderr",
          "text": [
            "100%|██████████| 94/94 [00:05<00:00, 16.66it/s]\n",
            "100%|██████████| 24/24 [00:00<00:00, 41.84it/s]\n"
          ]
        },
        {
          "output_type": "stream",
          "name": "stdout",
          "text": [
            "\tEPOCH:974/1000\tTrain Loss: 0.043 |\t Val. Loss: 13.263\n"
          ]
        },
        {
          "output_type": "stream",
          "name": "stderr",
          "text": [
            "100%|██████████| 94/94 [00:04<00:00, 18.91it/s]\n",
            "100%|██████████| 24/24 [00:00<00:00, 53.47it/s]\n"
          ]
        },
        {
          "output_type": "stream",
          "name": "stdout",
          "text": [
            "\tEPOCH:975/1000\tTrain Loss: 0.042 |\t Val. Loss: 13.231\n"
          ]
        },
        {
          "output_type": "stream",
          "name": "stderr",
          "text": [
            "100%|██████████| 94/94 [00:04<00:00, 20.16it/s]\n",
            "100%|██████████| 24/24 [00:00<00:00, 54.06it/s]\n"
          ]
        },
        {
          "output_type": "stream",
          "name": "stdout",
          "text": [
            "\tEPOCH:976/1000\tTrain Loss: 0.040 |\t Val. Loss: 13.240\n"
          ]
        },
        {
          "output_type": "stream",
          "name": "stderr",
          "text": [
            "100%|██████████| 94/94 [00:05<00:00, 16.72it/s]\n",
            "100%|██████████| 24/24 [00:00<00:00, 53.76it/s]\n"
          ]
        },
        {
          "output_type": "stream",
          "name": "stdout",
          "text": [
            "\tEPOCH:977/1000\tTrain Loss: 0.050 |\t Val. Loss: 13.298\n"
          ]
        },
        {
          "output_type": "stream",
          "name": "stderr",
          "text": [
            "100%|██████████| 94/94 [00:04<00:00, 19.66it/s]\n",
            "100%|██████████| 24/24 [00:00<00:00, 54.48it/s]\n"
          ]
        },
        {
          "output_type": "stream",
          "name": "stdout",
          "text": [
            "\tEPOCH:978/1000\tTrain Loss: 0.039 |\t Val. Loss: 13.282\n"
          ]
        },
        {
          "output_type": "stream",
          "name": "stderr",
          "text": [
            "100%|██████████| 94/94 [00:05<00:00, 18.51it/s]\n",
            "100%|██████████| 24/24 [00:00<00:00, 41.71it/s]\n"
          ]
        },
        {
          "output_type": "stream",
          "name": "stdout",
          "text": [
            "\tEPOCH:979/1000\tTrain Loss: 0.040 |\t Val. Loss: 13.211\n"
          ]
        },
        {
          "output_type": "stream",
          "name": "stderr",
          "text": [
            "100%|██████████| 94/94 [00:05<00:00, 18.02it/s]\n",
            "100%|██████████| 24/24 [00:00<00:00, 55.43it/s]\n"
          ]
        },
        {
          "output_type": "stream",
          "name": "stdout",
          "text": [
            "\tEPOCH:980/1000\tTrain Loss: 0.041 |\t Val. Loss: 13.249\n"
          ]
        },
        {
          "output_type": "stream",
          "name": "stderr",
          "text": [
            "100%|██████████| 94/94 [00:04<00:00, 20.09it/s]\n",
            "100%|██████████| 24/24 [00:00<00:00, 54.36it/s]\n"
          ]
        },
        {
          "output_type": "stream",
          "name": "stdout",
          "text": [
            "\tEPOCH:981/1000\tTrain Loss: 0.045 |\t Val. Loss: 13.292\n"
          ]
        },
        {
          "output_type": "stream",
          "name": "stderr",
          "text": [
            "100%|██████████| 94/94 [00:05<00:00, 16.85it/s]\n",
            "100%|██████████| 24/24 [00:00<00:00, 43.47it/s]\n"
          ]
        },
        {
          "output_type": "stream",
          "name": "stdout",
          "text": [
            "\tEPOCH:982/1000\tTrain Loss: 0.049 |\t Val. Loss: 13.330\n"
          ]
        },
        {
          "output_type": "stream",
          "name": "stderr",
          "text": [
            "100%|██████████| 94/94 [00:04<00:00, 19.95it/s]\n",
            "100%|██████████| 24/24 [00:00<00:00, 53.50it/s]\n"
          ]
        },
        {
          "output_type": "stream",
          "name": "stdout",
          "text": [
            "\tEPOCH:983/1000\tTrain Loss: 0.047 |\t Val. Loss: 13.285\n"
          ]
        },
        {
          "output_type": "stream",
          "name": "stderr",
          "text": [
            "100%|██████████| 94/94 [00:04<00:00, 19.47it/s]\n",
            "100%|██████████| 24/24 [00:00<00:00, 43.90it/s]\n"
          ]
        },
        {
          "output_type": "stream",
          "name": "stdout",
          "text": [
            "\tEPOCH:984/1000\tTrain Loss: 0.047 |\t Val. Loss: 13.282\n"
          ]
        },
        {
          "output_type": "stream",
          "name": "stderr",
          "text": [
            "100%|██████████| 94/94 [00:05<00:00, 17.17it/s]\n",
            "100%|██████████| 24/24 [00:00<00:00, 54.00it/s]\n"
          ]
        },
        {
          "output_type": "stream",
          "name": "stdout",
          "text": [
            "\tEPOCH:985/1000\tTrain Loss: 0.047 |\t Val. Loss: 13.321\n"
          ]
        },
        {
          "output_type": "stream",
          "name": "stderr",
          "text": [
            "100%|██████████| 94/94 [00:04<00:00, 19.95it/s]\n",
            "100%|██████████| 24/24 [00:00<00:00, 53.93it/s]\n"
          ]
        },
        {
          "output_type": "stream",
          "name": "stdout",
          "text": [
            "\tEPOCH:986/1000\tTrain Loss: 0.059 |\t Val. Loss: 13.240\n"
          ]
        },
        {
          "output_type": "stream",
          "name": "stderr",
          "text": [
            "100%|██████████| 94/94 [00:05<00:00, 17.72it/s]\n",
            "100%|██████████| 24/24 [00:00<00:00, 41.01it/s]\n"
          ]
        },
        {
          "output_type": "stream",
          "name": "stdout",
          "text": [
            "\tEPOCH:987/1000\tTrain Loss: 0.047 |\t Val. Loss: 13.230\n"
          ]
        },
        {
          "output_type": "stream",
          "name": "stderr",
          "text": [
            "100%|██████████| 94/94 [00:05<00:00, 18.64it/s]\n",
            "100%|██████████| 24/24 [00:00<00:00, 54.76it/s]\n"
          ]
        },
        {
          "output_type": "stream",
          "name": "stdout",
          "text": [
            "\tEPOCH:988/1000\tTrain Loss: 0.044 |\t Val. Loss: 13.216\n"
          ]
        },
        {
          "output_type": "stream",
          "name": "stderr",
          "text": [
            "100%|██████████| 94/94 [00:04<00:00, 19.81it/s]\n",
            "100%|██████████| 24/24 [00:00<00:00, 55.56it/s]\n"
          ]
        },
        {
          "output_type": "stream",
          "name": "stdout",
          "text": [
            "\tEPOCH:989/1000\tTrain Loss: 0.044 |\t Val. Loss: 13.238\n"
          ]
        },
        {
          "output_type": "stream",
          "name": "stderr",
          "text": [
            "100%|██████████| 94/94 [00:05<00:00, 16.53it/s]\n",
            "100%|██████████| 24/24 [00:00<00:00, 54.43it/s]\n"
          ]
        },
        {
          "output_type": "stream",
          "name": "stdout",
          "text": [
            "\tEPOCH:990/1000\tTrain Loss: 0.037 |\t Val. Loss: 13.266\n"
          ]
        },
        {
          "output_type": "stream",
          "name": "stderr",
          "text": [
            "100%|██████████| 94/94 [00:04<00:00, 19.73it/s]\n",
            "100%|██████████| 24/24 [00:00<00:00, 54.91it/s]\n"
          ]
        },
        {
          "output_type": "stream",
          "name": "stdout",
          "text": [
            "\tEPOCH:991/1000\tTrain Loss: 0.050 |\t Val. Loss: 13.249\n"
          ]
        },
        {
          "output_type": "stream",
          "name": "stderr",
          "text": [
            "100%|██████████| 94/94 [00:05<00:00, 18.33it/s]\n",
            "100%|██████████| 24/24 [00:00<00:00, 40.77it/s]\n"
          ]
        },
        {
          "output_type": "stream",
          "name": "stdout",
          "text": [
            "\tEPOCH:992/1000\tTrain Loss: 0.045 |\t Val. Loss: 13.256\n"
          ]
        },
        {
          "output_type": "stream",
          "name": "stderr",
          "text": [
            "100%|██████████| 94/94 [00:05<00:00, 18.15it/s]\n",
            "100%|██████████| 24/24 [00:00<00:00, 53.33it/s]\n"
          ]
        },
        {
          "output_type": "stream",
          "name": "stdout",
          "text": [
            "\tEPOCH:993/1000\tTrain Loss: 0.044 |\t Val. Loss: 13.314\n"
          ]
        },
        {
          "output_type": "stream",
          "name": "stderr",
          "text": [
            "100%|██████████| 94/94 [00:04<00:00, 20.00it/s]\n",
            "100%|██████████| 24/24 [00:00<00:00, 52.70it/s]\n"
          ]
        },
        {
          "output_type": "stream",
          "name": "stdout",
          "text": [
            "\tEPOCH:994/1000\tTrain Loss: 0.050 |\t Val. Loss: 13.313\n"
          ]
        },
        {
          "output_type": "stream",
          "name": "stderr",
          "text": [
            "100%|██████████| 94/94 [00:05<00:00, 16.71it/s]\n",
            "100%|██████████| 24/24 [00:00<00:00, 44.13it/s]\n"
          ]
        },
        {
          "output_type": "stream",
          "name": "stdout",
          "text": [
            "\tEPOCH:995/1000\tTrain Loss: 0.044 |\t Val. Loss: 13.246\n"
          ]
        },
        {
          "output_type": "stream",
          "name": "stderr",
          "text": [
            "100%|██████████| 94/94 [00:04<00:00, 19.80it/s]\n",
            "100%|██████████| 24/24 [00:00<00:00, 53.83it/s]\n"
          ]
        },
        {
          "output_type": "stream",
          "name": "stdout",
          "text": [
            "\tEPOCH:996/1000\tTrain Loss: 0.043 |\t Val. Loss: 13.249\n"
          ]
        },
        {
          "output_type": "stream",
          "name": "stderr",
          "text": [
            "100%|██████████| 94/94 [00:04<00:00, 19.32it/s]\n",
            "100%|██████████| 24/24 [00:00<00:00, 43.66it/s]\n"
          ]
        },
        {
          "output_type": "stream",
          "name": "stdout",
          "text": [
            "\tEPOCH:997/1000\tTrain Loss: 0.044 |\t Val. Loss: 13.230\n"
          ]
        },
        {
          "output_type": "stream",
          "name": "stderr",
          "text": [
            " 17%|█▋        | 16/94 [00:00<00:04, 16.67it/s]"
          ]
        }
      ],
      "source": [
        "best_valid_loss = float('inf')\n",
        "\n",
        "for epoch in range(N_EPOCHS):\n",
        "    train_loss = train(model, train_loader, optimizer, criterion, CLIP)\n",
        "    valid_loss = evaluate(model, test_loader, criterion)\n",
        "\n",
        "    torch.save(model.state_dict(), \"seq2seq.pt\")\n",
        "\n",
        "    if valid_loss < best_valid_loss:\n",
        "        best_valid_loss = valid_loss\n",
        "    print(f'\\tEPOCH:{epoch+1}/{N_EPOCHS}\\tTrain Loss: {train_loss:.3f} |\\t Val. Loss: {valid_loss:.3f}')"
      ]
    },
    {
      "cell_type": "code",
      "execution_count": null,
      "metadata": {
        "id": "rAsMHPyMYbbS"
      },
      "outputs": [],
      "source": [
        "# torch.save(model.state_dict(), \"seq2seq.pt\")"
      ]
    },
    {
      "cell_type": "code",
      "execution_count": null,
      "metadata": {
        "id": "JO9pVXD0YbbS"
      },
      "outputs": [],
      "source": [
        "# model.load_state_dict(torch.load(\"seq2seq.pt\",map_location=torch.device('cpu')))"
      ]
    },
    {
      "cell_type": "code",
      "execution_count": null,
      "metadata": {
        "id": "oXOm-WWIYbbS"
      },
      "outputs": [],
      "source": [
        "model = model.eval()"
      ]
    },
    {
      "cell_type": "code",
      "execution_count": null,
      "metadata": {
        "id": "z402qMKkYbbS"
      },
      "outputs": [],
      "source": [
        "def tokenize(qn):\n",
        "    qn = qn.lower()\n",
        "    qn = qn.translate(str.maketrans('', '', string.punctuation))\n",
        "    indices = [vocab_en[word] for word in qn.split()]\n",
        "    indices.insert(0,vocab_en[\"<BOS>\"])\n",
        "    indices.append(vocab_en[\"<EOS>\"])\n",
        "    ip_tensor = torch.tensor(indices).unsqueeze(0).permute(1,0)\n",
        "\n",
        "    return ip_tensor"
      ]
    },
    {
      "cell_type": "code",
      "execution_count": null,
      "metadata": {
        "id": "0_SaUAPyYbbT"
      },
      "outputs": [],
      "source": [
        "def make_pred(qn,trg_len=12):\n",
        "    src = tokenize(qn).to(device)\n",
        "    encoder_outputs, hidden = model.encoder(src, torch.tensor([len(src)]))\n",
        "    trg = torch.tensor([[vocab_en[\"<BOS>\"]]])\n",
        "\n",
        "    with torch.no_grad():\n",
        "        trg_ip = trg[0,:].to(device)\n",
        "        trg_vocab_size = model.decoder.output_dim\n",
        "        outputs = torch.zeros(trg_len, 1, trg_vocab_size).to(device)\n",
        "        mask = model.create_mask(src).to(device)\n",
        "\n",
        "        for t in range(1, trg_len):\n",
        "            #insert input token embedding, previous hidden state and all encoder hidden states\n",
        "            #receive output tensor (predictions) and new hidden state\n",
        "            output, hidden, _ = model.decoder(trg_ip, hidden, encoder_outputs, mask)\n",
        "\n",
        "            #place predictions in a tensor holding predictions for each token\n",
        "            outputs[t] = output\n",
        "\n",
        "            #get the highest predicted token from our predictions\n",
        "            trg_ip = output.argmax(1)\n",
        "\n",
        "        outputs = outputs.squeeze(1)\n",
        "        return \" \".join([vocab_en.get_itos()[i] for i in outputs.argmax(1) if i not in [0,1,2]])"
      ]
    },
    {
      "cell_type": "code",
      "execution_count": null,
      "metadata": {
        "id": "66Vo7jr9YbbT",
        "colab": {
          "base_uri": "https://localhost:8080/"
        },
        "outputId": "ecaa87dd-31ff-4cc3-9fcf-2a4d268f0dce"
      },
      "outputs": [
        {
          "output_type": "stream",
          "name": "stdout",
          "text": [
            "YOU > hello\n",
            "BOT > to it it blood blood blood thats a\n",
            "YOU > no blood\n",
            "BOT > change change oh but but then all eight eight\n",
            "YOU > no change \n",
            "BOT > blue ticket later but be i rush it eight\n",
            "YOU > do you have a ticket?\n",
            "BOT > you you no i you see see see see the the\n",
            "YOU > no you\n",
            "BOT > i i you i rush now you\n",
            "YOU > yes you\n",
            "BOT > to houses did we we with hell that\n",
            "YOU > we we\n",
            "BOT > as why nothing shoes shoes of believe on on dont\n",
            "YOU > why nothing?\n",
            "BOT > landed going too call know know around over\n",
            "YOU > do not call\n",
            "BOT > the the for just just didnt didnt one have what\n",
            "YOU > have one\n",
            "BOT > all be im i think\n",
            "YOU > bye\n",
            "BOT > to it it blood blood blood thats a\n",
            "YOU > hi\n",
            "BOT > to it it blood blood blood thats a\n",
            "YOU > quit\n",
            "BOT > Bye! Have a good day dear.\n"
          ]
        }
      ],
      "source": [
        "while True:\n",
        "    you = input(\"YOU > \")\n",
        "    if you==\"q\" or you==\"quit\":\n",
        "        break\n",
        "\n",
        "    bot = make_pred(you)\n",
        "    print(f\"BOT > {bot}\")\n",
        "print(f\"BOT > Bye! Have a good day dear.\")"
      ]
    },
    {
      "cell_type": "markdown",
      "source": [
        "Little baby trying to learn words!!! 😆😆"
      ],
      "metadata": {
        "id": "IvGIcGMUebp5"
      }
    },
    {
      "cell_type": "code",
      "source": [],
      "metadata": {
        "id": "8KzPh8nQd4pH"
      },
      "execution_count": null,
      "outputs": []
    }
  ],
  "metadata": {
    "accelerator": "GPU",
    "colab": {
      "provenance": [],
      "include_colab_link": true
    },
    "kaggle": {
      "accelerator": "none",
      "dataSources": [
        {
          "datasetId": 2594075,
          "sourceId": 4429121,
          "sourceType": "datasetVersion"
        },
        {
          "sourceId": 158484443,
          "sourceType": "kernelVersion"
        }
      ],
      "dockerImageVersionId": 30626,
      "isGpuEnabled": false,
      "isInternetEnabled": true,
      "language": "python",
      "sourceType": "notebook"
    },
    "kernelspec": {
      "display_name": "Python 3",
      "name": "python3"
    },
    "language_info": {
      "codemirror_mode": {
        "name": "ipython",
        "version": 3
      },
      "file_extension": ".py",
      "mimetype": "text/x-python",
      "name": "python",
      "nbconvert_exporter": "python",
      "pygments_lexer": "ipython3",
      "version": "3.10.12"
    }
  },
  "nbformat": 4,
  "nbformat_minor": 0
}